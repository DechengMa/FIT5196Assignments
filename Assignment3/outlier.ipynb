{
 "cells": [
  {
   "cell_type": "code",
   "execution_count": 64,
   "metadata": {},
   "outputs": [],
   "source": [
    "import pandas as pd\n",
    "import matplotlib.pyplot as plt\n",
    "from datetime import datetime\n",
    "\n",
    "%matplotlib inline"
   ]
  },
  {
   "cell_type": "code",
   "execution_count": 38,
   "metadata": {},
   "outputs": [],
   "source": [
    "outlierdata = pd.read_csv('Group017_outlier_data.csv')"
   ]
  },
  {
   "cell_type": "code",
   "execution_count": 39,
   "metadata": {},
   "outputs": [
    {
     "data": {
      "text/html": [
       "<div>\n",
       "<style scoped>\n",
       "    .dataframe tbody tr th:only-of-type {\n",
       "        vertical-align: middle;\n",
       "    }\n",
       "\n",
       "    .dataframe tbody tr th {\n",
       "        vertical-align: top;\n",
       "    }\n",
       "\n",
       "    .dataframe thead th {\n",
       "        text-align: right;\n",
       "    }\n",
       "</style>\n",
       "<table border=\"1\" class=\"dataframe\">\n",
       "  <thead>\n",
       "    <tr style=\"text-align: right;\">\n",
       "      <th></th>\n",
       "      <th>order_id</th>\n",
       "      <th>date</th>\n",
       "      <th>time</th>\n",
       "      <th>order_type</th>\n",
       "      <th>branch_code</th>\n",
       "      <th>order_items</th>\n",
       "      <th>order_price</th>\n",
       "      <th>customer_lat</th>\n",
       "      <th>customer_lon</th>\n",
       "      <th>customerHasloyalty?</th>\n",
       "      <th>distance_to_customer_KM</th>\n",
       "      <th>delivery_fee</th>\n",
       "    </tr>\n",
       "  </thead>\n",
       "  <tbody>\n",
       "    <tr>\n",
       "      <th>0</th>\n",
       "      <td>ORDA04354</td>\n",
       "      <td>2018-07-15</td>\n",
       "      <td>14:25:21</td>\n",
       "      <td>Lunch</td>\n",
       "      <td>BK</td>\n",
       "      <td>[('Salad', 1), ('Fries', 7)]</td>\n",
       "      <td>101.2</td>\n",
       "      <td>-37.817296</td>\n",
       "      <td>144.987975</td>\n",
       "      <td>0</td>\n",
       "      <td>5.918</td>\n",
       "      <td>14.068446</td>\n",
       "    </tr>\n",
       "    <tr>\n",
       "      <th>1</th>\n",
       "      <td>ORDB02723</td>\n",
       "      <td>2018-01-23</td>\n",
       "      <td>08:40:33</td>\n",
       "      <td>Breakfast</td>\n",
       "      <td>TP</td>\n",
       "      <td>[('Pancake', 4), ('Cereal', 4)]</td>\n",
       "      <td>181.0</td>\n",
       "      <td>-37.817335</td>\n",
       "      <td>144.962208</td>\n",
       "      <td>0</td>\n",
       "      <td>7.904</td>\n",
       "      <td>11.053223</td>\n",
       "    </tr>\n",
       "    <tr>\n",
       "      <th>2</th>\n",
       "      <td>ORDB04984</td>\n",
       "      <td>2018-03-11</td>\n",
       "      <td>10:11:49</td>\n",
       "      <td>Breakfast</td>\n",
       "      <td>TP</td>\n",
       "      <td>[('Eggs', 9), ('Coffee', 9), ('Cereal', 5), ('...</td>\n",
       "      <td>419.0</td>\n",
       "      <td>-37.806582</td>\n",
       "      <td>144.962905</td>\n",
       "      <td>0</td>\n",
       "      <td>9.007</td>\n",
       "      <td>13.251034</td>\n",
       "    </tr>\n",
       "    <tr>\n",
       "      <th>3</th>\n",
       "      <td>ORDJ03820</td>\n",
       "      <td>2018-02-27</td>\n",
       "      <td>09:51:32</td>\n",
       "      <td>Breakfast</td>\n",
       "      <td>TP</td>\n",
       "      <td>[('Pancake', 4), ('Eggs', 8), ('Cereal', 5), (...</td>\n",
       "      <td>453.0</td>\n",
       "      <td>-37.809812</td>\n",
       "      <td>144.976242</td>\n",
       "      <td>0</td>\n",
       "      <td>9.231</td>\n",
       "      <td>17.764767</td>\n",
       "    </tr>\n",
       "    <tr>\n",
       "      <th>4</th>\n",
       "      <td>ORDZ06038</td>\n",
       "      <td>2018-03-08</td>\n",
       "      <td>10:11:49</td>\n",
       "      <td>Breakfast</td>\n",
       "      <td>NS</td>\n",
       "      <td>[('Cereal', 9), ('Eggs', 7), ('Pancake', 4)]</td>\n",
       "      <td>440.0</td>\n",
       "      <td>-37.808184</td>\n",
       "      <td>144.973174</td>\n",
       "      <td>0</td>\n",
       "      <td>7.119</td>\n",
       "      <td>12.297550</td>\n",
       "    </tr>\n",
       "  </tbody>\n",
       "</table>\n",
       "</div>"
      ],
      "text/plain": [
       "    order_id        date      time order_type branch_code  \\\n",
       "0  ORDA04354  2018-07-15  14:25:21      Lunch          BK   \n",
       "1  ORDB02723  2018-01-23  08:40:33  Breakfast          TP   \n",
       "2  ORDB04984  2018-03-11  10:11:49  Breakfast          TP   \n",
       "3  ORDJ03820  2018-02-27  09:51:32  Breakfast          TP   \n",
       "4  ORDZ06038  2018-03-08  10:11:49  Breakfast          NS   \n",
       "\n",
       "                                         order_items  order_price  \\\n",
       "0                       [('Salad', 1), ('Fries', 7)]        101.2   \n",
       "1                    [('Pancake', 4), ('Cereal', 4)]        181.0   \n",
       "2  [('Eggs', 9), ('Coffee', 9), ('Cereal', 5), ('...        419.0   \n",
       "3  [('Pancake', 4), ('Eggs', 8), ('Cereal', 5), (...        453.0   \n",
       "4       [('Cereal', 9), ('Eggs', 7), ('Pancake', 4)]        440.0   \n",
       "\n",
       "   customer_lat  customer_lon  customerHasloyalty?  distance_to_customer_KM  \\\n",
       "0    -37.817296    144.987975                    0                    5.918   \n",
       "1    -37.817335    144.962208                    0                    7.904   \n",
       "2    -37.806582    144.962905                    0                    9.007   \n",
       "3    -37.809812    144.976242                    0                    9.231   \n",
       "4    -37.808184    144.973174                    0                    7.119   \n",
       "\n",
       "   delivery_fee  \n",
       "0     14.068446  \n",
       "1     11.053223  \n",
       "2     13.251034  \n",
       "3     17.764767  \n",
       "4     12.297550  "
      ]
     },
     "execution_count": 39,
     "metadata": {},
     "output_type": "execute_result"
    }
   ],
   "source": [
    "outlierdata.head()"
   ]
  },
  {
   "cell_type": "markdown",
   "metadata": {},
   "source": [
    "#### Working with order price "
   ]
  },
  {
   "cell_type": "code",
   "execution_count": 40,
   "metadata": {},
   "outputs": [
    {
     "data": {
      "text/plain": [
       "<matplotlib.axes._subplots.AxesSubplot at 0x1eac946a4e0>"
      ]
     },
     "execution_count": 40,
     "metadata": {},
     "output_type": "execute_result"
    },
    {
     "data": {
      "image/png": "[encoded data removed]",
      "text/plain": [
       "<Figure size 432x288 with 1 Axes>"
      ]
     },
     "metadata": {
      "needs_background": "light"
     },
     "output_type": "display_data"
    }
   ],
   "source": [
    "outlierdata.boxplot(column = 'order_price', by = 'order_type')"
   ]
  },
  {
   "cell_type": "code",
   "execution_count": 41,
   "metadata": {},
   "outputs": [
    {
     "data": {
      "text/html": [
       "<div>\n",
       "<style scoped>\n",
       "    .dataframe tbody tr th:only-of-type {\n",
       "        vertical-align: middle;\n",
       "    }\n",
       "\n",
       "    .dataframe tbody tr th {\n",
       "        vertical-align: top;\n",
       "    }\n",
       "\n",
       "    .dataframe thead th {\n",
       "        text-align: right;\n",
       "    }\n",
       "</style>\n",
       "<table border=\"1\" class=\"dataframe\">\n",
       "  <thead>\n",
       "    <tr style=\"text-align: right;\">\n",
       "      <th></th>\n",
       "      <th>order_price</th>\n",
       "      <th>customer_lat</th>\n",
       "      <th>customer_lon</th>\n",
       "      <th>customerHasloyalty?</th>\n",
       "      <th>distance_to_customer_KM</th>\n",
       "      <th>delivery_fee</th>\n",
       "    </tr>\n",
       "  </thead>\n",
       "  <tbody>\n",
       "    <tr>\n",
       "      <th>count</th>\n",
       "      <td>500.000000</td>\n",
       "      <td>500.000000</td>\n",
       "      <td>500.000000</td>\n",
       "      <td>500.000000</td>\n",
       "      <td>500.000000</td>\n",
       "      <td>500.000000</td>\n",
       "    </tr>\n",
       "    <tr>\n",
       "      <th>mean</th>\n",
       "      <td>476.232500</td>\n",
       "      <td>-37.812472</td>\n",
       "      <td>144.969156</td>\n",
       "      <td>0.080000</td>\n",
       "      <td>8.620148</td>\n",
       "      <td>13.464905</td>\n",
       "    </tr>\n",
       "    <tr>\n",
       "      <th>std</th>\n",
       "      <td>256.750656</td>\n",
       "      <td>0.007499</td>\n",
       "      <td>0.022242</td>\n",
       "      <td>0.271565</td>\n",
       "      <td>1.753597</td>\n",
       "      <td>3.420724</td>\n",
       "    </tr>\n",
       "    <tr>\n",
       "      <th>min</th>\n",
       "      <td>36.000000</td>\n",
       "      <td>-37.836908</td>\n",
       "      <td>144.894564</td>\n",
       "      <td>0.000000</td>\n",
       "      <td>3.234000</td>\n",
       "      <td>3.539279</td>\n",
       "    </tr>\n",
       "    <tr>\n",
       "      <th>25%</th>\n",
       "      <td>274.000000</td>\n",
       "      <td>-37.818846</td>\n",
       "      <td>144.953760</td>\n",
       "      <td>0.000000</td>\n",
       "      <td>7.663750</td>\n",
       "      <td>12.094526</td>\n",
       "    </tr>\n",
       "    <tr>\n",
       "      <th>50%</th>\n",
       "      <td>438.900000</td>\n",
       "      <td>-37.812918</td>\n",
       "      <td>144.966153</td>\n",
       "      <td>0.000000</td>\n",
       "      <td>8.624500</td>\n",
       "      <td>13.693176</td>\n",
       "    </tr>\n",
       "    <tr>\n",
       "      <th>75%</th>\n",
       "      <td>631.212500</td>\n",
       "      <td>-37.806340</td>\n",
       "      <td>144.985216</td>\n",
       "      <td>0.000000</td>\n",
       "      <td>9.756250</td>\n",
       "      <td>15.437806</td>\n",
       "    </tr>\n",
       "    <tr>\n",
       "      <th>max</th>\n",
       "      <td>1384.500000</td>\n",
       "      <td>-37.788784</td>\n",
       "      <td>145.019314</td>\n",
       "      <td>1.000000</td>\n",
       "      <td>16.625000</td>\n",
       "      <td>26.588101</td>\n",
       "    </tr>\n",
       "  </tbody>\n",
       "</table>\n",
       "</div>"
      ],
      "text/plain": [
       "       order_price  customer_lat  customer_lon  customerHasloyalty?  \\\n",
       "count   500.000000    500.000000    500.000000           500.000000   \n",
       "mean    476.232500    -37.812472    144.969156             0.080000   \n",
       "std     256.750656      0.007499      0.022242             0.271565   \n",
       "min      36.000000    -37.836908    144.894564             0.000000   \n",
       "25%     274.000000    -37.818846    144.953760             0.000000   \n",
       "50%     438.900000    -37.812918    144.966153             0.000000   \n",
       "75%     631.212500    -37.806340    144.985216             0.000000   \n",
       "max    1384.500000    -37.788784    145.019314             1.000000   \n",
       "\n",
       "       distance_to_customer_KM  delivery_fee  \n",
       "count               500.000000    500.000000  \n",
       "mean                  8.620148     13.464905  \n",
       "std                   1.753597      3.420724  \n",
       "min                   3.234000      3.539279  \n",
       "25%                   7.663750     12.094526  \n",
       "50%                   8.624500     13.693176  \n",
       "75%                   9.756250     15.437806  \n",
       "max                  16.625000     26.588101  "
      ]
     },
     "execution_count": 41,
     "metadata": {},
     "output_type": "execute_result"
    }
   ],
   "source": [
    "outlierdata.describe()"
   ]
  },
  {
   "cell_type": "code",
   "execution_count": 45,
   "metadata": {},
   "outputs": [
    {
     "name": "stdout",
     "output_type": "stream",
     "text": [
      "[('Shrimp', 8), ('Pasta', 7), ('Salmon', 10), ('Fish&Chips', 10)]\n"
     ]
    }
   ],
   "source": [
    "for x in (outlierdata[outlierdata.order_price == 1384.5].order_items):\n",
    "    print(x)"
   ]
  },
  {
   "cell_type": "code",
   "execution_count": 46,
   "metadata": {},
   "outputs": [],
   "source": [
    "outlierdata1 = outlierdata[outlierdata.order_price != 1384.5]"
   ]
  },
  {
   "cell_type": "code",
   "execution_count": 49,
   "metadata": {},
   "outputs": [
    {
     "data": {
      "text/plain": [
       "1259.5"
      ]
     },
     "execution_count": 49,
     "metadata": {},
     "output_type": "execute_result"
    }
   ],
   "source": [
    "outlierdata1.order_price.max()"
   ]
  },
  {
   "cell_type": "code",
   "execution_count": 50,
   "metadata": {},
   "outputs": [
    {
     "name": "stdout",
     "output_type": "stream",
     "text": [
      "[('Salmon', 10), ('Shrimp', 8), ('Fish&Chips', 8), ('Pasta', 5)]\n"
     ]
    }
   ],
   "source": [
    "for x in (outlierdata[outlierdata.order_price == 1259.5].order_items):\n",
    "    print(x)"
   ]
  },
  {
   "cell_type": "code",
   "execution_count": 51,
   "metadata": {},
   "outputs": [
    {
     "data": {
      "text/plain": [
       "<matplotlib.axes._subplots.AxesSubplot at 0x1eac9567ef0>"
      ]
     },
     "execution_count": 51,
     "metadata": {},
     "output_type": "execute_result"
    },
    {
     "data": {
      "image/png": "[encoded data removed]",
      "text/plain": [
       "<Figure size 432x288 with 1 Axes>"
      ]
     },
     "metadata": {
      "needs_background": "light"
     },
     "output_type": "display_data"
    }
   ],
   "source": [
    "outlierdata.boxplot(column = 'order_price', by = 'order_type')"
   ]
  },
  {
   "cell_type": "markdown",
   "metadata": {},
   "source": [
    "##### Just an unusually large order has been placed for $1384.5"
   ]
  },
  {
   "cell_type": "code",
   "execution_count": null,
   "metadata": {},
   "outputs": [],
   "source": []
  },
  {
   "cell_type": "markdown",
   "metadata": {},
   "source": [
    "#### Working with distance_to_customer_KM"
   ]
  },
  {
   "cell_type": "code",
   "execution_count": 35,
   "metadata": {},
   "outputs": [
    {
     "data": {
      "text/plain": [
       "count    499.000000\n",
       "mean       8.620349\n",
       "std        1.755351\n",
       "min        3.234000\n",
       "25%        7.663500\n",
       "50%        8.625000\n",
       "75%        9.758500\n",
       "max       16.625000\n",
       "Name: distance_to_customer_KM, dtype: float64"
      ]
     },
     "execution_count": 35,
     "metadata": {},
     "output_type": "execute_result"
    }
   ],
   "source": [
    "outlierdata.distance_to_customer_KM.describe()"
   ]
  },
  {
   "cell_type": "code",
   "execution_count": 61,
   "metadata": {},
   "outputs": [
    {
     "data": {
      "text/plain": [
       "<matplotlib.axes._subplots.AxesSubplot at 0x1eac96f42b0>"
      ]
     },
     "execution_count": 61,
     "metadata": {},
     "output_type": "execute_result"
    },
    {
     "data": {
      "image/png": "[encoded data removed]",
      "text/plain": [
       "<Figure size 432x288 with 1 Axes>"
      ]
     },
     "metadata": {
      "needs_background": "light"
     },
     "output_type": "display_data"
    }
   ],
   "source": [
    "outlierdata.boxplot(column = 'delivery_fee', by = 'order_type')"
   ]
  },
  {
   "cell_type": "code",
   "execution_count": null,
   "metadata": {},
   "outputs": [],
   "source": []
  },
  {
   "cell_type": "code",
   "execution_count": 55,
   "metadata": {},
   "outputs": [
    {
     "data": {
      "text/plain": [
       "[<matplotlib.lines.Line2D at 0x1eac9827dd8>]"
      ]
     },
     "execution_count": 55,
     "metadata": {},
     "output_type": "execute_result"
    },
    {
     "data": {
      "image/png": "[encoded data removed]",
      "text/plain": [
       "<Figure size 432x288 with 1 Axes>"
      ]
     },
     "metadata": {
      "needs_background": "light"
     },
     "output_type": "display_data"
    }
   ],
   "source": [
    "plt.plot(outlierdata.sort_values(['delivery_fee'])['delivery_fee'])"
   ]
  },
  {
   "cell_type": "code",
   "execution_count": 58,
   "metadata": {},
   "outputs": [
    {
     "data": {
      "text/plain": [
       "<matplotlib.axes._subplots.AxesSubplot at 0x1eacaa3b400>"
      ]
     },
     "execution_count": 58,
     "metadata": {},
     "output_type": "execute_result"
    },
    {
     "data": {
      "image/png": "[encoded data removed]",
      "text/plain": [
       "<Figure size 432x288 with 1 Axes>"
      ]
     },
     "metadata": {
      "needs_background": "light"
     },
     "output_type": "display_data"
    }
   ],
   "source": [
    "outlierdata.sort_values(['delivery_fee']).delivery_fee.hist()"
   ]
  },
  {
   "cell_type": "code",
   "execution_count": 67,
   "metadata": {},
   "outputs": [],
   "source": [
    "\n",
    "date=list(outlierdata['date'])\n",
    "day=[]\n",
    "for item in date:\n",
    "    if datetime.strptime(item, '%Y-%m-%d').strftime('%A') in ['Monday', 'Tuesday', 'Wednesday', 'Thursday', 'Friday']:\n",
    "        day.append(0)\n",
    "    else:\n",
    "        day.append(1)\n",
    "        \n",
    "outlierdata['weekday/weekend']=day"
   ]
  },
  {
   "cell_type": "code",
   "execution_count": 71,
   "metadata": {},
   "outputs": [
    {
     "name": "stdout",
     "output_type": "stream",
     "text": [
      "False\n"
     ]
    }
   ],
   "source": [
    "time=list(outlierdata['time'])\n",
    "datetime.strptime(time[0], '%H:%M:%S').time()\n",
    "if datetime.strptime(time[0], '%H:%M:%S').time()> datetime.strptime(\"08:00:00\", '%H:%M:%S').time() and datetime.strptime(time[0], '%H:%M:%S').time()<=datetime.strptime(\"12:00:00\", '%H:%M:%S').time():\n",
    "    print(True)\n",
    "else:\n",
    "    print(False)\n",
    "\n",
    "def times(timestring):\n",
    "    return datetime.strptime(timestring, '%H:%M:%S').time()"
   ]
  },
  {
   "cell_type": "code",
   "execution_count": 72,
   "metadata": {},
   "outputs": [],
   "source": [
    "tod=[]\n",
    "for item in time:\n",
    "    if times(item)>= times(\"08:00:00\") and times(item)<=times(\"12:00:00\"):\n",
    "        tod.append(0)\n",
    "    elif times(item)> times(\"12:00:00\") and times(item)<=times(\"16:00:00\"):\n",
    "        tod.append(1)\n",
    "    elif times(item)> times(\"16:00:00\") and times(item)<=times(\"20:00:00\"):\n",
    "        tod.append(2)\n",
    "    else:\n",
    "        print(\"ERROR\")\n",
    "        break"
   ]
  },
  {
   "cell_type": "code",
   "execution_count": 73,
   "metadata": {},
   "outputs": [],
   "source": [
    "outlierdata['TimeOfDay']=tod"
   ]
  },
  {
   "cell_type": "code",
   "execution_count": 77,
   "metadata": {},
   "outputs": [
    {
     "data": {
      "text/plain": [
       "count    500.000000\n",
       "mean       8.620148\n",
       "std        1.753597\n",
       "min        3.234000\n",
       "25%        7.663750\n",
       "50%        8.624500\n",
       "75%        9.756250\n",
       "max       16.625000\n",
       "Name: distance_to_customer_KM, dtype: float64"
      ]
     },
     "execution_count": 77,
     "metadata": {},
     "output_type": "execute_result"
    }
   ],
   "source": [
    "outlierdata.distance_to_customer_KM.describe()"
   ]
  },
  {
   "cell_type": "code",
   "execution_count": 81,
   "metadata": {},
   "outputs": [],
   "source": [
    "def segregate_distance(row):\n",
    "    if(row.distance_to_customer_KM<5):\n",
    "        return 0\n",
    "    elif(row.distance_to_customer_KM>5 and row.distance_to_customer_KM <10):\n",
    "        return 1\n",
    "    elif(row.distance_to_customer_KM>10 and row.distance_to_customer_KM <15):\n",
    "        return 2\n",
    "    elif(row.distance_to_customer_KM>15):\n",
    "        return 3\n",
    "    else: \n",
    "        return -1"
   ]
  },
  {
   "cell_type": "code",
   "execution_count": 82,
   "metadata": {},
   "outputs": [],
   "source": [
    "outlierdata['segregated_distance'] = outlierdata.apply(segregate_distance, axis = 1)"
   ]
  },
  {
   "cell_type": "code",
   "execution_count": 85,
   "metadata": {},
   "outputs": [
    {
     "data": {
      "text/html": [
       "<div>\n",
       "<style scoped>\n",
       "    .dataframe tbody tr th:only-of-type {\n",
       "        vertical-align: middle;\n",
       "    }\n",
       "\n",
       "    .dataframe tbody tr th {\n",
       "        vertical-align: top;\n",
       "    }\n",
       "\n",
       "    .dataframe thead th {\n",
       "        text-align: right;\n",
       "    }\n",
       "</style>\n",
       "<table border=\"1\" class=\"dataframe\">\n",
       "  <thead>\n",
       "    <tr style=\"text-align: right;\">\n",
       "      <th></th>\n",
       "      <th>order_id</th>\n",
       "      <th>date</th>\n",
       "      <th>time</th>\n",
       "      <th>order_type</th>\n",
       "      <th>branch_code</th>\n",
       "      <th>order_items</th>\n",
       "      <th>order_price</th>\n",
       "      <th>customer_lat</th>\n",
       "      <th>customer_lon</th>\n",
       "      <th>customerHasloyalty?</th>\n",
       "      <th>distance_to_customer_KM</th>\n",
       "      <th>delivery_fee</th>\n",
       "      <th>weekday/weekend</th>\n",
       "      <th>TimeOfDay</th>\n",
       "      <th>segregated_distance</th>\n",
       "    </tr>\n",
       "  </thead>\n",
       "  <tbody>\n",
       "    <tr>\n",
       "      <th>0</th>\n",
       "      <td>ORDA04354</td>\n",
       "      <td>2018-07-15</td>\n",
       "      <td>14:25:21</td>\n",
       "      <td>Lunch</td>\n",
       "      <td>BK</td>\n",
       "      <td>[('Salad', 1), ('Fries', 7)]</td>\n",
       "      <td>101.2</td>\n",
       "      <td>-37.817296</td>\n",
       "      <td>144.987975</td>\n",
       "      <td>0</td>\n",
       "      <td>5.918</td>\n",
       "      <td>14.068446</td>\n",
       "      <td>1</td>\n",
       "      <td>1</td>\n",
       "      <td>1</td>\n",
       "    </tr>\n",
       "    <tr>\n",
       "      <th>1</th>\n",
       "      <td>ORDB02723</td>\n",
       "      <td>2018-01-23</td>\n",
       "      <td>08:40:33</td>\n",
       "      <td>Breakfast</td>\n",
       "      <td>TP</td>\n",
       "      <td>[('Pancake', 4), ('Cereal', 4)]</td>\n",
       "      <td>181.0</td>\n",
       "      <td>-37.817335</td>\n",
       "      <td>144.962208</td>\n",
       "      <td>0</td>\n",
       "      <td>7.904</td>\n",
       "      <td>11.053223</td>\n",
       "      <td>0</td>\n",
       "      <td>0</td>\n",
       "      <td>1</td>\n",
       "    </tr>\n",
       "    <tr>\n",
       "      <th>2</th>\n",
       "      <td>ORDB04984</td>\n",
       "      <td>2018-03-11</td>\n",
       "      <td>10:11:49</td>\n",
       "      <td>Breakfast</td>\n",
       "      <td>TP</td>\n",
       "      <td>[('Eggs', 9), ('Coffee', 9), ('Cereal', 5), ('...</td>\n",
       "      <td>419.0</td>\n",
       "      <td>-37.806582</td>\n",
       "      <td>144.962905</td>\n",
       "      <td>0</td>\n",
       "      <td>9.007</td>\n",
       "      <td>13.251034</td>\n",
       "      <td>1</td>\n",
       "      <td>0</td>\n",
       "      <td>1</td>\n",
       "    </tr>\n",
       "    <tr>\n",
       "      <th>3</th>\n",
       "      <td>ORDJ03820</td>\n",
       "      <td>2018-02-27</td>\n",
       "      <td>09:51:32</td>\n",
       "      <td>Breakfast</td>\n",
       "      <td>TP</td>\n",
       "      <td>[('Pancake', 4), ('Eggs', 8), ('Cereal', 5), (...</td>\n",
       "      <td>453.0</td>\n",
       "      <td>-37.809812</td>\n",
       "      <td>144.976242</td>\n",
       "      <td>0</td>\n",
       "      <td>9.231</td>\n",
       "      <td>17.764767</td>\n",
       "      <td>0</td>\n",
       "      <td>0</td>\n",
       "      <td>1</td>\n",
       "    </tr>\n",
       "    <tr>\n",
       "      <th>4</th>\n",
       "      <td>ORDZ06038</td>\n",
       "      <td>2018-03-08</td>\n",
       "      <td>10:11:49</td>\n",
       "      <td>Breakfast</td>\n",
       "      <td>NS</td>\n",
       "      <td>[('Cereal', 9), ('Eggs', 7), ('Pancake', 4)]</td>\n",
       "      <td>440.0</td>\n",
       "      <td>-37.808184</td>\n",
       "      <td>144.973174</td>\n",
       "      <td>0</td>\n",
       "      <td>7.119</td>\n",
       "      <td>12.297550</td>\n",
       "      <td>0</td>\n",
       "      <td>0</td>\n",
       "      <td>1</td>\n",
       "    </tr>\n",
       "  </tbody>\n",
       "</table>\n",
       "</div>"
      ],
      "text/plain": [
       "    order_id        date      time order_type branch_code  \\\n",
       "0  ORDA04354  2018-07-15  14:25:21      Lunch          BK   \n",
       "1  ORDB02723  2018-01-23  08:40:33  Breakfast          TP   \n",
       "2  ORDB04984  2018-03-11  10:11:49  Breakfast          TP   \n",
       "3  ORDJ03820  2018-02-27  09:51:32  Breakfast          TP   \n",
       "4  ORDZ06038  2018-03-08  10:11:49  Breakfast          NS   \n",
       "\n",
       "                                         order_items  order_price  \\\n",
       "0                       [('Salad', 1), ('Fries', 7)]        101.2   \n",
       "1                    [('Pancake', 4), ('Cereal', 4)]        181.0   \n",
       "2  [('Eggs', 9), ('Coffee', 9), ('Cereal', 5), ('...        419.0   \n",
       "3  [('Pancake', 4), ('Eggs', 8), ('Cereal', 5), (...        453.0   \n",
       "4       [('Cereal', 9), ('Eggs', 7), ('Pancake', 4)]        440.0   \n",
       "\n",
       "   customer_lat  customer_lon  customerHasloyalty?  distance_to_customer_KM  \\\n",
       "0    -37.817296    144.987975                    0                    5.918   \n",
       "1    -37.817335    144.962208                    0                    7.904   \n",
       "2    -37.806582    144.962905                    0                    9.007   \n",
       "3    -37.809812    144.976242                    0                    9.231   \n",
       "4    -37.808184    144.973174                    0                    7.119   \n",
       "\n",
       "   delivery_fee  weekday/weekend  TimeOfDay  segregated_distance  \n",
       "0     14.068446                1          1                    1  \n",
       "1     11.053223                0          0                    1  \n",
       "2     13.251034                1          0                    1  \n",
       "3     17.764767                0          0                    1  \n",
       "4     12.297550                0          0                    1  "
      ]
     },
     "execution_count": 85,
     "metadata": {},
     "output_type": "execute_result"
    }
   ],
   "source": [
    "outlierdata.head()"
   ]
  },
  {
   "cell_type": "code",
   "execution_count": 114,
   "metadata": {},
   "outputs": [],
   "source": [
    "q1= outlierdata.groupby(['weekday/weekend','TimeOfDay','segregated_distance','customerHasloyalty?']).quantile(0.25)"
   ]
  },
  {
   "cell_type": "code",
   "execution_count": 115,
   "metadata": {},
   "outputs": [],
   "source": [
    "q3= outlierdata.groupby(['weekday/weekend','TimeOfDay','segregated_distance','customerHasloyalty?']).quantile(0.75)"
   ]
  },
  {
   "cell_type": "code",
   "execution_count": 116,
   "metadata": {},
   "outputs": [],
   "source": [
    "iqr = q3-q1"
   ]
  },
  {
   "cell_type": "code",
   "execution_count": 118,
   "metadata": {},
   "outputs": [],
   "source": [
    "threshould = 1.5 * iqr"
   ]
  },
  {
   "cell_type": "code",
   "execution_count": 119,
   "metadata": {},
   "outputs": [
    {
     "data": {
      "text/html": [
       "<div>\n",
       "<style scoped>\n",
       "    .dataframe tbody tr th:only-of-type {\n",
       "        vertical-align: middle;\n",
       "    }\n",
       "\n",
       "    .dataframe tbody tr th {\n",
       "        vertical-align: top;\n",
       "    }\n",
       "\n",
       "    .dataframe thead th {\n",
       "        text-align: right;\n",
       "    }\n",
       "</style>\n",
       "<table border=\"1\" class=\"dataframe\">\n",
       "  <thead>\n",
       "    <tr style=\"text-align: right;\">\n",
       "      <th></th>\n",
       "      <th></th>\n",
       "      <th></th>\n",
       "      <th>0.75</th>\n",
       "      <th>customer_lat</th>\n",
       "      <th>customer_lon</th>\n",
       "      <th>delivery_fee</th>\n",
       "      <th>distance_to_customer_KM</th>\n",
       "      <th>order_price</th>\n",
       "    </tr>\n",
       "    <tr>\n",
       "      <th>weekday/weekend</th>\n",
       "      <th>TimeOfDay</th>\n",
       "      <th>segregated_distance</th>\n",
       "      <th>customerHasloyalty?</th>\n",
       "      <th></th>\n",
       "      <th></th>\n",
       "      <th></th>\n",
       "      <th></th>\n",
       "      <th></th>\n",
       "    </tr>\n",
       "  </thead>\n",
       "  <tbody>\n",
       "    <tr>\n",
       "      <th rowspan=\"12\" valign=\"top\">0</th>\n",
       "      <th rowspan=\"5\" valign=\"top\">0</th>\n",
       "      <th>0</th>\n",
       "      <th>0</th>\n",
       "      <td>0.000608</td>\n",
       "      <td>0.001780</td>\n",
       "      <td>0.331240</td>\n",
       "      <td>0.291000</td>\n",
       "      <td>192.75000</td>\n",
       "    </tr>\n",
       "    <tr>\n",
       "      <th rowspan=\"2\" valign=\"top\">1</th>\n",
       "      <th>0</th>\n",
       "      <td>0.013738</td>\n",
       "      <td>0.034833</td>\n",
       "      <td>3.105659</td>\n",
       "      <td>1.831125</td>\n",
       "      <td>290.62500</td>\n",
       "    </tr>\n",
       "    <tr>\n",
       "      <th>1</th>\n",
       "      <td>0.011307</td>\n",
       "      <td>0.013137</td>\n",
       "      <td>1.270395</td>\n",
       "      <td>1.987500</td>\n",
       "      <td>383.81250</td>\n",
       "    </tr>\n",
       "    <tr>\n",
       "      <th rowspan=\"2\" valign=\"top\">2</th>\n",
       "      <th>0</th>\n",
       "      <td>0.020231</td>\n",
       "      <td>0.012586</td>\n",
       "      <td>3.648982</td>\n",
       "      <td>1.038750</td>\n",
       "      <td>295.59375</td>\n",
       "    </tr>\n",
       "    <tr>\n",
       "      <th>1</th>\n",
       "      <td>0.015104</td>\n",
       "      <td>0.113514</td>\n",
       "      <td>1.447626</td>\n",
       "      <td>1.334625</td>\n",
       "      <td>274.78125</td>\n",
       "    </tr>\n",
       "    <tr>\n",
       "      <th rowspan=\"3\" valign=\"top\">1</th>\n",
       "      <th>0</th>\n",
       "      <th>0</th>\n",
       "      <td>0.017673</td>\n",
       "      <td>0.007654</td>\n",
       "      <td>0.199841</td>\n",
       "      <td>0.592500</td>\n",
       "      <td>295.50000</td>\n",
       "    </tr>\n",
       "    <tr>\n",
       "      <th>1</th>\n",
       "      <th>0</th>\n",
       "      <td>0.020825</td>\n",
       "      <td>0.035894</td>\n",
       "      <td>2.794737</td>\n",
       "      <td>2.630250</td>\n",
       "      <td>528.75000</td>\n",
       "    </tr>\n",
       "    <tr>\n",
       "      <th>2</th>\n",
       "      <th>0</th>\n",
       "      <td>0.019764</td>\n",
       "      <td>0.110233</td>\n",
       "      <td>4.713839</td>\n",
       "      <td>1.314000</td>\n",
       "      <td>535.20000</td>\n",
       "    </tr>\n",
       "    <tr>\n",
       "      <th rowspan=\"4\" valign=\"top\">2</th>\n",
       "      <th>0</th>\n",
       "      <th>0</th>\n",
       "      <td>0.005362</td>\n",
       "      <td>0.006384</td>\n",
       "      <td>8.288888</td>\n",
       "      <td>0.794625</td>\n",
       "      <td>293.81250</td>\n",
       "    </tr>\n",
       "    <tr>\n",
       "      <th>1</th>\n",
       "      <th>0</th>\n",
       "      <td>0.019420</td>\n",
       "      <td>0.043704</td>\n",
       "      <td>3.396814</td>\n",
       "      <td>2.076000</td>\n",
       "      <td>570.75000</td>\n",
       "    </tr>\n",
       "    <tr>\n",
       "      <th>2</th>\n",
       "      <th>0</th>\n",
       "      <td>0.015534</td>\n",
       "      <td>0.082773</td>\n",
       "      <td>6.444805</td>\n",
       "      <td>1.117875</td>\n",
       "      <td>510.37500</td>\n",
       "    </tr>\n",
       "    <tr>\n",
       "      <th>3</th>\n",
       "      <th>0</th>\n",
       "      <td>0.000000</td>\n",
       "      <td>0.000000</td>\n",
       "      <td>0.000000</td>\n",
       "      <td>0.000000</td>\n",
       "      <td>0.00000</td>\n",
       "    </tr>\n",
       "    <tr>\n",
       "      <th rowspan=\"9\" valign=\"top\">1</th>\n",
       "      <th rowspan=\"5\" valign=\"top\">0</th>\n",
       "      <th>0</th>\n",
       "      <th>0</th>\n",
       "      <td>0.000000</td>\n",
       "      <td>0.000000</td>\n",
       "      <td>0.000000</td>\n",
       "      <td>0.000000</td>\n",
       "      <td>0.00000</td>\n",
       "    </tr>\n",
       "    <tr>\n",
       "      <th rowspan=\"2\" valign=\"top\">1</th>\n",
       "      <th>0</th>\n",
       "      <td>0.016550</td>\n",
       "      <td>0.028816</td>\n",
       "      <td>3.316717</td>\n",
       "      <td>2.077500</td>\n",
       "      <td>294.75000</td>\n",
       "    </tr>\n",
       "    <tr>\n",
       "      <th>1</th>\n",
       "      <td>0.016686</td>\n",
       "      <td>0.063221</td>\n",
       "      <td>2.105447</td>\n",
       "      <td>2.373000</td>\n",
       "      <td>118.87500</td>\n",
       "    </tr>\n",
       "    <tr>\n",
       "      <th rowspan=\"2\" valign=\"top\">2</th>\n",
       "      <th>0</th>\n",
       "      <td>0.016995</td>\n",
       "      <td>0.026264</td>\n",
       "      <td>4.483505</td>\n",
       "      <td>1.611000</td>\n",
       "      <td>381.37500</td>\n",
       "    </tr>\n",
       "    <tr>\n",
       "      <th>1</th>\n",
       "      <td>0.003092</td>\n",
       "      <td>0.047525</td>\n",
       "      <td>0.774153</td>\n",
       "      <td>0.906750</td>\n",
       "      <td>148.12500</td>\n",
       "    </tr>\n",
       "    <tr>\n",
       "      <th rowspan=\"2\" valign=\"top\">1</th>\n",
       "      <th>1</th>\n",
       "      <th>0</th>\n",
       "      <td>0.014431</td>\n",
       "      <td>0.023124</td>\n",
       "      <td>3.267061</td>\n",
       "      <td>1.570125</td>\n",
       "      <td>489.15000</td>\n",
       "    </tr>\n",
       "    <tr>\n",
       "      <th>2</th>\n",
       "      <th>0</th>\n",
       "      <td>0.021733</td>\n",
       "      <td>0.020608</td>\n",
       "      <td>3.105287</td>\n",
       "      <td>0.627375</td>\n",
       "      <td>827.92500</td>\n",
       "    </tr>\n",
       "    <tr>\n",
       "      <th rowspan=\"2\" valign=\"top\">2</th>\n",
       "      <th>1</th>\n",
       "      <th>0</th>\n",
       "      <td>0.018063</td>\n",
       "      <td>0.044031</td>\n",
       "      <td>4.008093</td>\n",
       "      <td>2.485500</td>\n",
       "      <td>461.25000</td>\n",
       "    </tr>\n",
       "    <tr>\n",
       "      <th>2</th>\n",
       "      <th>0</th>\n",
       "      <td>0.017847</td>\n",
       "      <td>0.043073</td>\n",
       "      <td>2.131514</td>\n",
       "      <td>1.602750</td>\n",
       "      <td>707.62500</td>\n",
       "    </tr>\n",
       "  </tbody>\n",
       "</table>\n",
       "</div>"
      ],
      "text/plain": [
       "0.75                                                               customer_lat  \\\n",
       "weekday/weekend TimeOfDay segregated_distance customerHasloyalty?                 \n",
       "0               0         0                   0                        0.000608   \n",
       "                          1                   0                        0.013738   \n",
       "                                              1                        0.011307   \n",
       "                          2                   0                        0.020231   \n",
       "                                              1                        0.015104   \n",
       "                1         0                   0                        0.017673   \n",
       "                          1                   0                        0.020825   \n",
       "                          2                   0                        0.019764   \n",
       "                2         0                   0                        0.005362   \n",
       "                          1                   0                        0.019420   \n",
       "                          2                   0                        0.015534   \n",
       "                          3                   0                        0.000000   \n",
       "1               0         0                   0                        0.000000   \n",
       "                          1                   0                        0.016550   \n",
       "                                              1                        0.016686   \n",
       "                          2                   0                        0.016995   \n",
       "                                              1                        0.003092   \n",
       "                1         1                   0                        0.014431   \n",
       "                          2                   0                        0.021733   \n",
       "                2         1                   0                        0.018063   \n",
       "                          2                   0                        0.017847   \n",
       "\n",
       "0.75                                                               customer_lon  \\\n",
       "weekday/weekend TimeOfDay segregated_distance customerHasloyalty?                 \n",
       "0               0         0                   0                        0.001780   \n",
       "                          1                   0                        0.034833   \n",
       "                                              1                        0.013137   \n",
       "                          2                   0                        0.012586   \n",
       "                                              1                        0.113514   \n",
       "                1         0                   0                        0.007654   \n",
       "                          1                   0                        0.035894   \n",
       "                          2                   0                        0.110233   \n",
       "                2         0                   0                        0.006384   \n",
       "                          1                   0                        0.043704   \n",
       "                          2                   0                        0.082773   \n",
       "                          3                   0                        0.000000   \n",
       "1               0         0                   0                        0.000000   \n",
       "                          1                   0                        0.028816   \n",
       "                                              1                        0.063221   \n",
       "                          2                   0                        0.026264   \n",
       "                                              1                        0.047525   \n",
       "                1         1                   0                        0.023124   \n",
       "                          2                   0                        0.020608   \n",
       "                2         1                   0                        0.044031   \n",
       "                          2                   0                        0.043073   \n",
       "\n",
       "0.75                                                               delivery_fee  \\\n",
       "weekday/weekend TimeOfDay segregated_distance customerHasloyalty?                 \n",
       "0               0         0                   0                        0.331240   \n",
       "                          1                   0                        3.105659   \n",
       "                                              1                        1.270395   \n",
       "                          2                   0                        3.648982   \n",
       "                                              1                        1.447626   \n",
       "                1         0                   0                        0.199841   \n",
       "                          1                   0                        2.794737   \n",
       "                          2                   0                        4.713839   \n",
       "                2         0                   0                        8.288888   \n",
       "                          1                   0                        3.396814   \n",
       "                          2                   0                        6.444805   \n",
       "                          3                   0                        0.000000   \n",
       "1               0         0                   0                        0.000000   \n",
       "                          1                   0                        3.316717   \n",
       "                                              1                        2.105447   \n",
       "                          2                   0                        4.483505   \n",
       "                                              1                        0.774153   \n",
       "                1         1                   0                        3.267061   \n",
       "                          2                   0                        3.105287   \n",
       "                2         1                   0                        4.008093   \n",
       "                          2                   0                        2.131514   \n",
       "\n",
       "0.75                                                               distance_to_customer_KM  \\\n",
       "weekday/weekend TimeOfDay segregated_distance customerHasloyalty?                            \n",
       "0               0         0                   0                                   0.291000   \n",
       "                          1                   0                                   1.831125   \n",
       "                                              1                                   1.987500   \n",
       "                          2                   0                                   1.038750   \n",
       "                                              1                                   1.334625   \n",
       "                1         0                   0                                   0.592500   \n",
       "                          1                   0                                   2.630250   \n",
       "                          2                   0                                   1.314000   \n",
       "                2         0                   0                                   0.794625   \n",
       "                          1                   0                                   2.076000   \n",
       "                          2                   0                                   1.117875   \n",
       "                          3                   0                                   0.000000   \n",
       "1               0         0                   0                                   0.000000   \n",
       "                          1                   0                                   2.077500   \n",
       "                                              1                                   2.373000   \n",
       "                          2                   0                                   1.611000   \n",
       "                                              1                                   0.906750   \n",
       "                1         1                   0                                   1.570125   \n",
       "                          2                   0                                   0.627375   \n",
       "                2         1                   0                                   2.485500   \n",
       "                          2                   0                                   1.602750   \n",
       "\n",
       "0.75                                                               order_price  \n",
       "weekday/weekend TimeOfDay segregated_distance customerHasloyalty?               \n",
       "0               0         0                   0                      192.75000  \n",
       "                          1                   0                      290.62500  \n",
       "                                              1                      383.81250  \n",
       "                          2                   0                      295.59375  \n",
       "                                              1                      274.78125  \n",
       "                1         0                   0                      295.50000  \n",
       "                          1                   0                      528.75000  \n",
       "                          2                   0                      535.20000  \n",
       "                2         0                   0                      293.81250  \n",
       "                          1                   0                      570.75000  \n",
       "                          2                   0                      510.37500  \n",
       "                          3                   0                        0.00000  \n",
       "1               0         0                   0                        0.00000  \n",
       "                          1                   0                      294.75000  \n",
       "                                              1                      118.87500  \n",
       "                          2                   0                      381.37500  \n",
       "                                              1                      148.12500  \n",
       "                1         1                   0                      489.15000  \n",
       "                          2                   0                      827.92500  \n",
       "                2         1                   0                      461.25000  \n",
       "                          2                   0                      707.62500  "
      ]
     },
     "execution_count": 119,
     "metadata": {},
     "output_type": "execute_result"
    }
   ],
   "source": [
    "threshould"
   ]
  },
  {
   "cell_type": "code",
   "execution_count": null,
   "metadata": {},
   "outputs": [],
   "source": []
  },
  {
   "cell_type": "code",
   "execution_count": null,
   "metadata": {},
   "outputs": [],
   "source": []
  },
  {
   "cell_type": "code",
   "execution_count": 112,
   "metadata": {},
   "outputs": [
    {
     "data": {
      "text/plain": [
       "<matplotlib.axes._subplots.AxesSubplot at 0x1eacca1a748>"
      ]
     },
     "execution_count": 112,
     "metadata": {},
     "output_type": "execute_result"
    },
    {
     "data": {
      "image/png": "[encoded data removed]",
      "text/plain": [
       "<Figure size 432x288 with 1 Axes>"
      ]
     },
     "metadata": {
      "needs_background": "light"
     },
     "output_type": "display_data"
    }
   ],
   "source": [
    "outlierdata.boxplot(column = 'delivery_fee',by = ['TimeOfDay','segregated_distance', 'customerHasloyalty?' ,'weekday/weekend' ] )"
   ]
  },
  {
   "cell_type": "code",
   "execution_count": 95,
   "metadata": {},
   "outputs": [],
   "source": [
    "boxplot = pd.DataFrame()"
   ]
  },
  {
   "cell_type": "code",
   "execution_count": 104,
   "metadata": {},
   "outputs": [],
   "source": [
    "boxplot = outlierdata[['delivery_fee', 'TimeOfDay','segregated_distance' ,'customerHasloyalty?']]"
   ]
  },
  {
   "cell_type": "code",
   "execution_count": null,
   "metadata": {},
   "outputs": [],
   "source": []
  },
  {
   "cell_type": "code",
   "execution_count": 109,
   "metadata": {},
   "outputs": [
    {
     "data": {
      "text/plain": [
       "<matplotlib.axes._subplots.AxesSubplot at 0x1eacb90d630>"
      ]
     },
     "execution_count": 109,
     "metadata": {},
     "output_type": "execute_result"
    },
    {
     "data": {
      "image/png": "[encoded data removed]",
      "text/plain": [
       "<Figure size 432x288 with 1 Axes>"
      ]
     },
     "metadata": {
      "needs_background": "light"
     },
     "output_type": "display_data"
    }
   ],
   "source": [
    "boxplot.plot(kind='box', by = 'TimeOfDay')"
   ]
  },
  {
   "cell_type": "code",
   "execution_count": null,
   "metadata": {},
   "outputs": [],
   "source": []
  }
 ],
 "metadata": {
  "kernelspec": {
   "display_name": "Python 3",
   "language": "python",
   "name": "python3"
  },
  "language_info": {
   "codemirror_mode": {
    "name": "ipython",
    "version": 3
   },
   "file_extension": ".py",
   "mimetype": "text/x-python",
   "name": "python",
   "nbconvert_exporter": "python",
   "pygments_lexer": "ipython3",
   "version": "3.7.1"
  }
 },
 "nbformat": 4,
 "nbformat_minor": 2
}
