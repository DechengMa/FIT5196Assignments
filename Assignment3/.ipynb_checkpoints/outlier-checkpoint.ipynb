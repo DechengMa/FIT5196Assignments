{
 "cells": [
  {
   "cell_type": "code",
   "execution_count": 37,
   "metadata": {},
   "outputs": [],
   "source": [
    "import pandas as pd\n",
    "import matplotlib.pyplot as plt\n",
    "%matplotlib inline"
   ]
  },
  {
   "cell_type": "code",
   "execution_count": 38,
   "metadata": {},
   "outputs": [],
   "source": [
    "outlierdata = pd.read_csv('Group017_outlier_data.csv')"
   ]
  },
  {
   "cell_type": "code",
   "execution_count": 39,
   "metadata": {},
   "outputs": [
    {
     "data": {
      "text/html": [
       "<div>\n",
       "<style scoped>\n",
       "    .dataframe tbody tr th:only-of-type {\n",
       "        vertical-align: middle;\n",
       "    }\n",
       "\n",
       "    .dataframe tbody tr th {\n",
       "        vertical-align: top;\n",
       "    }\n",
       "\n",
       "    .dataframe thead th {\n",
       "        text-align: right;\n",
       "    }\n",
       "</style>\n",
       "<table border=\"1\" class=\"dataframe\">\n",
       "  <thead>\n",
       "    <tr style=\"text-align: right;\">\n",
       "      <th></th>\n",
       "      <th>order_id</th>\n",
       "      <th>date</th>\n",
       "      <th>time</th>\n",
       "      <th>order_type</th>\n",
       "      <th>branch_code</th>\n",
       "      <th>order_items</th>\n",
       "      <th>order_price</th>\n",
       "      <th>customer_lat</th>\n",
       "      <th>customer_lon</th>\n",
       "      <th>customerHasloyalty?</th>\n",
       "      <th>distance_to_customer_KM</th>\n",
       "      <th>delivery_fee</th>\n",
       "    </tr>\n",
       "  </thead>\n",
       "  <tbody>\n",
       "    <tr>\n",
       "      <th>0</th>\n",
       "      <td>ORDA04354</td>\n",
       "      <td>2018-07-15</td>\n",
       "      <td>14:25:21</td>\n",
       "      <td>Lunch</td>\n",
       "      <td>BK</td>\n",
       "      <td>[('Salad', 1), ('Fries', 7)]</td>\n",
       "      <td>101.2</td>\n",
       "      <td>-37.817296</td>\n",
       "      <td>144.987975</td>\n",
       "      <td>0</td>\n",
       "      <td>5.918</td>\n",
       "      <td>14.068446</td>\n",
       "    </tr>\n",
       "    <tr>\n",
       "      <th>1</th>\n",
       "      <td>ORDB02723</td>\n",
       "      <td>2018-01-23</td>\n",
       "      <td>08:40:33</td>\n",
       "      <td>Breakfast</td>\n",
       "      <td>TP</td>\n",
       "      <td>[('Pancake', 4), ('Cereal', 4)]</td>\n",
       "      <td>181.0</td>\n",
       "      <td>-37.817335</td>\n",
       "      <td>144.962208</td>\n",
       "      <td>0</td>\n",
       "      <td>7.904</td>\n",
       "      <td>11.053223</td>\n",
       "    </tr>\n",
       "    <tr>\n",
       "      <th>2</th>\n",
       "      <td>ORDB04984</td>\n",
       "      <td>2018-03-11</td>\n",
       "      <td>10:11:49</td>\n",
       "      <td>Breakfast</td>\n",
       "      <td>TP</td>\n",
       "      <td>[('Eggs', 9), ('Coffee', 9), ('Cereal', 5), ('...</td>\n",
       "      <td>419.0</td>\n",
       "      <td>-37.806582</td>\n",
       "      <td>144.962905</td>\n",
       "      <td>0</td>\n",
       "      <td>9.007</td>\n",
       "      <td>13.251034</td>\n",
       "    </tr>\n",
       "    <tr>\n",
       "      <th>3</th>\n",
       "      <td>ORDJ03820</td>\n",
       "      <td>2018-02-27</td>\n",
       "      <td>09:51:32</td>\n",
       "      <td>Breakfast</td>\n",
       "      <td>TP</td>\n",
       "      <td>[('Pancake', 4), ('Eggs', 8), ('Cereal', 5), (...</td>\n",
       "      <td>453.0</td>\n",
       "      <td>-37.809812</td>\n",
       "      <td>144.976242</td>\n",
       "      <td>0</td>\n",
       "      <td>9.231</td>\n",
       "      <td>17.764767</td>\n",
       "    </tr>\n",
       "    <tr>\n",
       "      <th>4</th>\n",
       "      <td>ORDZ06038</td>\n",
       "      <td>2018-03-08</td>\n",
       "      <td>10:11:49</td>\n",
       "      <td>Breakfast</td>\n",
       "      <td>NS</td>\n",
       "      <td>[('Cereal', 9), ('Eggs', 7), ('Pancake', 4)]</td>\n",
       "      <td>440.0</td>\n",
       "      <td>-37.808184</td>\n",
       "      <td>144.973174</td>\n",
       "      <td>0</td>\n",
       "      <td>7.119</td>\n",
       "      <td>12.297550</td>\n",
       "    </tr>\n",
       "  </tbody>\n",
       "</table>\n",
       "</div>"
      ],
      "text/plain": [
       "    order_id        date      time order_type branch_code  \\\n",
       "0  ORDA04354  2018-07-15  14:25:21      Lunch          BK   \n",
       "1  ORDB02723  2018-01-23  08:40:33  Breakfast          TP   \n",
       "2  ORDB04984  2018-03-11  10:11:49  Breakfast          TP   \n",
       "3  ORDJ03820  2018-02-27  09:51:32  Breakfast          TP   \n",
       "4  ORDZ06038  2018-03-08  10:11:49  Breakfast          NS   \n",
       "\n",
       "                                         order_items  order_price  \\\n",
       "0                       [('Salad', 1), ('Fries', 7)]        101.2   \n",
       "1                    [('Pancake', 4), ('Cereal', 4)]        181.0   \n",
       "2  [('Eggs', 9), ('Coffee', 9), ('Cereal', 5), ('...        419.0   \n",
       "3  [('Pancake', 4), ('Eggs', 8), ('Cereal', 5), (...        453.0   \n",
       "4       [('Cereal', 9), ('Eggs', 7), ('Pancake', 4)]        440.0   \n",
       "\n",
       "   customer_lat  customer_lon  customerHasloyalty?  distance_to_customer_KM  \\\n",
       "0    -37.817296    144.987975                    0                    5.918   \n",
       "1    -37.817335    144.962208                    0                    7.904   \n",
       "2    -37.806582    144.962905                    0                    9.007   \n",
       "3    -37.809812    144.976242                    0                    9.231   \n",
       "4    -37.808184    144.973174                    0                    7.119   \n",
       "\n",
       "   delivery_fee  \n",
       "0     14.068446  \n",
       "1     11.053223  \n",
       "2     13.251034  \n",
       "3     17.764767  \n",
       "4     12.297550  "
      ]
     },
     "execution_count": 39,
     "metadata": {},
     "output_type": "execute_result"
    }
   ],
   "source": [
    "outlierdata.head()"
   ]
  },
  {
   "cell_type": "markdown",
   "metadata": {},
   "source": [
    "#### Working with order price "
   ]
  },
  {
   "cell_type": "code",
   "execution_count": 40,
   "metadata": {},
   "outputs": [
    {
     "data": {
      "text/plain": [
       "<matplotlib.axes._subplots.AxesSubplot at 0x1eac946a4e0>"
      ]
     },
     "execution_count": 40,
     "metadata": {},
     "output_type": "execute_result"
    },
    {
     "data": {
      "image/png": "[encoded data removed]",
      "text/plain": [
       "<Figure size 432x288 with 1 Axes>"
      ]
     },
     "metadata": {
      "needs_background": "light"
     },
     "output_type": "display_data"
    }
   ],
   "source": [
    "outlierdata.boxplot(column = 'order_price', by = 'order_type')"
   ]
  },
  {
   "cell_type": "code",
   "execution_count": 41,
   "metadata": {},
   "outputs": [
    {
     "data": {
      "text/html": [
       "<div>\n",
       "<style scoped>\n",
       "    .dataframe tbody tr th:only-of-type {\n",
       "        vertical-align: middle;\n",
       "    }\n",
       "\n",
       "    .dataframe tbody tr th {\n",
       "        vertical-align: top;\n",
       "    }\n",
       "\n",
       "    .dataframe thead th {\n",
       "        text-align: right;\n",
       "    }\n",
       "</style>\n",
       "<table border=\"1\" class=\"dataframe\">\n",
       "  <thead>\n",
       "    <tr style=\"text-align: right;\">\n",
       "      <th></th>\n",
       "      <th>order_price</th>\n",
       "      <th>customer_lat</th>\n",
       "      <th>customer_lon</th>\n",
       "      <th>customerHasloyalty?</th>\n",
       "      <th>distance_to_customer_KM</th>\n",
       "      <th>delivery_fee</th>\n",
       "    </tr>\n",
       "  </thead>\n",
       "  <tbody>\n",
       "    <tr>\n",
       "      <th>count</th>\n",
       "      <td>500.000000</td>\n",
       "      <td>500.000000</td>\n",
       "      <td>500.000000</td>\n",
       "      <td>500.000000</td>\n",
       "      <td>500.000000</td>\n",
       "      <td>500.000000</td>\n",
       "    </tr>\n",
       "    <tr>\n",
       "      <th>mean</th>\n",
       "      <td>476.232500</td>\n",
       "      <td>-37.812472</td>\n",
       "      <td>144.969156</td>\n",
       "      <td>0.080000</td>\n",
       "      <td>8.620148</td>\n",
       "      <td>13.464905</td>\n",
       "    </tr>\n",
       "    <tr>\n",
       "      <th>std</th>\n",
       "      <td>256.750656</td>\n",
       "      <td>0.007499</td>\n",
       "      <td>0.022242</td>\n",
       "      <td>0.271565</td>\n",
       "      <td>1.753597</td>\n",
       "      <td>3.420724</td>\n",
       "    </tr>\n",
       "    <tr>\n",
       "      <th>min</th>\n",
       "      <td>36.000000</td>\n",
       "      <td>-37.836908</td>\n",
       "      <td>144.894564</td>\n",
       "      <td>0.000000</td>\n",
       "      <td>3.234000</td>\n",
       "      <td>3.539279</td>\n",
       "    </tr>\n",
       "    <tr>\n",
       "      <th>25%</th>\n",
       "      <td>274.000000</td>\n",
       "      <td>-37.818846</td>\n",
       "      <td>144.953760</td>\n",
       "      <td>0.000000</td>\n",
       "      <td>7.663750</td>\n",
       "      <td>12.094526</td>\n",
       "    </tr>\n",
       "    <tr>\n",
       "      <th>50%</th>\n",
       "      <td>438.900000</td>\n",
       "      <td>-37.812918</td>\n",
       "      <td>144.966153</td>\n",
       "      <td>0.000000</td>\n",
       "      <td>8.624500</td>\n",
       "      <td>13.693176</td>\n",
       "    </tr>\n",
       "    <tr>\n",
       "      <th>75%</th>\n",
       "      <td>631.212500</td>\n",
       "      <td>-37.806340</td>\n",
       "      <td>144.985216</td>\n",
       "      <td>0.000000</td>\n",
       "      <td>9.756250</td>\n",
       "      <td>15.437806</td>\n",
       "    </tr>\n",
       "    <tr>\n",
       "      <th>max</th>\n",
       "      <td>1384.500000</td>\n",
       "      <td>-37.788784</td>\n",
       "      <td>145.019314</td>\n",
       "      <td>1.000000</td>\n",
       "      <td>16.625000</td>\n",
       "      <td>26.588101</td>\n",
       "    </tr>\n",
       "  </tbody>\n",
       "</table>\n",
       "</div>"
      ],
      "text/plain": [
       "       order_price  customer_lat  customer_lon  customerHasloyalty?  \\\n",
       "count   500.000000    500.000000    500.000000           500.000000   \n",
       "mean    476.232500    -37.812472    144.969156             0.080000   \n",
       "std     256.750656      0.007499      0.022242             0.271565   \n",
       "min      36.000000    -37.836908    144.894564             0.000000   \n",
       "25%     274.000000    -37.818846    144.953760             0.000000   \n",
       "50%     438.900000    -37.812918    144.966153             0.000000   \n",
       "75%     631.212500    -37.806340    144.985216             0.000000   \n",
       "max    1384.500000    -37.788784    145.019314             1.000000   \n",
       "\n",
       "       distance_to_customer_KM  delivery_fee  \n",
       "count               500.000000    500.000000  \n",
       "mean                  8.620148     13.464905  \n",
       "std                   1.753597      3.420724  \n",
       "min                   3.234000      3.539279  \n",
       "25%                   7.663750     12.094526  \n",
       "50%                   8.624500     13.693176  \n",
       "75%                   9.756250     15.437806  \n",
       "max                  16.625000     26.588101  "
      ]
     },
     "execution_count": 41,
     "metadata": {},
     "output_type": "execute_result"
    }
   ],
   "source": [
    "outlierdata.describe()"
   ]
  },
  {
   "cell_type": "code",
   "execution_count": 45,
   "metadata": {},
   "outputs": [
    {
     "name": "stdout",
     "output_type": "stream",
     "text": [
      "[('Shrimp', 8), ('Pasta', 7), ('Salmon', 10), ('Fish&Chips', 10)]\n"
     ]
    }
   ],
   "source": [
    "for x in (outlierdata[outlierdata.order_price == 1384.5].order_items):\n",
    "    print(x)"
   ]
  },
  {
   "cell_type": "code",
   "execution_count": 46,
   "metadata": {},
   "outputs": [],
   "source": [
    "outlierdata1 = outlierdata[outlierdata.order_price != 1384.5]"
   ]
  },
  {
   "cell_type": "code",
   "execution_count": 49,
   "metadata": {},
   "outputs": [
    {
     "data": {
      "text/plain": [
       "1259.5"
      ]
     },
     "execution_count": 49,
     "metadata": {},
     "output_type": "execute_result"
    }
   ],
   "source": [
    "outlierdata1.order_price.max()"
   ]
  },
  {
   "cell_type": "code",
   "execution_count": 50,
   "metadata": {},
   "outputs": [
    {
     "name": "stdout",
     "output_type": "stream",
     "text": [
      "[('Salmon', 10), ('Shrimp', 8), ('Fish&Chips', 8), ('Pasta', 5)]\n"
     ]
    }
   ],
   "source": [
    "for x in (outlierdata[outlierdata.order_price == 1259.5].order_items):\n",
    "    print(x)"
   ]
  },
  {
   "cell_type": "code",
   "execution_count": 51,
   "metadata": {},
   "outputs": [
    {
     "data": {
      "text/plain": [
       "<matplotlib.axes._subplots.AxesSubplot at 0x1eac9567ef0>"
      ]
     },
     "execution_count": 51,
     "metadata": {},
     "output_type": "execute_result"
    },
    {
     "data": {
      "image/png": "[encoded data removed]",
      "text/plain": [
       "<Figure size 432x288 with 1 Axes>"
      ]
     },
     "metadata": {
      "needs_background": "light"
     },
     "output_type": "display_data"
    }
   ],
   "source": [
    "outlierdata.boxplot(column = 'order_price', by = 'order_type')"
   ]
  },
  {
   "cell_type": "markdown",
   "metadata": {},
   "source": [
    "##### Just an unusually large order has been placed for $1384.5"
   ]
  },
  {
   "cell_type": "code",
   "execution_count": null,
   "metadata": {},
   "outputs": [],
   "source": []
  },
  {
   "cell_type": "markdown",
   "metadata": {},
   "source": [
    "#### Working with distance_to_customer_KM"
   ]
  },
  {
   "cell_type": "code",
   "execution_count": 35,
   "metadata": {},
   "outputs": [
    {
     "data": {
      "text/plain": [
       "count    499.000000\n",
       "mean       8.620349\n",
       "std        1.755351\n",
       "min        3.234000\n",
       "25%        7.663500\n",
       "50%        8.625000\n",
       "75%        9.758500\n",
       "max       16.625000\n",
       "Name: distance_to_customer_KM, dtype: float64"
      ]
     },
     "execution_count": 35,
     "metadata": {},
     "output_type": "execute_result"
    }
   ],
   "source": [
    "outlierdata.distance_to_customer_KM.describe()"
   ]
  },
  {
   "cell_type": "code",
   "execution_count": 34,
   "metadata": {},
   "outputs": [
    {
     "data": {
      "text/plain": [
       "<matplotlib.axes._subplots.AxesSubplot at 0x1eac5b22588>"
      ]
     },
     "execution_count": 34,
     "metadata": {},
     "output_type": "execute_result"
    },
    {
     "data": {
      "image/png": "[encoded data removed]",
      "text/plain": [
       "<Figure size 432x288 with 1 Axes>"
      ]
     },
     "metadata": {
      "needs_background": "light"
     },
     "output_type": "display_data"
    }
   ],
   "source": [
    "outlierdata.boxplot(column = 'delivery_fee')"
   ]
  },
  {
   "cell_type": "code",
   "execution_count": null,
   "metadata": {},
   "outputs": [],
   "source": []
  },
  {
   "cell_type": "code",
   "execution_count": 55,
   "metadata": {},
   "outputs": [
    {
     "data": {
      "text/plain": [
       "[<matplotlib.lines.Line2D at 0x1eac9827dd8>]"
      ]
     },
     "execution_count": 55,
     "metadata": {},
     "output_type": "execute_result"
    },
    {
     "data": {
      "image/png": "[encoded data removed]",
      "text/plain": [
       "<Figure size 432x288 with 1 Axes>"
      ]
     },
     "metadata": {
      "needs_background": "light"
     },
     "output_type": "display_data"
    }
   ],
   "source": [
    "plt.plot(outlierdata.sort_values(['delivery_fee'])['delivery_fee'])"
   ]
  },
  {
   "cell_type": "code",
   "execution_count": 58,
   "metadata": {},
   "outputs": [
    {
     "data": {
      "text/plain": [
       "<matplotlib.axes._subplots.AxesSubplot at 0x1eacaa3b400>"
      ]
     },
     "execution_count": 58,
     "metadata": {},
     "output_type": "execute_result"
    },
    {
     "data": {
      "image/png": "[encoded data removed]",
      "text/plain": [
       "<Figure size 432x288 with 1 Axes>"
      ]
     },
     "metadata": {
      "needs_background": "light"
     },
     "output_type": "display_data"
    }
   ],
   "source": [
    "outlierdata.sort_values(['delivery_fee']).delivery_fee.hist()"
   ]
  },
  {
   "cell_type": "code",
   "execution_count": null,
   "metadata": {},
   "outputs": [],
   "source": []
  }
 ],
 "metadata": {
  "kernelspec": {
   "display_name": "Python 3",
   "language": "python",
   "name": "python3"
  },
  "language_info": {
   "codemirror_mode": {
    "name": "ipython",
    "version": 3
   },
   "file_extension": ".py",
   "mimetype": "text/x-python",
   "name": "python",
   "nbconvert_exporter": "python",
   "pygments_lexer": "ipython3",
   "version": "3.7.1"
  }
 },
 "nbformat": 4,
 "nbformat_minor": 2
}
