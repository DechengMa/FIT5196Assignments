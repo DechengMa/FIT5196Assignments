{
 "cells": [
  {
   "cell_type": "markdown",
   "metadata": {},
   "source": [
    "# FIT5196 Assessment 4\n",
    "\n",
    "#### Group number: 17\n",
    "#### Student Names: Roopesh Kumar Ramesh, Nikita Mary John\n",
    "#### Student ID: 30344565, 30142776\n",
    "\n",
    "Date: 27/10/2019\n",
    "\n",
    "Version: 1.0\n",
    "\n",
    "Environment: Python 3 and Jupyter notebook\n",
    "\n",
    "Libraries used: \n",
    "* pandas (for dataframe, included in Anaconda Python 3) \n",
    "* re (for regular expressions, included in Anaconda Python 3) \n",
    "* geopandas (to read shapefiles)\n",
    "* shapely.geometry (to find if point in polygon)\n",
    "* math (for mathematical calculations, included in Anaconda Python 3)\n",
    "* urllib.request (to open urls)\n",
    "* bs4 (parsing html)\n",
    "* numpy (included in Anaconda Python 3)\n",
    "* matplotlib (for visualizations)\n",
    "* sklearn (for normalization and transformation)\n",
    "\n",
    "## Introduction\n",
    "\n",
    "The aim of this assignment is to create a dataset by concatenating data from various sources, such as text files, xml files, excel files, websites etc. After the data has been colated, we are required to observe various transformation and normalization techniques and their effect on the data. \n",
    "\n",
    "The given csv file contains information about properties and their features. In the csv file provided to us, there are a total of 680 unique property entries. \n",
    "\n",
    "NOTE: In order for the following code to run, the input text file and all the other files read must be stored in the same folder as this file."
   ]
  },
  {
   "cell_type": "markdown",
   "metadata": {},
   "source": [
    "## 1.  Import libraries "
   ]
  },
  {
   "cell_type": "code",
   "execution_count": 1,
   "metadata": {},
   "outputs": [],
   "source": [
    "import pandas as pd\n",
    "import re\n",
    "import geopandas\n",
    "from shapely.geometry import Point\n",
    "from shapely.geometry.polygon import Polygon\n",
    "import math\n",
    "from urllib.request import urlopen\n",
    "from bs4 import BeautifulSoup\n",
    "import numpy as np\n",
    "from matplotlib import pyplot as plt\n",
    "from sklearn import preprocessing"
   ]
  },
  {
   "cell_type": "markdown",
   "metadata": {},
   "source": [
    "## 2. Data Integration"
   ]
  },
  {
   "cell_type": "markdown",
   "metadata": {},
   "source": [
    "First, we opened the csv file and stored its contents as a dataframe called initial_dataset. "
   ]
  },
  {
   "cell_type": "code",
   "execution_count": 2,
   "metadata": {},
   "outputs": [],
   "source": [
    "initial_dataset= pd.read_csv('Group017.csv') #reading the csv file"
   ]
  },
  {
   "cell_type": "code",
   "execution_count": 3,
   "metadata": {},
   "outputs": [
    {
     "data": {
      "text/html": [
       "<div>\n",
       "<style scoped>\n",
       "    .dataframe tbody tr th:only-of-type {\n",
       "        vertical-align: middle;\n",
       "    }\n",
       "\n",
       "    .dataframe tbody tr th {\n",
       "        vertical-align: top;\n",
       "    }\n",
       "\n",
       "    .dataframe thead th {\n",
       "        text-align: right;\n",
       "    }\n",
       "</style>\n",
       "<table border=\"1\" class=\"dataframe\">\n",
       "  <thead>\n",
       "    <tr style=\"text-align: right;\">\n",
       "      <th></th>\n",
       "      <th>ID</th>\n",
       "      <th>Address</th>\n",
       "      <th>Rooms</th>\n",
       "      <th>Type</th>\n",
       "      <th>Price</th>\n",
       "      <th>Date</th>\n",
       "      <th>Bathroom</th>\n",
       "      <th>Car</th>\n",
       "      <th>Landsize</th>\n",
       "      <th>Age</th>\n",
       "      <th>Lattitude</th>\n",
       "      <th>Longtitude</th>\n",
       "    </tr>\n",
       "  </thead>\n",
       "  <tbody>\n",
       "    <tr>\n",
       "      <th>0</th>\n",
       "      <td>ID275585343</td>\n",
       "      <td>15 Kwinana Ct</td>\n",
       "      <td>3</td>\n",
       "      <td>h</td>\n",
       "      <td>1223500.0</td>\n",
       "      <td>22/08/2016</td>\n",
       "      <td>2.0</td>\n",
       "      <td>2.0</td>\n",
       "      <td>721.0</td>\n",
       "      <td>39.0</td>\n",
       "      <td>-37.75800</td>\n",
       "      <td>145.04080</td>\n",
       "    </tr>\n",
       "    <tr>\n",
       "      <th>1</th>\n",
       "      <td>ID702339222</td>\n",
       "      <td>12A Almond St</td>\n",
       "      <td>2</td>\n",
       "      <td>h</td>\n",
       "      <td>997000.0</td>\n",
       "      <td>29/04/2017</td>\n",
       "      <td>1.0</td>\n",
       "      <td>2.0</td>\n",
       "      <td>311.0</td>\n",
       "      <td>94.0</td>\n",
       "      <td>-37.88950</td>\n",
       "      <td>145.02290</td>\n",
       "    </tr>\n",
       "    <tr>\n",
       "      <th>2</th>\n",
       "      <td>ID784956327</td>\n",
       "      <td>4/16 Hotham Gr</td>\n",
       "      <td>2</td>\n",
       "      <td>u</td>\n",
       "      <td>660000.0</td>\n",
       "      <td>12/11/2016</td>\n",
       "      <td>1.0</td>\n",
       "      <td>0.0</td>\n",
       "      <td>477.0</td>\n",
       "      <td>49.0</td>\n",
       "      <td>-37.88040</td>\n",
       "      <td>144.99690</td>\n",
       "    </tr>\n",
       "    <tr>\n",
       "      <th>3</th>\n",
       "      <td>ID219098083</td>\n",
       "      <td>48 Sydney St</td>\n",
       "      <td>3</td>\n",
       "      <td>h</td>\n",
       "      <td>840000.0</td>\n",
       "      <td>27/11/2016</td>\n",
       "      <td>1.0</td>\n",
       "      <td>0.0</td>\n",
       "      <td>697.0</td>\n",
       "      <td>99.0</td>\n",
       "      <td>-37.78090</td>\n",
       "      <td>144.82280</td>\n",
       "    </tr>\n",
       "    <tr>\n",
       "      <th>4</th>\n",
       "      <td>ID292446805</td>\n",
       "      <td>16 Hodgson St</td>\n",
       "      <td>5</td>\n",
       "      <td>h</td>\n",
       "      <td>3450000.0</td>\n",
       "      <td>26/08/2017</td>\n",
       "      <td>2.0</td>\n",
       "      <td>2.0</td>\n",
       "      <td>668.0</td>\n",
       "      <td>13.0</td>\n",
       "      <td>-37.80795</td>\n",
       "      <td>145.01474</td>\n",
       "    </tr>\n",
       "  </tbody>\n",
       "</table>\n",
       "</div>"
      ],
      "text/plain": [
       "            ID         Address  Rooms Type      Price        Date  Bathroom  \\\n",
       "0  ID275585343   15 Kwinana Ct      3    h  1223500.0  22/08/2016       2.0   \n",
       "1  ID702339222   12A Almond St      2    h   997000.0  29/04/2017       1.0   \n",
       "2  ID784956327  4/16 Hotham Gr      2    u   660000.0  12/11/2016       1.0   \n",
       "3  ID219098083    48 Sydney St      3    h   840000.0  27/11/2016       1.0   \n",
       "4  ID292446805   16 Hodgson St      5    h  3450000.0  26/08/2017       2.0   \n",
       "\n",
       "   Car  Landsize   Age  Lattitude  Longtitude  \n",
       "0  2.0     721.0  39.0  -37.75800   145.04080  \n",
       "1  2.0     311.0  94.0  -37.88950   145.02290  \n",
       "2  0.0     477.0  49.0  -37.88040   144.99690  \n",
       "3  0.0     697.0  99.0  -37.78090   144.82280  \n",
       "4  2.0     668.0  13.0  -37.80795   145.01474  "
      ]
     },
     "execution_count": 3,
     "metadata": {},
     "output_type": "execute_result"
    }
   ],
   "source": [
    "initial_dataset.head()"
   ]
  },
  {
   "cell_type": "markdown",
   "metadata": {},
   "source": [
    "We realised that there were a number of duplicate rows in the dataframe. We thus removed these duplicate values."
   ]
  },
  {
   "cell_type": "code",
   "execution_count": 4,
   "metadata": {},
   "outputs": [],
   "source": [
    "initial_dataset=initial_dataset.drop_duplicates(subset=None, keep='first', inplace=False) #dropping duplicate rows\n",
    "initial_dataset.reset_index(inplace=True)\n",
    "initial_dataset = initial_dataset.drop('index', axis=1)"
   ]
  },
  {
   "cell_type": "code",
   "execution_count": 5,
   "metadata": {},
   "outputs": [
    {
     "data": {
      "text/html": [
       "<div>\n",
       "<style scoped>\n",
       "    .dataframe tbody tr th:only-of-type {\n",
       "        vertical-align: middle;\n",
       "    }\n",
       "\n",
       "    .dataframe tbody tr th {\n",
       "        vertical-align: top;\n",
       "    }\n",
       "\n",
       "    .dataframe thead th {\n",
       "        text-align: right;\n",
       "    }\n",
       "</style>\n",
       "<table border=\"1\" class=\"dataframe\">\n",
       "  <thead>\n",
       "    <tr style=\"text-align: right;\">\n",
       "      <th></th>\n",
       "      <th>ID</th>\n",
       "      <th>Address</th>\n",
       "      <th>Rooms</th>\n",
       "      <th>Type</th>\n",
       "      <th>Price</th>\n",
       "      <th>Date</th>\n",
       "      <th>Bathroom</th>\n",
       "      <th>Car</th>\n",
       "      <th>Landsize</th>\n",
       "      <th>Age</th>\n",
       "      <th>Lattitude</th>\n",
       "      <th>Longtitude</th>\n",
       "    </tr>\n",
       "  </thead>\n",
       "  <tbody>\n",
       "    <tr>\n",
       "      <th>0</th>\n",
       "      <td>ID275585343</td>\n",
       "      <td>15 Kwinana Ct</td>\n",
       "      <td>3</td>\n",
       "      <td>h</td>\n",
       "      <td>1223500.0</td>\n",
       "      <td>22/08/2016</td>\n",
       "      <td>2.0</td>\n",
       "      <td>2.0</td>\n",
       "      <td>721.0</td>\n",
       "      <td>39.0</td>\n",
       "      <td>-37.75800</td>\n",
       "      <td>145.04080</td>\n",
       "    </tr>\n",
       "    <tr>\n",
       "      <th>1</th>\n",
       "      <td>ID702339222</td>\n",
       "      <td>12A Almond St</td>\n",
       "      <td>2</td>\n",
       "      <td>h</td>\n",
       "      <td>997000.0</td>\n",
       "      <td>29/04/2017</td>\n",
       "      <td>1.0</td>\n",
       "      <td>2.0</td>\n",
       "      <td>311.0</td>\n",
       "      <td>94.0</td>\n",
       "      <td>-37.88950</td>\n",
       "      <td>145.02290</td>\n",
       "    </tr>\n",
       "    <tr>\n",
       "      <th>2</th>\n",
       "      <td>ID784956327</td>\n",
       "      <td>4/16 Hotham Gr</td>\n",
       "      <td>2</td>\n",
       "      <td>u</td>\n",
       "      <td>660000.0</td>\n",
       "      <td>12/11/2016</td>\n",
       "      <td>1.0</td>\n",
       "      <td>0.0</td>\n",
       "      <td>477.0</td>\n",
       "      <td>49.0</td>\n",
       "      <td>-37.88040</td>\n",
       "      <td>144.99690</td>\n",
       "    </tr>\n",
       "    <tr>\n",
       "      <th>3</th>\n",
       "      <td>ID219098083</td>\n",
       "      <td>48 Sydney St</td>\n",
       "      <td>3</td>\n",
       "      <td>h</td>\n",
       "      <td>840000.0</td>\n",
       "      <td>27/11/2016</td>\n",
       "      <td>1.0</td>\n",
       "      <td>0.0</td>\n",
       "      <td>697.0</td>\n",
       "      <td>99.0</td>\n",
       "      <td>-37.78090</td>\n",
       "      <td>144.82280</td>\n",
       "    </tr>\n",
       "    <tr>\n",
       "      <th>4</th>\n",
       "      <td>ID292446805</td>\n",
       "      <td>16 Hodgson St</td>\n",
       "      <td>5</td>\n",
       "      <td>h</td>\n",
       "      <td>3450000.0</td>\n",
       "      <td>26/08/2017</td>\n",
       "      <td>2.0</td>\n",
       "      <td>2.0</td>\n",
       "      <td>668.0</td>\n",
       "      <td>13.0</td>\n",
       "      <td>-37.80795</td>\n",
       "      <td>145.01474</td>\n",
       "    </tr>\n",
       "  </tbody>\n",
       "</table>\n",
       "</div>"
      ],
      "text/plain": [
       "            ID         Address  Rooms Type      Price        Date  Bathroom  \\\n",
       "0  ID275585343   15 Kwinana Ct      3    h  1223500.0  22/08/2016       2.0   \n",
       "1  ID702339222   12A Almond St      2    h   997000.0  29/04/2017       1.0   \n",
       "2  ID784956327  4/16 Hotham Gr      2    u   660000.0  12/11/2016       1.0   \n",
       "3  ID219098083    48 Sydney St      3    h   840000.0  27/11/2016       1.0   \n",
       "4  ID292446805   16 Hodgson St      5    h  3450000.0  26/08/2017       2.0   \n",
       "\n",
       "   Car  Landsize   Age  Lattitude  Longtitude  \n",
       "0  2.0     721.0  39.0  -37.75800   145.04080  \n",
       "1  2.0     311.0  94.0  -37.88950   145.02290  \n",
       "2  0.0     477.0  49.0  -37.88040   144.99690  \n",
       "3  0.0     697.0  99.0  -37.78090   144.82280  \n",
       "4  2.0     668.0  13.0  -37.80795   145.01474  "
      ]
     },
     "execution_count": 5,
     "metadata": {},
     "output_type": "execute_result"
    }
   ],
   "source": [
    "initial_dataset.head()"
   ]
  },
  {
   "cell_type": "markdown",
   "metadata": {},
   "source": [
    "Our dataset now has 680 unique entries."
   ]
  },
  {
   "cell_type": "code",
   "execution_count": 6,
   "metadata": {},
   "outputs": [
    {
     "data": {
      "text/plain": [
       "680"
      ]
     },
     "execution_count": 6,
     "metadata": {},
     "output_type": "execute_result"
    }
   ],
   "source": [
    "initial_dataset['ID'].nunique()"
   ]
  },
  {
   "cell_type": "markdown",
   "metadata": {},
   "source": [
    "### i) Suburb"
   ]
  },
  {
   "cell_type": "markdown",
   "metadata": {},
   "source": [
    "In order to find the suburb of each property, we can use the vic_suburb_boundary file provided to us. This file contains shape files, therefore we use geopandas to read it. We then get a datatframe which we named geo_dataset. In this dataframe, two columns are important to us- geometry and VIC_LOCA_2"
   ]
  },
  {
   "cell_type": "code",
   "execution_count": 7,
   "metadata": {},
   "outputs": [],
   "source": [
    "geo_dataset= geopandas.read_file('vic_suburb_boundary') #reading the shape file as a dataframe"
   ]
  },
  {
   "cell_type": "code",
   "execution_count": 8,
   "metadata": {},
   "outputs": [
    {
     "data": {
      "text/html": [
       "<div>\n",
       "<style scoped>\n",
       "    .dataframe tbody tr th:only-of-type {\n",
       "        vertical-align: middle;\n",
       "    }\n",
       "\n",
       "    .dataframe tbody tr th {\n",
       "        vertical-align: top;\n",
       "    }\n",
       "\n",
       "    .dataframe thead th {\n",
       "        text-align: right;\n",
       "    }\n",
       "</style>\n",
       "<table border=\"1\" class=\"dataframe\">\n",
       "  <thead>\n",
       "    <tr style=\"text-align: right;\">\n",
       "      <th></th>\n",
       "      <th>LC_PLY_PID</th>\n",
       "      <th>DT_CREATE</th>\n",
       "      <th>DT_RETIRE</th>\n",
       "      <th>LOC_PID</th>\n",
       "      <th>VIC_LOCALI</th>\n",
       "      <th>VIC_LOCA_1</th>\n",
       "      <th>VIC_LOCA_2</th>\n",
       "      <th>VIC_LOCA_3</th>\n",
       "      <th>VIC_LOCA_4</th>\n",
       "      <th>VIC_LOCA_5</th>\n",
       "      <th>VIC_LOCA_6</th>\n",
       "      <th>VIC_LOCA_7</th>\n",
       "      <th>geometry</th>\n",
       "    </tr>\n",
       "  </thead>\n",
       "  <tbody>\n",
       "    <tr>\n",
       "      <th>0</th>\n",
       "      <td>6670</td>\n",
       "      <td>2011-08-31</td>\n",
       "      <td>None</td>\n",
       "      <td>VIC2615</td>\n",
       "      <td>2012-04-27</td>\n",
       "      <td>None</td>\n",
       "      <td>UNDERBOOL</td>\n",
       "      <td>None</td>\n",
       "      <td>None</td>\n",
       "      <td>G</td>\n",
       "      <td>None</td>\n",
       "      <td>2</td>\n",
       "      <td>POLYGON ((141.74552399 -35.07228701, 141.74552...</td>\n",
       "    </tr>\n",
       "    <tr>\n",
       "      <th>1</th>\n",
       "      <td>6671</td>\n",
       "      <td>2011-08-31</td>\n",
       "      <td>None</td>\n",
       "      <td>VIC1986</td>\n",
       "      <td>2012-04-27</td>\n",
       "      <td>None</td>\n",
       "      <td>NURRAN</td>\n",
       "      <td>None</td>\n",
       "      <td>None</td>\n",
       "      <td>G</td>\n",
       "      <td>None</td>\n",
       "      <td>2</td>\n",
       "      <td>POLYGON ((148.668767 -37.39571245, 148.6687620...</td>\n",
       "    </tr>\n",
       "    <tr>\n",
       "      <th>2</th>\n",
       "      <td>6672</td>\n",
       "      <td>2011-08-31</td>\n",
       "      <td>None</td>\n",
       "      <td>VIC2862</td>\n",
       "      <td>2012-04-27</td>\n",
       "      <td>None</td>\n",
       "      <td>WOORNDOO</td>\n",
       "      <td>None</td>\n",
       "      <td>None</td>\n",
       "      <td>G</td>\n",
       "      <td>None</td>\n",
       "      <td>2</td>\n",
       "      <td>POLYGON ((142.92287999 -37.97885997, 142.90449...</td>\n",
       "    </tr>\n",
       "    <tr>\n",
       "      <th>3</th>\n",
       "      <td>6673</td>\n",
       "      <td>2011-08-31</td>\n",
       "      <td>None</td>\n",
       "      <td>VIC734</td>\n",
       "      <td>2017-08-09</td>\n",
       "      <td>None</td>\n",
       "      <td>DEPTFORD</td>\n",
       "      <td>None</td>\n",
       "      <td>None</td>\n",
       "      <td>G</td>\n",
       "      <td>None</td>\n",
       "      <td>2</td>\n",
       "      <td>POLYGON ((147.82335712 -37.66000897, 147.82312...</td>\n",
       "    </tr>\n",
       "    <tr>\n",
       "      <th>4</th>\n",
       "      <td>6674</td>\n",
       "      <td>2011-08-31</td>\n",
       "      <td>None</td>\n",
       "      <td>VIC2900</td>\n",
       "      <td>2012-04-27</td>\n",
       "      <td>None</td>\n",
       "      <td>YANAC</td>\n",
       "      <td>None</td>\n",
       "      <td>None</td>\n",
       "      <td>G</td>\n",
       "      <td>None</td>\n",
       "      <td>2</td>\n",
       "      <td>POLYGON ((141.279783 -35.99858911, 141.2798853...</td>\n",
       "    </tr>\n",
       "  </tbody>\n",
       "</table>\n",
       "</div>"
      ],
      "text/plain": [
       "  LC_PLY_PID   DT_CREATE DT_RETIRE  LOC_PID  VIC_LOCALI VIC_LOCA_1 VIC_LOCA_2  \\\n",
       "0       6670  2011-08-31      None  VIC2615  2012-04-27       None  UNDERBOOL   \n",
       "1       6671  2011-08-31      None  VIC1986  2012-04-27       None     NURRAN   \n",
       "2       6672  2011-08-31      None  VIC2862  2012-04-27       None   WOORNDOO   \n",
       "3       6673  2011-08-31      None   VIC734  2017-08-09       None   DEPTFORD   \n",
       "4       6674  2011-08-31      None  VIC2900  2012-04-27       None      YANAC   \n",
       "\n",
       "  VIC_LOCA_3 VIC_LOCA_4 VIC_LOCA_5 VIC_LOCA_6 VIC_LOCA_7  \\\n",
       "0       None       None          G       None          2   \n",
       "1       None       None          G       None          2   \n",
       "2       None       None          G       None          2   \n",
       "3       None       None          G       None          2   \n",
       "4       None       None          G       None          2   \n",
       "\n",
       "                                            geometry  \n",
       "0  POLYGON ((141.74552399 -35.07228701, 141.74552...  \n",
       "1  POLYGON ((148.668767 -37.39571245, 148.6687620...  \n",
       "2  POLYGON ((142.92287999 -37.97885997, 142.90449...  \n",
       "3  POLYGON ((147.82335712 -37.66000897, 147.82312...  \n",
       "4  POLYGON ((141.279783 -35.99858911, 141.2798853...  "
      ]
     },
     "execution_count": 8,
     "metadata": {},
     "output_type": "execute_result"
    }
   ],
   "source": [
    "geo_dataset.head()"
   ]
  },
  {
   "cell_type": "markdown",
   "metadata": {},
   "source": [
    "We use the geometry column- which consists of polygons in order to determine the suburb. If the polygon containts the co-ordinates of the property, we return the corresponding suburb name."
   ]
  },
  {
   "cell_type": "code",
   "execution_count": 9,
   "metadata": {},
   "outputs": [],
   "source": [
    "suburb=[]\n",
    "lon=initial_dataset['Longtitude']\n",
    "lat=initial_dataset['Lattitude']\n",
    "for i in range(len(lon)):\n",
    "    item=Point(lon[i], lat[i])\n",
    "    suburb.append((geo_dataset[geo_dataset['geometry'].contains(item)].VIC_LOCA_2).to_string()) #checking if polygon contains point, if yes, suburb is returned in list"
   ]
  },
  {
   "cell_type": "code",
   "execution_count": 10,
   "metadata": {},
   "outputs": [],
   "source": [
    "for i in range(len(suburb)):\n",
    "    if suburb[i] is None:\n",
    "        suburb[i]=\"not available\"\n",
    "    else:\n",
    "        suburb[i]=re.sub(r'\\d', '', suburb[i]).strip()"
   ]
  },
  {
   "cell_type": "markdown",
   "metadata": {},
   "source": [
    "We now have a list of the corresponding suburbs to the properties. We next add this to the dataset."
   ]
  },
  {
   "cell_type": "code",
   "execution_count": 11,
   "metadata": {},
   "outputs": [],
   "source": [
    "initial_dataset['Suburb']=suburb #suburb list added to dataframe"
   ]
  },
  {
   "cell_type": "code",
   "execution_count": 12,
   "metadata": {},
   "outputs": [
    {
     "data": {
      "text/html": [
       "<div>\n",
       "<style scoped>\n",
       "    .dataframe tbody tr th:only-of-type {\n",
       "        vertical-align: middle;\n",
       "    }\n",
       "\n",
       "    .dataframe tbody tr th {\n",
       "        vertical-align: top;\n",
       "    }\n",
       "\n",
       "    .dataframe thead th {\n",
       "        text-align: right;\n",
       "    }\n",
       "</style>\n",
       "<table border=\"1\" class=\"dataframe\">\n",
       "  <thead>\n",
       "    <tr style=\"text-align: right;\">\n",
       "      <th></th>\n",
       "      <th>ID</th>\n",
       "      <th>Address</th>\n",
       "      <th>Rooms</th>\n",
       "      <th>Type</th>\n",
       "      <th>Price</th>\n",
       "      <th>Date</th>\n",
       "      <th>Bathroom</th>\n",
       "      <th>Car</th>\n",
       "      <th>Landsize</th>\n",
       "      <th>Age</th>\n",
       "      <th>Lattitude</th>\n",
       "      <th>Longtitude</th>\n",
       "      <th>Suburb</th>\n",
       "    </tr>\n",
       "  </thead>\n",
       "  <tbody>\n",
       "    <tr>\n",
       "      <th>0</th>\n",
       "      <td>ID275585343</td>\n",
       "      <td>15 Kwinana Ct</td>\n",
       "      <td>3</td>\n",
       "      <td>h</td>\n",
       "      <td>1223500.0</td>\n",
       "      <td>22/08/2016</td>\n",
       "      <td>2.0</td>\n",
       "      <td>2.0</td>\n",
       "      <td>721.0</td>\n",
       "      <td>39.0</td>\n",
       "      <td>-37.75800</td>\n",
       "      <td>145.04080</td>\n",
       "      <td>IVANHOE</td>\n",
       "    </tr>\n",
       "    <tr>\n",
       "      <th>1</th>\n",
       "      <td>ID702339222</td>\n",
       "      <td>12A Almond St</td>\n",
       "      <td>2</td>\n",
       "      <td>h</td>\n",
       "      <td>997000.0</td>\n",
       "      <td>29/04/2017</td>\n",
       "      <td>1.0</td>\n",
       "      <td>2.0</td>\n",
       "      <td>311.0</td>\n",
       "      <td>94.0</td>\n",
       "      <td>-37.88950</td>\n",
       "      <td>145.02290</td>\n",
       "      <td>CAULFIELD SOUTH</td>\n",
       "    </tr>\n",
       "    <tr>\n",
       "      <th>2</th>\n",
       "      <td>ID784956327</td>\n",
       "      <td>4/16 Hotham Gr</td>\n",
       "      <td>2</td>\n",
       "      <td>u</td>\n",
       "      <td>660000.0</td>\n",
       "      <td>12/11/2016</td>\n",
       "      <td>1.0</td>\n",
       "      <td>0.0</td>\n",
       "      <td>477.0</td>\n",
       "      <td>49.0</td>\n",
       "      <td>-37.88040</td>\n",
       "      <td>144.99690</td>\n",
       "      <td>RIPPONLEA</td>\n",
       "    </tr>\n",
       "    <tr>\n",
       "      <th>3</th>\n",
       "      <td>ID219098083</td>\n",
       "      <td>48 Sydney St</td>\n",
       "      <td>3</td>\n",
       "      <td>h</td>\n",
       "      <td>840000.0</td>\n",
       "      <td>27/11/2016</td>\n",
       "      <td>1.0</td>\n",
       "      <td>0.0</td>\n",
       "      <td>697.0</td>\n",
       "      <td>99.0</td>\n",
       "      <td>-37.78090</td>\n",
       "      <td>144.82280</td>\n",
       "      <td>ALBION</td>\n",
       "    </tr>\n",
       "    <tr>\n",
       "      <th>4</th>\n",
       "      <td>ID292446805</td>\n",
       "      <td>16 Hodgson St</td>\n",
       "      <td>5</td>\n",
       "      <td>h</td>\n",
       "      <td>3450000.0</td>\n",
       "      <td>26/08/2017</td>\n",
       "      <td>2.0</td>\n",
       "      <td>2.0</td>\n",
       "      <td>668.0</td>\n",
       "      <td>13.0</td>\n",
       "      <td>-37.80795</td>\n",
       "      <td>145.01474</td>\n",
       "      <td>KEW</td>\n",
       "    </tr>\n",
       "  </tbody>\n",
       "</table>\n",
       "</div>"
      ],
      "text/plain": [
       "            ID         Address  Rooms Type      Price        Date  Bathroom  \\\n",
       "0  ID275585343   15 Kwinana Ct      3    h  1223500.0  22/08/2016       2.0   \n",
       "1  ID702339222   12A Almond St      2    h   997000.0  29/04/2017       1.0   \n",
       "2  ID784956327  4/16 Hotham Gr      2    u   660000.0  12/11/2016       1.0   \n",
       "3  ID219098083    48 Sydney St      3    h   840000.0  27/11/2016       1.0   \n",
       "4  ID292446805   16 Hodgson St      5    h  3450000.0  26/08/2017       2.0   \n",
       "\n",
       "   Car  Landsize   Age  Lattitude  Longtitude           Suburb  \n",
       "0  2.0     721.0  39.0  -37.75800   145.04080          IVANHOE  \n",
       "1  2.0     311.0  94.0  -37.88950   145.02290  CAULFIELD SOUTH  \n",
       "2  0.0     477.0  49.0  -37.88040   144.99690        RIPPONLEA  \n",
       "3  0.0     697.0  99.0  -37.78090   144.82280           ALBION  \n",
       "4  2.0     668.0  13.0  -37.80795   145.01474              KEW  "
      ]
     },
     "execution_count": 12,
     "metadata": {},
     "output_type": "execute_result"
    }
   ],
   "source": [
    "initial_dataset.head()"
   ]
  },
  {
   "cell_type": "markdown",
   "metadata": {},
   "source": [
    "Now, suburb has been added to the dataset."
   ]
  },
  {
   "cell_type": "markdown",
   "metadata": {},
   "source": [
    "We reordered and renamed the columns as follows:"
   ]
  },
  {
   "cell_type": "code",
   "execution_count": 13,
   "metadata": {},
   "outputs": [
    {
     "data": {
      "text/plain": [
       "Index(['ID', 'Address', 'Rooms', 'Type', 'Price', 'Date', 'Bathroom', 'Car',\n",
       "       'Landsize', 'Age', 'Lattitude', 'Longtitude', 'Suburb'],\n",
       "      dtype='object')"
      ]
     },
     "execution_count": 13,
     "metadata": {},
     "output_type": "execute_result"
    }
   ],
   "source": [
    "initial_dataset.columns"
   ]
  },
  {
   "cell_type": "code",
   "execution_count": 14,
   "metadata": {},
   "outputs": [],
   "source": [
    "initial_dataset = initial_dataset[['ID', 'Address', 'Suburb', 'Price', 'Type', 'Date', 'Rooms', 'Bathroom', 'Car', 'Landsize', 'Age', 'Lattitude', 'Longtitude']]\n",
    "initial_dataset.rename(columns={'Lattitude':'Latitude', 'Landsize':'LandSize'}, inplace=True)"
   ]
  },
  {
   "cell_type": "code",
   "execution_count": 15,
   "metadata": {},
   "outputs": [
    {
     "data": {
      "text/html": [
       "<div>\n",
       "<style scoped>\n",
       "    .dataframe tbody tr th:only-of-type {\n",
       "        vertical-align: middle;\n",
       "    }\n",
       "\n",
       "    .dataframe tbody tr th {\n",
       "        vertical-align: top;\n",
       "    }\n",
       "\n",
       "    .dataframe thead th {\n",
       "        text-align: right;\n",
       "    }\n",
       "</style>\n",
       "<table border=\"1\" class=\"dataframe\">\n",
       "  <thead>\n",
       "    <tr style=\"text-align: right;\">\n",
       "      <th></th>\n",
       "      <th>ID</th>\n",
       "      <th>Address</th>\n",
       "      <th>Suburb</th>\n",
       "      <th>Price</th>\n",
       "      <th>Type</th>\n",
       "      <th>Date</th>\n",
       "      <th>Rooms</th>\n",
       "      <th>Bathroom</th>\n",
       "      <th>Car</th>\n",
       "      <th>LandSize</th>\n",
       "      <th>Age</th>\n",
       "      <th>Latitude</th>\n",
       "      <th>Longtitude</th>\n",
       "    </tr>\n",
       "  </thead>\n",
       "  <tbody>\n",
       "    <tr>\n",
       "      <th>0</th>\n",
       "      <td>ID275585343</td>\n",
       "      <td>15 Kwinana Ct</td>\n",
       "      <td>IVANHOE</td>\n",
       "      <td>1223500.0</td>\n",
       "      <td>h</td>\n",
       "      <td>22/08/2016</td>\n",
       "      <td>3</td>\n",
       "      <td>2.0</td>\n",
       "      <td>2.0</td>\n",
       "      <td>721.0</td>\n",
       "      <td>39.0</td>\n",
       "      <td>-37.75800</td>\n",
       "      <td>145.04080</td>\n",
       "    </tr>\n",
       "    <tr>\n",
       "      <th>1</th>\n",
       "      <td>ID702339222</td>\n",
       "      <td>12A Almond St</td>\n",
       "      <td>CAULFIELD SOUTH</td>\n",
       "      <td>997000.0</td>\n",
       "      <td>h</td>\n",
       "      <td>29/04/2017</td>\n",
       "      <td>2</td>\n",
       "      <td>1.0</td>\n",
       "      <td>2.0</td>\n",
       "      <td>311.0</td>\n",
       "      <td>94.0</td>\n",
       "      <td>-37.88950</td>\n",
       "      <td>145.02290</td>\n",
       "    </tr>\n",
       "    <tr>\n",
       "      <th>2</th>\n",
       "      <td>ID784956327</td>\n",
       "      <td>4/16 Hotham Gr</td>\n",
       "      <td>RIPPONLEA</td>\n",
       "      <td>660000.0</td>\n",
       "      <td>u</td>\n",
       "      <td>12/11/2016</td>\n",
       "      <td>2</td>\n",
       "      <td>1.0</td>\n",
       "      <td>0.0</td>\n",
       "      <td>477.0</td>\n",
       "      <td>49.0</td>\n",
       "      <td>-37.88040</td>\n",
       "      <td>144.99690</td>\n",
       "    </tr>\n",
       "    <tr>\n",
       "      <th>3</th>\n",
       "      <td>ID219098083</td>\n",
       "      <td>48 Sydney St</td>\n",
       "      <td>ALBION</td>\n",
       "      <td>840000.0</td>\n",
       "      <td>h</td>\n",
       "      <td>27/11/2016</td>\n",
       "      <td>3</td>\n",
       "      <td>1.0</td>\n",
       "      <td>0.0</td>\n",
       "      <td>697.0</td>\n",
       "      <td>99.0</td>\n",
       "      <td>-37.78090</td>\n",
       "      <td>144.82280</td>\n",
       "    </tr>\n",
       "    <tr>\n",
       "      <th>4</th>\n",
       "      <td>ID292446805</td>\n",
       "      <td>16 Hodgson St</td>\n",
       "      <td>KEW</td>\n",
       "      <td>3450000.0</td>\n",
       "      <td>h</td>\n",
       "      <td>26/08/2017</td>\n",
       "      <td>5</td>\n",
       "      <td>2.0</td>\n",
       "      <td>2.0</td>\n",
       "      <td>668.0</td>\n",
       "      <td>13.0</td>\n",
       "      <td>-37.80795</td>\n",
       "      <td>145.01474</td>\n",
       "    </tr>\n",
       "  </tbody>\n",
       "</table>\n",
       "</div>"
      ],
      "text/plain": [
       "            ID         Address           Suburb      Price Type        Date  \\\n",
       "0  ID275585343   15 Kwinana Ct          IVANHOE  1223500.0    h  22/08/2016   \n",
       "1  ID702339222   12A Almond St  CAULFIELD SOUTH   997000.0    h  29/04/2017   \n",
       "2  ID784956327  4/16 Hotham Gr        RIPPONLEA   660000.0    u  12/11/2016   \n",
       "3  ID219098083    48 Sydney St           ALBION   840000.0    h  27/11/2016   \n",
       "4  ID292446805   16 Hodgson St              KEW  3450000.0    h  26/08/2017   \n",
       "\n",
       "   Rooms  Bathroom  Car  LandSize   Age  Latitude  Longtitude  \n",
       "0      3       2.0  2.0     721.0  39.0 -37.75800   145.04080  \n",
       "1      2       1.0  2.0     311.0  94.0 -37.88950   145.02290  \n",
       "2      2       1.0  0.0     477.0  49.0 -37.88040   144.99690  \n",
       "3      3       1.0  0.0     697.0  99.0 -37.78090   144.82280  \n",
       "4      5       2.0  2.0     668.0  13.0 -37.80795   145.01474  "
      ]
     },
     "execution_count": 15,
     "metadata": {},
     "output_type": "execute_result"
    }
   ],
   "source": [
    "initial_dataset.head()"
   ]
  },
  {
   "cell_type": "markdown",
   "metadata": {},
   "source": [
    "### ii) Train Data"
   ]
  },
  {
   "cell_type": "markdown",
   "metadata": {},
   "source": [
    "We use the gtfs files provided in order to get data on trains and stations. In the gtfs folder, file 1 refers to regional trains while 2 refers to metropolitan trains. We only look into these two files and their contents for this portion of the assignment.\n",
    "\n",
    "We first start with regional train stations and lines"
   ]
  },
  {
   "cell_type": "code",
   "execution_count": 16,
   "metadata": {},
   "outputs": [],
   "source": [
    "regional_stops=pd.read_csv('gtfs/1/google_transit/stops.txt',sep = ',') #reading csv file"
   ]
  },
  {
   "cell_type": "code",
   "execution_count": 17,
   "metadata": {},
   "outputs": [
    {
     "data": {
      "text/html": [
       "<div>\n",
       "<style scoped>\n",
       "    .dataframe tbody tr th:only-of-type {\n",
       "        vertical-align: middle;\n",
       "    }\n",
       "\n",
       "    .dataframe tbody tr th {\n",
       "        vertical-align: top;\n",
       "    }\n",
       "\n",
       "    .dataframe thead th {\n",
       "        text-align: right;\n",
       "    }\n",
       "</style>\n",
       "<table border=\"1\" class=\"dataframe\">\n",
       "  <thead>\n",
       "    <tr style=\"text-align: right;\">\n",
       "      <th></th>\n",
       "      <th>stop_id</th>\n",
       "      <th>stop_name</th>\n",
       "      <th>stop_lat</th>\n",
       "      <th>stop_lon</th>\n",
       "    </tr>\n",
       "  </thead>\n",
       "  <tbody>\n",
       "    <tr>\n",
       "      <th>0</th>\n",
       "      <td>17204</td>\n",
       "      <td>Wallan Railway Station (Wallan)</td>\n",
       "      <td>-37.416861</td>\n",
       "      <td>145.005372</td>\n",
       "    </tr>\n",
       "    <tr>\n",
       "      <th>1</th>\n",
       "      <td>19980</td>\n",
       "      <td>Melton Railway Station (Melton South)</td>\n",
       "      <td>-37.703293</td>\n",
       "      <td>144.572524</td>\n",
       "    </tr>\n",
       "    <tr>\n",
       "      <th>2</th>\n",
       "      <td>19981</td>\n",
       "      <td>Rockbank Railway Station (Rockbank)</td>\n",
       "      <td>-37.729261</td>\n",
       "      <td>144.650631</td>\n",
       "    </tr>\n",
       "    <tr>\n",
       "      <th>3</th>\n",
       "      <td>19982</td>\n",
       "      <td>Deer Park Railway Station (Deer Park)</td>\n",
       "      <td>-37.777764</td>\n",
       "      <td>144.772304</td>\n",
       "    </tr>\n",
       "    <tr>\n",
       "      <th>4</th>\n",
       "      <td>19998</td>\n",
       "      <td>Sunbury Railway Station (Sunbury)</td>\n",
       "      <td>-37.579206</td>\n",
       "      <td>144.728165</td>\n",
       "    </tr>\n",
       "  </tbody>\n",
       "</table>\n",
       "</div>"
      ],
      "text/plain": [
       "   stop_id                              stop_name   stop_lat    stop_lon\n",
       "0    17204        Wallan Railway Station (Wallan) -37.416861  145.005372\n",
       "1    19980  Melton Railway Station (Melton South) -37.703293  144.572524\n",
       "2    19981    Rockbank Railway Station (Rockbank) -37.729261  144.650631\n",
       "3    19982  Deer Park Railway Station (Deer Park) -37.777764  144.772304\n",
       "4    19998      Sunbury Railway Station (Sunbury) -37.579206  144.728165"
      ]
     },
     "execution_count": 17,
     "metadata": {},
     "output_type": "execute_result"
    }
   ],
   "source": [
    "regional_stops.head()"
   ]
  },
  {
   "cell_type": "code",
   "execution_count": 18,
   "metadata": {},
   "outputs": [
    {
     "data": {
      "text/html": [
       "<div>\n",
       "<style scoped>\n",
       "    .dataframe tbody tr th:only-of-type {\n",
       "        vertical-align: middle;\n",
       "    }\n",
       "\n",
       "    .dataframe tbody tr th {\n",
       "        vertical-align: top;\n",
       "    }\n",
       "\n",
       "    .dataframe thead th {\n",
       "        text-align: right;\n",
       "    }\n",
       "</style>\n",
       "<table border=\"1\" class=\"dataframe\">\n",
       "  <thead>\n",
       "    <tr style=\"text-align: right;\">\n",
       "      <th></th>\n",
       "      <th>stop_id</th>\n",
       "      <th>stop_name</th>\n",
       "      <th>stop_lat</th>\n",
       "      <th>stop_lon</th>\n",
       "    </tr>\n",
       "  </thead>\n",
       "  <tbody>\n",
       "    <tr>\n",
       "      <th>7</th>\n",
       "      <td>20043</td>\n",
       "      <td>Southern Cross Railway Station (Melbourne City)</td>\n",
       "      <td>-37.818334</td>\n",
       "      <td>144.952525</td>\n",
       "    </tr>\n",
       "  </tbody>\n",
       "</table>\n",
       "</div>"
      ],
      "text/plain": [
       "   stop_id                                        stop_name   stop_lat  \\\n",
       "7    20043  Southern Cross Railway Station (Melbourne City) -37.818334   \n",
       "\n",
       "     stop_lon  \n",
       "7  144.952525  "
      ]
     },
     "execution_count": 18,
     "metadata": {},
     "output_type": "execute_result"
    }
   ],
   "source": [
    "regional_stops[regional_stops['stop_name']==\"Southern Cross Railway Station (Melbourne City)\"] #finding stop_id of southern cross"
   ]
  },
  {
   "cell_type": "markdown",
   "metadata": {},
   "source": [
    "Thus the stop_id of southern cross when it comes to regional is 20043.\n",
    "We need to find routes that travel direct to southern cross every day of the week between 7 and 9:30 am.\n",
    "We start by using the regional calendar file to see all the services that operate on all days of the week."
   ]
  },
  {
   "cell_type": "code",
   "execution_count": 19,
   "metadata": {},
   "outputs": [
    {
     "data": {
      "text/html": [
       "<div>\n",
       "<style scoped>\n",
       "    .dataframe tbody tr th:only-of-type {\n",
       "        vertical-align: middle;\n",
       "    }\n",
       "\n",
       "    .dataframe tbody tr th {\n",
       "        vertical-align: top;\n",
       "    }\n",
       "\n",
       "    .dataframe thead th {\n",
       "        text-align: right;\n",
       "    }\n",
       "</style>\n",
       "<table border=\"1\" class=\"dataframe\">\n",
       "  <thead>\n",
       "    <tr style=\"text-align: right;\">\n",
       "      <th></th>\n",
       "      <th>service_id</th>\n",
       "      <th>monday</th>\n",
       "      <th>tuesday</th>\n",
       "      <th>wednesday</th>\n",
       "      <th>thursday</th>\n",
       "      <th>friday</th>\n",
       "      <th>saturday</th>\n",
       "      <th>sunday</th>\n",
       "      <th>start_date</th>\n",
       "      <th>end_date</th>\n",
       "    </tr>\n",
       "  </thead>\n",
       "  <tbody>\n",
       "    <tr>\n",
       "      <th>0</th>\n",
       "      <td>UR</td>\n",
       "      <td>0</td>\n",
       "      <td>0</td>\n",
       "      <td>0</td>\n",
       "      <td>1</td>\n",
       "      <td>0</td>\n",
       "      <td>0</td>\n",
       "      <td>0</td>\n",
       "      <td>20190509</td>\n",
       "      <td>20190509</td>\n",
       "    </tr>\n",
       "    <tr>\n",
       "      <th>1</th>\n",
       "      <td>T6</td>\n",
       "      <td>0</td>\n",
       "      <td>0</td>\n",
       "      <td>0</td>\n",
       "      <td>0</td>\n",
       "      <td>1</td>\n",
       "      <td>0</td>\n",
       "      <td>0</td>\n",
       "      <td>20190510</td>\n",
       "      <td>20190510</td>\n",
       "    </tr>\n",
       "    <tr>\n",
       "      <th>2</th>\n",
       "      <td>T2</td>\n",
       "      <td>0</td>\n",
       "      <td>0</td>\n",
       "      <td>0</td>\n",
       "      <td>0</td>\n",
       "      <td>0</td>\n",
       "      <td>1</td>\n",
       "      <td>0</td>\n",
       "      <td>20190511</td>\n",
       "      <td>20190511</td>\n",
       "    </tr>\n",
       "    <tr>\n",
       "      <th>3</th>\n",
       "      <td>UJ</td>\n",
       "      <td>0</td>\n",
       "      <td>0</td>\n",
       "      <td>0</td>\n",
       "      <td>0</td>\n",
       "      <td>0</td>\n",
       "      <td>0</td>\n",
       "      <td>1</td>\n",
       "      <td>20190512</td>\n",
       "      <td>20190512</td>\n",
       "    </tr>\n",
       "    <tr>\n",
       "      <th>4</th>\n",
       "      <td>UO</td>\n",
       "      <td>1</td>\n",
       "      <td>0</td>\n",
       "      <td>0</td>\n",
       "      <td>0</td>\n",
       "      <td>0</td>\n",
       "      <td>0</td>\n",
       "      <td>0</td>\n",
       "      <td>20190513</td>\n",
       "      <td>20190513</td>\n",
       "    </tr>\n",
       "  </tbody>\n",
       "</table>\n",
       "</div>"
      ],
      "text/plain": [
       "  service_id  monday  tuesday  wednesday  thursday  friday  saturday  sunday  \\\n",
       "0         UR       0        0          0         1       0         0       0   \n",
       "1         T6       0        0          0         0       1         0       0   \n",
       "2         T2       0        0          0         0       0         1       0   \n",
       "3         UJ       0        0          0         0       0         0       1   \n",
       "4         UO       1        0          0         0       0         0       0   \n",
       "\n",
       "   start_date  end_date  \n",
       "0    20190509  20190509  \n",
       "1    20190510  20190510  \n",
       "2    20190511  20190511  \n",
       "3    20190512  20190512  \n",
       "4    20190513  20190513  "
      ]
     },
     "execution_count": 19,
     "metadata": {},
     "output_type": "execute_result"
    }
   ],
   "source": [
    "regional_cal=pd.read_csv('gtfs/1/google_transit/calendar.txt',sep = ',')\n",
    "regional_cal.head()"
   ]
  },
  {
   "cell_type": "code",
   "execution_count": 20,
   "metadata": {},
   "outputs": [],
   "source": [
    "services=regional_cal['service_id'][(regional_cal['monday']==1) & (regional_cal['tuesday']==1) & (regional_cal['wednesday']==1) & (regional_cal['thursday']==1) & (regional_cal['friday']==1)].tolist() #filtering service_id with service on all weekdays"
   ]
  },
  {
   "cell_type": "code",
   "execution_count": 21,
   "metadata": {},
   "outputs": [],
   "source": [
    "regional_trips=pd.read_csv('gtfs/1/google_transit/trips.txt',sep = ',')"
   ]
  },
  {
   "cell_type": "markdown",
   "metadata": {},
   "source": [
    "We then filter and fild all the trip_ids of the trains on the above obtained services."
   ]
  },
  {
   "cell_type": "code",
   "execution_count": 22,
   "metadata": {},
   "outputs": [],
   "source": [
    "trip_ids=regional_trips['trip_id'][regional_trips['service_id'].isin(services)].tolist() #getting trip_ids of services found above"
   ]
  },
  {
   "cell_type": "code",
   "execution_count": 23,
   "metadata": {},
   "outputs": [
    {
     "data": {
      "text/plain": [
       "1404"
      ]
     },
     "execution_count": 23,
     "metadata": {},
     "output_type": "execute_result"
    }
   ],
   "source": [
    "len(trip_ids)"
   ]
  },
  {
   "cell_type": "code",
   "execution_count": 24,
   "metadata": {},
   "outputs": [],
   "source": [
    "regional_stoptimes=pd.read_csv('gtfs/1/google_transit/stop_times.txt',sep = ',')"
   ]
  },
  {
   "cell_type": "markdown",
   "metadata": {},
   "source": [
    "Next, we filter out lines that depart between 7am and 9:30 am."
   ]
  },
  {
   "cell_type": "code",
   "execution_count": 25,
   "metadata": {},
   "outputs": [],
   "source": [
    "regional_stoptimes=regional_stoptimes[(regional_stoptimes['departure_time']<=\"09:30:00\") & (regional_stoptimes['departure_time']>=\"07:00:00\")]"
   ]
  },
  {
   "cell_type": "code",
   "execution_count": 26,
   "metadata": {},
   "outputs": [
    {
     "data": {
      "text/html": [
       "<div>\n",
       "<style scoped>\n",
       "    .dataframe tbody tr th:only-of-type {\n",
       "        vertical-align: middle;\n",
       "    }\n",
       "\n",
       "    .dataframe tbody tr th {\n",
       "        vertical-align: top;\n",
       "    }\n",
       "\n",
       "    .dataframe thead th {\n",
       "        text-align: right;\n",
       "    }\n",
       "</style>\n",
       "<table border=\"1\" class=\"dataframe\">\n",
       "  <thead>\n",
       "    <tr style=\"text-align: right;\">\n",
       "      <th></th>\n",
       "      <th>trip_id</th>\n",
       "      <th>arrival_time</th>\n",
       "      <th>departure_time</th>\n",
       "      <th>stop_id</th>\n",
       "      <th>stop_sequence</th>\n",
       "      <th>stop_headsign</th>\n",
       "      <th>pickup_type</th>\n",
       "      <th>drop_off_type</th>\n",
       "      <th>shape_dist_traveled</th>\n",
       "    </tr>\n",
       "  </thead>\n",
       "  <tbody>\n",
       "    <tr>\n",
       "      <th>3</th>\n",
       "      <td>7548.UR.1-V08-A-mjp-1.1.H</td>\n",
       "      <td>07:16:00</td>\n",
       "      <td>07:16:00</td>\n",
       "      <td>20339</td>\n",
       "      <td>4</td>\n",
       "      <td>NaN</td>\n",
       "      <td>0</td>\n",
       "      <td>0</td>\n",
       "      <td>94514.728171</td>\n",
       "    </tr>\n",
       "    <tr>\n",
       "      <th>4</th>\n",
       "      <td>7548.UR.1-V08-A-mjp-1.1.H</td>\n",
       "      <td>07:32:00</td>\n",
       "      <td>07:34:00</td>\n",
       "      <td>20351</td>\n",
       "      <td>5</td>\n",
       "      <td>NaN</td>\n",
       "      <td>0</td>\n",
       "      <td>0</td>\n",
       "      <td>116895.210301</td>\n",
       "    </tr>\n",
       "    <tr>\n",
       "      <th>5</th>\n",
       "      <td>7548.UR.1-V08-A-mjp-1.1.H</td>\n",
       "      <td>07:45:00</td>\n",
       "      <td>07:45:00</td>\n",
       "      <td>20330</td>\n",
       "      <td>6</td>\n",
       "      <td>NaN</td>\n",
       "      <td>0</td>\n",
       "      <td>0</td>\n",
       "      <td>130530.089787</td>\n",
       "    </tr>\n",
       "    <tr>\n",
       "      <th>6</th>\n",
       "      <td>7548.UR.1-V08-A-mjp-1.1.H</td>\n",
       "      <td>07:57:00</td>\n",
       "      <td>07:57:00</td>\n",
       "      <td>20328</td>\n",
       "      <td>7</td>\n",
       "      <td>NaN</td>\n",
       "      <td>0</td>\n",
       "      <td>0</td>\n",
       "      <td>145000.117101</td>\n",
       "    </tr>\n",
       "    <tr>\n",
       "      <th>7</th>\n",
       "      <td>7548.UR.1-V08-A-mjp-1.1.H</td>\n",
       "      <td>08:16:00</td>\n",
       "      <td>08:16:00</td>\n",
       "      <td>20357</td>\n",
       "      <td>10</td>\n",
       "      <td>NaN</td>\n",
       "      <td>0</td>\n",
       "      <td>0</td>\n",
       "      <td>175519.536474</td>\n",
       "    </tr>\n",
       "  </tbody>\n",
       "</table>\n",
       "</div>"
      ],
      "text/plain": [
       "                     trip_id arrival_time departure_time  stop_id  \\\n",
       "3  7548.UR.1-V08-A-mjp-1.1.H     07:16:00       07:16:00    20339   \n",
       "4  7548.UR.1-V08-A-mjp-1.1.H     07:32:00       07:34:00    20351   \n",
       "5  7548.UR.1-V08-A-mjp-1.1.H     07:45:00       07:45:00    20330   \n",
       "6  7548.UR.1-V08-A-mjp-1.1.H     07:57:00       07:57:00    20328   \n",
       "7  7548.UR.1-V08-A-mjp-1.1.H     08:16:00       08:16:00    20357   \n",
       "\n",
       "   stop_sequence  stop_headsign  pickup_type  drop_off_type  \\\n",
       "3              4            NaN            0              0   \n",
       "4              5            NaN            0              0   \n",
       "5              6            NaN            0              0   \n",
       "6              7            NaN            0              0   \n",
       "7             10            NaN            0              0   \n",
       "\n",
       "   shape_dist_traveled  \n",
       "3         94514.728171  \n",
       "4        116895.210301  \n",
       "5        130530.089787  \n",
       "6        145000.117101  \n",
       "7        175519.536474  "
      ]
     },
     "execution_count": 26,
     "metadata": {},
     "output_type": "execute_result"
    }
   ],
   "source": [
    "regional_stoptimes.head()"
   ]
  },
  {
   "cell_type": "code",
   "execution_count": 27,
   "metadata": {},
   "outputs": [],
   "source": [
    "newdf=regional_stoptimes[(regional_stoptimes['trip_id'].isin(trip_ids))]"
   ]
  },
  {
   "cell_type": "code",
   "execution_count": 28,
   "metadata": {},
   "outputs": [
    {
     "data": {
      "text/html": [
       "<div>\n",
       "<style scoped>\n",
       "    .dataframe tbody tr th:only-of-type {\n",
       "        vertical-align: middle;\n",
       "    }\n",
       "\n",
       "    .dataframe tbody tr th {\n",
       "        vertical-align: top;\n",
       "    }\n",
       "\n",
       "    .dataframe thead th {\n",
       "        text-align: right;\n",
       "    }\n",
       "</style>\n",
       "<table border=\"1\" class=\"dataframe\">\n",
       "  <thead>\n",
       "    <tr style=\"text-align: right;\">\n",
       "      <th></th>\n",
       "      <th>trip_id</th>\n",
       "      <th>arrival_time</th>\n",
       "      <th>departure_time</th>\n",
       "      <th>stop_id</th>\n",
       "      <th>stop_sequence</th>\n",
       "      <th>stop_headsign</th>\n",
       "      <th>pickup_type</th>\n",
       "      <th>drop_off_type</th>\n",
       "      <th>shape_dist_traveled</th>\n",
       "    </tr>\n",
       "  </thead>\n",
       "  <tbody>\n",
       "    <tr>\n",
       "      <th>581</th>\n",
       "      <td>1051.T0.1-V08-G-mjp-1.1.H</td>\n",
       "      <td>07:16:00</td>\n",
       "      <td>07:16:00</td>\n",
       "      <td>20339</td>\n",
       "      <td>4</td>\n",
       "      <td>NaN</td>\n",
       "      <td>0</td>\n",
       "      <td>0</td>\n",
       "      <td>94514.728171</td>\n",
       "    </tr>\n",
       "    <tr>\n",
       "      <th>582</th>\n",
       "      <td>1051.T0.1-V08-G-mjp-1.1.H</td>\n",
       "      <td>07:32:00</td>\n",
       "      <td>07:34:00</td>\n",
       "      <td>20351</td>\n",
       "      <td>5</td>\n",
       "      <td>NaN</td>\n",
       "      <td>0</td>\n",
       "      <td>0</td>\n",
       "      <td>116895.210301</td>\n",
       "    </tr>\n",
       "    <tr>\n",
       "      <th>583</th>\n",
       "      <td>1051.T0.1-V08-G-mjp-1.1.H</td>\n",
       "      <td>07:45:00</td>\n",
       "      <td>07:45:00</td>\n",
       "      <td>20330</td>\n",
       "      <td>6</td>\n",
       "      <td>NaN</td>\n",
       "      <td>0</td>\n",
       "      <td>0</td>\n",
       "      <td>130530.089787</td>\n",
       "    </tr>\n",
       "    <tr>\n",
       "      <th>584</th>\n",
       "      <td>1051.T0.1-V08-G-mjp-1.1.H</td>\n",
       "      <td>07:57:00</td>\n",
       "      <td>07:57:00</td>\n",
       "      <td>20328</td>\n",
       "      <td>7</td>\n",
       "      <td>NaN</td>\n",
       "      <td>0</td>\n",
       "      <td>0</td>\n",
       "      <td>145000.117101</td>\n",
       "    </tr>\n",
       "    <tr>\n",
       "      <th>585</th>\n",
       "      <td>1051.T0.1-V08-G-mjp-1.1.H</td>\n",
       "      <td>08:16:00</td>\n",
       "      <td>08:16:00</td>\n",
       "      <td>20357</td>\n",
       "      <td>10</td>\n",
       "      <td>NaN</td>\n",
       "      <td>0</td>\n",
       "      <td>0</td>\n",
       "      <td>175519.536474</td>\n",
       "    </tr>\n",
       "  </tbody>\n",
       "</table>\n",
       "</div>"
      ],
      "text/plain": [
       "                       trip_id arrival_time departure_time  stop_id  \\\n",
       "581  1051.T0.1-V08-G-mjp-1.1.H     07:16:00       07:16:00    20339   \n",
       "582  1051.T0.1-V08-G-mjp-1.1.H     07:32:00       07:34:00    20351   \n",
       "583  1051.T0.1-V08-G-mjp-1.1.H     07:45:00       07:45:00    20330   \n",
       "584  1051.T0.1-V08-G-mjp-1.1.H     07:57:00       07:57:00    20328   \n",
       "585  1051.T0.1-V08-G-mjp-1.1.H     08:16:00       08:16:00    20357   \n",
       "\n",
       "     stop_sequence  stop_headsign  pickup_type  drop_off_type  \\\n",
       "581              4            NaN            0              0   \n",
       "582              5            NaN            0              0   \n",
       "583              6            NaN            0              0   \n",
       "584              7            NaN            0              0   \n",
       "585             10            NaN            0              0   \n",
       "\n",
       "     shape_dist_traveled  \n",
       "581         94514.728171  \n",
       "582        116895.210301  \n",
       "583        130530.089787  \n",
       "584        145000.117101  \n",
       "585        175519.536474  "
      ]
     },
     "execution_count": 28,
     "metadata": {},
     "output_type": "execute_result"
    }
   ],
   "source": [
    "newdf.head()"
   ]
  },
  {
   "cell_type": "markdown",
   "metadata": {},
   "source": [
    "We then find all the lines that stop at southern cross"
   ]
  },
  {
   "cell_type": "code",
   "execution_count": 29,
   "metadata": {},
   "outputs": [],
   "source": [
    "newdf=newdf[(newdf['stop_id']==20043)]  #getting all southern cross entries"
   ]
  },
  {
   "cell_type": "code",
   "execution_count": 30,
   "metadata": {},
   "outputs": [],
   "source": [
    "regional_trains_fin=pd.merge(regional_stoptimes, newdf, on='trip_id')"
   ]
  },
  {
   "cell_type": "markdown",
   "metadata": {},
   "source": [
    "We then filter for all the trains that have a stop sequence less than that of southern cross, because we want southern cross to be after these stops."
   ]
  },
  {
   "cell_type": "code",
   "execution_count": 31,
   "metadata": {},
   "outputs": [],
   "source": [
    "regionaltrains_stopping_SC=regional_trains_fin[regional_trains_fin['stop_sequence_x']<regional_trains_fin['stop_sequence_y']]"
   ]
  },
  {
   "cell_type": "code",
   "execution_count": 32,
   "metadata": {},
   "outputs": [
    {
     "data": {
      "text/html": [
       "<div>\n",
       "<style scoped>\n",
       "    .dataframe tbody tr th:only-of-type {\n",
       "        vertical-align: middle;\n",
       "    }\n",
       "\n",
       "    .dataframe tbody tr th {\n",
       "        vertical-align: top;\n",
       "    }\n",
       "\n",
       "    .dataframe thead th {\n",
       "        text-align: right;\n",
       "    }\n",
       "</style>\n",
       "<table border=\"1\" class=\"dataframe\">\n",
       "  <thead>\n",
       "    <tr style=\"text-align: right;\">\n",
       "      <th></th>\n",
       "      <th>trip_id</th>\n",
       "      <th>arrival_time_x</th>\n",
       "      <th>departure_time_x</th>\n",
       "      <th>stop_id_x</th>\n",
       "      <th>stop_sequence_x</th>\n",
       "      <th>stop_headsign_x</th>\n",
       "      <th>pickup_type_x</th>\n",
       "      <th>drop_off_type_x</th>\n",
       "      <th>shape_dist_traveled_x</th>\n",
       "      <th>arrival_time_y</th>\n",
       "      <th>departure_time_y</th>\n",
       "      <th>stop_id_y</th>\n",
       "      <th>stop_sequence_y</th>\n",
       "      <th>stop_headsign_y</th>\n",
       "      <th>pickup_type_y</th>\n",
       "      <th>drop_off_type_y</th>\n",
       "      <th>shape_dist_traveled_y</th>\n",
       "    </tr>\n",
       "  </thead>\n",
       "  <tbody>\n",
       "    <tr>\n",
       "      <th>36</th>\n",
       "      <td>1094.T0.1-V12-G-mjp-1.1.H</td>\n",
       "      <td>07:23:00</td>\n",
       "      <td>07:23:00</td>\n",
       "      <td>20320</td>\n",
       "      <td>1</td>\n",
       "      <td>NaN</td>\n",
       "      <td>0</td>\n",
       "      <td>0</td>\n",
       "      <td>0.000000</td>\n",
       "      <td>08:39:00</td>\n",
       "      <td>08:39:00</td>\n",
       "      <td>20043</td>\n",
       "      <td>15</td>\n",
       "      <td>NaN</td>\n",
       "      <td>0</td>\n",
       "      <td>0</td>\n",
       "      <td>92030.094681</td>\n",
       "    </tr>\n",
       "    <tr>\n",
       "      <th>37</th>\n",
       "      <td>1094.T0.1-V12-G-mjp-1.1.H</td>\n",
       "      <td>07:31:00</td>\n",
       "      <td>07:31:00</td>\n",
       "      <td>20361</td>\n",
       "      <td>2</td>\n",
       "      <td>NaN</td>\n",
       "      <td>0</td>\n",
       "      <td>0</td>\n",
       "      <td>13417.188090</td>\n",
       "      <td>08:39:00</td>\n",
       "      <td>08:39:00</td>\n",
       "      <td>20043</td>\n",
       "      <td>15</td>\n",
       "      <td>NaN</td>\n",
       "      <td>0</td>\n",
       "      <td>0</td>\n",
       "      <td>92030.094681</td>\n",
       "    </tr>\n",
       "    <tr>\n",
       "      <th>38</th>\n",
       "      <td>1094.T0.1-V12-G-mjp-1.1.H</td>\n",
       "      <td>07:37:00</td>\n",
       "      <td>07:37:00</td>\n",
       "      <td>20325</td>\n",
       "      <td>3</td>\n",
       "      <td>NaN</td>\n",
       "      <td>0</td>\n",
       "      <td>0</td>\n",
       "      <td>22263.268829</td>\n",
       "      <td>08:39:00</td>\n",
       "      <td>08:39:00</td>\n",
       "      <td>20043</td>\n",
       "      <td>15</td>\n",
       "      <td>NaN</td>\n",
       "      <td>0</td>\n",
       "      <td>0</td>\n",
       "      <td>92030.094681</td>\n",
       "    </tr>\n",
       "    <tr>\n",
       "      <th>39</th>\n",
       "      <td>1094.T0.1-V12-G-mjp-1.1.H</td>\n",
       "      <td>07:41:00</td>\n",
       "      <td>07:41:00</td>\n",
       "      <td>20315</td>\n",
       "      <td>4</td>\n",
       "      <td>NaN</td>\n",
       "      <td>0</td>\n",
       "      <td>0</td>\n",
       "      <td>27817.107724</td>\n",
       "      <td>08:39:00</td>\n",
       "      <td>08:39:00</td>\n",
       "      <td>20043</td>\n",
       "      <td>15</td>\n",
       "      <td>NaN</td>\n",
       "      <td>0</td>\n",
       "      <td>0</td>\n",
       "      <td>92030.094681</td>\n",
       "    </tr>\n",
       "    <tr>\n",
       "      <th>40</th>\n",
       "      <td>1094.T0.1-V12-G-mjp-1.1.H</td>\n",
       "      <td>07:46:00</td>\n",
       "      <td>07:46:00</td>\n",
       "      <td>20337</td>\n",
       "      <td>5</td>\n",
       "      <td>NaN</td>\n",
       "      <td>0</td>\n",
       "      <td>0</td>\n",
       "      <td>35154.789037</td>\n",
       "      <td>08:39:00</td>\n",
       "      <td>08:39:00</td>\n",
       "      <td>20043</td>\n",
       "      <td>15</td>\n",
       "      <td>NaN</td>\n",
       "      <td>0</td>\n",
       "      <td>0</td>\n",
       "      <td>92030.094681</td>\n",
       "    </tr>\n",
       "  </tbody>\n",
       "</table>\n",
       "</div>"
      ],
      "text/plain": [
       "                      trip_id arrival_time_x departure_time_x  stop_id_x  \\\n",
       "36  1094.T0.1-V12-G-mjp-1.1.H       07:23:00         07:23:00      20320   \n",
       "37  1094.T0.1-V12-G-mjp-1.1.H       07:31:00         07:31:00      20361   \n",
       "38  1094.T0.1-V12-G-mjp-1.1.H       07:37:00         07:37:00      20325   \n",
       "39  1094.T0.1-V12-G-mjp-1.1.H       07:41:00         07:41:00      20315   \n",
       "40  1094.T0.1-V12-G-mjp-1.1.H       07:46:00         07:46:00      20337   \n",
       "\n",
       "    stop_sequence_x  stop_headsign_x  pickup_type_x  drop_off_type_x  \\\n",
       "36                1              NaN              0                0   \n",
       "37                2              NaN              0                0   \n",
       "38                3              NaN              0                0   \n",
       "39                4              NaN              0                0   \n",
       "40                5              NaN              0                0   \n",
       "\n",
       "    shape_dist_traveled_x arrival_time_y departure_time_y  stop_id_y  \\\n",
       "36               0.000000       08:39:00         08:39:00      20043   \n",
       "37           13417.188090       08:39:00         08:39:00      20043   \n",
       "38           22263.268829       08:39:00         08:39:00      20043   \n",
       "39           27817.107724       08:39:00         08:39:00      20043   \n",
       "40           35154.789037       08:39:00         08:39:00      20043   \n",
       "\n",
       "    stop_sequence_y  stop_headsign_y  pickup_type_y  drop_off_type_y  \\\n",
       "36               15              NaN              0                0   \n",
       "37               15              NaN              0                0   \n",
       "38               15              NaN              0                0   \n",
       "39               15              NaN              0                0   \n",
       "40               15              NaN              0                0   \n",
       "\n",
       "    shape_dist_traveled_y  \n",
       "36           92030.094681  \n",
       "37           92030.094681  \n",
       "38           92030.094681  \n",
       "39           92030.094681  \n",
       "40           92030.094681  "
      ]
     },
     "execution_count": 32,
     "metadata": {},
     "output_type": "execute_result"
    }
   ],
   "source": [
    "regionaltrains_stopping_SC.head()"
   ]
  },
  {
   "cell_type": "markdown",
   "metadata": {},
   "source": [
    "Finally, we get the stop_ids of the above filtered trains and get the unique ones."
   ]
  },
  {
   "cell_type": "code",
   "execution_count": 33,
   "metadata": {},
   "outputs": [],
   "source": [
    "regional_stopping_SC=set(regionaltrains_stopping_SC['stop_id_x']) #getting all unique stop_ids"
   ]
  },
  {
   "cell_type": "code",
   "execution_count": 34,
   "metadata": {},
   "outputs": [
    {
     "data": {
      "text/plain": [
       "57"
      ]
     },
     "execution_count": 34,
     "metadata": {},
     "output_type": "execute_result"
    }
   ],
   "source": [
    "regional_stopping_SC=list(regional_stopping_SC)\n",
    "len(regional_stopping_SC)"
   ]
  },
  {
   "cell_type": "markdown",
   "metadata": {},
   "source": [
    "Adding a column which shows if the train stops at southern cross or not. 1 if it stops 0 otherwise"
   ]
  },
  {
   "cell_type": "code",
   "execution_count": 35,
   "metadata": {},
   "outputs": [],
   "source": [
    "stops=[]\n",
    "temp=regional_stops['stop_id']\n",
    "for item in temp:\n",
    "    if item in regional_stopping_SC:\n",
    "        stops.append(1) #appends 1 if there is a direct trip to southern cross\n",
    "    else:\n",
    "        stops.append(0)\n",
    "regional_stops['Trip_to_SC']=stops #adding this to the stops dataframe"
   ]
  },
  {
   "cell_type": "markdown",
   "metadata": {},
   "source": [
    "We do the same steps as above for the metropolitan trains as follows:"
   ]
  },
  {
   "cell_type": "code",
   "execution_count": 36,
   "metadata": {},
   "outputs": [],
   "source": [
    "metro_stops=pd.read_csv('gtfs/2/google_transit/stops.txt',sep = ',')"
   ]
  },
  {
   "cell_type": "code",
   "execution_count": 37,
   "metadata": {},
   "outputs": [
    {
     "data": {
      "text/html": [
       "<div>\n",
       "<style scoped>\n",
       "    .dataframe tbody tr th:only-of-type {\n",
       "        vertical-align: middle;\n",
       "    }\n",
       "\n",
       "    .dataframe tbody tr th {\n",
       "        vertical-align: top;\n",
       "    }\n",
       "\n",
       "    .dataframe thead th {\n",
       "        text-align: right;\n",
       "    }\n",
       "</style>\n",
       "<table border=\"1\" class=\"dataframe\">\n",
       "  <thead>\n",
       "    <tr style=\"text-align: right;\">\n",
       "      <th></th>\n",
       "      <th>stop_id</th>\n",
       "      <th>stop_name</th>\n",
       "      <th>stop_lat</th>\n",
       "      <th>stop_lon</th>\n",
       "    </tr>\n",
       "  </thead>\n",
       "  <tbody>\n",
       "    <tr>\n",
       "      <th>0</th>\n",
       "      <td>15351</td>\n",
       "      <td>Sunbury Railway Station (Sunbury)</td>\n",
       "      <td>-37.579091</td>\n",
       "      <td>144.727319</td>\n",
       "    </tr>\n",
       "    <tr>\n",
       "      <th>1</th>\n",
       "      <td>15353</td>\n",
       "      <td>Diggers Rest Railway Station (Diggers Rest)</td>\n",
       "      <td>-37.627017</td>\n",
       "      <td>144.719922</td>\n",
       "    </tr>\n",
       "    <tr>\n",
       "      <th>2</th>\n",
       "      <td>19827</td>\n",
       "      <td>Stony Point Railway Station (Crib Point)</td>\n",
       "      <td>-38.374235</td>\n",
       "      <td>145.221837</td>\n",
       "    </tr>\n",
       "    <tr>\n",
       "      <th>3</th>\n",
       "      <td>19828</td>\n",
       "      <td>Crib Point Railway Station (Crib Point)</td>\n",
       "      <td>-38.366123</td>\n",
       "      <td>145.204043</td>\n",
       "    </tr>\n",
       "    <tr>\n",
       "      <th>4</th>\n",
       "      <td>19829</td>\n",
       "      <td>Morradoo Railway Station (Crib Point)</td>\n",
       "      <td>-38.354033</td>\n",
       "      <td>145.189602</td>\n",
       "    </tr>\n",
       "  </tbody>\n",
       "</table>\n",
       "</div>"
      ],
      "text/plain": [
       "   stop_id                                    stop_name   stop_lat    stop_lon\n",
       "0    15351            Sunbury Railway Station (Sunbury) -37.579091  144.727319\n",
       "1    15353  Diggers Rest Railway Station (Diggers Rest) -37.627017  144.719922\n",
       "2    19827     Stony Point Railway Station (Crib Point) -38.374235  145.221837\n",
       "3    19828      Crib Point Railway Station (Crib Point) -38.366123  145.204043\n",
       "4    19829        Morradoo Railway Station (Crib Point) -38.354033  145.189602"
      ]
     },
     "execution_count": 37,
     "metadata": {},
     "output_type": "execute_result"
    }
   ],
   "source": [
    "metro_stops.head()"
   ]
  },
  {
   "cell_type": "code",
   "execution_count": 38,
   "metadata": {},
   "outputs": [
    {
     "data": {
      "text/html": [
       "<div>\n",
       "<style scoped>\n",
       "    .dataframe tbody tr th:only-of-type {\n",
       "        vertical-align: middle;\n",
       "    }\n",
       "\n",
       "    .dataframe tbody tr th {\n",
       "        vertical-align: top;\n",
       "    }\n",
       "\n",
       "    .dataframe thead th {\n",
       "        text-align: right;\n",
       "    }\n",
       "</style>\n",
       "<table border=\"1\" class=\"dataframe\">\n",
       "  <thead>\n",
       "    <tr style=\"text-align: right;\">\n",
       "      <th></th>\n",
       "      <th>stop_id</th>\n",
       "      <th>stop_name</th>\n",
       "      <th>stop_lat</th>\n",
       "      <th>stop_lon</th>\n",
       "    </tr>\n",
       "  </thead>\n",
       "  <tbody>\n",
       "    <tr>\n",
       "      <th>210</th>\n",
       "      <td>22180</td>\n",
       "      <td>Southern Cross Railway Station (Melbourne City)</td>\n",
       "      <td>-37.817936</td>\n",
       "      <td>144.951411</td>\n",
       "    </tr>\n",
       "  </tbody>\n",
       "</table>\n",
       "</div>"
      ],
      "text/plain": [
       "     stop_id                                        stop_name   stop_lat  \\\n",
       "210    22180  Southern Cross Railway Station (Melbourne City) -37.817936   \n",
       "\n",
       "       stop_lon  \n",
       "210  144.951411  "
      ]
     },
     "execution_count": 38,
     "metadata": {},
     "output_type": "execute_result"
    }
   ],
   "source": [
    "metro_stops[metro_stops['stop_name']==\"Southern Cross Railway Station (Melbourne City)\"] #getting the stop_id of southern cross"
   ]
  },
  {
   "cell_type": "markdown",
   "metadata": {},
   "source": [
    "We then find all the lines that stop at southern cross"
   ]
  },
  {
   "cell_type": "code",
   "execution_count": 39,
   "metadata": {},
   "outputs": [
    {
     "data": {
      "text/html": [
       "<div>\n",
       "<style scoped>\n",
       "    .dataframe tbody tr th:only-of-type {\n",
       "        vertical-align: middle;\n",
       "    }\n",
       "\n",
       "    .dataframe tbody tr th {\n",
       "        vertical-align: top;\n",
       "    }\n",
       "\n",
       "    .dataframe thead th {\n",
       "        text-align: right;\n",
       "    }\n",
       "</style>\n",
       "<table border=\"1\" class=\"dataframe\">\n",
       "  <thead>\n",
       "    <tr style=\"text-align: right;\">\n",
       "      <th></th>\n",
       "      <th>service_id</th>\n",
       "      <th>monday</th>\n",
       "      <th>tuesday</th>\n",
       "      <th>wednesday</th>\n",
       "      <th>thursday</th>\n",
       "      <th>friday</th>\n",
       "      <th>saturday</th>\n",
       "      <th>sunday</th>\n",
       "      <th>start_date</th>\n",
       "      <th>end_date</th>\n",
       "    </tr>\n",
       "  </thead>\n",
       "  <tbody>\n",
       "    <tr>\n",
       "      <th>0</th>\n",
       "      <td>T5</td>\n",
       "      <td>0</td>\n",
       "      <td>0</td>\n",
       "      <td>0</td>\n",
       "      <td>1</td>\n",
       "      <td>0</td>\n",
       "      <td>0</td>\n",
       "      <td>0</td>\n",
       "      <td>20190509</td>\n",
       "      <td>20190509</td>\n",
       "    </tr>\n",
       "    <tr>\n",
       "      <th>1</th>\n",
       "      <td>UJ</td>\n",
       "      <td>0</td>\n",
       "      <td>0</td>\n",
       "      <td>0</td>\n",
       "      <td>0</td>\n",
       "      <td>0</td>\n",
       "      <td>0</td>\n",
       "      <td>1</td>\n",
       "      <td>20190510</td>\n",
       "      <td>20190512</td>\n",
       "    </tr>\n",
       "    <tr>\n",
       "      <th>2</th>\n",
       "      <td>T2</td>\n",
       "      <td>0</td>\n",
       "      <td>0</td>\n",
       "      <td>0</td>\n",
       "      <td>0</td>\n",
       "      <td>0</td>\n",
       "      <td>1</td>\n",
       "      <td>0</td>\n",
       "      <td>20190510</td>\n",
       "      <td>20190512</td>\n",
       "    </tr>\n",
       "    <tr>\n",
       "      <th>3</th>\n",
       "      <td>T6</td>\n",
       "      <td>0</td>\n",
       "      <td>0</td>\n",
       "      <td>0</td>\n",
       "      <td>0</td>\n",
       "      <td>1</td>\n",
       "      <td>0</td>\n",
       "      <td>0</td>\n",
       "      <td>20190510</td>\n",
       "      <td>20190512</td>\n",
       "    </tr>\n",
       "    <tr>\n",
       "      <th>4</th>\n",
       "      <td>T5_1</td>\n",
       "      <td>1</td>\n",
       "      <td>1</td>\n",
       "      <td>1</td>\n",
       "      <td>1</td>\n",
       "      <td>0</td>\n",
       "      <td>0</td>\n",
       "      <td>0</td>\n",
       "      <td>20190513</td>\n",
       "      <td>20190516</td>\n",
       "    </tr>\n",
       "  </tbody>\n",
       "</table>\n",
       "</div>"
      ],
      "text/plain": [
       "  service_id  monday  tuesday  wednesday  thursday  friday  saturday  sunday  \\\n",
       "0         T5       0        0          0         1       0         0       0   \n",
       "1         UJ       0        0          0         0       0         0       1   \n",
       "2         T2       0        0          0         0       0         1       0   \n",
       "3         T6       0        0          0         0       1         0       0   \n",
       "4       T5_1       1        1          1         1       0         0       0   \n",
       "\n",
       "   start_date  end_date  \n",
       "0    20190509  20190509  \n",
       "1    20190510  20190512  \n",
       "2    20190510  20190512  \n",
       "3    20190510  20190512  \n",
       "4    20190513  20190516  "
      ]
     },
     "execution_count": 39,
     "metadata": {},
     "output_type": "execute_result"
    }
   ],
   "source": [
    "metro_cal=pd.read_csv('gtfs/2/google_transit/calendar.txt',sep = ',')\n",
    "metro_cal.head()"
   ]
  },
  {
   "cell_type": "code",
   "execution_count": 40,
   "metadata": {},
   "outputs": [],
   "source": [
    "services=metro_cal['service_id'][(metro_cal['monday']==1) & (metro_cal['tuesday']==1) & (metro_cal['wednesday']==1) & (metro_cal['thursday']==1) & (metro_cal['friday']==1)].tolist() #services that operate on all weekdays"
   ]
  },
  {
   "cell_type": "code",
   "execution_count": 41,
   "metadata": {},
   "outputs": [
    {
     "data": {
      "text/plain": [
       "['T0']"
      ]
     },
     "execution_count": 41,
     "metadata": {},
     "output_type": "execute_result"
    }
   ],
   "source": [
    "services"
   ]
  },
  {
   "cell_type": "code",
   "execution_count": 42,
   "metadata": {},
   "outputs": [],
   "source": [
    "metro_trips=pd.read_csv('gtfs/2/google_transit/trips.txt',sep = ',')"
   ]
  },
  {
   "cell_type": "code",
   "execution_count": 43,
   "metadata": {},
   "outputs": [],
   "source": [
    "trip_ids=metro_trips['trip_id'][metro_trips['service_id'].isin(services)].tolist() #trips in the above obtained services"
   ]
  },
  {
   "cell_type": "code",
   "execution_count": 44,
   "metadata": {},
   "outputs": [
    {
     "data": {
      "text/plain": [
       "2360"
      ]
     },
     "execution_count": 44,
     "metadata": {},
     "output_type": "execute_result"
    }
   ],
   "source": [
    "len(trip_ids)"
   ]
  },
  {
   "cell_type": "code",
   "execution_count": 45,
   "metadata": {},
   "outputs": [],
   "source": [
    "metro_stoptimes=pd.read_csv('gtfs/2/google_transit/stop_times.txt',sep = ',')"
   ]
  },
  {
   "cell_type": "code",
   "execution_count": 46,
   "metadata": {},
   "outputs": [],
   "source": [
    "metro_stoptimes=metro_stoptimes[(metro_stoptimes['departure_time']<=\"09:30:00\") & (metro_stoptimes['departure_time']>=\"07:00:00\")]"
   ]
  },
  {
   "cell_type": "code",
   "execution_count": 47,
   "metadata": {},
   "outputs": [
    {
     "data": {
      "text/html": [
       "<div>\n",
       "<style scoped>\n",
       "    .dataframe tbody tr th:only-of-type {\n",
       "        vertical-align: middle;\n",
       "    }\n",
       "\n",
       "    .dataframe tbody tr th {\n",
       "        vertical-align: top;\n",
       "    }\n",
       "\n",
       "    .dataframe thead th {\n",
       "        text-align: right;\n",
       "    }\n",
       "</style>\n",
       "<table border=\"1\" class=\"dataframe\">\n",
       "  <thead>\n",
       "    <tr style=\"text-align: right;\">\n",
       "      <th></th>\n",
       "      <th>trip_id</th>\n",
       "      <th>arrival_time</th>\n",
       "      <th>departure_time</th>\n",
       "      <th>stop_id</th>\n",
       "      <th>stop_sequence</th>\n",
       "      <th>stop_headsign</th>\n",
       "      <th>pickup_type</th>\n",
       "      <th>drop_off_type</th>\n",
       "      <th>shape_dist_traveled</th>\n",
       "    </tr>\n",
       "  </thead>\n",
       "  <tbody>\n",
       "    <tr>\n",
       "      <th>7</th>\n",
       "      <td>9125.T5.2-ALM-A-mjp-1.1.H</td>\n",
       "      <td>09:21:00</td>\n",
       "      <td>09:21:00</td>\n",
       "      <td>19853</td>\n",
       "      <td>1</td>\n",
       "      <td>NaN</td>\n",
       "      <td>0</td>\n",
       "      <td>0</td>\n",
       "      <td>0.000000</td>\n",
       "    </tr>\n",
       "    <tr>\n",
       "      <th>8</th>\n",
       "      <td>9125.T5.2-ALM-A-mjp-1.1.H</td>\n",
       "      <td>09:24:00</td>\n",
       "      <td>09:24:00</td>\n",
       "      <td>19852</td>\n",
       "      <td>2</td>\n",
       "      <td>NaN</td>\n",
       "      <td>0</td>\n",
       "      <td>0</td>\n",
       "      <td>1506.610171</td>\n",
       "    </tr>\n",
       "    <tr>\n",
       "      <th>9</th>\n",
       "      <td>9125.T5.2-ALM-A-mjp-1.1.H</td>\n",
       "      <td>09:25:00</td>\n",
       "      <td>09:25:00</td>\n",
       "      <td>19851</td>\n",
       "      <td>3</td>\n",
       "      <td>NaN</td>\n",
       "      <td>0</td>\n",
       "      <td>0</td>\n",
       "      <td>1992.788001</td>\n",
       "    </tr>\n",
       "    <tr>\n",
       "      <th>10</th>\n",
       "      <td>9125.T5.2-ALM-A-mjp-1.1.H</td>\n",
       "      <td>09:27:00</td>\n",
       "      <td>09:27:00</td>\n",
       "      <td>19850</td>\n",
       "      <td>4</td>\n",
       "      <td>NaN</td>\n",
       "      <td>0</td>\n",
       "      <td>0</td>\n",
       "      <td>3020.805604</td>\n",
       "    </tr>\n",
       "    <tr>\n",
       "      <th>11</th>\n",
       "      <td>9125.T5.2-ALM-A-mjp-1.1.H</td>\n",
       "      <td>09:28:00</td>\n",
       "      <td>09:28:00</td>\n",
       "      <td>19849</td>\n",
       "      <td>5</td>\n",
       "      <td>NaN</td>\n",
       "      <td>0</td>\n",
       "      <td>0</td>\n",
       "      <td>3968.143881</td>\n",
       "    </tr>\n",
       "  </tbody>\n",
       "</table>\n",
       "</div>"
      ],
      "text/plain": [
       "                      trip_id arrival_time departure_time  stop_id  \\\n",
       "7   9125.T5.2-ALM-A-mjp-1.1.H     09:21:00       09:21:00    19853   \n",
       "8   9125.T5.2-ALM-A-mjp-1.1.H     09:24:00       09:24:00    19852   \n",
       "9   9125.T5.2-ALM-A-mjp-1.1.H     09:25:00       09:25:00    19851   \n",
       "10  9125.T5.2-ALM-A-mjp-1.1.H     09:27:00       09:27:00    19850   \n",
       "11  9125.T5.2-ALM-A-mjp-1.1.H     09:28:00       09:28:00    19849   \n",
       "\n",
       "    stop_sequence  stop_headsign  pickup_type  drop_off_type  \\\n",
       "7               1            NaN            0              0   \n",
       "8               2            NaN            0              0   \n",
       "9               3            NaN            0              0   \n",
       "10              4            NaN            0              0   \n",
       "11              5            NaN            0              0   \n",
       "\n",
       "    shape_dist_traveled  \n",
       "7              0.000000  \n",
       "8           1506.610171  \n",
       "9           1992.788001  \n",
       "10          3020.805604  \n",
       "11          3968.143881  "
      ]
     },
     "execution_count": 47,
     "metadata": {},
     "output_type": "execute_result"
    }
   ],
   "source": [
    "metro_stoptimes.head()"
   ]
  },
  {
   "cell_type": "code",
   "execution_count": 48,
   "metadata": {},
   "outputs": [],
   "source": [
    "newdf=metro_stoptimes[(metro_stoptimes['trip_id'].isin(trip_ids))]"
   ]
  },
  {
   "cell_type": "code",
   "execution_count": 49,
   "metadata": {},
   "outputs": [
    {
     "data": {
      "text/html": [
       "<div>\n",
       "<style scoped>\n",
       "    .dataframe tbody tr th:only-of-type {\n",
       "        vertical-align: middle;\n",
       "    }\n",
       "\n",
       "    .dataframe tbody tr th {\n",
       "        vertical-align: top;\n",
       "    }\n",
       "\n",
       "    .dataframe thead th {\n",
       "        text-align: right;\n",
       "    }\n",
       "</style>\n",
       "<table border=\"1\" class=\"dataframe\">\n",
       "  <thead>\n",
       "    <tr style=\"text-align: right;\">\n",
       "      <th></th>\n",
       "      <th>trip_id</th>\n",
       "      <th>arrival_time</th>\n",
       "      <th>departure_time</th>\n",
       "      <th>stop_id</th>\n",
       "      <th>stop_sequence</th>\n",
       "      <th>stop_headsign</th>\n",
       "      <th>pickup_type</th>\n",
       "      <th>drop_off_type</th>\n",
       "      <th>shape_dist_traveled</th>\n",
       "    </tr>\n",
       "  </thead>\n",
       "  <tbody>\n",
       "    <tr>\n",
       "      <th>10480</th>\n",
       "      <td>8267.T0.2-ALM-F-mjp-1.1.H</td>\n",
       "      <td>09:21:00</td>\n",
       "      <td>09:21:00</td>\n",
       "      <td>19853</td>\n",
       "      <td>1</td>\n",
       "      <td>NaN</td>\n",
       "      <td>0</td>\n",
       "      <td>0</td>\n",
       "      <td>0.000000</td>\n",
       "    </tr>\n",
       "    <tr>\n",
       "      <th>10481</th>\n",
       "      <td>8267.T0.2-ALM-F-mjp-1.1.H</td>\n",
       "      <td>09:24:00</td>\n",
       "      <td>09:24:00</td>\n",
       "      <td>19852</td>\n",
       "      <td>2</td>\n",
       "      <td>NaN</td>\n",
       "      <td>0</td>\n",
       "      <td>0</td>\n",
       "      <td>1506.610171</td>\n",
       "    </tr>\n",
       "    <tr>\n",
       "      <th>10482</th>\n",
       "      <td>8267.T0.2-ALM-F-mjp-1.1.H</td>\n",
       "      <td>09:25:00</td>\n",
       "      <td>09:25:00</td>\n",
       "      <td>19851</td>\n",
       "      <td>3</td>\n",
       "      <td>NaN</td>\n",
       "      <td>0</td>\n",
       "      <td>0</td>\n",
       "      <td>1992.788001</td>\n",
       "    </tr>\n",
       "    <tr>\n",
       "      <th>10483</th>\n",
       "      <td>8267.T0.2-ALM-F-mjp-1.1.H</td>\n",
       "      <td>09:27:00</td>\n",
       "      <td>09:27:00</td>\n",
       "      <td>19850</td>\n",
       "      <td>4</td>\n",
       "      <td>NaN</td>\n",
       "      <td>0</td>\n",
       "      <td>0</td>\n",
       "      <td>3020.805604</td>\n",
       "    </tr>\n",
       "    <tr>\n",
       "      <th>10484</th>\n",
       "      <td>8267.T0.2-ALM-F-mjp-1.1.H</td>\n",
       "      <td>09:28:00</td>\n",
       "      <td>09:28:00</td>\n",
       "      <td>19849</td>\n",
       "      <td>5</td>\n",
       "      <td>NaN</td>\n",
       "      <td>0</td>\n",
       "      <td>0</td>\n",
       "      <td>3968.143881</td>\n",
       "    </tr>\n",
       "  </tbody>\n",
       "</table>\n",
       "</div>"
      ],
      "text/plain": [
       "                         trip_id arrival_time departure_time  stop_id  \\\n",
       "10480  8267.T0.2-ALM-F-mjp-1.1.H     09:21:00       09:21:00    19853   \n",
       "10481  8267.T0.2-ALM-F-mjp-1.1.H     09:24:00       09:24:00    19852   \n",
       "10482  8267.T0.2-ALM-F-mjp-1.1.H     09:25:00       09:25:00    19851   \n",
       "10483  8267.T0.2-ALM-F-mjp-1.1.H     09:27:00       09:27:00    19850   \n",
       "10484  8267.T0.2-ALM-F-mjp-1.1.H     09:28:00       09:28:00    19849   \n",
       "\n",
       "       stop_sequence  stop_headsign  pickup_type  drop_off_type  \\\n",
       "10480              1            NaN            0              0   \n",
       "10481              2            NaN            0              0   \n",
       "10482              3            NaN            0              0   \n",
       "10483              4            NaN            0              0   \n",
       "10484              5            NaN            0              0   \n",
       "\n",
       "       shape_dist_traveled  \n",
       "10480             0.000000  \n",
       "10481          1506.610171  \n",
       "10482          1992.788001  \n",
       "10483          3020.805604  \n",
       "10484          3968.143881  "
      ]
     },
     "execution_count": 49,
     "metadata": {},
     "output_type": "execute_result"
    }
   ],
   "source": [
    "newdf.head()"
   ]
  },
  {
   "cell_type": "code",
   "execution_count": 50,
   "metadata": {},
   "outputs": [],
   "source": [
    "newdf=newdf[(newdf['stop_id']==22180)] #only southern cross entries"
   ]
  },
  {
   "cell_type": "code",
   "execution_count": 51,
   "metadata": {},
   "outputs": [],
   "source": [
    "metro_trains_fin=pd.merge(metro_stoptimes, newdf, on='trip_id') "
   ]
  },
  {
   "cell_type": "code",
   "execution_count": 52,
   "metadata": {},
   "outputs": [],
   "source": [
    "metrotrains_stopping_SC=metro_trains_fin[metro_trains_fin['stop_sequence_x']<metro_trains_fin['stop_sequence_y']] #checking "
   ]
  },
  {
   "cell_type": "code",
   "execution_count": 53,
   "metadata": {},
   "outputs": [],
   "source": [
    "metro_stopping_SC=set(metrotrains_stopping_SC['stop_id_x']) #list of unique metropolitan stop_ids that stop at southern cross"
   ]
  },
  {
   "cell_type": "code",
   "execution_count": 54,
   "metadata": {},
   "outputs": [
    {
     "data": {
      "text/plain": [
       "197"
      ]
     },
     "execution_count": 54,
     "metadata": {},
     "output_type": "execute_result"
    }
   ],
   "source": [
    "metro_stopping_SC=list(metro_stopping_SC)\n",
    "len(metro_stopping_SC)"
   ]
  },
  {
   "cell_type": "code",
   "execution_count": 55,
   "metadata": {},
   "outputs": [],
   "source": [
    "stops=[]\n",
    "temp=metro_stops['stop_id']\n",
    "for item in temp:\n",
    "    if item in metro_stopping_SC:\n",
    "        stops.append(1)\n",
    "    else:\n",
    "        stops.append(0)\n",
    "metro_stops['Trip_to_SC']=stops"
   ]
  },
  {
   "cell_type": "markdown",
   "metadata": {},
   "source": [
    "We finally concatenate both the stops dataframes and filter only trains that stop at southern cross."
   ]
  },
  {
   "cell_type": "code",
   "execution_count": 56,
   "metadata": {},
   "outputs": [],
   "source": [
    "trains_stations_direct=pd.concat([regional_stops[regional_stops['Trip_to_SC']==1], metro_stops[metro_stops['Trip_to_SC']==1]]) #selecting only stations that stop at southern cross"
   ]
  },
  {
   "cell_type": "code",
   "execution_count": 57,
   "metadata": {},
   "outputs": [
    {
     "data": {
      "text/html": [
       "<div>\n",
       "<style scoped>\n",
       "    .dataframe tbody tr th:only-of-type {\n",
       "        vertical-align: middle;\n",
       "    }\n",
       "\n",
       "    .dataframe tbody tr th {\n",
       "        vertical-align: top;\n",
       "    }\n",
       "\n",
       "    .dataframe thead th {\n",
       "        text-align: right;\n",
       "    }\n",
       "</style>\n",
       "<table border=\"1\" class=\"dataframe\">\n",
       "  <thead>\n",
       "    <tr style=\"text-align: right;\">\n",
       "      <th></th>\n",
       "      <th>stop_id</th>\n",
       "      <th>stop_name</th>\n",
       "      <th>stop_lat</th>\n",
       "      <th>stop_lon</th>\n",
       "      <th>Trip_to_SC</th>\n",
       "    </tr>\n",
       "  </thead>\n",
       "  <tbody>\n",
       "    <tr>\n",
       "      <th>0</th>\n",
       "      <td>17204</td>\n",
       "      <td>Wallan Railway Station (Wallan)</td>\n",
       "      <td>-37.416861</td>\n",
       "      <td>145.005372</td>\n",
       "      <td>1</td>\n",
       "    </tr>\n",
       "    <tr>\n",
       "      <th>1</th>\n",
       "      <td>19980</td>\n",
       "      <td>Melton Railway Station (Melton South)</td>\n",
       "      <td>-37.703293</td>\n",
       "      <td>144.572524</td>\n",
       "      <td>1</td>\n",
       "    </tr>\n",
       "    <tr>\n",
       "      <th>2</th>\n",
       "      <td>19981</td>\n",
       "      <td>Rockbank Railway Station (Rockbank)</td>\n",
       "      <td>-37.729261</td>\n",
       "      <td>144.650631</td>\n",
       "      <td>1</td>\n",
       "    </tr>\n",
       "    <tr>\n",
       "      <th>3</th>\n",
       "      <td>19982</td>\n",
       "      <td>Deer Park Railway Station (Deer Park)</td>\n",
       "      <td>-37.777764</td>\n",
       "      <td>144.772304</td>\n",
       "      <td>1</td>\n",
       "    </tr>\n",
       "    <tr>\n",
       "      <th>4</th>\n",
       "      <td>19998</td>\n",
       "      <td>Sunbury Railway Station (Sunbury)</td>\n",
       "      <td>-37.579206</td>\n",
       "      <td>144.728165</td>\n",
       "      <td>1</td>\n",
       "    </tr>\n",
       "  </tbody>\n",
       "</table>\n",
       "</div>"
      ],
      "text/plain": [
       "   stop_id                              stop_name   stop_lat    stop_lon  \\\n",
       "0    17204        Wallan Railway Station (Wallan) -37.416861  145.005372   \n",
       "1    19980  Melton Railway Station (Melton South) -37.703293  144.572524   \n",
       "2    19981    Rockbank Railway Station (Rockbank) -37.729261  144.650631   \n",
       "3    19982  Deer Park Railway Station (Deer Park) -37.777764  144.772304   \n",
       "4    19998      Sunbury Railway Station (Sunbury) -37.579206  144.728165   \n",
       "\n",
       "   Trip_to_SC  \n",
       "0           1  \n",
       "1           1  \n",
       "2           1  \n",
       "3           1  \n",
       "4           1  "
      ]
     },
     "execution_count": 57,
     "metadata": {},
     "output_type": "execute_result"
    }
   ],
   "source": [
    "trains_stations_direct.head()"
   ]
  },
  {
   "cell_type": "code",
   "execution_count": 58,
   "metadata": {},
   "outputs": [],
   "source": [
    "trains_stations_direct = trains_stations_direct.reset_index(drop=True)"
   ]
  },
  {
   "cell_type": "markdown",
   "metadata": {},
   "source": [
    "Next, we find the closest train station to each property and the id of that train station."
   ]
  },
  {
   "cell_type": "code",
   "execution_count": 59,
   "metadata": {},
   "outputs": [],
   "source": [
    "lat=initial_dataset['Latitude'] #properties latitudes\n",
    "lon=initial_dataset['Longtitude'] #properties longtitudes\n",
    "station_lat=trains_stations_direct['stop_lat'] #station latitudes\n",
    "station_lon=trains_stations_direct['stop_lon'] #station longitudes\n",
    "station_id=trains_stations_direct['stop_id'] #station ids\n",
    "dist=[]\n",
    "id_of_station=[]\n",
    "dist_to_station=[]\n",
    "R=6378 #radius of the earth in kilometers\n",
    "for i in range(len(lat)):\n",
    "    temp=1000 #arbitrary large number\n",
    "    for j in range(len(station_lat)):\n",
    "        difflat=math.radians(float(station_lat[j]))-math.radians(lat[i]) #difference between two latitudes\n",
    "        difflon=math.radians(float(station_lon[j]))-math.radians(lon[i]) #difference between two longitudes\n",
    "        x = ((math.sin(difflat/2))**2)+ ((math.sin(difflon/2))**2)*math.cos(math.radians(lat[i]))*math.cos(math.radians(float(station_lat[j])))\n",
    "        y = 2*math.atan2(math.sqrt(x), math.sqrt(1-x))\n",
    "        dist= R*y #formula to calculate distance\n",
    "        if dist<temp:\n",
    "            temp=dist\n",
    "            pos=j\n",
    "    dist_to_station.append(temp*1000) #appending distance in meters\n",
    "    id_of_station.append(station_id[pos]) #appending station id"
   ]
  },
  {
   "cell_type": "markdown",
   "metadata": {},
   "source": [
    "We now have two lists- one that contains the distance to the train station in meters and another that has the corresponding station_id. We append these to our dataframe."
   ]
  },
  {
   "cell_type": "code",
   "execution_count": 60,
   "metadata": {},
   "outputs": [
    {
     "data": {
      "text/plain": [
       "680"
      ]
     },
     "execution_count": 60,
     "metadata": {},
     "output_type": "execute_result"
    }
   ],
   "source": [
    "len(dist_to_station)"
   ]
  },
  {
   "cell_type": "code",
   "execution_count": 61,
   "metadata": {},
   "outputs": [],
   "source": [
    "initial_dataset['distance_to_train_station']=dist_to_station"
   ]
  },
  {
   "cell_type": "code",
   "execution_count": 62,
   "metadata": {},
   "outputs": [
    {
     "data": {
      "text/plain": [
       "680"
      ]
     },
     "execution_count": 62,
     "metadata": {},
     "output_type": "execute_result"
    }
   ],
   "source": [
    "len(id_of_station)"
   ]
  },
  {
   "cell_type": "code",
   "execution_count": 63,
   "metadata": {},
   "outputs": [],
   "source": [
    "initial_dataset['train_station_id']=id_of_station"
   ]
  },
  {
   "cell_type": "markdown",
   "metadata": {},
   "source": [
    "Now we need to find the average time from the station to southern cross. We do this by finding the difference of the time the train departs from the station and arrives at southern cross and then group by stop_id and find the mean."
   ]
  },
  {
   "cell_type": "code",
   "execution_count": 64,
   "metadata": {},
   "outputs": [
    {
     "data": {
      "text/html": [
       "<div>\n",
       "<style scoped>\n",
       "    .dataframe tbody tr th:only-of-type {\n",
       "        vertical-align: middle;\n",
       "    }\n",
       "\n",
       "    .dataframe tbody tr th {\n",
       "        vertical-align: top;\n",
       "    }\n",
       "\n",
       "    .dataframe thead th {\n",
       "        text-align: right;\n",
       "    }\n",
       "</style>\n",
       "<table border=\"1\" class=\"dataframe\">\n",
       "  <thead>\n",
       "    <tr style=\"text-align: right;\">\n",
       "      <th></th>\n",
       "      <th>trip_id</th>\n",
       "      <th>arrival_time_x</th>\n",
       "      <th>departure_time_x</th>\n",
       "      <th>stop_id_x</th>\n",
       "      <th>stop_sequence_x</th>\n",
       "      <th>stop_headsign_x</th>\n",
       "      <th>pickup_type_x</th>\n",
       "      <th>drop_off_type_x</th>\n",
       "      <th>shape_dist_traveled_x</th>\n",
       "      <th>arrival_time_y</th>\n",
       "      <th>departure_time_y</th>\n",
       "      <th>stop_id_y</th>\n",
       "      <th>stop_sequence_y</th>\n",
       "      <th>stop_headsign_y</th>\n",
       "      <th>pickup_type_y</th>\n",
       "      <th>drop_off_type_y</th>\n",
       "      <th>shape_dist_traveled_y</th>\n",
       "    </tr>\n",
       "  </thead>\n",
       "  <tbody>\n",
       "    <tr>\n",
       "      <th>36</th>\n",
       "      <td>1094.T0.1-V12-G-mjp-1.1.H</td>\n",
       "      <td>07:23:00</td>\n",
       "      <td>07:23:00</td>\n",
       "      <td>20320</td>\n",
       "      <td>1</td>\n",
       "      <td>NaN</td>\n",
       "      <td>0</td>\n",
       "      <td>0</td>\n",
       "      <td>0.000000</td>\n",
       "      <td>08:39:00</td>\n",
       "      <td>08:39:00</td>\n",
       "      <td>20043</td>\n",
       "      <td>15</td>\n",
       "      <td>NaN</td>\n",
       "      <td>0</td>\n",
       "      <td>0</td>\n",
       "      <td>92030.094681</td>\n",
       "    </tr>\n",
       "    <tr>\n",
       "      <th>37</th>\n",
       "      <td>1094.T0.1-V12-G-mjp-1.1.H</td>\n",
       "      <td>07:31:00</td>\n",
       "      <td>07:31:00</td>\n",
       "      <td>20361</td>\n",
       "      <td>2</td>\n",
       "      <td>NaN</td>\n",
       "      <td>0</td>\n",
       "      <td>0</td>\n",
       "      <td>13417.188090</td>\n",
       "      <td>08:39:00</td>\n",
       "      <td>08:39:00</td>\n",
       "      <td>20043</td>\n",
       "      <td>15</td>\n",
       "      <td>NaN</td>\n",
       "      <td>0</td>\n",
       "      <td>0</td>\n",
       "      <td>92030.094681</td>\n",
       "    </tr>\n",
       "    <tr>\n",
       "      <th>38</th>\n",
       "      <td>1094.T0.1-V12-G-mjp-1.1.H</td>\n",
       "      <td>07:37:00</td>\n",
       "      <td>07:37:00</td>\n",
       "      <td>20325</td>\n",
       "      <td>3</td>\n",
       "      <td>NaN</td>\n",
       "      <td>0</td>\n",
       "      <td>0</td>\n",
       "      <td>22263.268829</td>\n",
       "      <td>08:39:00</td>\n",
       "      <td>08:39:00</td>\n",
       "      <td>20043</td>\n",
       "      <td>15</td>\n",
       "      <td>NaN</td>\n",
       "      <td>0</td>\n",
       "      <td>0</td>\n",
       "      <td>92030.094681</td>\n",
       "    </tr>\n",
       "    <tr>\n",
       "      <th>39</th>\n",
       "      <td>1094.T0.1-V12-G-mjp-1.1.H</td>\n",
       "      <td>07:41:00</td>\n",
       "      <td>07:41:00</td>\n",
       "      <td>20315</td>\n",
       "      <td>4</td>\n",
       "      <td>NaN</td>\n",
       "      <td>0</td>\n",
       "      <td>0</td>\n",
       "      <td>27817.107724</td>\n",
       "      <td>08:39:00</td>\n",
       "      <td>08:39:00</td>\n",
       "      <td>20043</td>\n",
       "      <td>15</td>\n",
       "      <td>NaN</td>\n",
       "      <td>0</td>\n",
       "      <td>0</td>\n",
       "      <td>92030.094681</td>\n",
       "    </tr>\n",
       "    <tr>\n",
       "      <th>40</th>\n",
       "      <td>1094.T0.1-V12-G-mjp-1.1.H</td>\n",
       "      <td>07:46:00</td>\n",
       "      <td>07:46:00</td>\n",
       "      <td>20337</td>\n",
       "      <td>5</td>\n",
       "      <td>NaN</td>\n",
       "      <td>0</td>\n",
       "      <td>0</td>\n",
       "      <td>35154.789037</td>\n",
       "      <td>08:39:00</td>\n",
       "      <td>08:39:00</td>\n",
       "      <td>20043</td>\n",
       "      <td>15</td>\n",
       "      <td>NaN</td>\n",
       "      <td>0</td>\n",
       "      <td>0</td>\n",
       "      <td>92030.094681</td>\n",
       "    </tr>\n",
       "  </tbody>\n",
       "</table>\n",
       "</div>"
      ],
      "text/plain": [
       "                      trip_id arrival_time_x departure_time_x  stop_id_x  \\\n",
       "36  1094.T0.1-V12-G-mjp-1.1.H       07:23:00         07:23:00      20320   \n",
       "37  1094.T0.1-V12-G-mjp-1.1.H       07:31:00         07:31:00      20361   \n",
       "38  1094.T0.1-V12-G-mjp-1.1.H       07:37:00         07:37:00      20325   \n",
       "39  1094.T0.1-V12-G-mjp-1.1.H       07:41:00         07:41:00      20315   \n",
       "40  1094.T0.1-V12-G-mjp-1.1.H       07:46:00         07:46:00      20337   \n",
       "\n",
       "    stop_sequence_x  stop_headsign_x  pickup_type_x  drop_off_type_x  \\\n",
       "36                1              NaN              0                0   \n",
       "37                2              NaN              0                0   \n",
       "38                3              NaN              0                0   \n",
       "39                4              NaN              0                0   \n",
       "40                5              NaN              0                0   \n",
       "\n",
       "    shape_dist_traveled_x arrival_time_y departure_time_y  stop_id_y  \\\n",
       "36               0.000000       08:39:00         08:39:00      20043   \n",
       "37           13417.188090       08:39:00         08:39:00      20043   \n",
       "38           22263.268829       08:39:00         08:39:00      20043   \n",
       "39           27817.107724       08:39:00         08:39:00      20043   \n",
       "40           35154.789037       08:39:00         08:39:00      20043   \n",
       "\n",
       "    stop_sequence_y  stop_headsign_y  pickup_type_y  drop_off_type_y  \\\n",
       "36               15              NaN              0                0   \n",
       "37               15              NaN              0                0   \n",
       "38               15              NaN              0                0   \n",
       "39               15              NaN              0                0   \n",
       "40               15              NaN              0                0   \n",
       "\n",
       "    shape_dist_traveled_y  \n",
       "36           92030.094681  \n",
       "37           92030.094681  \n",
       "38           92030.094681  \n",
       "39           92030.094681  \n",
       "40           92030.094681  "
      ]
     },
     "execution_count": 64,
     "metadata": {},
     "output_type": "execute_result"
    }
   ],
   "source": [
    "regionaltrains_stopping_SC.head()"
   ]
  },
  {
   "cell_type": "code",
   "execution_count": 65,
   "metadata": {},
   "outputs": [
    {
     "name": "stderr",
     "output_type": "stream",
     "text": [
      "/Users/nikitajohn/anaconda3/lib/python3.7/site-packages/ipykernel_launcher.py:1: SettingWithCopyWarning: \n",
      "A value is trying to be set on a copy of a slice from a DataFrame.\n",
      "Try using .loc[row_indexer,col_indexer] = value instead\n",
      "\n",
      "See the caveats in the documentation: http://pandas.pydata.org/pandas-docs/stable/indexing.html#indexing-view-versus-copy\n",
      "  \"\"\"Entry point for launching an IPython kernel.\n"
     ]
    }
   ],
   "source": [
    "regionaltrains_stopping_SC['time_taken']= (pd.to_datetime(regionaltrains_stopping_SC['arrival_time_y'])-pd.to_datetime(regionaltrains_stopping_SC['departure_time_x'])).astype('timedelta64[m]') #finding time taken to reach sothern cross in each case"
   ]
  },
  {
   "cell_type": "code",
   "execution_count": 66,
   "metadata": {},
   "outputs": [
    {
     "data": {
      "text/html": [
       "<div>\n",
       "<style scoped>\n",
       "    .dataframe tbody tr th:only-of-type {\n",
       "        vertical-align: middle;\n",
       "    }\n",
       "\n",
       "    .dataframe tbody tr th {\n",
       "        vertical-align: top;\n",
       "    }\n",
       "\n",
       "    .dataframe thead th {\n",
       "        text-align: right;\n",
       "    }\n",
       "</style>\n",
       "<table border=\"1\" class=\"dataframe\">\n",
       "  <thead>\n",
       "    <tr style=\"text-align: right;\">\n",
       "      <th></th>\n",
       "      <th>trip_id</th>\n",
       "      <th>arrival_time_x</th>\n",
       "      <th>departure_time_x</th>\n",
       "      <th>stop_id_x</th>\n",
       "      <th>stop_sequence_x</th>\n",
       "      <th>stop_headsign_x</th>\n",
       "      <th>pickup_type_x</th>\n",
       "      <th>drop_off_type_x</th>\n",
       "      <th>shape_dist_traveled_x</th>\n",
       "      <th>arrival_time_y</th>\n",
       "      <th>departure_time_y</th>\n",
       "      <th>stop_id_y</th>\n",
       "      <th>stop_sequence_y</th>\n",
       "      <th>stop_headsign_y</th>\n",
       "      <th>pickup_type_y</th>\n",
       "      <th>drop_off_type_y</th>\n",
       "      <th>shape_dist_traveled_y</th>\n",
       "      <th>time_taken</th>\n",
       "    </tr>\n",
       "  </thead>\n",
       "  <tbody>\n",
       "    <tr>\n",
       "      <th>36</th>\n",
       "      <td>1094.T0.1-V12-G-mjp-1.1.H</td>\n",
       "      <td>07:23:00</td>\n",
       "      <td>07:23:00</td>\n",
       "      <td>20320</td>\n",
       "      <td>1</td>\n",
       "      <td>NaN</td>\n",
       "      <td>0</td>\n",
       "      <td>0</td>\n",
       "      <td>0.000000</td>\n",
       "      <td>08:39:00</td>\n",
       "      <td>08:39:00</td>\n",
       "      <td>20043</td>\n",
       "      <td>15</td>\n",
       "      <td>NaN</td>\n",
       "      <td>0</td>\n",
       "      <td>0</td>\n",
       "      <td>92030.094681</td>\n",
       "      <td>76.0</td>\n",
       "    </tr>\n",
       "    <tr>\n",
       "      <th>37</th>\n",
       "      <td>1094.T0.1-V12-G-mjp-1.1.H</td>\n",
       "      <td>07:31:00</td>\n",
       "      <td>07:31:00</td>\n",
       "      <td>20361</td>\n",
       "      <td>2</td>\n",
       "      <td>NaN</td>\n",
       "      <td>0</td>\n",
       "      <td>0</td>\n",
       "      <td>13417.188090</td>\n",
       "      <td>08:39:00</td>\n",
       "      <td>08:39:00</td>\n",
       "      <td>20043</td>\n",
       "      <td>15</td>\n",
       "      <td>NaN</td>\n",
       "      <td>0</td>\n",
       "      <td>0</td>\n",
       "      <td>92030.094681</td>\n",
       "      <td>68.0</td>\n",
       "    </tr>\n",
       "    <tr>\n",
       "      <th>38</th>\n",
       "      <td>1094.T0.1-V12-G-mjp-1.1.H</td>\n",
       "      <td>07:37:00</td>\n",
       "      <td>07:37:00</td>\n",
       "      <td>20325</td>\n",
       "      <td>3</td>\n",
       "      <td>NaN</td>\n",
       "      <td>0</td>\n",
       "      <td>0</td>\n",
       "      <td>22263.268829</td>\n",
       "      <td>08:39:00</td>\n",
       "      <td>08:39:00</td>\n",
       "      <td>20043</td>\n",
       "      <td>15</td>\n",
       "      <td>NaN</td>\n",
       "      <td>0</td>\n",
       "      <td>0</td>\n",
       "      <td>92030.094681</td>\n",
       "      <td>62.0</td>\n",
       "    </tr>\n",
       "    <tr>\n",
       "      <th>39</th>\n",
       "      <td>1094.T0.1-V12-G-mjp-1.1.H</td>\n",
       "      <td>07:41:00</td>\n",
       "      <td>07:41:00</td>\n",
       "      <td>20315</td>\n",
       "      <td>4</td>\n",
       "      <td>NaN</td>\n",
       "      <td>0</td>\n",
       "      <td>0</td>\n",
       "      <td>27817.107724</td>\n",
       "      <td>08:39:00</td>\n",
       "      <td>08:39:00</td>\n",
       "      <td>20043</td>\n",
       "      <td>15</td>\n",
       "      <td>NaN</td>\n",
       "      <td>0</td>\n",
       "      <td>0</td>\n",
       "      <td>92030.094681</td>\n",
       "      <td>58.0</td>\n",
       "    </tr>\n",
       "    <tr>\n",
       "      <th>40</th>\n",
       "      <td>1094.T0.1-V12-G-mjp-1.1.H</td>\n",
       "      <td>07:46:00</td>\n",
       "      <td>07:46:00</td>\n",
       "      <td>20337</td>\n",
       "      <td>5</td>\n",
       "      <td>NaN</td>\n",
       "      <td>0</td>\n",
       "      <td>0</td>\n",
       "      <td>35154.789037</td>\n",
       "      <td>08:39:00</td>\n",
       "      <td>08:39:00</td>\n",
       "      <td>20043</td>\n",
       "      <td>15</td>\n",
       "      <td>NaN</td>\n",
       "      <td>0</td>\n",
       "      <td>0</td>\n",
       "      <td>92030.094681</td>\n",
       "      <td>53.0</td>\n",
       "    </tr>\n",
       "  </tbody>\n",
       "</table>\n",
       "</div>"
      ],
      "text/plain": [
       "                      trip_id arrival_time_x departure_time_x  stop_id_x  \\\n",
       "36  1094.T0.1-V12-G-mjp-1.1.H       07:23:00         07:23:00      20320   \n",
       "37  1094.T0.1-V12-G-mjp-1.1.H       07:31:00         07:31:00      20361   \n",
       "38  1094.T0.1-V12-G-mjp-1.1.H       07:37:00         07:37:00      20325   \n",
       "39  1094.T0.1-V12-G-mjp-1.1.H       07:41:00         07:41:00      20315   \n",
       "40  1094.T0.1-V12-G-mjp-1.1.H       07:46:00         07:46:00      20337   \n",
       "\n",
       "    stop_sequence_x  stop_headsign_x  pickup_type_x  drop_off_type_x  \\\n",
       "36                1              NaN              0                0   \n",
       "37                2              NaN              0                0   \n",
       "38                3              NaN              0                0   \n",
       "39                4              NaN              0                0   \n",
       "40                5              NaN              0                0   \n",
       "\n",
       "    shape_dist_traveled_x arrival_time_y departure_time_y  stop_id_y  \\\n",
       "36               0.000000       08:39:00         08:39:00      20043   \n",
       "37           13417.188090       08:39:00         08:39:00      20043   \n",
       "38           22263.268829       08:39:00         08:39:00      20043   \n",
       "39           27817.107724       08:39:00         08:39:00      20043   \n",
       "40           35154.789037       08:39:00         08:39:00      20043   \n",
       "\n",
       "    stop_sequence_y  stop_headsign_y  pickup_type_y  drop_off_type_y  \\\n",
       "36               15              NaN              0                0   \n",
       "37               15              NaN              0                0   \n",
       "38               15              NaN              0                0   \n",
       "39               15              NaN              0                0   \n",
       "40               15              NaN              0                0   \n",
       "\n",
       "    shape_dist_traveled_y  time_taken  \n",
       "36           92030.094681        76.0  \n",
       "37           92030.094681        68.0  \n",
       "38           92030.094681        62.0  \n",
       "39           92030.094681        58.0  \n",
       "40           92030.094681        53.0  "
      ]
     },
     "execution_count": 66,
     "metadata": {},
     "output_type": "execute_result"
    }
   ],
   "source": [
    "regionaltrains_stopping_SC.head()"
   ]
  },
  {
   "cell_type": "code",
   "execution_count": 67,
   "metadata": {},
   "outputs": [],
   "source": [
    "regional_time=regionaltrains_stopping_SC.groupby('stop_id_x', as_index=False)['time_taken'].mean() #getting the mean time taken for each station"
   ]
  },
  {
   "cell_type": "code",
   "execution_count": 68,
   "metadata": {},
   "outputs": [
    {
     "data": {
      "text/html": [
       "<div>\n",
       "<style scoped>\n",
       "    .dataframe tbody tr th:only-of-type {\n",
       "        vertical-align: middle;\n",
       "    }\n",
       "\n",
       "    .dataframe tbody tr th {\n",
       "        vertical-align: top;\n",
       "    }\n",
       "\n",
       "    .dataframe thead th {\n",
       "        text-align: right;\n",
       "    }\n",
       "</style>\n",
       "<table border=\"1\" class=\"dataframe\">\n",
       "  <thead>\n",
       "    <tr style=\"text-align: right;\">\n",
       "      <th></th>\n",
       "      <th>stop_id_x</th>\n",
       "      <th>time_taken</th>\n",
       "    </tr>\n",
       "  </thead>\n",
       "  <tbody>\n",
       "    <tr>\n",
       "      <th>0</th>\n",
       "      <td>17204</td>\n",
       "      <td>59.000000</td>\n",
       "    </tr>\n",
       "    <tr>\n",
       "      <th>1</th>\n",
       "      <td>19980</td>\n",
       "      <td>39.750000</td>\n",
       "    </tr>\n",
       "    <tr>\n",
       "      <th>2</th>\n",
       "      <td>19981</td>\n",
       "      <td>34.333333</td>\n",
       "    </tr>\n",
       "    <tr>\n",
       "      <th>3</th>\n",
       "      <td>19982</td>\n",
       "      <td>24.000000</td>\n",
       "    </tr>\n",
       "    <tr>\n",
       "      <th>4</th>\n",
       "      <td>19998</td>\n",
       "      <td>39.000000</td>\n",
       "    </tr>\n",
       "  </tbody>\n",
       "</table>\n",
       "</div>"
      ],
      "text/plain": [
       "   stop_id_x  time_taken\n",
       "0      17204   59.000000\n",
       "1      19980   39.750000\n",
       "2      19981   34.333333\n",
       "3      19982   24.000000\n",
       "4      19998   39.000000"
      ]
     },
     "execution_count": 68,
     "metadata": {},
     "output_type": "execute_result"
    }
   ],
   "source": [
    "regional_time.head()"
   ]
  },
  {
   "cell_type": "markdown",
   "metadata": {},
   "source": [
    "The same thing is then done for metropolitan trains."
   ]
  },
  {
   "cell_type": "code",
   "execution_count": 69,
   "metadata": {},
   "outputs": [
    {
     "data": {
      "text/html": [
       "<div>\n",
       "<style scoped>\n",
       "    .dataframe tbody tr th:only-of-type {\n",
       "        vertical-align: middle;\n",
       "    }\n",
       "\n",
       "    .dataframe tbody tr th {\n",
       "        vertical-align: top;\n",
       "    }\n",
       "\n",
       "    .dataframe thead th {\n",
       "        text-align: right;\n",
       "    }\n",
       "</style>\n",
       "<table border=\"1\" class=\"dataframe\">\n",
       "  <thead>\n",
       "    <tr style=\"text-align: right;\">\n",
       "      <th></th>\n",
       "      <th>trip_id</th>\n",
       "      <th>arrival_time_x</th>\n",
       "      <th>departure_time_x</th>\n",
       "      <th>stop_id_x</th>\n",
       "      <th>stop_sequence_x</th>\n",
       "      <th>stop_headsign_x</th>\n",
       "      <th>pickup_type_x</th>\n",
       "      <th>drop_off_type_x</th>\n",
       "      <th>shape_dist_traveled_x</th>\n",
       "      <th>arrival_time_y</th>\n",
       "      <th>departure_time_y</th>\n",
       "      <th>stop_id_y</th>\n",
       "      <th>stop_sequence_y</th>\n",
       "      <th>stop_headsign_y</th>\n",
       "      <th>pickup_type_y</th>\n",
       "      <th>drop_off_type_y</th>\n",
       "      <th>shape_dist_traveled_y</th>\n",
       "    </tr>\n",
       "  </thead>\n",
       "  <tbody>\n",
       "    <tr>\n",
       "      <th>0</th>\n",
       "      <td>8225.T0.2-ALM-F-mjp-1.3.H</td>\n",
       "      <td>07:05:00</td>\n",
       "      <td>07:05:00</td>\n",
       "      <td>19843</td>\n",
       "      <td>1</td>\n",
       "      <td>NaN</td>\n",
       "      <td>0</td>\n",
       "      <td>0</td>\n",
       "      <td>0.000000</td>\n",
       "      <td>07:11:00</td>\n",
       "      <td>07:11:00</td>\n",
       "      <td>22180</td>\n",
       "      <td>4</td>\n",
       "      <td>NaN</td>\n",
       "      <td>0</td>\n",
       "      <td>0</td>\n",
       "      <td>2929.203072</td>\n",
       "    </tr>\n",
       "    <tr>\n",
       "      <th>1</th>\n",
       "      <td>8225.T0.2-ALM-F-mjp-1.3.H</td>\n",
       "      <td>07:07:00</td>\n",
       "      <td>07:07:00</td>\n",
       "      <td>19842</td>\n",
       "      <td>2</td>\n",
       "      <td>NaN</td>\n",
       "      <td>0</td>\n",
       "      <td>0</td>\n",
       "      <td>1148.886502</td>\n",
       "      <td>07:11:00</td>\n",
       "      <td>07:11:00</td>\n",
       "      <td>22180</td>\n",
       "      <td>4</td>\n",
       "      <td>NaN</td>\n",
       "      <td>0</td>\n",
       "      <td>0</td>\n",
       "      <td>2929.203072</td>\n",
       "    </tr>\n",
       "    <tr>\n",
       "      <th>2</th>\n",
       "      <td>8225.T0.2-ALM-F-mjp-1.3.H</td>\n",
       "      <td>07:09:00</td>\n",
       "      <td>07:09:00</td>\n",
       "      <td>19841</td>\n",
       "      <td>3</td>\n",
       "      <td>NaN</td>\n",
       "      <td>0</td>\n",
       "      <td>0</td>\n",
       "      <td>1805.698499</td>\n",
       "      <td>07:11:00</td>\n",
       "      <td>07:11:00</td>\n",
       "      <td>22180</td>\n",
       "      <td>4</td>\n",
       "      <td>NaN</td>\n",
       "      <td>0</td>\n",
       "      <td>0</td>\n",
       "      <td>2929.203072</td>\n",
       "    </tr>\n",
       "    <tr>\n",
       "      <th>18</th>\n",
       "      <td>8227.T0.2-ALM-F-mjp-1.3.H</td>\n",
       "      <td>07:27:00</td>\n",
       "      <td>07:27:00</td>\n",
       "      <td>19843</td>\n",
       "      <td>1</td>\n",
       "      <td>NaN</td>\n",
       "      <td>0</td>\n",
       "      <td>0</td>\n",
       "      <td>0.000000</td>\n",
       "      <td>07:33:00</td>\n",
       "      <td>07:33:00</td>\n",
       "      <td>22180</td>\n",
       "      <td>4</td>\n",
       "      <td>NaN</td>\n",
       "      <td>0</td>\n",
       "      <td>0</td>\n",
       "      <td>2929.203072</td>\n",
       "    </tr>\n",
       "    <tr>\n",
       "      <th>19</th>\n",
       "      <td>8227.T0.2-ALM-F-mjp-1.3.H</td>\n",
       "      <td>07:29:00</td>\n",
       "      <td>07:29:00</td>\n",
       "      <td>19842</td>\n",
       "      <td>2</td>\n",
       "      <td>NaN</td>\n",
       "      <td>0</td>\n",
       "      <td>0</td>\n",
       "      <td>1148.886502</td>\n",
       "      <td>07:33:00</td>\n",
       "      <td>07:33:00</td>\n",
       "      <td>22180</td>\n",
       "      <td>4</td>\n",
       "      <td>NaN</td>\n",
       "      <td>0</td>\n",
       "      <td>0</td>\n",
       "      <td>2929.203072</td>\n",
       "    </tr>\n",
       "  </tbody>\n",
       "</table>\n",
       "</div>"
      ],
      "text/plain": [
       "                      trip_id arrival_time_x departure_time_x  stop_id_x  \\\n",
       "0   8225.T0.2-ALM-F-mjp-1.3.H       07:05:00         07:05:00      19843   \n",
       "1   8225.T0.2-ALM-F-mjp-1.3.H       07:07:00         07:07:00      19842   \n",
       "2   8225.T0.2-ALM-F-mjp-1.3.H       07:09:00         07:09:00      19841   \n",
       "18  8227.T0.2-ALM-F-mjp-1.3.H       07:27:00         07:27:00      19843   \n",
       "19  8227.T0.2-ALM-F-mjp-1.3.H       07:29:00         07:29:00      19842   \n",
       "\n",
       "    stop_sequence_x  stop_headsign_x  pickup_type_x  drop_off_type_x  \\\n",
       "0                 1              NaN              0                0   \n",
       "1                 2              NaN              0                0   \n",
       "2                 3              NaN              0                0   \n",
       "18                1              NaN              0                0   \n",
       "19                2              NaN              0                0   \n",
       "\n",
       "    shape_dist_traveled_x arrival_time_y departure_time_y  stop_id_y  \\\n",
       "0                0.000000       07:11:00         07:11:00      22180   \n",
       "1             1148.886502       07:11:00         07:11:00      22180   \n",
       "2             1805.698499       07:11:00         07:11:00      22180   \n",
       "18               0.000000       07:33:00         07:33:00      22180   \n",
       "19            1148.886502       07:33:00         07:33:00      22180   \n",
       "\n",
       "    stop_sequence_y  stop_headsign_y  pickup_type_y  drop_off_type_y  \\\n",
       "0                 4              NaN              0                0   \n",
       "1                 4              NaN              0                0   \n",
       "2                 4              NaN              0                0   \n",
       "18                4              NaN              0                0   \n",
       "19                4              NaN              0                0   \n",
       "\n",
       "    shape_dist_traveled_y  \n",
       "0             2929.203072  \n",
       "1             2929.203072  \n",
       "2             2929.203072  \n",
       "18            2929.203072  \n",
       "19            2929.203072  "
      ]
     },
     "execution_count": 69,
     "metadata": {},
     "output_type": "execute_result"
    }
   ],
   "source": [
    "metrotrains_stopping_SC.head()"
   ]
  },
  {
   "cell_type": "code",
   "execution_count": 70,
   "metadata": {},
   "outputs": [
    {
     "name": "stderr",
     "output_type": "stream",
     "text": [
      "/Users/nikitajohn/anaconda3/lib/python3.7/site-packages/ipykernel_launcher.py:1: SettingWithCopyWarning: \n",
      "A value is trying to be set on a copy of a slice from a DataFrame.\n",
      "Try using .loc[row_indexer,col_indexer] = value instead\n",
      "\n",
      "See the caveats in the documentation: http://pandas.pydata.org/pandas-docs/stable/indexing.html#indexing-view-versus-copy\n",
      "  \"\"\"Entry point for launching an IPython kernel.\n"
     ]
    }
   ],
   "source": [
    "metrotrains_stopping_SC['time_taken']= (pd.to_datetime(metrotrains_stopping_SC['arrival_time_y'])-pd.to_datetime(metrotrains_stopping_SC['departure_time_x'])).astype('timedelta64[m]')"
   ]
  },
  {
   "cell_type": "code",
   "execution_count": 71,
   "metadata": {},
   "outputs": [
    {
     "data": {
      "text/html": [
       "<div>\n",
       "<style scoped>\n",
       "    .dataframe tbody tr th:only-of-type {\n",
       "        vertical-align: middle;\n",
       "    }\n",
       "\n",
       "    .dataframe tbody tr th {\n",
       "        vertical-align: top;\n",
       "    }\n",
       "\n",
       "    .dataframe thead th {\n",
       "        text-align: right;\n",
       "    }\n",
       "</style>\n",
       "<table border=\"1\" class=\"dataframe\">\n",
       "  <thead>\n",
       "    <tr style=\"text-align: right;\">\n",
       "      <th></th>\n",
       "      <th>trip_id</th>\n",
       "      <th>arrival_time_x</th>\n",
       "      <th>departure_time_x</th>\n",
       "      <th>stop_id_x</th>\n",
       "      <th>stop_sequence_x</th>\n",
       "      <th>stop_headsign_x</th>\n",
       "      <th>pickup_type_x</th>\n",
       "      <th>drop_off_type_x</th>\n",
       "      <th>shape_dist_traveled_x</th>\n",
       "      <th>arrival_time_y</th>\n",
       "      <th>departure_time_y</th>\n",
       "      <th>stop_id_y</th>\n",
       "      <th>stop_sequence_y</th>\n",
       "      <th>stop_headsign_y</th>\n",
       "      <th>pickup_type_y</th>\n",
       "      <th>drop_off_type_y</th>\n",
       "      <th>shape_dist_traveled_y</th>\n",
       "      <th>time_taken</th>\n",
       "    </tr>\n",
       "  </thead>\n",
       "  <tbody>\n",
       "    <tr>\n",
       "      <th>0</th>\n",
       "      <td>8225.T0.2-ALM-F-mjp-1.3.H</td>\n",
       "      <td>07:05:00</td>\n",
       "      <td>07:05:00</td>\n",
       "      <td>19843</td>\n",
       "      <td>1</td>\n",
       "      <td>NaN</td>\n",
       "      <td>0</td>\n",
       "      <td>0</td>\n",
       "      <td>0.000000</td>\n",
       "      <td>07:11:00</td>\n",
       "      <td>07:11:00</td>\n",
       "      <td>22180</td>\n",
       "      <td>4</td>\n",
       "      <td>NaN</td>\n",
       "      <td>0</td>\n",
       "      <td>0</td>\n",
       "      <td>2929.203072</td>\n",
       "      <td>6.0</td>\n",
       "    </tr>\n",
       "    <tr>\n",
       "      <th>1</th>\n",
       "      <td>8225.T0.2-ALM-F-mjp-1.3.H</td>\n",
       "      <td>07:07:00</td>\n",
       "      <td>07:07:00</td>\n",
       "      <td>19842</td>\n",
       "      <td>2</td>\n",
       "      <td>NaN</td>\n",
       "      <td>0</td>\n",
       "      <td>0</td>\n",
       "      <td>1148.886502</td>\n",
       "      <td>07:11:00</td>\n",
       "      <td>07:11:00</td>\n",
       "      <td>22180</td>\n",
       "      <td>4</td>\n",
       "      <td>NaN</td>\n",
       "      <td>0</td>\n",
       "      <td>0</td>\n",
       "      <td>2929.203072</td>\n",
       "      <td>4.0</td>\n",
       "    </tr>\n",
       "    <tr>\n",
       "      <th>2</th>\n",
       "      <td>8225.T0.2-ALM-F-mjp-1.3.H</td>\n",
       "      <td>07:09:00</td>\n",
       "      <td>07:09:00</td>\n",
       "      <td>19841</td>\n",
       "      <td>3</td>\n",
       "      <td>NaN</td>\n",
       "      <td>0</td>\n",
       "      <td>0</td>\n",
       "      <td>1805.698499</td>\n",
       "      <td>07:11:00</td>\n",
       "      <td>07:11:00</td>\n",
       "      <td>22180</td>\n",
       "      <td>4</td>\n",
       "      <td>NaN</td>\n",
       "      <td>0</td>\n",
       "      <td>0</td>\n",
       "      <td>2929.203072</td>\n",
       "      <td>2.0</td>\n",
       "    </tr>\n",
       "    <tr>\n",
       "      <th>18</th>\n",
       "      <td>8227.T0.2-ALM-F-mjp-1.3.H</td>\n",
       "      <td>07:27:00</td>\n",
       "      <td>07:27:00</td>\n",
       "      <td>19843</td>\n",
       "      <td>1</td>\n",
       "      <td>NaN</td>\n",
       "      <td>0</td>\n",
       "      <td>0</td>\n",
       "      <td>0.000000</td>\n",
       "      <td>07:33:00</td>\n",
       "      <td>07:33:00</td>\n",
       "      <td>22180</td>\n",
       "      <td>4</td>\n",
       "      <td>NaN</td>\n",
       "      <td>0</td>\n",
       "      <td>0</td>\n",
       "      <td>2929.203072</td>\n",
       "      <td>6.0</td>\n",
       "    </tr>\n",
       "    <tr>\n",
       "      <th>19</th>\n",
       "      <td>8227.T0.2-ALM-F-mjp-1.3.H</td>\n",
       "      <td>07:29:00</td>\n",
       "      <td>07:29:00</td>\n",
       "      <td>19842</td>\n",
       "      <td>2</td>\n",
       "      <td>NaN</td>\n",
       "      <td>0</td>\n",
       "      <td>0</td>\n",
       "      <td>1148.886502</td>\n",
       "      <td>07:33:00</td>\n",
       "      <td>07:33:00</td>\n",
       "      <td>22180</td>\n",
       "      <td>4</td>\n",
       "      <td>NaN</td>\n",
       "      <td>0</td>\n",
       "      <td>0</td>\n",
       "      <td>2929.203072</td>\n",
       "      <td>4.0</td>\n",
       "    </tr>\n",
       "  </tbody>\n",
       "</table>\n",
       "</div>"
      ],
      "text/plain": [
       "                      trip_id arrival_time_x departure_time_x  stop_id_x  \\\n",
       "0   8225.T0.2-ALM-F-mjp-1.3.H       07:05:00         07:05:00      19843   \n",
       "1   8225.T0.2-ALM-F-mjp-1.3.H       07:07:00         07:07:00      19842   \n",
       "2   8225.T0.2-ALM-F-mjp-1.3.H       07:09:00         07:09:00      19841   \n",
       "18  8227.T0.2-ALM-F-mjp-1.3.H       07:27:00         07:27:00      19843   \n",
       "19  8227.T0.2-ALM-F-mjp-1.3.H       07:29:00         07:29:00      19842   \n",
       "\n",
       "    stop_sequence_x  stop_headsign_x  pickup_type_x  drop_off_type_x  \\\n",
       "0                 1              NaN              0                0   \n",
       "1                 2              NaN              0                0   \n",
       "2                 3              NaN              0                0   \n",
       "18                1              NaN              0                0   \n",
       "19                2              NaN              0                0   \n",
       "\n",
       "    shape_dist_traveled_x arrival_time_y departure_time_y  stop_id_y  \\\n",
       "0                0.000000       07:11:00         07:11:00      22180   \n",
       "1             1148.886502       07:11:00         07:11:00      22180   \n",
       "2             1805.698499       07:11:00         07:11:00      22180   \n",
       "18               0.000000       07:33:00         07:33:00      22180   \n",
       "19            1148.886502       07:33:00         07:33:00      22180   \n",
       "\n",
       "    stop_sequence_y  stop_headsign_y  pickup_type_y  drop_off_type_y  \\\n",
       "0                 4              NaN              0                0   \n",
       "1                 4              NaN              0                0   \n",
       "2                 4              NaN              0                0   \n",
       "18                4              NaN              0                0   \n",
       "19                4              NaN              0                0   \n",
       "\n",
       "    shape_dist_traveled_y  time_taken  \n",
       "0             2929.203072         6.0  \n",
       "1             2929.203072         4.0  \n",
       "2             2929.203072         2.0  \n",
       "18            2929.203072         6.0  \n",
       "19            2929.203072         4.0  "
      ]
     },
     "execution_count": 71,
     "metadata": {},
     "output_type": "execute_result"
    }
   ],
   "source": [
    "metrotrains_stopping_SC.head()"
   ]
  },
  {
   "cell_type": "code",
   "execution_count": 72,
   "metadata": {},
   "outputs": [],
   "source": [
    "metro_time=metrotrains_stopping_SC.groupby('stop_id_x', as_index=False)['time_taken'].mean()"
   ]
  },
  {
   "cell_type": "code",
   "execution_count": 73,
   "metadata": {},
   "outputs": [
    {
     "data": {
      "text/html": [
       "<div>\n",
       "<style scoped>\n",
       "    .dataframe tbody tr th:only-of-type {\n",
       "        vertical-align: middle;\n",
       "    }\n",
       "\n",
       "    .dataframe tbody tr th {\n",
       "        vertical-align: top;\n",
       "    }\n",
       "\n",
       "    .dataframe thead th {\n",
       "        text-align: right;\n",
       "    }\n",
       "</style>\n",
       "<table border=\"1\" class=\"dataframe\">\n",
       "  <thead>\n",
       "    <tr style=\"text-align: right;\">\n",
       "      <th></th>\n",
       "      <th>stop_id_x</th>\n",
       "      <th>time_taken</th>\n",
       "    </tr>\n",
       "  </thead>\n",
       "  <tbody>\n",
       "    <tr>\n",
       "      <th>0</th>\n",
       "      <td>15351</td>\n",
       "      <td>45.750000</td>\n",
       "    </tr>\n",
       "    <tr>\n",
       "      <th>1</th>\n",
       "      <td>15353</td>\n",
       "      <td>41.750000</td>\n",
       "    </tr>\n",
       "    <tr>\n",
       "      <th>2</th>\n",
       "      <td>19841</td>\n",
       "      <td>3.358382</td>\n",
       "    </tr>\n",
       "    <tr>\n",
       "      <th>3</th>\n",
       "      <td>19842</td>\n",
       "      <td>4.722543</td>\n",
       "    </tr>\n",
       "    <tr>\n",
       "      <th>4</th>\n",
       "      <td>19843</td>\n",
       "      <td>6.098837</td>\n",
       "    </tr>\n",
       "  </tbody>\n",
       "</table>\n",
       "</div>"
      ],
      "text/plain": [
       "   stop_id_x  time_taken\n",
       "0      15351   45.750000\n",
       "1      15353   41.750000\n",
       "2      19841    3.358382\n",
       "3      19842    4.722543\n",
       "4      19843    6.098837"
      ]
     },
     "execution_count": 73,
     "metadata": {},
     "output_type": "execute_result"
    }
   ],
   "source": [
    "metro_time.head()"
   ]
  },
  {
   "cell_type": "code",
   "execution_count": 74,
   "metadata": {},
   "outputs": [],
   "source": [
    "times=pd.concat([regional_time, metro_time])"
   ]
  },
  {
   "cell_type": "code",
   "execution_count": 75,
   "metadata": {},
   "outputs": [],
   "source": [
    "times.rename(columns={'stop_id_x':'train_station_id', 'time_taken':'travel_min_to_CBD'}, inplace=True)"
   ]
  },
  {
   "cell_type": "markdown",
   "metadata": {},
   "source": [
    "The above collected information is then added to our initial_dataset."
   ]
  },
  {
   "cell_type": "code",
   "execution_count": 76,
   "metadata": {},
   "outputs": [],
   "source": [
    "initial_dataset=pd.merge(initial_dataset, times, on='train_station_id')"
   ]
  },
  {
   "cell_type": "code",
   "execution_count": 77,
   "metadata": {},
   "outputs": [
    {
     "data": {
      "text/html": [
       "<div>\n",
       "<style scoped>\n",
       "    .dataframe tbody tr th:only-of-type {\n",
       "        vertical-align: middle;\n",
       "    }\n",
       "\n",
       "    .dataframe tbody tr th {\n",
       "        vertical-align: top;\n",
       "    }\n",
       "\n",
       "    .dataframe thead th {\n",
       "        text-align: right;\n",
       "    }\n",
       "</style>\n",
       "<table border=\"1\" class=\"dataframe\">\n",
       "  <thead>\n",
       "    <tr style=\"text-align: right;\">\n",
       "      <th></th>\n",
       "      <th>ID</th>\n",
       "      <th>Address</th>\n",
       "      <th>Suburb</th>\n",
       "      <th>Price</th>\n",
       "      <th>Type</th>\n",
       "      <th>Date</th>\n",
       "      <th>Rooms</th>\n",
       "      <th>Bathroom</th>\n",
       "      <th>Car</th>\n",
       "      <th>LandSize</th>\n",
       "      <th>Age</th>\n",
       "      <th>Latitude</th>\n",
       "      <th>Longtitude</th>\n",
       "      <th>distance_to_train_station</th>\n",
       "      <th>train_station_id</th>\n",
       "      <th>travel_min_to_CBD</th>\n",
       "    </tr>\n",
       "  </thead>\n",
       "  <tbody>\n",
       "    <tr>\n",
       "      <th>0</th>\n",
       "      <td>ID275585343</td>\n",
       "      <td>15 Kwinana Ct</td>\n",
       "      <td>IVANHOE</td>\n",
       "      <td>1223500.0</td>\n",
       "      <td>h</td>\n",
       "      <td>22/08/2016</td>\n",
       "      <td>3</td>\n",
       "      <td>2.0</td>\n",
       "      <td>2.0</td>\n",
       "      <td>721.0</td>\n",
       "      <td>39.0</td>\n",
       "      <td>-37.7580</td>\n",
       "      <td>145.0408</td>\n",
       "      <td>1279.461419</td>\n",
       "      <td>19933</td>\n",
       "      <td>25.933333</td>\n",
       "    </tr>\n",
       "    <tr>\n",
       "      <th>1</th>\n",
       "      <td>ID192443486</td>\n",
       "      <td>3/123 Waterdale Rd</td>\n",
       "      <td>IVANHOE</td>\n",
       "      <td>962000.0</td>\n",
       "      <td>t</td>\n",
       "      <td>4/03/2017</td>\n",
       "      <td>3</td>\n",
       "      <td>2.0</td>\n",
       "      <td>1.0</td>\n",
       "      <td>108.0</td>\n",
       "      <td>59.0</td>\n",
       "      <td>-37.7668</td>\n",
       "      <td>145.0434</td>\n",
       "      <td>293.658734</td>\n",
       "      <td>19933</td>\n",
       "      <td>25.933333</td>\n",
       "    </tr>\n",
       "    <tr>\n",
       "      <th>2</th>\n",
       "      <td>ID832311250</td>\n",
       "      <td>5/22 Oriel Rd</td>\n",
       "      <td>IVANHOE</td>\n",
       "      <td>790000.0</td>\n",
       "      <td>h</td>\n",
       "      <td>10/09/2016</td>\n",
       "      <td>2</td>\n",
       "      <td>1.0</td>\n",
       "      <td>1.0</td>\n",
       "      <td>221.0</td>\n",
       "      <td>64.0</td>\n",
       "      <td>-37.7654</td>\n",
       "      <td>145.0360</td>\n",
       "      <td>916.185801</td>\n",
       "      <td>19933</td>\n",
       "      <td>25.933333</td>\n",
       "    </tr>\n",
       "    <tr>\n",
       "      <th>3</th>\n",
       "      <td>ID180899571</td>\n",
       "      <td>3/204 The Boulevard</td>\n",
       "      <td>IVANHOE EAST</td>\n",
       "      <td>405000.0</td>\n",
       "      <td>u</td>\n",
       "      <td>28/08/2016</td>\n",
       "      <td>1</td>\n",
       "      <td>1.0</td>\n",
       "      <td>1.0</td>\n",
       "      <td>0.0</td>\n",
       "      <td>59.0</td>\n",
       "      <td>-37.7767</td>\n",
       "      <td>145.0543</td>\n",
       "      <td>1168.043985</td>\n",
       "      <td>19933</td>\n",
       "      <td>25.933333</td>\n",
       "    </tr>\n",
       "    <tr>\n",
       "      <th>4</th>\n",
       "      <td>ID875641100</td>\n",
       "      <td>32 Ailsa Gr</td>\n",
       "      <td>IVANHOE</td>\n",
       "      <td>1850000.0</td>\n",
       "      <td>h</td>\n",
       "      <td>18/03/2017</td>\n",
       "      <td>3</td>\n",
       "      <td>2.0</td>\n",
       "      <td>2.0</td>\n",
       "      <td>684.0</td>\n",
       "      <td>19.0</td>\n",
       "      <td>-37.7659</td>\n",
       "      <td>145.0392</td>\n",
       "      <td>641.374400</td>\n",
       "      <td>19933</td>\n",
       "      <td>25.933333</td>\n",
       "    </tr>\n",
       "  </tbody>\n",
       "</table>\n",
       "</div>"
      ],
      "text/plain": [
       "            ID              Address        Suburb      Price Type        Date  \\\n",
       "0  ID275585343        15 Kwinana Ct       IVANHOE  1223500.0    h  22/08/2016   \n",
       "1  ID192443486   3/123 Waterdale Rd       IVANHOE   962000.0    t   4/03/2017   \n",
       "2  ID832311250        5/22 Oriel Rd       IVANHOE   790000.0    h  10/09/2016   \n",
       "3  ID180899571  3/204 The Boulevard  IVANHOE EAST   405000.0    u  28/08/2016   \n",
       "4  ID875641100          32 Ailsa Gr       IVANHOE  1850000.0    h  18/03/2017   \n",
       "\n",
       "   Rooms  Bathroom  Car  LandSize   Age  Latitude  Longtitude  \\\n",
       "0      3       2.0  2.0     721.0  39.0  -37.7580    145.0408   \n",
       "1      3       2.0  1.0     108.0  59.0  -37.7668    145.0434   \n",
       "2      2       1.0  1.0     221.0  64.0  -37.7654    145.0360   \n",
       "3      1       1.0  1.0       0.0  59.0  -37.7767    145.0543   \n",
       "4      3       2.0  2.0     684.0  19.0  -37.7659    145.0392   \n",
       "\n",
       "   distance_to_train_station  train_station_id  travel_min_to_CBD  \n",
       "0                1279.461419             19933          25.933333  \n",
       "1                 293.658734             19933          25.933333  \n",
       "2                 916.185801             19933          25.933333  \n",
       "3                1168.043985             19933          25.933333  \n",
       "4                 641.374400             19933          25.933333  "
      ]
     },
     "execution_count": 77,
     "metadata": {},
     "output_type": "execute_result"
    }
   ],
   "source": [
    "initial_dataset.head()"
   ]
  },
  {
   "cell_type": "markdown",
   "metadata": {},
   "source": [
    "We now have the id of the closest train station, the distance to the closest train station and the average time taken in our dataset."
   ]
  },
  {
   "cell_type": "markdown",
   "metadata": {},
   "source": [
    "### iii) Over priced"
   ]
  },
  {
   "cell_type": "markdown",
   "metadata": {},
   "source": [
    "In order to find if a property is overpriced, we need to find the median for properties that have the same number of rooms, bathrooms, car parks, types, year sold and suburb. To do this, we use group by and find the median."
   ]
  },
  {
   "cell_type": "code",
   "execution_count": 78,
   "metadata": {},
   "outputs": [],
   "source": [
    "initial_dataset['year'] = pd.DatetimeIndex(initial_dataset['Date']).year #getting years"
   ]
  },
  {
   "cell_type": "code",
   "execution_count": 79,
   "metadata": {},
   "outputs": [],
   "source": [
    "med_price_df=initial_dataset.groupby(['Rooms', 'Bathroom', 'Car', 'Type', 'year', 'Suburb'],as_index=False)['Price'].median() \n",
    "med_price_df.rename(columns={'Price': 'Med_price'}, inplace=True)"
   ]
  },
  {
   "cell_type": "markdown",
   "metadata": {},
   "source": [
    "We then merge the dataframes based on rooms, bathroom, car, type, year and suburb so that we can compare median price and original price easily."
   ]
  },
  {
   "cell_type": "code",
   "execution_count": 80,
   "metadata": {},
   "outputs": [],
   "source": [
    "initial_dataset=pd.merge(initial_dataset,med_price_df, on=['Rooms', 'Bathroom', 'Car', 'Type', 'year', 'Suburb'])"
   ]
  },
  {
   "cell_type": "code",
   "execution_count": 81,
   "metadata": {},
   "outputs": [
    {
     "data": {
      "text/html": [
       "<div>\n",
       "<style scoped>\n",
       "    .dataframe tbody tr th:only-of-type {\n",
       "        vertical-align: middle;\n",
       "    }\n",
       "\n",
       "    .dataframe tbody tr th {\n",
       "        vertical-align: top;\n",
       "    }\n",
       "\n",
       "    .dataframe thead th {\n",
       "        text-align: right;\n",
       "    }\n",
       "</style>\n",
       "<table border=\"1\" class=\"dataframe\">\n",
       "  <thead>\n",
       "    <tr style=\"text-align: right;\">\n",
       "      <th></th>\n",
       "      <th>ID</th>\n",
       "      <th>Address</th>\n",
       "      <th>Suburb</th>\n",
       "      <th>Price</th>\n",
       "      <th>Type</th>\n",
       "      <th>Date</th>\n",
       "      <th>Rooms</th>\n",
       "      <th>Bathroom</th>\n",
       "      <th>Car</th>\n",
       "      <th>LandSize</th>\n",
       "      <th>Age</th>\n",
       "      <th>Latitude</th>\n",
       "      <th>Longtitude</th>\n",
       "      <th>distance_to_train_station</th>\n",
       "      <th>train_station_id</th>\n",
       "      <th>travel_min_to_CBD</th>\n",
       "      <th>year</th>\n",
       "      <th>Med_price</th>\n",
       "    </tr>\n",
       "  </thead>\n",
       "  <tbody>\n",
       "    <tr>\n",
       "      <th>0</th>\n",
       "      <td>ID275585343</td>\n",
       "      <td>15 Kwinana Ct</td>\n",
       "      <td>IVANHOE</td>\n",
       "      <td>1223500.0</td>\n",
       "      <td>h</td>\n",
       "      <td>22/08/2016</td>\n",
       "      <td>3</td>\n",
       "      <td>2.0</td>\n",
       "      <td>2.0</td>\n",
       "      <td>721.0</td>\n",
       "      <td>39.0</td>\n",
       "      <td>-37.7580</td>\n",
       "      <td>145.0408</td>\n",
       "      <td>1279.461419</td>\n",
       "      <td>19933</td>\n",
       "      <td>25.933333</td>\n",
       "      <td>2016</td>\n",
       "      <td>1223500.0</td>\n",
       "    </tr>\n",
       "    <tr>\n",
       "      <th>1</th>\n",
       "      <td>ID192443486</td>\n",
       "      <td>3/123 Waterdale Rd</td>\n",
       "      <td>IVANHOE</td>\n",
       "      <td>962000.0</td>\n",
       "      <td>t</td>\n",
       "      <td>4/03/2017</td>\n",
       "      <td>3</td>\n",
       "      <td>2.0</td>\n",
       "      <td>1.0</td>\n",
       "      <td>108.0</td>\n",
       "      <td>59.0</td>\n",
       "      <td>-37.7668</td>\n",
       "      <td>145.0434</td>\n",
       "      <td>293.658734</td>\n",
       "      <td>19933</td>\n",
       "      <td>25.933333</td>\n",
       "      <td>2017</td>\n",
       "      <td>962000.0</td>\n",
       "    </tr>\n",
       "    <tr>\n",
       "      <th>2</th>\n",
       "      <td>ID832311250</td>\n",
       "      <td>5/22 Oriel Rd</td>\n",
       "      <td>IVANHOE</td>\n",
       "      <td>790000.0</td>\n",
       "      <td>h</td>\n",
       "      <td>10/09/2016</td>\n",
       "      <td>2</td>\n",
       "      <td>1.0</td>\n",
       "      <td>1.0</td>\n",
       "      <td>221.0</td>\n",
       "      <td>64.0</td>\n",
       "      <td>-37.7654</td>\n",
       "      <td>145.0360</td>\n",
       "      <td>916.185801</td>\n",
       "      <td>19933</td>\n",
       "      <td>25.933333</td>\n",
       "      <td>2016</td>\n",
       "      <td>790000.0</td>\n",
       "    </tr>\n",
       "    <tr>\n",
       "      <th>3</th>\n",
       "      <td>ID180899571</td>\n",
       "      <td>3/204 The Boulevard</td>\n",
       "      <td>IVANHOE EAST</td>\n",
       "      <td>405000.0</td>\n",
       "      <td>u</td>\n",
       "      <td>28/08/2016</td>\n",
       "      <td>1</td>\n",
       "      <td>1.0</td>\n",
       "      <td>1.0</td>\n",
       "      <td>0.0</td>\n",
       "      <td>59.0</td>\n",
       "      <td>-37.7767</td>\n",
       "      <td>145.0543</td>\n",
       "      <td>1168.043985</td>\n",
       "      <td>19933</td>\n",
       "      <td>25.933333</td>\n",
       "      <td>2016</td>\n",
       "      <td>405000.0</td>\n",
       "    </tr>\n",
       "    <tr>\n",
       "      <th>4</th>\n",
       "      <td>ID875641100</td>\n",
       "      <td>32 Ailsa Gr</td>\n",
       "      <td>IVANHOE</td>\n",
       "      <td>1850000.0</td>\n",
       "      <td>h</td>\n",
       "      <td>18/03/2017</td>\n",
       "      <td>3</td>\n",
       "      <td>2.0</td>\n",
       "      <td>2.0</td>\n",
       "      <td>684.0</td>\n",
       "      <td>19.0</td>\n",
       "      <td>-37.7659</td>\n",
       "      <td>145.0392</td>\n",
       "      <td>641.374400</td>\n",
       "      <td>19933</td>\n",
       "      <td>25.933333</td>\n",
       "      <td>2017</td>\n",
       "      <td>1850000.0</td>\n",
       "    </tr>\n",
       "  </tbody>\n",
       "</table>\n",
       "</div>"
      ],
      "text/plain": [
       "            ID              Address        Suburb      Price Type        Date  \\\n",
       "0  ID275585343        15 Kwinana Ct       IVANHOE  1223500.0    h  22/08/2016   \n",
       "1  ID192443486   3/123 Waterdale Rd       IVANHOE   962000.0    t   4/03/2017   \n",
       "2  ID832311250        5/22 Oriel Rd       IVANHOE   790000.0    h  10/09/2016   \n",
       "3  ID180899571  3/204 The Boulevard  IVANHOE EAST   405000.0    u  28/08/2016   \n",
       "4  ID875641100          32 Ailsa Gr       IVANHOE  1850000.0    h  18/03/2017   \n",
       "\n",
       "   Rooms  Bathroom  Car  LandSize   Age  Latitude  Longtitude  \\\n",
       "0      3       2.0  2.0     721.0  39.0  -37.7580    145.0408   \n",
       "1      3       2.0  1.0     108.0  59.0  -37.7668    145.0434   \n",
       "2      2       1.0  1.0     221.0  64.0  -37.7654    145.0360   \n",
       "3      1       1.0  1.0       0.0  59.0  -37.7767    145.0543   \n",
       "4      3       2.0  2.0     684.0  19.0  -37.7659    145.0392   \n",
       "\n",
       "   distance_to_train_station  train_station_id  travel_min_to_CBD  year  \\\n",
       "0                1279.461419             19933          25.933333  2016   \n",
       "1                 293.658734             19933          25.933333  2017   \n",
       "2                 916.185801             19933          25.933333  2016   \n",
       "3                1168.043985             19933          25.933333  2016   \n",
       "4                 641.374400             19933          25.933333  2017   \n",
       "\n",
       "   Med_price  \n",
       "0  1223500.0  \n",
       "1   962000.0  \n",
       "2   790000.0  \n",
       "3   405000.0  \n",
       "4  1850000.0  "
      ]
     },
     "execution_count": 81,
     "metadata": {},
     "output_type": "execute_result"
    }
   ],
   "source": [
    "initial_dataset.head()"
   ]
  },
  {
   "cell_type": "markdown",
   "metadata": {},
   "source": [
    "If the price is greater than the median price we return true, else flase."
   ]
  },
  {
   "cell_type": "code",
   "execution_count": 82,
   "metadata": {},
   "outputs": [],
   "source": [
    "initial_dataset['over_priced?'] = np.where((initial_dataset['Price'] > initial_dataset['Med_price']), True, False)"
   ]
  },
  {
   "cell_type": "markdown",
   "metadata": {},
   "source": [
    "We finally drop the extra columns"
   ]
  },
  {
   "cell_type": "code",
   "execution_count": 83,
   "metadata": {},
   "outputs": [],
   "source": [
    "initial_dataset=initial_dataset.drop(['Med_price', 'year'], axis=1)"
   ]
  },
  {
   "cell_type": "code",
   "execution_count": 84,
   "metadata": {
    "scrolled": false
   },
   "outputs": [
    {
     "data": {
      "text/plain": [
       "(52, 17)"
      ]
     },
     "execution_count": 84,
     "metadata": {},
     "output_type": "execute_result"
    }
   ],
   "source": [
    "initial_dataset[initial_dataset['over_priced?']==1].shape"
   ]
  },
  {
   "cell_type": "markdown",
   "metadata": {},
   "source": [
    "52 out of the 680 properties are overpriced."
   ]
  },
  {
   "cell_type": "markdown",
   "metadata": {},
   "source": [
    "### iv) Crime Data"
   ]
  },
  {
   "cell_type": "markdown",
   "metadata": {},
   "source": [
    "First we find the local government area of each property from the councils.txt file."
   ]
  },
  {
   "cell_type": "code",
   "execution_count": 85,
   "metadata": {},
   "outputs": [],
   "source": [
    "local_gov = {}\n",
    "with open(\"councils.txt\") as f:\n",
    "    for line in f:\n",
    "        line=line.strip('\\n') #removing the \\n from each line\n",
    "        (key, val) = line.split(':') #splitting line by \":\" \n",
    "        local_gov[key] = val #getting as dictionary"
   ]
  },
  {
   "cell_type": "code",
   "execution_count": 86,
   "metadata": {},
   "outputs": [],
   "source": [
    "Local_gov_area=[]\n",
    "for item in suburb:\n",
    "    #l=len(Local_gov_area)\n",
    "    for key, val in local_gov.items():\n",
    "        if (\"'\"+item.upper()+\"'\") in val.upper(): #checking if suburb is in the dictionary values and returning the local government area\n",
    "            Local_gov_area.append(key)"
   ]
  },
  {
   "cell_type": "code",
   "execution_count": 87,
   "metadata": {},
   "outputs": [
    {
     "data": {
      "text/plain": [
       "680"
      ]
     },
     "execution_count": 87,
     "metadata": {},
     "output_type": "execute_result"
    }
   ],
   "source": [
    "len(Local_gov_area)"
   ]
  },
  {
   "cell_type": "markdown",
   "metadata": {},
   "source": [
    "Next, we read the excel file provided and preprocess it."
   ]
  },
  {
   "cell_type": "code",
   "execution_count": 88,
   "metadata": {},
   "outputs": [],
   "source": [
    "excelfile = pd.ExcelFile('crimebylocationdatatable-yearending31march2016.xlsx')"
   ]
  },
  {
   "cell_type": "code",
   "execution_count": 89,
   "metadata": {},
   "outputs": [],
   "source": [
    "crimebylocation = excelfile.parse('Table 1') #getting Table 1"
   ]
  },
  {
   "cell_type": "code",
   "execution_count": 90,
   "metadata": {},
   "outputs": [
    {
     "data": {
      "text/html": [
       "<div>\n",
       "<style scoped>\n",
       "    .dataframe tbody tr th:only-of-type {\n",
       "        vertical-align: middle;\n",
       "    }\n",
       "\n",
       "    .dataframe tbody tr th {\n",
       "        vertical-align: top;\n",
       "    }\n",
       "\n",
       "    .dataframe thead th {\n",
       "        text-align: right;\n",
       "    }\n",
       "</style>\n",
       "<table border=\"1\" class=\"dataframe\">\n",
       "  <thead>\n",
       "    <tr style=\"text-align: right;\">\n",
       "      <th></th>\n",
       "      <th>Unnamed: 0</th>\n",
       "      <th>Unnamed: 1</th>\n",
       "      <th>Unnamed: 2</th>\n",
       "      <th>Unnamed: 3</th>\n",
       "      <th>Unnamed: 4</th>\n",
       "      <th>Unnamed: 5</th>\n",
       "      <th>Unnamed: 6</th>\n",
       "      <th>Unnamed: 7</th>\n",
       "      <th>Unnamed: 8</th>\n",
       "      <th>Unnamed: 9</th>\n",
       "    </tr>\n",
       "  </thead>\n",
       "  <tbody>\n",
       "    <tr>\n",
       "      <th>0</th>\n",
       "      <td>NaN</td>\n",
       "      <td>NaN</td>\n",
       "      <td>NaN</td>\n",
       "      <td>NaN</td>\n",
       "      <td>NaN</td>\n",
       "      <td>NaN</td>\n",
       "      <td>NaN</td>\n",
       "      <td>NaN</td>\n",
       "      <td>NaN</td>\n",
       "      <td>NaN</td>\n",
       "    </tr>\n",
       "    <tr>\n",
       "      <th>1</th>\n",
       "      <td>NaN</td>\n",
       "      <td>NaN</td>\n",
       "      <td>NaN</td>\n",
       "      <td>NaN</td>\n",
       "      <td>NaN</td>\n",
       "      <td>NaN</td>\n",
       "      <td>NaN</td>\n",
       "      <td>NaN</td>\n",
       "      <td>NaN</td>\n",
       "      <td>NaN</td>\n",
       "    </tr>\n",
       "    <tr>\n",
       "      <th>2</th>\n",
       "      <td>NaN</td>\n",
       "      <td>NaN</td>\n",
       "      <td>NaN</td>\n",
       "      <td>NaN</td>\n",
       "      <td>NaN</td>\n",
       "      <td>NaN</td>\n",
       "      <td>NaN</td>\n",
       "      <td>NaN</td>\n",
       "      <td>NaN</td>\n",
       "      <td>NaN</td>\n",
       "    </tr>\n",
       "    <tr>\n",
       "      <th>3</th>\n",
       "      <td>NaN</td>\n",
       "      <td>NaN</td>\n",
       "      <td>NaN</td>\n",
       "      <td>NaN</td>\n",
       "      <td>NaN</td>\n",
       "      <td>NaN</td>\n",
       "      <td>NaN</td>\n",
       "      <td>NaN</td>\n",
       "      <td>NaN</td>\n",
       "      <td>NaN</td>\n",
       "    </tr>\n",
       "    <tr>\n",
       "      <th>4</th>\n",
       "      <td>NaN</td>\n",
       "      <td>NaN</td>\n",
       "      <td>NaN</td>\n",
       "      <td>NaN</td>\n",
       "      <td>NaN</td>\n",
       "      <td>NaN</td>\n",
       "      <td>NaN</td>\n",
       "      <td>NaN</td>\n",
       "      <td>NaN</td>\n",
       "      <td>NaN</td>\n",
       "    </tr>\n",
       "  </tbody>\n",
       "</table>\n",
       "</div>"
      ],
      "text/plain": [
       "   Unnamed: 0 Unnamed: 1 Unnamed: 2 Unnamed: 3 Unnamed: 4 Unnamed: 5  \\\n",
       "0         NaN        NaN        NaN        NaN        NaN        NaN   \n",
       "1         NaN        NaN        NaN        NaN        NaN        NaN   \n",
       "2         NaN        NaN        NaN        NaN        NaN        NaN   \n",
       "3         NaN        NaN        NaN        NaN        NaN        NaN   \n",
       "4         NaN        NaN        NaN        NaN        NaN        NaN   \n",
       "\n",
       "  Unnamed: 6 Unnamed: 7 Unnamed: 8 Unnamed: 9  \n",
       "0        NaN        NaN        NaN        NaN  \n",
       "1        NaN        NaN        NaN        NaN  \n",
       "2        NaN        NaN        NaN        NaN  \n",
       "3        NaN        NaN        NaN        NaN  \n",
       "4        NaN        NaN        NaN        NaN  "
      ]
     },
     "execution_count": 90,
     "metadata": {},
     "output_type": "execute_result"
    }
   ],
   "source": [
    "crimebylocation.head()"
   ]
  },
  {
   "cell_type": "code",
   "execution_count": 91,
   "metadata": {},
   "outputs": [],
   "source": [
    "crimebylocation = crimebylocation.dropna(0, how = 'all') #removing all null rows\n",
    "crimebylocation = crimebylocation.dropna(1, how = 'all') #removing null columns\n",
    "crimebylocation = crimebylocation.drop(8) #dropping line 8\n",
    "crimebylocation = crimebylocation.reset_index(drop=True) "
   ]
  },
  {
   "cell_type": "code",
   "execution_count": 92,
   "metadata": {},
   "outputs": [
    {
     "data": {
      "text/html": [
       "<div>\n",
       "<style scoped>\n",
       "    .dataframe tbody tr th:only-of-type {\n",
       "        vertical-align: middle;\n",
       "    }\n",
       "\n",
       "    .dataframe tbody tr th {\n",
       "        vertical-align: top;\n",
       "    }\n",
       "\n",
       "    .dataframe thead th {\n",
       "        text-align: right;\n",
       "    }\n",
       "</style>\n",
       "<table border=\"1\" class=\"dataframe\">\n",
       "  <thead>\n",
       "    <tr style=\"text-align: right;\">\n",
       "      <th></th>\n",
       "      <th>Unnamed: 1</th>\n",
       "      <th>Unnamed: 2</th>\n",
       "      <th>Unnamed: 3</th>\n",
       "      <th>Unnamed: 4</th>\n",
       "      <th>Unnamed: 5</th>\n",
       "      <th>Unnamed: 6</th>\n",
       "      <th>Unnamed: 7</th>\n",
       "      <th>Unnamed: 8</th>\n",
       "      <th>Unnamed: 9</th>\n",
       "    </tr>\n",
       "  </thead>\n",
       "  <tbody>\n",
       "    <tr>\n",
       "      <th>0</th>\n",
       "      <td>Apr - Mar reference period</td>\n",
       "      <td>Police Region</td>\n",
       "      <td>Police Service Area</td>\n",
       "      <td>Local Government Area</td>\n",
       "      <td>CSA Offence Division</td>\n",
       "      <td>CSA Offence Subdivision</td>\n",
       "      <td>Offence Count</td>\n",
       "      <td>LGA ERP</td>\n",
       "      <td>Victorian ERP</td>\n",
       "    </tr>\n",
       "    <tr>\n",
       "      <th>1</th>\n",
       "      <td>2012</td>\n",
       "      <td>1 North West Metro</td>\n",
       "      <td>BANYULE</td>\n",
       "      <td>BANYULE</td>\n",
       "      <td>A Crimes against the person</td>\n",
       "      <td>A10 Homicide and related offences</td>\n",
       "      <td>4</td>\n",
       "      <td>123600</td>\n",
       "      <td>5632521</td>\n",
       "    </tr>\n",
       "    <tr>\n",
       "      <th>2</th>\n",
       "      <td>2012</td>\n",
       "      <td>1 North West Metro</td>\n",
       "      <td>BANYULE</td>\n",
       "      <td>BANYULE</td>\n",
       "      <td>A Crimes against the person</td>\n",
       "      <td>A20 Assault and related offences</td>\n",
       "      <td>568</td>\n",
       "      <td>123600</td>\n",
       "      <td>5632521</td>\n",
       "    </tr>\n",
       "    <tr>\n",
       "      <th>3</th>\n",
       "      <td>2012</td>\n",
       "      <td>1 North West Metro</td>\n",
       "      <td>BANYULE</td>\n",
       "      <td>BANYULE</td>\n",
       "      <td>A Crimes against the person</td>\n",
       "      <td>A30 Sexual offences</td>\n",
       "      <td>132</td>\n",
       "      <td>123600</td>\n",
       "      <td>5632521</td>\n",
       "    </tr>\n",
       "    <tr>\n",
       "      <th>4</th>\n",
       "      <td>2012</td>\n",
       "      <td>1 North West Metro</td>\n",
       "      <td>BANYULE</td>\n",
       "      <td>BANYULE</td>\n",
       "      <td>A Crimes against the person</td>\n",
       "      <td>A40 Abduction and related offences</td>\n",
       "      <td>12</td>\n",
       "      <td>123600</td>\n",
       "      <td>5632521</td>\n",
       "    </tr>\n",
       "  </tbody>\n",
       "</table>\n",
       "</div>"
      ],
      "text/plain": [
       "                   Unnamed: 1          Unnamed: 2           Unnamed: 3  \\\n",
       "0  Apr - Mar reference period       Police Region  Police Service Area   \n",
       "1                        2012  1 North West Metro              BANYULE   \n",
       "2                        2012  1 North West Metro              BANYULE   \n",
       "3                        2012  1 North West Metro              BANYULE   \n",
       "4                        2012  1 North West Metro              BANYULE   \n",
       "\n",
       "              Unnamed: 4                   Unnamed: 5  \\\n",
       "0  Local Government Area         CSA Offence Division   \n",
       "1                BANYULE  A Crimes against the person   \n",
       "2                BANYULE  A Crimes against the person   \n",
       "3                BANYULE  A Crimes against the person   \n",
       "4                BANYULE  A Crimes against the person   \n",
       "\n",
       "                           Unnamed: 6     Unnamed: 7 Unnamed: 8     Unnamed: 9  \n",
       "0             CSA Offence Subdivision  Offence Count    LGA ERP  Victorian ERP  \n",
       "1   A10 Homicide and related offences              4     123600        5632521  \n",
       "2    A20 Assault and related offences            568     123600        5632521  \n",
       "3                 A30 Sexual offences            132     123600        5632521  \n",
       "4  A40 Abduction and related offences             12     123600        5632521  "
      ]
     },
     "execution_count": 92,
     "metadata": {},
     "output_type": "execute_result"
    }
   ],
   "source": [
    "crimebylocation.head()"
   ]
  },
  {
   "cell_type": "code",
   "execution_count": 93,
   "metadata": {},
   "outputs": [],
   "source": [
    "crimebylocation.columns = crimebylocation.iloc[0] #renaming columns \n",
    "crimebylocation = crimebylocation[1:] \n",
    "crimebylocation = crimebylocation.reset_index(drop=True)"
   ]
  },
  {
   "cell_type": "code",
   "execution_count": 94,
   "metadata": {},
   "outputs": [
    {
     "data": {
      "text/html": [
       "<div>\n",
       "<style scoped>\n",
       "    .dataframe tbody tr th:only-of-type {\n",
       "        vertical-align: middle;\n",
       "    }\n",
       "\n",
       "    .dataframe tbody tr th {\n",
       "        vertical-align: top;\n",
       "    }\n",
       "\n",
       "    .dataframe thead th {\n",
       "        text-align: right;\n",
       "    }\n",
       "</style>\n",
       "<table border=\"1\" class=\"dataframe\">\n",
       "  <thead>\n",
       "    <tr style=\"text-align: right;\">\n",
       "      <th></th>\n",
       "      <th>Apr - Mar reference period</th>\n",
       "      <th>Police Region</th>\n",
       "      <th>Police Service Area</th>\n",
       "      <th>Local Government Area</th>\n",
       "      <th>CSA Offence Division</th>\n",
       "      <th>CSA Offence Subdivision</th>\n",
       "      <th>Offence Count</th>\n",
       "      <th>LGA ERP</th>\n",
       "      <th>Victorian ERP</th>\n",
       "    </tr>\n",
       "  </thead>\n",
       "  <tbody>\n",
       "    <tr>\n",
       "      <th>0</th>\n",
       "      <td>2012</td>\n",
       "      <td>1 North West Metro</td>\n",
       "      <td>BANYULE</td>\n",
       "      <td>BANYULE</td>\n",
       "      <td>A Crimes against the person</td>\n",
       "      <td>A10 Homicide and related offences</td>\n",
       "      <td>4</td>\n",
       "      <td>123600</td>\n",
       "      <td>5632521</td>\n",
       "    </tr>\n",
       "    <tr>\n",
       "      <th>1</th>\n",
       "      <td>2012</td>\n",
       "      <td>1 North West Metro</td>\n",
       "      <td>BANYULE</td>\n",
       "      <td>BANYULE</td>\n",
       "      <td>A Crimes against the person</td>\n",
       "      <td>A20 Assault and related offences</td>\n",
       "      <td>568</td>\n",
       "      <td>123600</td>\n",
       "      <td>5632521</td>\n",
       "    </tr>\n",
       "    <tr>\n",
       "      <th>2</th>\n",
       "      <td>2012</td>\n",
       "      <td>1 North West Metro</td>\n",
       "      <td>BANYULE</td>\n",
       "      <td>BANYULE</td>\n",
       "      <td>A Crimes against the person</td>\n",
       "      <td>A30 Sexual offences</td>\n",
       "      <td>132</td>\n",
       "      <td>123600</td>\n",
       "      <td>5632521</td>\n",
       "    </tr>\n",
       "    <tr>\n",
       "      <th>3</th>\n",
       "      <td>2012</td>\n",
       "      <td>1 North West Metro</td>\n",
       "      <td>BANYULE</td>\n",
       "      <td>BANYULE</td>\n",
       "      <td>A Crimes against the person</td>\n",
       "      <td>A40 Abduction and related offences</td>\n",
       "      <td>12</td>\n",
       "      <td>123600</td>\n",
       "      <td>5632521</td>\n",
       "    </tr>\n",
       "    <tr>\n",
       "      <th>4</th>\n",
       "      <td>2012</td>\n",
       "      <td>1 North West Metro</td>\n",
       "      <td>BANYULE</td>\n",
       "      <td>BANYULE</td>\n",
       "      <td>A Crimes against the person</td>\n",
       "      <td>A50 Robbery</td>\n",
       "      <td>46</td>\n",
       "      <td>123600</td>\n",
       "      <td>5632521</td>\n",
       "    </tr>\n",
       "  </tbody>\n",
       "</table>\n",
       "</div>"
      ],
      "text/plain": [
       "0 Apr - Mar reference period       Police Region Police Service Area  \\\n",
       "0                       2012  1 North West Metro             BANYULE   \n",
       "1                       2012  1 North West Metro             BANYULE   \n",
       "2                       2012  1 North West Metro             BANYULE   \n",
       "3                       2012  1 North West Metro             BANYULE   \n",
       "4                       2012  1 North West Metro             BANYULE   \n",
       "\n",
       "0 Local Government Area         CSA Offence Division  \\\n",
       "0               BANYULE  A Crimes against the person   \n",
       "1               BANYULE  A Crimes against the person   \n",
       "2               BANYULE  A Crimes against the person   \n",
       "3               BANYULE  A Crimes against the person   \n",
       "4               BANYULE  A Crimes against the person   \n",
       "\n",
       "0             CSA Offence Subdivision Offence Count LGA ERP Victorian ERP  \n",
       "0   A10 Homicide and related offences             4  123600       5632521  \n",
       "1    A20 Assault and related offences           568  123600       5632521  \n",
       "2                 A30 Sexual offences           132  123600       5632521  \n",
       "3  A40 Abduction and related offences            12  123600       5632521  \n",
       "4                         A50 Robbery            46  123600       5632521  "
      ]
     },
     "execution_count": 94,
     "metadata": {},
     "output_type": "execute_result"
    }
   ],
   "source": [
    "crimebylocation.head()"
   ]
  },
  {
   "cell_type": "markdown",
   "metadata": {},
   "source": [
    "Finally, we find the total number of crimes for three consecutive years before the year of selling for each type of crime for a specific local government area."
   ]
  },
  {
   "cell_type": "code",
   "execution_count": 95,
   "metadata": {},
   "outputs": [],
   "source": [
    "year=initial_dataset['Date']\n",
    "crimeA=[]\n",
    "crimeB=[]\n",
    "crimeC=[]\n",
    "for i in range(len(year)):\n",
    "    year1=int(year[i].split('/')[2])-1 #getting three years before the sale year\n",
    "    year2=int(year[i].split('/')[2])-2\n",
    "    year3=int(year[i].split('/')[2])-3\n",
    "    localgov=Local_gov_area[i].strip()\n",
    "    A=crimebylocation.loc[(crimebylocation['CSA Offence Division']== 'A Crimes against the person') & (crimebylocation['Local Government Area']==localgov) & (crimebylocation['Apr - Mar reference period'].isin([year1, year2, year3]))] #getting crime A for each value in initial dataset\n",
    "    B=crimebylocation.loc[(crimebylocation['CSA Offence Division']== 'B Property and deception offences') & (crimebylocation['Local Government Area']==localgov) & (crimebylocation['Apr - Mar reference period'].isin([year1, year2, year3]))] #getting crime B for each value in initial dataset\n",
    "    C=crimebylocation.loc[(crimebylocation['CSA Offence Division']== 'C Drug offences') & (crimebylocation['Local Government Area']==localgov) & (crimebylocation['Apr - Mar reference period'].isin([year1, year2, year3]))] #getting crime C for each value in initial dataset\n",
    "    crimeA.append((A['Offence Count'].sum())/3) #getting average for A\n",
    "    crimeB.append((B['Offence Count'].sum())/3) #getting average for B\n",
    "    crimeC.append((C['Offence Count'].sum())/3) #getting average for C\n",
    "    "
   ]
  },
  {
   "cell_type": "markdown",
   "metadata": {},
   "source": [
    "We then append the values found above to our dataframe."
   ]
  },
  {
   "cell_type": "code",
   "execution_count": 96,
   "metadata": {},
   "outputs": [],
   "source": [
    "initial_dataset['crime_A_average']= crimeA\n",
    "initial_dataset['crime_B_average']= crimeB\n",
    "initial_dataset['crime_C_average']= crimeC"
   ]
  },
  {
   "cell_type": "markdown",
   "metadata": {},
   "source": [
    "We now have crime_A_average, crime_B_average and crime_C_average."
   ]
  },
  {
   "cell_type": "markdown",
   "metadata": {},
   "source": [
    "### v) Primary School and Secondary School Data"
   ]
  },
  {
   "cell_type": "markdown",
   "metadata": {},
   "source": [
    "We start by reading the xml file provided and finding all the schools and their types, latitudes and logitudes using regular expressions."
   ]
  },
  {
   "cell_type": "code",
   "execution_count": 97,
   "metadata": {},
   "outputs": [],
   "source": [
    "file=open('schools.xml','r') \n",
    "text = file.read()"
   ]
  },
  {
   "cell_type": "code",
   "execution_count": 98,
   "metadata": {},
   "outputs": [
    {
     "data": {
      "text/plain": [
       "2254"
      ]
     },
     "execution_count": 98,
     "metadata": {},
     "output_type": "execute_result"
    }
   ],
   "source": [
    "regex = r'<School_Type>(.*?)</School_Type>' \n",
    "school_type = re.findall(regex, text, flags=16) #the findall function returns a list of everything matching the specified pattern\n",
    "len(school_type)"
   ]
  },
  {
   "cell_type": "code",
   "execution_count": 99,
   "metadata": {},
   "outputs": [],
   "source": [
    "regex = r'<School_Name>(.*?)</School_Name>' \n",
    "school_name = re.findall(regex, text, flags=16) #the findall function returns a list of everything matching the specified pattern\n",
    "for i in range(len(school_name)):\n",
    "    school_name[i]=re.sub('&apos;', \"'\", school_name[i]) #replacing\n",
    "    school_name[i]=re.sub('&amp;', '&', school_name[i]) #replacing\n",
    "    "
   ]
  },
  {
   "cell_type": "code",
   "execution_count": 100,
   "metadata": {},
   "outputs": [
    {
     "data": {
      "text/plain": [
       "2254"
      ]
     },
     "execution_count": 100,
     "metadata": {},
     "output_type": "execute_result"
    }
   ],
   "source": [
    "regex = r'<X>(.*?)</X>' \n",
    "school_lon = re.findall(regex, text, flags=16) #the findall function returns a list of everything matching the specified pattern\n",
    "len(school_lon)"
   ]
  },
  {
   "cell_type": "code",
   "execution_count": 101,
   "metadata": {},
   "outputs": [
    {
     "data": {
      "text/plain": [
       "2254"
      ]
     },
     "execution_count": 101,
     "metadata": {},
     "output_type": "execute_result"
    }
   ],
   "source": [
    "regex = r'<Y>(.*?)</Y>' \n",
    "school_lat = re.findall(regex, text, flags=16) #the findall function returns a list of everything matching the specified pattern\n",
    "len(school_lat)"
   ]
  },
  {
   "cell_type": "markdown",
   "metadata": {},
   "source": [
    "We create a dataframe that contains all the school data."
   ]
  },
  {
   "cell_type": "code",
   "execution_count": 102,
   "metadata": {},
   "outputs": [],
   "source": [
    "schools=pd.DataFrame()\n",
    "schools['school_type']=school_type\n",
    "schools['school_name']=school_name\n",
    "schools['school_lon']=school_lon\n",
    "schools['school_lat']=school_lat"
   ]
  },
  {
   "cell_type": "code",
   "execution_count": 103,
   "metadata": {},
   "outputs": [
    {
     "data": {
      "text/plain": [
       "array(['Primary', 'Pri/Sec', 'Special', 'Secondary', 'Language'],\n",
       "      dtype=object)"
      ]
     },
     "execution_count": 103,
     "metadata": {},
     "output_type": "execute_result"
    }
   ],
   "source": [
    "schools['school_type'].unique()"
   ]
  },
  {
   "cell_type": "markdown",
   "metadata": {},
   "source": [
    "We need to find all the primary and secondary schools- pri/sec would fall in both categories. Therefore, we include it in both. We create a dataset for each- primary and secondary."
   ]
  },
  {
   "cell_type": "code",
   "execution_count": 104,
   "metadata": {},
   "outputs": [],
   "source": [
    "primary= schools[schools['school_type'].isin(['Primary', 'Pri/Sec'])]\n",
    "primary = primary.reset_index(drop=True)\n",
    "secondary= schools[schools['school_type'].isin(['Secondary', 'Pri/Sec'])]\n",
    "secondary = secondary.reset_index(drop=True)"
   ]
  },
  {
   "cell_type": "markdown",
   "metadata": {},
   "source": [
    "We then get information that we need - name of school, lat and lon for each."
   ]
  },
  {
   "cell_type": "code",
   "execution_count": 105,
   "metadata": {},
   "outputs": [],
   "source": [
    "primary_name=primary['school_name']\n",
    "primary_lat=primary['school_lat']\n",
    "primary_lon=primary['school_lon']\n",
    "secondary_name= secondary['school_name']\n",
    "secondary_lat= secondary['school_lat']\n",
    "secondary_lon=secondary['school_lon']"
   ]
  },
  {
   "cell_type": "markdown",
   "metadata": {},
   "source": [
    "We then find the closest primary school to the property and its distance."
   ]
  },
  {
   "cell_type": "code",
   "execution_count": 106,
   "metadata": {},
   "outputs": [],
   "source": [
    "lat=initial_dataset['Latitude']\n",
    "lon=initial_dataset['Longtitude']\n",
    "dist=[]\n",
    "name_of_school=[]\n",
    "dist_to_school=[]\n",
    "R=6378\n",
    "for i in range(len(lat)):\n",
    "    temp=1000 #arbitrary large number\n",
    "    for j in range(len(primary_lat)):\n",
    "        difflat=math.radians(float(primary_lat[j]))-math.radians(lat[i]) #difference between latitudes\n",
    "        difflon=math.radians(float(primary_lon[j]))-math.radians(lon[i]) #difference between longitudes\n",
    "        x = ((math.sin(difflat/2))**2)+ ((math.sin(difflon/2))**2)*math.cos(math.radians(lat[i]))*math.cos(math.radians(float(primary_lat[j])))\n",
    "        y = 2*math.atan2(math.sqrt(x), math.sqrt(1-x))\n",
    "        dist= R*y\n",
    "        if dist<temp:\n",
    "            temp=dist\n",
    "            pos=j\n",
    "    dist_to_school.append(temp*1000) #appending distance in meters\n",
    "    name_of_school.append(primary_name[pos]) #appending primary school"
   ]
  },
  {
   "cell_type": "code",
   "execution_count": 107,
   "metadata": {},
   "outputs": [
    {
     "data": {
      "text/plain": [
       "680"
      ]
     },
     "execution_count": 107,
     "metadata": {},
     "output_type": "execute_result"
    }
   ],
   "source": [
    "len(name_of_school)"
   ]
  },
  {
   "cell_type": "code",
   "execution_count": 108,
   "metadata": {},
   "outputs": [
    {
     "data": {
      "text/plain": [
       "680"
      ]
     },
     "execution_count": 108,
     "metadata": {},
     "output_type": "execute_result"
    }
   ],
   "source": [
    "len(dist_to_school)"
   ]
  },
  {
   "cell_type": "code",
   "execution_count": 109,
   "metadata": {},
   "outputs": [],
   "source": [
    "initial_dataset['closest_primary_school']= name_of_school\n",
    "initial_dataset['distance_to_closest_primary']= dist_to_school"
   ]
  },
  {
   "cell_type": "markdown",
   "metadata": {},
   "source": [
    "Similarly, we find the closest secondary school to each property and the corresponding distance."
   ]
  },
  {
   "cell_type": "code",
   "execution_count": 110,
   "metadata": {},
   "outputs": [],
   "source": [
    "lat=initial_dataset['Latitude']\n",
    "lon=initial_dataset['Longtitude']\n",
    "dist=[]\n",
    "name_of_school_sec=[]\n",
    "dist_to_school_sec=[]\n",
    "R=6378\n",
    "for i in range(len(lat)):\n",
    "    temp=1000 #arbitrary large number\n",
    "    for j in range(len(secondary_lat)):\n",
    "        difflat=math.radians(float(secondary_lat[j]))-math.radians(lat[i]) #difference between latitudes\n",
    "        difflon=math.radians(float(secondary_lon[j]))-math.radians(lon[i])#difference between longitudes\n",
    "        x = ((math.sin(difflat/2))**2)+ ((math.sin(difflon/2))**2)*math.cos(math.radians(lat[i]))*math.cos(math.radians(float(secondary_lat[j])))\n",
    "        y = 2*math.atan2(math.sqrt(x), math.sqrt(1-x))\n",
    "        dist= R*y\n",
    "        if dist<temp:\n",
    "            temp=dist\n",
    "            pos=j\n",
    "    dist_to_school_sec.append(temp*1000) #appending distance in meters\n",
    "    name_of_school_sec.append(secondary_name[pos]) #appending school name"
   ]
  },
  {
   "cell_type": "code",
   "execution_count": 111,
   "metadata": {},
   "outputs": [
    {
     "data": {
      "text/plain": [
       "680"
      ]
     },
     "execution_count": 111,
     "metadata": {},
     "output_type": "execute_result"
    }
   ],
   "source": [
    "len(name_of_school_sec)"
   ]
  },
  {
   "cell_type": "code",
   "execution_count": 112,
   "metadata": {},
   "outputs": [
    {
     "data": {
      "text/plain": [
       "680"
      ]
     },
     "execution_count": 112,
     "metadata": {},
     "output_type": "execute_result"
    }
   ],
   "source": [
    "len(dist_to_school_sec)"
   ]
  },
  {
   "cell_type": "code",
   "execution_count": 113,
   "metadata": {},
   "outputs": [],
   "source": [
    "initial_dataset['closest_secondary_school']= name_of_school_sec\n",
    "initial_dataset['distance_to_closest secondary']= dist_to_school_sec"
   ]
  },
  {
   "cell_type": "markdown",
   "metadata": {},
   "source": [
    "Next, we need to use web scraping in order to find the rank of the primary and secondary schools listed in our dataframe."
   ]
  },
  {
   "cell_type": "code",
   "execution_count": 114,
   "metadata": {},
   "outputs": [],
   "source": [
    "html = urlopen(\"http://www.schoolcatchment.com.au/?p=12301\")"
   ]
  },
  {
   "cell_type": "code",
   "execution_count": 115,
   "metadata": {},
   "outputs": [],
   "source": [
    "html = urlopen(\"http://www.schoolcatchment.com.au/?p=12301\")\n",
    "list_of_school_ranks=BeautifulSoup(html, 'html.parser').findAll('tr')"
   ]
  },
  {
   "cell_type": "markdown",
   "metadata": {},
   "source": [
    "We get a list of all the secondary school ranks"
   ]
  },
  {
   "cell_type": "code",
   "execution_count": 116,
   "metadata": {},
   "outputs": [],
   "source": [
    "list_of_school_ranks=list_of_school_ranks[1:]"
   ]
  },
  {
   "cell_type": "code",
   "execution_count": 117,
   "metadata": {},
   "outputs": [
    {
     "data": {
      "text/plain": [
       "<tr class=\"row-2 even\">\n",
       "<td class=\"column-1\">1</td><td class=\"column-2\">Presbyterian Ladies' College</td><td class=\"column-3\">VIC</td><td class=\"column-4\">Independent</td><td class=\"column-5\">Major Cities</td><td class=\"column-6\">1412</td><td class=\"column-7\">96.65%</td>\n",
       "</tr>"
      ]
     },
     "execution_count": 117,
     "metadata": {},
     "output_type": "execute_result"
    }
   ],
   "source": [
    "list_of_school_ranks[0]"
   ]
  },
  {
   "cell_type": "markdown",
   "metadata": {},
   "source": [
    "From the list of school ranks, we need to extract the school name and its rank. "
   ]
  },
  {
   "cell_type": "code",
   "execution_count": 118,
   "metadata": {},
   "outputs": [],
   "source": [
    "dicti=dict()\n",
    "for item1 in primary_name:\n",
    "    for item in list_of_school_ranks:\n",
    "        temp_name=re.findall(r'<td class=\"column-2\">(.*?)</td>', str(item), flags=16) #getting the school name\n",
    "        temp_name=temp_name[0]\n",
    "        if temp_name.upper()==item1.upper():\n",
    "            temp_rank= re.findall(r'<td class=\"column-1\">(.*?)</td>', str(item), flags=16) #getting the rank\n",
    "            temp_rank=temp_rank[0]\n",
    "            if temp_name in dicti.keys():\n",
    "                    if temp_rank<dicti[temp_name]:\n",
    "                        dicti[temp_name]=temp_rank\n",
    "            else:\n",
    "                dicti[temp_name]= temp_rank\n",
    "    "
   ]
  },
  {
   "cell_type": "code",
   "execution_count": 119,
   "metadata": {},
   "outputs": [
    {
     "data": {
      "text/plain": [
       "{'Avenel Primary School': '435',\n",
       " 'Warrandyte Primary School': '257',\n",
       " 'Belmont Primary School': '184',\n",
       " 'Cheltenham Primary School': '258',\n",
       " 'Newport Lakes Primary School': '228',\n",
       " 'Doncaster Primary School': '214',\n",
       " 'Eltham Primary School': '473',\n",
       " 'Flemington Primary School': '341',\n",
       " 'Sandringham Primary School': '353',\n",
       " 'Hawthorn West Primary School': '125',\n",
       " 'Heidelberg Primary School': '109',\n",
       " 'Highton Primary School': '468',\n",
       " 'Bellbrae Primary School': '385',\n",
       " 'Mount Macedon Primary School': '121',\n",
       " 'Burwood East Primary School': '39',\n",
       " 'Essendon Primary School': '133',\n",
       " 'South Yarra Primary School': '44',\n",
       " 'Tylden Primary School': '486',\n",
       " 'Woodend Primary School': '362',\n",
       " 'Woodford Primary School': '439',\n",
       " 'Birregurra Primary School': '372',\n",
       " 'Bairnsdale Primary School': '413',\n",
       " 'Gordon Primary School': '297',\n",
       " 'Bright P-12 College': '331',\n",
       " 'Mordialloc Beach Primary School': '308',\n",
       " 'Cobden Primary School': '436',\n",
       " 'Bendigo Primary School': '408',\n",
       " 'Camberwell Primary School': '35',\n",
       " 'Doreen Primary School': '143',\n",
       " 'Diamond Creek Primary School': '397',\n",
       " 'Axedale Primary School': '491',\n",
       " 'Vermont Primary School': '47',\n",
       " 'Balwyn Primary School': '16',\n",
       " 'Scoresby Primary School': '450',\n",
       " 'Wandin Yallock Primary School': '324',\n",
       " 'Chewton Primary School': '430',\n",
       " 'Kew Primary School': '356',\n",
       " 'Haddon Primary School': '229',\n",
       " 'Yackandandah Primary School': '136',\n",
       " 'Moorabbin Primary School': '237',\n",
       " 'Panton Hill Primary School': '119',\n",
       " 'Inverleigh Primary School': '156',\n",
       " 'Glen Iris Primary School': '120',\n",
       " 'Quarry Hill Primary School': '398',\n",
       " 'Albert Park Primary School': '306',\n",
       " 'Williamstown Primary School': '351',\n",
       " 'Upper Plenty Primary School': '420',\n",
       " 'Carlton North Primary School': '218',\n",
       " 'Woori Yallock Primary School': '474',\n",
       " 'Marysville Primary School': '266',\n",
       " 'Cowes Primary School': '366',\n",
       " 'Clifton Hill Primary School': '144',\n",
       " 'Mount Eliza Primary School': '453',\n",
       " 'Northcote Primary School': '285',\n",
       " 'North Melbourne Primary School': '182',\n",
       " 'Williamstown North Primary School': '185',\n",
       " 'Toolamba Primary School': '354',\n",
       " 'St Kilda Primary School': '169',\n",
       " 'Fitzroy North Primary School': '103',\n",
       " 'Preston Primary School': '250',\n",
       " 'Glenferrie Primary School': '62',\n",
       " 'Brighton Primary School': '342',\n",
       " 'Barwon Heads Primary School': '415',\n",
       " 'Maiden Gully Primary School': '471',\n",
       " 'Oakleigh Primary School': '206',\n",
       " 'Malvern Central School': '68',\n",
       " 'Macedon Primary School': '332',\n",
       " 'Balnarring Primary School': '347',\n",
       " 'Puckapunyal Primary School': '200',\n",
       " 'Footscray City Primary School': '97',\n",
       " 'Mount Blowhard Primary School': '267',\n",
       " 'Brighton Beach Primary School': '170',\n",
       " 'Castlemaine North Primary School': '333',\n",
       " 'Chilwell Primary School': '72',\n",
       " 'Greensborough Primary School': '369',\n",
       " 'Coleraine Primary School': '246',\n",
       " 'Mulgrave Primary School': '301',\n",
       " 'Kinglake Primary School': '312',\n",
       " 'Tambo Upper Primary School': '223',\n",
       " 'Magpie Primary School': '303',\n",
       " 'Paynesville Primary School': '102',\n",
       " 'Kensington Primary School': '116',\n",
       " 'Ivanhoe Primary School': '100',\n",
       " 'St Kilda Park Primary School': '73',\n",
       " 'Malvern Primary School': '122',\n",
       " 'Carlton Gardens Primary School': '199',\n",
       " 'Ascot Vale Primary School': '249',\n",
       " 'Armadale Primary School': '87',\n",
       " 'Fairfield Primary School': '193',\n",
       " 'Brunswick South Primary School': '448',\n",
       " 'Surrey Hills Primary School': '141',\n",
       " 'Middle Park Primary School': '242',\n",
       " 'Yarraville West Primary School': '105',\n",
       " 'Elsternwick Primary School': '378',\n",
       " 'Carnegie Primary School': '77',\n",
       " 'Mitcham Primary School': '180',\n",
       " 'Blackburn Primary School': '195',\n",
       " 'Port Melbourne Primary School': '325',\n",
       " 'Auburn Primary School': '344',\n",
       " 'Research Primary School': '492',\n",
       " 'Toorak Primary School': '83',\n",
       " 'Fish Creek and District Primary School': '289',\n",
       " 'Ormond Primary School': '112',\n",
       " 'Pascoe Vale Primary School': '414',\n",
       " 'Ocean Grove Primary School': '224',\n",
       " 'Merri Creek Primary School': '191',\n",
       " 'Wales Street Primary School': '175',\n",
       " 'Kew East Primary School': '127',\n",
       " 'Wonga Park Primary School': '240',\n",
       " 'Wallington Primary School': '377',\n",
       " 'Emerald Primary School': '243',\n",
       " 'Carrum Primary School': '201',\n",
       " 'Mount Waverley Primary School': '111',\n",
       " 'Murrumbeena Primary School': '80',\n",
       " 'Canterbury Primary School': '43',\n",
       " 'Alphington Primary School': '81',\n",
       " 'Black Rock Primary School': '104',\n",
       " 'Deepdene Primary School': '42',\n",
       " 'Irymple South Primary School': '487',\n",
       " 'Glen Huntly Primary School': '290',\n",
       " 'Hampton Primary School': '76',\n",
       " 'Caulfield Junior College': '226',\n",
       " 'Wattle Park Primary School': '89',\n",
       " 'Preston West Primary School': '52',\n",
       " 'Footscray West Primary School': '399',\n",
       " 'Wandin North Primary School': '405',\n",
       " 'Gardenvale Primary School': '138',\n",
       " 'Beaumaris Primary School': '268',\n",
       " 'Altona Primary School': '213',\n",
       " 'Coburg West Primary School': '233',\n",
       " 'Elwood Primary School': '309',\n",
       " 'Mont Albert Primary School': '135',\n",
       " 'Moonee Ponds Primary School': '225',\n",
       " 'Kingsville Primary School': '451',\n",
       " 'Kallista Primary School': '447',\n",
       " 'Essendon North Primary School': '261',\n",
       " 'Hartwell Primary School': '78',\n",
       " 'Ripponlea Primary School': '247',\n",
       " 'Montmorency Primary School': '360',\n",
       " 'Lloyd Street Primary School': '158',\n",
       " 'Westbreen Primary School': '321',\n",
       " 'Footscray North Primary School': '235',\n",
       " 'Camberwell South Primary School': '327',\n",
       " 'Parkdale Primary School': '128',\n",
       " 'Hughesdale Primary School': '221',\n",
       " 'Westgarth Primary School': '115',\n",
       " 'Auburn South Primary School': '124',\n",
       " 'Aspendale Primary School': '188',\n",
       " 'Eltham North Primary School': '294',\n",
       " 'Aberfeldie Primary School': '227',\n",
       " 'Cardross Primary School': '186',\n",
       " 'Brunswick South West Primary School': '316',\n",
       " 'Chatham Primary School': '310',\n",
       " 'Caulfield South Primary School': '355',\n",
       " 'Ashburton Primary School': '106',\n",
       " 'Bentleigh West Primary School': '31',\n",
       " 'Briar Hill Primary School': '348',\n",
       " 'Mckinnon Primary School': '282',\n",
       " 'Ivanhoe East Primary School': '311',\n",
       " 'Brunswick North West Primary School': '456',\n",
       " 'Sandringham East Primary School': '295',\n",
       " 'Seaholme Primary School': '425',\n",
       " 'Upwey Primary School': '458',\n",
       " 'Coburg North Primary School': '270',\n",
       " 'Rosanna Primary School': '367',\n",
       " 'Wantirna South Primary School': '317',\n",
       " 'Strathmore Primary School': '265',\n",
       " 'Balwyn North Primary School': '142',\n",
       " 'Solway Primary School': '278',\n",
       " 'Newport Gardens Primary School': '411',\n",
       " 'Malvern Valley Primary School': '139',\n",
       " 'Selby Primary School': '319',\n",
       " 'Tucker Road Bentleigh Primary School': '380',\n",
       " 'Katunga Primary School': '493',\n",
       " 'Greythorn Primary School': '93',\n",
       " 'Warragul North Primary School': '370',\n",
       " 'Coatesville Primary School': '271',\n",
       " 'Old Orchard Primary School': '433',\n",
       " 'Huntingdale Primary School': '454',\n",
       " 'Dandenong North Primary School': '357',\n",
       " 'Belle Vue Primary School': '299',\n",
       " 'Banyule Primary School': '86',\n",
       " 'Cheltenham East Primary School': '172',\n",
       " 'Valkstone Primary School': '134',\n",
       " 'Wembley Primary School': '222',\n",
       " 'Bonbeach Primary School': '368',\n",
       " 'Beaumaris North Primary School': '395',\n",
       " 'Mount Pleasant Road Nunawading Primary School': '154',\n",
       " 'Avondale Primary School': '326',\n",
       " 'Beverley Hills Primary School': '7',\n",
       " 'Kerrimuir Primary School': '91',\n",
       " 'Heathmont East Primary School': '236',\n",
       " 'Strathmore North Primary School': '145',\n",
       " 'Oakleigh South Primary School': '8',\n",
       " 'Thomastown East Primary School': '20',\n",
       " 'Mount Waverley Heights Primary School': '96',\n",
       " 'Parktone Primary School': '352',\n",
       " 'Antonio Park Primary School': '183',\n",
       " 'Park Orchards Primary School': '88',\n",
       " 'Blackburn Lake Primary School': '129',\n",
       " 'Laburnum Primary School': '107',\n",
       " 'Bellaire Primary School': '251',\n",
       " 'Pinewood Primary School': '51',\n",
       " 'Parkmore Primary School': '480',\n",
       " 'Viewbank Primary School': '238',\n",
       " 'Greenhills Primary School': '259',\n",
       " 'Eltham East Primary School': '48',\n",
       " 'Essex Heights Primary School': '239',\n",
       " 'Mountain Gate Primary School': '164',\n",
       " 'Southmoor Primary School': '26',\n",
       " 'Ringwood Heights Primary School': '318',\n",
       " 'Ruskin Park Primary School': '476',\n",
       " 'Fyans Park Primary School': '161',\n",
       " 'Mount View Primary School': '45',\n",
       " 'Syndal South Primary School': '163',\n",
       " 'Montmorency South Primary School': '244',\n",
       " 'Burwood Heights Primary School': '98',\n",
       " 'Watsonia Heights Primary School': '283',\n",
       " 'Donvale Primary School': '162',\n",
       " 'Boronia Heights Primary School': '444',\n",
       " 'Bayswater South Primary School': '320',\n",
       " 'Templestowe Valley Primary School': '313',\n",
       " 'Highvale Primary School': '74',\n",
       " 'Watsonia North Primary School': '440',\n",
       " 'Knox Park Primary School': '462',\n",
       " 'Birralee Primary School': '71',\n",
       " 'Derinya Primary School': '210',\n",
       " 'Templestowe Heights Primary School': '166',\n",
       " 'Glendal Primary School': '19',\n",
       " 'Donburn Primary School': '187',\n",
       " 'Brandon Park Primary School': '85',\n",
       " 'Richmond West Primary School': '452',\n",
       " 'Marlborough Primary School': '374',\n",
       " 'Wallarano Primary School': '460',\n",
       " 'Tinternvale Primary School': '322',\n",
       " 'Wheelers Hill Primary School': '28',\n",
       " 'Kingston Heath Primary School': '304',\n",
       " 'Andersons Creek Primary School': '241',\n",
       " 'Kingswood Primary School': '409',\n",
       " 'Camelot Rise Primary School': '36',\n",
       " 'Livingstone Primary School': '63',\n",
       " 'St Albans Meadows Primary School': '426',\n",
       " 'Templestowe Park Primary School': '165',\n",
       " 'Dorset Primary School': '434',\n",
       " 'Mount Eliza North Primary School': '215',\n",
       " 'Weeden Heights Primary School': '465',\n",
       " 'Serpell Primary School': '10',\n",
       " 'Jells Park Primary School': '262',\n",
       " 'Kunyung Primary School': '363',\n",
       " 'Apollo Parkways Primary School': '286',\n",
       " 'Templeton Primary School': '64',\n",
       " 'Milgate Primary School': '209',\n",
       " 'Knox Gardens Primary School': '37',\n",
       " 'Rolling Hills Primary School': '481',\n",
       " 'Croydon Hills Primary School': '253',\n",
       " 'Richmond Primary School': '260',\n",
       " 'Yarra Primary School': '475',\n",
       " 'Park Ridge Primary School': '361',\n",
       " 'Orchard Grove Primary School': '137',\n",
       " 'Boroondara Park Primary School': '192',\n",
       " 'Thomas Mitchell Primary School': '292',\n",
       " 'Aspendale Gardens Primary School': '330',\n",
       " 'Brentwood Park Primary School': '168',\n",
       " 'Cambridge Primary School': '494',\n",
       " 'Seabrook Primary School': '298',\n",
       " 'Oatlands Primary School': '488',\n",
       " 'Courtenay Gardens Primary School': '466',\n",
       " 'Niddrie Primary School': '445',\n",
       " 'Roberts McCubbin Primary School': '410',\n",
       " 'Glen Waverley Primary School': '46',\n",
       " 'Mount Waverley North Primary School': '152',\n",
       " 'Rangeview Primary School': '153',\n",
       " 'Glen Waverley South Primary School': '391',\n",
       " 'Woorinen District Primary School': '157',\n",
       " 'Doncaster Gardens Primary School': '21',\n",
       " 'Great Ryrie Primary School': '497',\n",
       " 'Caulfield Primary School': '99',\n",
       " 'Kororoit Creek Primary School': '149',\n",
       " 'Truganina P-9 College': '383',\n",
       " 'Alamanda K-9 College': '167',\n",
       " 'Whitehorse Primary School': '314',\n",
       " 'Keysborough Primary School': '495',\n",
       " 'Lyndale Greens Primary School': '441',\n",
       " 'Glenroy Central Primary School': '422',\n",
       " 'Tulliallan Primary School': '234',\n",
       " 'Aireys Inlet Primary School': '147',\n",
       " 'Apollo Bay P-12 College': '245',\n",
       " 'Dunkeld Consolidated School': '132',\n",
       " 'Port Fairy Consolidated School': '406',\n",
       " 'Red Hill Consolidated School': '338',\n",
       " 'Wodonga Middle Years College': '499',\n",
       " 'Wesley College': '202',\n",
       " \"Korowa Anglican Girls' School\": '22',\n",
       " \"St Patrick's School\": '346',\n",
       " \"St Mary's School\": '159',\n",
       " 'Sacred Heart School': '203',\n",
       " \"Ruyton Girls' School\": '54',\n",
       " 'Caulfield Grammar School': '92',\n",
       " \"St Michael's School\": '155',\n",
       " \"St Aloysius' School\": '305',\n",
       " \"St Joseph's School\": '113',\n",
       " 'Sacre Coeur': '176',\n",
       " 'Tarrington Lutheran School': '412',\n",
       " \"St Monica's School\": '358',\n",
       " \"St James' School\": '248',\n",
       " \"St Peter's School\": '345',\n",
       " \"Methodist Ladies' College\": '41',\n",
       " 'Ballarat Clarendon College': '3',\n",
       " 'Christ Church Grammar School': '14',\n",
       " \"St Paul's School\": '211',\n",
       " \"Fintona Girls' School\": '5',\n",
       " \"Lauriston Girls' School\": '30',\n",
       " 'Xavier College': '284',\n",
       " \"St Bernard's School\": '479',\n",
       " 'Geelong Grammar School': '190',\n",
       " 'Trinity Grammar School Kew': '56',\n",
       " 'Melbourne Girls Grammar': '65',\n",
       " \"St John's School\": '489',\n",
       " \"Presbyterian Ladies' College\": '1',\n",
       " \"St Monica's Primary School\": '484',\n",
       " 'Our Holy Redeemer School': '219',\n",
       " 'Genazzano FCJ College': '40',\n",
       " \"St Michael's Grammar School\": '275',\n",
       " 'Firbank Grammar School': '24',\n",
       " \"St Columba's School\": '343',\n",
       " 'Our Lady Help of Christians School': '108',\n",
       " \"St Anthony's School\": '485',\n",
       " \"St Margaret Mary's School\": '483',\n",
       " 'Westbourne Grammar School': '58',\n",
       " 'Ivanhoe Grammar School': '150',\n",
       " 'St James School': '382',\n",
       " 'Scotch College': '9',\n",
       " \"St Leonard's College\": '33',\n",
       " 'Holy Rosary School': '437',\n",
       " 'Tintern Grammar': '173',\n",
       " 'Toorak College': '55',\n",
       " \"St Catherine's School\": '117',\n",
       " 'Lowther Hall Anglican Grammar School': '207',\n",
       " 'St Joan of Arc School': '95',\n",
       " \"Shelford Girls' Grammar\": '118',\n",
       " 'Mary Immaculate School': '446',\n",
       " 'Our Lady of Lourdes School': '67',\n",
       " 'Mentone Grammar School': '263',\n",
       " \"Ivanhoe Girls' Grammar School\": '38',\n",
       " 'Carey Baptist Grammar School': '23',\n",
       " 'Kilvington Grammar School': '61',\n",
       " 'Haileybury College': '2',\n",
       " \"St Therese's School\": '387',\n",
       " 'Our Lady of Good Counsel School': '421',\n",
       " \"Strathcona Baptist Girls' Grammar\": '69',\n",
       " \"St Kevin's School\": '130',\n",
       " \"Mentone Girls' Grammar School\": '12',\n",
       " \"St Finbar's School\": '336',\n",
       " 'Loreto Mandeville Hall': '27',\n",
       " \"St Dominic's School\": '82',\n",
       " 'Camberwell Grammar School': '11',\n",
       " 'Brighton Grammar School': '70',\n",
       " 'Huntingtower School': '6',\n",
       " \"St Francis Xavier's School\": '376',\n",
       " 'Kingswood College': '53',\n",
       " \"St Roch's School\": '131',\n",
       " \"St Margaret's School\": '59',\n",
       " 'Camberwell Girls Grammar School': '29',\n",
       " \"St Anne's School\": '293',\n",
       " \"St Cecilia's School\": '50',\n",
       " \"St Mark's School\": '300',\n",
       " \"St Raphael's School\": '349',\n",
       " \"St Kevin's College\": '60',\n",
       " \"St Vincent de Paul's School\": '189',\n",
       " 'Holy Name School': '463',\n",
       " \"St Robert's School\": '252',\n",
       " \"St Bede's School\": '442',\n",
       " 'Mount Scopus Memorial College': '288',\n",
       " \"St Theresa's School\": '393',\n",
       " \"St Bernadette's School\": '230',\n",
       " 'Resurrection House': '329',\n",
       " 'Holy Spirit School': '496',\n",
       " 'St Thomas the Apostle School': '280',\n",
       " 'Yeshivah College': '388',\n",
       " 'Stella Maris School': '423',\n",
       " 'Beth Rivkah Ladies College': '197',\n",
       " \"St Margaret's Primary School\": '216',\n",
       " 'Our Lady of Perpetual Succour School': '178',\n",
       " 'St Martin of Tours School': '384',\n",
       " 'Our Lady of the Nativity School': '373',\n",
       " \"St Bridget's School\": '256',\n",
       " \"St Leonard's School\": '194',\n",
       " \"St Christopher's School\": '274',\n",
       " \"St John Vianney's School\": '459',\n",
       " 'Peninsula Grammar': '272',\n",
       " \"St John's Lutheran School Geelong\": '390',\n",
       " 'Bialik College': '148',\n",
       " 'Our Lady of the Way School': '417',\n",
       " 'St Luke the Evangelist School': '254',\n",
       " 'St Clement of Rome School': '196',\n",
       " \"St Joseph's Primary School\": '337',\n",
       " \"St Louis de Montfort's School\": '276',\n",
       " \"St Philip's School\": '269',\n",
       " \"St Damian's School\": '394',\n",
       " 'Yarra Valley Grammar': '181',\n",
       " 'St Gregory the Great School': '174',\n",
       " 'Maranatha Christian School': '273',\n",
       " 'Good Shepherd School': '49',\n",
       " 'Eltham College': '490',\n",
       " 'Donvale Christian College': '146',\n",
       " 'Sholem Aleichem College': '34',\n",
       " 'Our Lady of the Pines School': '350',\n",
       " \"St Paul's Kealba Catholic School\": '386',\n",
       " 'Waverley Christian College': '15',\n",
       " 'The King David School': '140',\n",
       " 'Nazareth School': '339',\n",
       " 'Northside Christian College': '264',\n",
       " 'Good Shepherd Lutheran Primary School': '57',\n",
       " 'Oxley Christian College': '220',\n",
       " 'Olivet Christian College': '500',\n",
       " 'St Thomas More School': '431',\n",
       " 'St Francis of Assisi School': '402',\n",
       " 'Christian College Highton': '359',\n",
       " 'Fitzroy Community School': '4',\n",
       " 'St Paul Apostle South School': '449',\n",
       " 'Plenty Valley Christian College': '469',\n",
       " 'Village School': '461',\n",
       " 'The Knox School': '25',\n",
       " 'Heathdale Christian College': '110',\n",
       " 'Hillcrest Christian College': '340',\n",
       " \"St Paul's Anglican Grammar School\": '231',\n",
       " 'Beaconhills College': '392',\n",
       " \"St Bernadette's Catholic Primary School\": '472',\n",
       " 'Oakleigh Grammar': '217',\n",
       " 'St Andrews Christian College': '13',\n",
       " 'Flinders Christian Community College': '403',\n",
       " \"St Justin's School\": '498',\n",
       " \"King's College\": '389',\n",
       " 'Overnewton Anglican Community College': '198',\n",
       " 'Holy Trinity Primary School': '32',\n",
       " 'Bacchus Marsh Grammar': '205',\n",
       " 'Lighthouse Christian College': '281',\n",
       " 'Alphington Grammar School': '123',\n",
       " 'The Kilmore International School': '212',\n",
       " 'Victory Lutheran College': '427',\n",
       " 'Girton Grammar School': '379',\n",
       " 'Galilee Regional Catholic Primary School': '208',\n",
       " 'Casey Grammar School': '94',\n",
       " 'Christian College Bellarine': '455',\n",
       " 'Kardinia International College': '365',\n",
       " 'Good News Lutheran College': '179',\n",
       " 'Sirius College': '443',\n",
       " 'Emmaus Catholic Primary School': '464',\n",
       " 'Shepparton Christian College Ltd': '470',\n",
       " 'Darul Ulum College of Victoria': '438',\n",
       " 'Aitken College': '432',\n",
       " 'Yesodei HaTorah College': '277',\n",
       " 'Lakeside College': '428',\n",
       " 'Beechworth Montessori School': '255',\n",
       " 'Deutsche Schule Melbourne': '151',\n",
       " 'Hume Anglican Grammar': '404',\n",
       " 'Lighthouse Christian College Cranbourne': '18',\n",
       " 'Woodleigh School': '296',\n",
       " 'Melbourne Grammar School': '79',\n",
       " 'Southern Cross Grammar': '171',\n",
       " 'Cornish College': '232',\n",
       " 'Melbourne Montessori School': '75',\n",
       " 'Heatherton Christian College': '114',\n",
       " 'Edinburgh College': '291'}"
      ]
     },
     "execution_count": 119,
     "metadata": {},
     "output_type": "execute_result"
    }
   ],
   "source": [
    "dicti"
   ]
  },
  {
   "cell_type": "markdown",
   "metadata": {},
   "source": [
    "Next, we check if each school in our original dataset has a rank. If not, we add \"not ranked\" to the list."
   ]
  },
  {
   "cell_type": "code",
   "execution_count": 120,
   "metadata": {},
   "outputs": [],
   "source": [
    "ranks_pri=[]\n",
    "for item in name_of_school:\n",
    "    if item in dicti.keys():\n",
    "        ranks_pri.append(dicti[item])\n",
    "    else:\n",
    "        ranks_pri.append(\"not ranked\")"
   ]
  },
  {
   "cell_type": "code",
   "execution_count": 121,
   "metadata": {},
   "outputs": [
    {
     "name": "stdout",
     "output_type": "stream",
     "text": [
      "232\n"
     ]
    }
   ],
   "source": [
    "count=0\n",
    "for item in ranks_pri:\n",
    "    if item==\"not ranked\":\n",
    "        count=count+1\n",
    "print(count)"
   ]
  },
  {
   "cell_type": "code",
   "execution_count": 122,
   "metadata": {},
   "outputs": [],
   "source": [
    "initial_dataset['primary_school_ranking']= ranks_pri"
   ]
  },
  {
   "cell_type": "code",
   "execution_count": 123,
   "metadata": {},
   "outputs": [
    {
     "data": {
      "text/html": [
       "<div>\n",
       "<style scoped>\n",
       "    .dataframe tbody tr th:only-of-type {\n",
       "        vertical-align: middle;\n",
       "    }\n",
       "\n",
       "    .dataframe tbody tr th {\n",
       "        vertical-align: top;\n",
       "    }\n",
       "\n",
       "    .dataframe thead th {\n",
       "        text-align: right;\n",
       "    }\n",
       "</style>\n",
       "<table border=\"1\" class=\"dataframe\">\n",
       "  <thead>\n",
       "    <tr style=\"text-align: right;\">\n",
       "      <th></th>\n",
       "      <th>ID</th>\n",
       "      <th>Address</th>\n",
       "      <th>Suburb</th>\n",
       "      <th>Price</th>\n",
       "      <th>Type</th>\n",
       "      <th>Date</th>\n",
       "      <th>Rooms</th>\n",
       "      <th>Bathroom</th>\n",
       "      <th>Car</th>\n",
       "      <th>LandSize</th>\n",
       "      <th>...</th>\n",
       "      <th>travel_min_to_CBD</th>\n",
       "      <th>over_priced?</th>\n",
       "      <th>crime_A_average</th>\n",
       "      <th>crime_B_average</th>\n",
       "      <th>crime_C_average</th>\n",
       "      <th>closest_primary_school</th>\n",
       "      <th>distance_to_closest_primary</th>\n",
       "      <th>closest_secondary_school</th>\n",
       "      <th>distance_to_closest secondary</th>\n",
       "      <th>primary_school_ranking</th>\n",
       "    </tr>\n",
       "  </thead>\n",
       "  <tbody>\n",
       "    <tr>\n",
       "      <th>0</th>\n",
       "      <td>ID275585343</td>\n",
       "      <td>15 Kwinana Ct</td>\n",
       "      <td>IVANHOE</td>\n",
       "      <td>1223500.0</td>\n",
       "      <td>h</td>\n",
       "      <td>22/08/2016</td>\n",
       "      <td>3</td>\n",
       "      <td>2.0</td>\n",
       "      <td>2.0</td>\n",
       "      <td>721.0</td>\n",
       "      <td>...</td>\n",
       "      <td>25.933333</td>\n",
       "      <td>False</td>\n",
       "      <td>555.666667</td>\n",
       "      <td>1129.000000</td>\n",
       "      <td>160.666667</td>\n",
       "      <td>St Bernadette's School</td>\n",
       "      <td>814.075665</td>\n",
       "      <td>Ivanhoe Girls' Grammar School</td>\n",
       "      <td>962.797657</td>\n",
       "      <td>230</td>\n",
       "    </tr>\n",
       "    <tr>\n",
       "      <th>1</th>\n",
       "      <td>ID192443486</td>\n",
       "      <td>3/123 Waterdale Rd</td>\n",
       "      <td>IVANHOE</td>\n",
       "      <td>962000.0</td>\n",
       "      <td>t</td>\n",
       "      <td>4/03/2017</td>\n",
       "      <td>3</td>\n",
       "      <td>2.0</td>\n",
       "      <td>1.0</td>\n",
       "      <td>108.0</td>\n",
       "      <td>...</td>\n",
       "      <td>25.933333</td>\n",
       "      <td>False</td>\n",
       "      <td>1593.333333</td>\n",
       "      <td>6648.333333</td>\n",
       "      <td>530.000000</td>\n",
       "      <td>Ivanhoe Primary School</td>\n",
       "      <td>44.771452</td>\n",
       "      <td>Ivanhoe Girls' Grammar School</td>\n",
       "      <td>338.081346</td>\n",
       "      <td>100</td>\n",
       "    </tr>\n",
       "    <tr>\n",
       "      <th>2</th>\n",
       "      <td>ID832311250</td>\n",
       "      <td>5/22 Oriel Rd</td>\n",
       "      <td>IVANHOE</td>\n",
       "      <td>790000.0</td>\n",
       "      <td>h</td>\n",
       "      <td>10/09/2016</td>\n",
       "      <td>2</td>\n",
       "      <td>1.0</td>\n",
       "      <td>1.0</td>\n",
       "      <td>221.0</td>\n",
       "      <td>...</td>\n",
       "      <td>25.933333</td>\n",
       "      <td>False</td>\n",
       "      <td>431.333333</td>\n",
       "      <td>971.000000</td>\n",
       "      <td>220.666667</td>\n",
       "      <td>St Bernadette's School</td>\n",
       "      <td>308.062046</td>\n",
       "      <td>Ivanhoe Girls' Grammar School</td>\n",
       "      <td>943.543463</td>\n",
       "      <td>230</td>\n",
       "    </tr>\n",
       "    <tr>\n",
       "      <th>3</th>\n",
       "      <td>ID180899571</td>\n",
       "      <td>3/204 The Boulevard</td>\n",
       "      <td>IVANHOE EAST</td>\n",
       "      <td>405000.0</td>\n",
       "      <td>u</td>\n",
       "      <td>28/08/2016</td>\n",
       "      <td>1</td>\n",
       "      <td>1.0</td>\n",
       "      <td>1.0</td>\n",
       "      <td>0.0</td>\n",
       "      <td>...</td>\n",
       "      <td>25.933333</td>\n",
       "      <td>False</td>\n",
       "      <td>268.333333</td>\n",
       "      <td>736.000000</td>\n",
       "      <td>128.333333</td>\n",
       "      <td>Ivanhoe East Primary School</td>\n",
       "      <td>510.776758</td>\n",
       "      <td>Ivanhoe Grammar School</td>\n",
       "      <td>981.861707</td>\n",
       "      <td>311</td>\n",
       "    </tr>\n",
       "    <tr>\n",
       "      <th>4</th>\n",
       "      <td>ID875641100</td>\n",
       "      <td>32 Ailsa Gr</td>\n",
       "      <td>IVANHOE</td>\n",
       "      <td>1850000.0</td>\n",
       "      <td>h</td>\n",
       "      <td>18/03/2017</td>\n",
       "      <td>3</td>\n",
       "      <td>2.0</td>\n",
       "      <td>2.0</td>\n",
       "      <td>684.0</td>\n",
       "      <td>...</td>\n",
       "      <td>25.933333</td>\n",
       "      <td>False</td>\n",
       "      <td>288.000000</td>\n",
       "      <td>712.000000</td>\n",
       "      <td>75.666667</td>\n",
       "      <td>Ivanhoe Primary School</td>\n",
       "      <td>340.964357</td>\n",
       "      <td>Ivanhoe Girls' Grammar School</td>\n",
       "      <td>665.508500</td>\n",
       "      <td>100</td>\n",
       "    </tr>\n",
       "  </tbody>\n",
       "</table>\n",
       "<p>5 rows × 25 columns</p>\n",
       "</div>"
      ],
      "text/plain": [
       "            ID              Address        Suburb      Price Type        Date  \\\n",
       "0  ID275585343        15 Kwinana Ct       IVANHOE  1223500.0    h  22/08/2016   \n",
       "1  ID192443486   3/123 Waterdale Rd       IVANHOE   962000.0    t   4/03/2017   \n",
       "2  ID832311250        5/22 Oriel Rd       IVANHOE   790000.0    h  10/09/2016   \n",
       "3  ID180899571  3/204 The Boulevard  IVANHOE EAST   405000.0    u  28/08/2016   \n",
       "4  ID875641100          32 Ailsa Gr       IVANHOE  1850000.0    h  18/03/2017   \n",
       "\n",
       "   Rooms  Bathroom  Car  LandSize           ...            travel_min_to_CBD  \\\n",
       "0      3       2.0  2.0     721.0           ...                    25.933333   \n",
       "1      3       2.0  1.0     108.0           ...                    25.933333   \n",
       "2      2       1.0  1.0     221.0           ...                    25.933333   \n",
       "3      1       1.0  1.0       0.0           ...                    25.933333   \n",
       "4      3       2.0  2.0     684.0           ...                    25.933333   \n",
       "\n",
       "   over_priced?  crime_A_average  crime_B_average  crime_C_average  \\\n",
       "0         False       555.666667      1129.000000       160.666667   \n",
       "1         False      1593.333333      6648.333333       530.000000   \n",
       "2         False       431.333333       971.000000       220.666667   \n",
       "3         False       268.333333       736.000000       128.333333   \n",
       "4         False       288.000000       712.000000        75.666667   \n",
       "\n",
       "        closest_primary_school  distance_to_closest_primary  \\\n",
       "0       St Bernadette's School                   814.075665   \n",
       "1       Ivanhoe Primary School                    44.771452   \n",
       "2       St Bernadette's School                   308.062046   \n",
       "3  Ivanhoe East Primary School                   510.776758   \n",
       "4       Ivanhoe Primary School                   340.964357   \n",
       "\n",
       "        closest_secondary_school  distance_to_closest secondary  \\\n",
       "0  Ivanhoe Girls' Grammar School                     962.797657   \n",
       "1  Ivanhoe Girls' Grammar School                     338.081346   \n",
       "2  Ivanhoe Girls' Grammar School                     943.543463   \n",
       "3         Ivanhoe Grammar School                     981.861707   \n",
       "4  Ivanhoe Girls' Grammar School                     665.508500   \n",
       "\n",
       "   primary_school_ranking  \n",
       "0                     230  \n",
       "1                     100  \n",
       "2                     230  \n",
       "3                     311  \n",
       "4                     100  \n",
       "\n",
       "[5 rows x 25 columns]"
      ]
     },
     "execution_count": 123,
     "metadata": {},
     "output_type": "execute_result"
    }
   ],
   "source": [
    "initial_dataset.head()"
   ]
  },
  {
   "cell_type": "markdown",
   "metadata": {},
   "source": [
    "For secondary schools, the webset required authentication. Therefore, we downloaded the html file (attached) and parsed through it to get the required data."
   ]
  },
  {
   "cell_type": "code",
   "execution_count": 124,
   "metadata": {},
   "outputs": [],
   "source": [
    "file = open(\"view-source_https___sites.google.com_a_monash.edu_secondary-school-ranking_.htm\", \"r\")\n",
    "text = file.read()"
   ]
  },
  {
   "cell_type": "code",
   "execution_count": 125,
   "metadata": {},
   "outputs": [],
   "source": [
    "text=re.sub('\\n', ' ', text)"
   ]
  },
  {
   "cell_type": "code",
   "execution_count": 126,
   "metadata": {},
   "outputs": [],
   "source": [
    "regex= r'<li>(.*?)</li>'\n",
    "secondaryschoolranks= re.findall(regex, text, flags=16)"
   ]
  },
  {
   "cell_type": "code",
   "execution_count": 127,
   "metadata": {},
   "outputs": [
    {
     "data": {
      "text/plain": [
       "' <div>Academy of Mary Immaculate</div> <div>144</div> <div>-28</div> <div>31</div> <div>7.1%</div> '"
      ]
     },
     "execution_count": 127,
     "metadata": {},
     "output_type": "execute_result"
    }
   ],
   "source": [
    "secondaryschoolranks[0]"
   ]
  },
  {
   "cell_type": "markdown",
   "metadata": {},
   "source": [
    "We created a dictionary of the school name as key and its rank as the value. "
   ]
  },
  {
   "cell_type": "code",
   "execution_count": 128,
   "metadata": {},
   "outputs": [],
   "source": [
    "dicti_sec=dict()\n",
    "for item in secondaryschoolranks:\n",
    "    schooltemp=re.findall(r'<div>(.*?)</div>', item, flags=16)\n",
    "    temp_name=schooltemp[0] #getting the name from the list found above\n",
    "    temp_rank=schooltemp[1] #getting the rank from the list found above\n",
    "    if temp_name in dicti_sec.keys():\n",
    "        if temp_rank<dicti_sec[temp_name]: #making sure that the rank is the minimum (ie best rank)\n",
    "            dicti_sec[temp_name]=temp_rank\n",
    "    else:\n",
    "        dicti_sec[temp_name]= temp_rank"
   ]
  },
  {
   "cell_type": "markdown",
   "metadata": {},
   "source": [
    "finally we created a list to check if the secondary school in the original dataset has a rank or not. The rank is added to the list if the rank exisits else \"not ranked\" is added to the list."
   ]
  },
  {
   "cell_type": "code",
   "execution_count": 129,
   "metadata": {},
   "outputs": [],
   "source": [
    "ranks_sec=[]\n",
    "for item in name_of_school_sec:\n",
    "    if item in dicti_sec.keys():\n",
    "        ranks_sec.append(dicti_sec[item])\n",
    "    else:\n",
    "        ranks_sec.append(\"not ranked\")"
   ]
  },
  {
   "cell_type": "code",
   "execution_count": 130,
   "metadata": {},
   "outputs": [
    {
     "data": {
      "text/plain": [
       "680"
      ]
     },
     "execution_count": 130,
     "metadata": {},
     "output_type": "execute_result"
    }
   ],
   "source": [
    "len(name_of_school_sec)"
   ]
  },
  {
   "cell_type": "code",
   "execution_count": 131,
   "metadata": {},
   "outputs": [
    {
     "data": {
      "text/plain": [
       "680"
      ]
     },
     "execution_count": 131,
     "metadata": {},
     "output_type": "execute_result"
    }
   ],
   "source": [
    "len(ranks_sec)"
   ]
  },
  {
   "cell_type": "markdown",
   "metadata": {},
   "source": [
    "The ranks are then added to the final dataset."
   ]
  },
  {
   "cell_type": "code",
   "execution_count": 132,
   "metadata": {},
   "outputs": [],
   "source": [
    "initial_dataset['secondary_school_ranking']= ranks_sec"
   ]
  },
  {
   "cell_type": "code",
   "execution_count": 133,
   "metadata": {},
   "outputs": [
    {
     "data": {
      "text/html": [
       "<div>\n",
       "<style scoped>\n",
       "    .dataframe tbody tr th:only-of-type {\n",
       "        vertical-align: middle;\n",
       "    }\n",
       "\n",
       "    .dataframe tbody tr th {\n",
       "        vertical-align: top;\n",
       "    }\n",
       "\n",
       "    .dataframe thead th {\n",
       "        text-align: right;\n",
       "    }\n",
       "</style>\n",
       "<table border=\"1\" class=\"dataframe\">\n",
       "  <thead>\n",
       "    <tr style=\"text-align: right;\">\n",
       "      <th></th>\n",
       "      <th>ID</th>\n",
       "      <th>Address</th>\n",
       "      <th>Suburb</th>\n",
       "      <th>Price</th>\n",
       "      <th>Type</th>\n",
       "      <th>Date</th>\n",
       "      <th>Rooms</th>\n",
       "      <th>Bathroom</th>\n",
       "      <th>Car</th>\n",
       "      <th>LandSize</th>\n",
       "      <th>...</th>\n",
       "      <th>over_priced?</th>\n",
       "      <th>crime_A_average</th>\n",
       "      <th>crime_B_average</th>\n",
       "      <th>crime_C_average</th>\n",
       "      <th>closest_primary_school</th>\n",
       "      <th>distance_to_closest_primary</th>\n",
       "      <th>closest_secondary_school</th>\n",
       "      <th>distance_to_closest secondary</th>\n",
       "      <th>primary_school_ranking</th>\n",
       "      <th>secondary_school_ranking</th>\n",
       "    </tr>\n",
       "  </thead>\n",
       "  <tbody>\n",
       "    <tr>\n",
       "      <th>0</th>\n",
       "      <td>ID275585343</td>\n",
       "      <td>15 Kwinana Ct</td>\n",
       "      <td>IVANHOE</td>\n",
       "      <td>1223500.0</td>\n",
       "      <td>h</td>\n",
       "      <td>22/08/2016</td>\n",
       "      <td>3</td>\n",
       "      <td>2.0</td>\n",
       "      <td>2.0</td>\n",
       "      <td>721.0</td>\n",
       "      <td>...</td>\n",
       "      <td>False</td>\n",
       "      <td>555.666667</td>\n",
       "      <td>1129.000000</td>\n",
       "      <td>160.666667</td>\n",
       "      <td>St Bernadette's School</td>\n",
       "      <td>814.075665</td>\n",
       "      <td>Ivanhoe Girls' Grammar School</td>\n",
       "      <td>962.797657</td>\n",
       "      <td>230</td>\n",
       "      <td>49</td>\n",
       "    </tr>\n",
       "    <tr>\n",
       "      <th>1</th>\n",
       "      <td>ID192443486</td>\n",
       "      <td>3/123 Waterdale Rd</td>\n",
       "      <td>IVANHOE</td>\n",
       "      <td>962000.0</td>\n",
       "      <td>t</td>\n",
       "      <td>4/03/2017</td>\n",
       "      <td>3</td>\n",
       "      <td>2.0</td>\n",
       "      <td>1.0</td>\n",
       "      <td>108.0</td>\n",
       "      <td>...</td>\n",
       "      <td>False</td>\n",
       "      <td>1593.333333</td>\n",
       "      <td>6648.333333</td>\n",
       "      <td>530.000000</td>\n",
       "      <td>Ivanhoe Primary School</td>\n",
       "      <td>44.771452</td>\n",
       "      <td>Ivanhoe Girls' Grammar School</td>\n",
       "      <td>338.081346</td>\n",
       "      <td>100</td>\n",
       "      <td>49</td>\n",
       "    </tr>\n",
       "    <tr>\n",
       "      <th>2</th>\n",
       "      <td>ID832311250</td>\n",
       "      <td>5/22 Oriel Rd</td>\n",
       "      <td>IVANHOE</td>\n",
       "      <td>790000.0</td>\n",
       "      <td>h</td>\n",
       "      <td>10/09/2016</td>\n",
       "      <td>2</td>\n",
       "      <td>1.0</td>\n",
       "      <td>1.0</td>\n",
       "      <td>221.0</td>\n",
       "      <td>...</td>\n",
       "      <td>False</td>\n",
       "      <td>431.333333</td>\n",
       "      <td>971.000000</td>\n",
       "      <td>220.666667</td>\n",
       "      <td>St Bernadette's School</td>\n",
       "      <td>308.062046</td>\n",
       "      <td>Ivanhoe Girls' Grammar School</td>\n",
       "      <td>943.543463</td>\n",
       "      <td>230</td>\n",
       "      <td>49</td>\n",
       "    </tr>\n",
       "    <tr>\n",
       "      <th>3</th>\n",
       "      <td>ID180899571</td>\n",
       "      <td>3/204 The Boulevard</td>\n",
       "      <td>IVANHOE EAST</td>\n",
       "      <td>405000.0</td>\n",
       "      <td>u</td>\n",
       "      <td>28/08/2016</td>\n",
       "      <td>1</td>\n",
       "      <td>1.0</td>\n",
       "      <td>1.0</td>\n",
       "      <td>0.0</td>\n",
       "      <td>...</td>\n",
       "      <td>False</td>\n",
       "      <td>268.333333</td>\n",
       "      <td>736.000000</td>\n",
       "      <td>128.333333</td>\n",
       "      <td>Ivanhoe East Primary School</td>\n",
       "      <td>510.776758</td>\n",
       "      <td>Ivanhoe Grammar School</td>\n",
       "      <td>981.861707</td>\n",
       "      <td>311</td>\n",
       "      <td>57</td>\n",
       "    </tr>\n",
       "    <tr>\n",
       "      <th>4</th>\n",
       "      <td>ID875641100</td>\n",
       "      <td>32 Ailsa Gr</td>\n",
       "      <td>IVANHOE</td>\n",
       "      <td>1850000.0</td>\n",
       "      <td>h</td>\n",
       "      <td>18/03/2017</td>\n",
       "      <td>3</td>\n",
       "      <td>2.0</td>\n",
       "      <td>2.0</td>\n",
       "      <td>684.0</td>\n",
       "      <td>...</td>\n",
       "      <td>False</td>\n",
       "      <td>288.000000</td>\n",
       "      <td>712.000000</td>\n",
       "      <td>75.666667</td>\n",
       "      <td>Ivanhoe Primary School</td>\n",
       "      <td>340.964357</td>\n",
       "      <td>Ivanhoe Girls' Grammar School</td>\n",
       "      <td>665.508500</td>\n",
       "      <td>100</td>\n",
       "      <td>49</td>\n",
       "    </tr>\n",
       "  </tbody>\n",
       "</table>\n",
       "<p>5 rows × 26 columns</p>\n",
       "</div>"
      ],
      "text/plain": [
       "            ID              Address        Suburb      Price Type        Date  \\\n",
       "0  ID275585343        15 Kwinana Ct       IVANHOE  1223500.0    h  22/08/2016   \n",
       "1  ID192443486   3/123 Waterdale Rd       IVANHOE   962000.0    t   4/03/2017   \n",
       "2  ID832311250        5/22 Oriel Rd       IVANHOE   790000.0    h  10/09/2016   \n",
       "3  ID180899571  3/204 The Boulevard  IVANHOE EAST   405000.0    u  28/08/2016   \n",
       "4  ID875641100          32 Ailsa Gr       IVANHOE  1850000.0    h  18/03/2017   \n",
       "\n",
       "   Rooms  Bathroom  Car  LandSize            ...             over_priced?  \\\n",
       "0      3       2.0  2.0     721.0            ...                    False   \n",
       "1      3       2.0  1.0     108.0            ...                    False   \n",
       "2      2       1.0  1.0     221.0            ...                    False   \n",
       "3      1       1.0  1.0       0.0            ...                    False   \n",
       "4      3       2.0  2.0     684.0            ...                    False   \n",
       "\n",
       "   crime_A_average  crime_B_average  crime_C_average  \\\n",
       "0       555.666667      1129.000000       160.666667   \n",
       "1      1593.333333      6648.333333       530.000000   \n",
       "2       431.333333       971.000000       220.666667   \n",
       "3       268.333333       736.000000       128.333333   \n",
       "4       288.000000       712.000000        75.666667   \n",
       "\n",
       "        closest_primary_school  distance_to_closest_primary  \\\n",
       "0       St Bernadette's School                   814.075665   \n",
       "1       Ivanhoe Primary School                    44.771452   \n",
       "2       St Bernadette's School                   308.062046   \n",
       "3  Ivanhoe East Primary School                   510.776758   \n",
       "4       Ivanhoe Primary School                   340.964357   \n",
       "\n",
       "        closest_secondary_school  distance_to_closest secondary  \\\n",
       "0  Ivanhoe Girls' Grammar School                     962.797657   \n",
       "1  Ivanhoe Girls' Grammar School                     338.081346   \n",
       "2  Ivanhoe Girls' Grammar School                     943.543463   \n",
       "3         Ivanhoe Grammar School                     981.861707   \n",
       "4  Ivanhoe Girls' Grammar School                     665.508500   \n",
       "\n",
       "   primary_school_ranking  secondary_school_ranking  \n",
       "0                     230                        49  \n",
       "1                     100                        49  \n",
       "2                     230                        49  \n",
       "3                     311                        57  \n",
       "4                     100                        49  \n",
       "\n",
       "[5 rows x 26 columns]"
      ]
     },
     "execution_count": 133,
     "metadata": {},
     "output_type": "execute_result"
    }
   ],
   "source": [
    "initial_dataset.head()"
   ]
  },
  {
   "cell_type": "code",
   "execution_count": 134,
   "metadata": {},
   "outputs": [
    {
     "data": {
      "text/html": [
       "<div>\n",
       "<style scoped>\n",
       "    .dataframe tbody tr th:only-of-type {\n",
       "        vertical-align: middle;\n",
       "    }\n",
       "\n",
       "    .dataframe tbody tr th {\n",
       "        vertical-align: top;\n",
       "    }\n",
       "\n",
       "    .dataframe thead th {\n",
       "        text-align: right;\n",
       "    }\n",
       "</style>\n",
       "<table border=\"1\" class=\"dataframe\">\n",
       "  <thead>\n",
       "    <tr style=\"text-align: right;\">\n",
       "      <th></th>\n",
       "      <th>ID</th>\n",
       "      <th>Address</th>\n",
       "      <th>Suburb</th>\n",
       "      <th>Price</th>\n",
       "      <th>Type</th>\n",
       "      <th>Date</th>\n",
       "      <th>Rooms</th>\n",
       "      <th>Bathroom</th>\n",
       "      <th>Car</th>\n",
       "      <th>LandSize</th>\n",
       "      <th>...</th>\n",
       "      <th>over_priced?</th>\n",
       "      <th>crime_A_average</th>\n",
       "      <th>crime_B_average</th>\n",
       "      <th>crime_C_average</th>\n",
       "      <th>closest_primary_school</th>\n",
       "      <th>distance_to_closest_primary</th>\n",
       "      <th>closest_secondary_school</th>\n",
       "      <th>distance_to_closest secondary</th>\n",
       "      <th>primary_school_ranking</th>\n",
       "      <th>secondary_school_ranking</th>\n",
       "    </tr>\n",
       "  </thead>\n",
       "  <tbody>\n",
       "    <tr>\n",
       "      <th>0</th>\n",
       "      <td>ID275585343</td>\n",
       "      <td>15 Kwinana Ct</td>\n",
       "      <td>IVANHOE</td>\n",
       "      <td>1223500.0</td>\n",
       "      <td>h</td>\n",
       "      <td>22/08/2016</td>\n",
       "      <td>3</td>\n",
       "      <td>2.0</td>\n",
       "      <td>2.0</td>\n",
       "      <td>721.0</td>\n",
       "      <td>...</td>\n",
       "      <td>False</td>\n",
       "      <td>555.666667</td>\n",
       "      <td>1129.000000</td>\n",
       "      <td>160.666667</td>\n",
       "      <td>St Bernadette's School</td>\n",
       "      <td>814.075665</td>\n",
       "      <td>Ivanhoe Girls' Grammar School</td>\n",
       "      <td>962.797657</td>\n",
       "      <td>230</td>\n",
       "      <td>49</td>\n",
       "    </tr>\n",
       "    <tr>\n",
       "      <th>1</th>\n",
       "      <td>ID192443486</td>\n",
       "      <td>3/123 Waterdale Rd</td>\n",
       "      <td>IVANHOE</td>\n",
       "      <td>962000.0</td>\n",
       "      <td>t</td>\n",
       "      <td>4/03/2017</td>\n",
       "      <td>3</td>\n",
       "      <td>2.0</td>\n",
       "      <td>1.0</td>\n",
       "      <td>108.0</td>\n",
       "      <td>...</td>\n",
       "      <td>False</td>\n",
       "      <td>1593.333333</td>\n",
       "      <td>6648.333333</td>\n",
       "      <td>530.000000</td>\n",
       "      <td>Ivanhoe Primary School</td>\n",
       "      <td>44.771452</td>\n",
       "      <td>Ivanhoe Girls' Grammar School</td>\n",
       "      <td>338.081346</td>\n",
       "      <td>100</td>\n",
       "      <td>49</td>\n",
       "    </tr>\n",
       "    <tr>\n",
       "      <th>2</th>\n",
       "      <td>ID832311250</td>\n",
       "      <td>5/22 Oriel Rd</td>\n",
       "      <td>IVANHOE</td>\n",
       "      <td>790000.0</td>\n",
       "      <td>h</td>\n",
       "      <td>10/09/2016</td>\n",
       "      <td>2</td>\n",
       "      <td>1.0</td>\n",
       "      <td>1.0</td>\n",
       "      <td>221.0</td>\n",
       "      <td>...</td>\n",
       "      <td>False</td>\n",
       "      <td>431.333333</td>\n",
       "      <td>971.000000</td>\n",
       "      <td>220.666667</td>\n",
       "      <td>St Bernadette's School</td>\n",
       "      <td>308.062046</td>\n",
       "      <td>Ivanhoe Girls' Grammar School</td>\n",
       "      <td>943.543463</td>\n",
       "      <td>230</td>\n",
       "      <td>49</td>\n",
       "    </tr>\n",
       "    <tr>\n",
       "      <th>3</th>\n",
       "      <td>ID180899571</td>\n",
       "      <td>3/204 The Boulevard</td>\n",
       "      <td>IVANHOE EAST</td>\n",
       "      <td>405000.0</td>\n",
       "      <td>u</td>\n",
       "      <td>28/08/2016</td>\n",
       "      <td>1</td>\n",
       "      <td>1.0</td>\n",
       "      <td>1.0</td>\n",
       "      <td>0.0</td>\n",
       "      <td>...</td>\n",
       "      <td>False</td>\n",
       "      <td>268.333333</td>\n",
       "      <td>736.000000</td>\n",
       "      <td>128.333333</td>\n",
       "      <td>Ivanhoe East Primary School</td>\n",
       "      <td>510.776758</td>\n",
       "      <td>Ivanhoe Grammar School</td>\n",
       "      <td>981.861707</td>\n",
       "      <td>311</td>\n",
       "      <td>57</td>\n",
       "    </tr>\n",
       "    <tr>\n",
       "      <th>4</th>\n",
       "      <td>ID875641100</td>\n",
       "      <td>32 Ailsa Gr</td>\n",
       "      <td>IVANHOE</td>\n",
       "      <td>1850000.0</td>\n",
       "      <td>h</td>\n",
       "      <td>18/03/2017</td>\n",
       "      <td>3</td>\n",
       "      <td>2.0</td>\n",
       "      <td>2.0</td>\n",
       "      <td>684.0</td>\n",
       "      <td>...</td>\n",
       "      <td>False</td>\n",
       "      <td>288.000000</td>\n",
       "      <td>712.000000</td>\n",
       "      <td>75.666667</td>\n",
       "      <td>Ivanhoe Primary School</td>\n",
       "      <td>340.964357</td>\n",
       "      <td>Ivanhoe Girls' Grammar School</td>\n",
       "      <td>665.508500</td>\n",
       "      <td>100</td>\n",
       "      <td>49</td>\n",
       "    </tr>\n",
       "  </tbody>\n",
       "</table>\n",
       "<p>5 rows × 26 columns</p>\n",
       "</div>"
      ],
      "text/plain": [
       "            ID              Address        Suburb      Price Type        Date  \\\n",
       "0  ID275585343        15 Kwinana Ct       IVANHOE  1223500.0    h  22/08/2016   \n",
       "1  ID192443486   3/123 Waterdale Rd       IVANHOE   962000.0    t   4/03/2017   \n",
       "2  ID832311250        5/22 Oriel Rd       IVANHOE   790000.0    h  10/09/2016   \n",
       "3  ID180899571  3/204 The Boulevard  IVANHOE EAST   405000.0    u  28/08/2016   \n",
       "4  ID875641100          32 Ailsa Gr       IVANHOE  1850000.0    h  18/03/2017   \n",
       "\n",
       "   Rooms  Bathroom  Car  LandSize            ...             over_priced?  \\\n",
       "0      3       2.0  2.0     721.0            ...                    False   \n",
       "1      3       2.0  1.0     108.0            ...                    False   \n",
       "2      2       1.0  1.0     221.0            ...                    False   \n",
       "3      1       1.0  1.0       0.0            ...                    False   \n",
       "4      3       2.0  2.0     684.0            ...                    False   \n",
       "\n",
       "   crime_A_average  crime_B_average  crime_C_average  \\\n",
       "0       555.666667      1129.000000       160.666667   \n",
       "1      1593.333333      6648.333333       530.000000   \n",
       "2       431.333333       971.000000       220.666667   \n",
       "3       268.333333       736.000000       128.333333   \n",
       "4       288.000000       712.000000        75.666667   \n",
       "\n",
       "        closest_primary_school  distance_to_closest_primary  \\\n",
       "0       St Bernadette's School                   814.075665   \n",
       "1       Ivanhoe Primary School                    44.771452   \n",
       "2       St Bernadette's School                   308.062046   \n",
       "3  Ivanhoe East Primary School                   510.776758   \n",
       "4       Ivanhoe Primary School                   340.964357   \n",
       "\n",
       "        closest_secondary_school  distance_to_closest secondary  \\\n",
       "0  Ivanhoe Girls' Grammar School                     962.797657   \n",
       "1  Ivanhoe Girls' Grammar School                     338.081346   \n",
       "2  Ivanhoe Girls' Grammar School                     943.543463   \n",
       "3         Ivanhoe Grammar School                     981.861707   \n",
       "4  Ivanhoe Girls' Grammar School                     665.508500   \n",
       "\n",
       "   primary_school_ranking  secondary_school_ranking  \n",
       "0                     230                        49  \n",
       "1                     100                        49  \n",
       "2                     230                        49  \n",
       "3                     311                        57  \n",
       "4                     100                        49  \n",
       "\n",
       "[5 rows x 26 columns]"
      ]
     },
     "execution_count": 134,
     "metadata": {},
     "output_type": "execute_result"
    }
   ],
   "source": [
    "initial_dataset.head()\n",
    "#Change column names, order\n",
    "#write to csv"
   ]
  },
  {
   "cell_type": "code",
   "execution_count": 135,
   "metadata": {},
   "outputs": [
    {
     "data": {
      "text/plain": [
       "Index(['ID', 'Address', 'Suburb', 'Price', 'Type', 'Date', 'Rooms', 'Bathroom',\n",
       "       'Car', 'LandSize', 'Age', 'Latitude', 'Longtitude',\n",
       "       'distance_to_train_station', 'train_station_id', 'travel_min_to_CBD',\n",
       "       'over_priced?', 'crime_A_average', 'crime_B_average', 'crime_C_average',\n",
       "       'closest_primary_school', 'distance_to_closest_primary',\n",
       "       'closest_secondary_school', 'distance_to_closest secondary',\n",
       "       'primary_school_ranking', 'secondary_school_ranking'],\n",
       "      dtype='object')"
      ]
     },
     "execution_count": 135,
     "metadata": {},
     "output_type": "execute_result"
    }
   ],
   "source": [
    "initial_dataset.columns"
   ]
  },
  {
   "cell_type": "code",
   "execution_count": 136,
   "metadata": {},
   "outputs": [],
   "source": [
    "initial_dataset = initial_dataset[['ID', 'Address', 'Suburb', 'Price', 'Type', 'Date', 'Rooms', 'Bathroom', 'Car', 'LandSize', 'Age', 'Latitude', 'Longtitude','train_station_id','distance_to_train_station', 'travel_min_to_CBD', 'over_priced?', 'crime_A_average', 'crime_B_average', 'crime_C_average', 'closest_primary_school', 'distance_to_closest_primary', 'primary_school_ranking', 'closest_secondary_school', 'distance_to_closest secondary', 'secondary_school_ranking']]\n",
    "initial_dataset.rename(columns={'Longtitude':'Longitude'}, inplace=True)"
   ]
  },
  {
   "cell_type": "code",
   "execution_count": 137,
   "metadata": {},
   "outputs": [],
   "source": [
    "initial_dataset.to_csv('Group017_solution.csv', index = False)"
   ]
  },
  {
   "cell_type": "markdown",
   "metadata": {},
   "source": [
    "## 3. Data Reshaping"
   ]
  },
  {
   "cell_type": "code",
   "execution_count": 138,
   "metadata": {},
   "outputs": [
    {
     "data": {
      "text/html": [
       "<div>\n",
       "<style scoped>\n",
       "    .dataframe tbody tr th:only-of-type {\n",
       "        vertical-align: middle;\n",
       "    }\n",
       "\n",
       "    .dataframe tbody tr th {\n",
       "        vertical-align: top;\n",
       "    }\n",
       "\n",
       "    .dataframe thead th {\n",
       "        text-align: right;\n",
       "    }\n",
       "</style>\n",
       "<table border=\"1\" class=\"dataframe\">\n",
       "  <thead>\n",
       "    <tr style=\"text-align: right;\">\n",
       "      <th></th>\n",
       "      <th>Price</th>\n",
       "      <th>Rooms</th>\n",
       "      <th>crime_C_average</th>\n",
       "      <th>travel_min_to_CBD</th>\n",
       "      <th>Age</th>\n",
       "    </tr>\n",
       "  </thead>\n",
       "  <tbody>\n",
       "    <tr>\n",
       "      <th>count</th>\n",
       "      <td>6.800000e+02</td>\n",
       "      <td>680.000000</td>\n",
       "      <td>680.000000</td>\n",
       "      <td>680.000000</td>\n",
       "      <td>680.000000</td>\n",
       "    </tr>\n",
       "    <tr>\n",
       "      <th>mean</th>\n",
       "      <td>1.094563e+06</td>\n",
       "      <td>2.985294</td>\n",
       "      <td>426.035294</td>\n",
       "      <td>26.567382</td>\n",
       "      <td>53.607353</td>\n",
       "    </tr>\n",
       "    <tr>\n",
       "      <th>std</th>\n",
       "      <td>6.464806e+05</td>\n",
       "      <td>0.925703</td>\n",
       "      <td>383.180103</td>\n",
       "      <td>11.317431</td>\n",
       "      <td>35.646649</td>\n",
       "    </tr>\n",
       "    <tr>\n",
       "      <th>min</th>\n",
       "      <td>1.850000e+05</td>\n",
       "      <td>1.000000</td>\n",
       "      <td>1.000000</td>\n",
       "      <td>3.358382</td>\n",
       "      <td>3.000000</td>\n",
       "    </tr>\n",
       "    <tr>\n",
       "      <th>25%</th>\n",
       "      <td>6.600000e+05</td>\n",
       "      <td>2.000000</td>\n",
       "      <td>159.333333</td>\n",
       "      <td>18.371795</td>\n",
       "      <td>20.000000</td>\n",
       "    </tr>\n",
       "    <tr>\n",
       "      <th>50%</th>\n",
       "      <td>9.080000e+05</td>\n",
       "      <td>3.000000</td>\n",
       "      <td>335.000000</td>\n",
       "      <td>26.138889</td>\n",
       "      <td>49.000000</td>\n",
       "    </tr>\n",
       "    <tr>\n",
       "      <th>75%</th>\n",
       "      <td>1.360000e+06</td>\n",
       "      <td>4.000000</td>\n",
       "      <td>575.666667</td>\n",
       "      <td>33.000000</td>\n",
       "      <td>74.500000</td>\n",
       "    </tr>\n",
       "    <tr>\n",
       "      <th>max</th>\n",
       "      <td>4.750000e+06</td>\n",
       "      <td>6.000000</td>\n",
       "      <td>2042.333333</td>\n",
       "      <td>68.666667</td>\n",
       "      <td>159.000000</td>\n",
       "    </tr>\n",
       "  </tbody>\n",
       "</table>\n",
       "</div>"
      ],
      "text/plain": [
       "              Price       Rooms  crime_C_average  travel_min_to_CBD  \\\n",
       "count  6.800000e+02  680.000000       680.000000         680.000000   \n",
       "mean   1.094563e+06    2.985294       426.035294          26.567382   \n",
       "std    6.464806e+05    0.925703       383.180103          11.317431   \n",
       "min    1.850000e+05    1.000000         1.000000           3.358382   \n",
       "25%    6.600000e+05    2.000000       159.333333          18.371795   \n",
       "50%    9.080000e+05    3.000000       335.000000          26.138889   \n",
       "75%    1.360000e+06    4.000000       575.666667          33.000000   \n",
       "max    4.750000e+06    6.000000      2042.333333          68.666667   \n",
       "\n",
       "              Age  \n",
       "count  680.000000  \n",
       "mean    53.607353  \n",
       "std     35.646649  \n",
       "min      3.000000  \n",
       "25%     20.000000  \n",
       "50%     49.000000  \n",
       "75%     74.500000  \n",
       "max    159.000000  "
      ]
     },
     "execution_count": 138,
     "metadata": {},
     "output_type": "execute_result"
    }
   ],
   "source": [
    "temp_dataset=initial_dataset[['Price', 'Rooms', 'crime_C_average', 'travel_min_to_CBD', 'Age']].copy()\n",
    "temp_dataset.describe()"
   ]
  },
  {
   "cell_type": "markdown",
   "metadata": {},
   "source": [
    "On comparison of the mean and standard deviation of each and after observing the values, we know that the scale of Rooms, crime_C_average, travel_min_to_CBD and Age vary. In order to prevent there from being bias towards any of these variables and in order to make sure that they all have equal weightage, we need to Normalize the data. We will consider the effect of different types of normalization and transformation on the data."
   ]
  },
  {
   "cell_type": "markdown",
   "metadata": {},
   "source": [
    "### Normalization\n",
    "#### Z score Normalization"
   ]
  },
  {
   "cell_type": "code",
   "execution_count": 139,
   "metadata": {},
   "outputs": [
    {
     "name": "stderr",
     "output_type": "stream",
     "text": [
      "/Users/nikitajohn/anaconda3/lib/python3.7/site-packages/sklearn/preprocessing/data.py:625: DataConversionWarning: Data with input dtype int64, float64 were all converted to float64 by StandardScaler.\n",
      "  return self.partial_fit(X, y)\n",
      "/Users/nikitajohn/anaconda3/lib/python3.7/site-packages/ipykernel_launcher.py:2: DataConversionWarning: Data with input dtype int64, float64 were all converted to float64 by StandardScaler.\n",
      "  \n"
     ]
    },
    {
     "data": {
      "text/plain": [
       "array([[ 0.01589787, -0.6930526 , -0.05606536, -0.41008358],\n",
       "       [ 0.01589787,  0.27152045, -0.05606536,  0.15139197],\n",
       "       [-1.06515725, -0.53635301, -0.05606536,  0.29176086],\n",
       "       [-2.14621238, -0.77749627, -0.05606536,  0.15139197],\n",
       "       [ 0.01589787, -0.91504369, -0.05606536, -0.97155913]])"
      ]
     },
     "execution_count": 139,
     "metadata": {},
     "output_type": "execute_result"
    }
   ],
   "source": [
    "std_scale = preprocessing.StandardScaler().fit(temp_dataset[['Rooms', 'crime_C_average', 'travel_min_to_CBD', 'Age']])\n",
    "df_std = std_scale.transform(temp_dataset[['Rooms', 'crime_C_average', 'travel_min_to_CBD', 'Age']]) \n",
    "df_std[0:5]"
   ]
  },
  {
   "cell_type": "code",
   "execution_count": 140,
   "metadata": {},
   "outputs": [
    {
     "data": {
      "text/html": [
       "<div>\n",
       "<style scoped>\n",
       "    .dataframe tbody tr th:only-of-type {\n",
       "        vertical-align: middle;\n",
       "    }\n",
       "\n",
       "    .dataframe tbody tr th {\n",
       "        vertical-align: top;\n",
       "    }\n",
       "\n",
       "    .dataframe thead th {\n",
       "        text-align: right;\n",
       "    }\n",
       "</style>\n",
       "<table border=\"1\" class=\"dataframe\">\n",
       "  <thead>\n",
       "    <tr style=\"text-align: right;\">\n",
       "      <th></th>\n",
       "      <th>Price</th>\n",
       "      <th>Rooms</th>\n",
       "      <th>crime_C_average</th>\n",
       "      <th>travel_min_to_CBD</th>\n",
       "      <th>Age</th>\n",
       "      <th>Rscaled</th>\n",
       "      <th>Cscaled</th>\n",
       "      <th>Tscaled</th>\n",
       "      <th>Ascaled</th>\n",
       "    </tr>\n",
       "  </thead>\n",
       "  <tbody>\n",
       "    <tr>\n",
       "      <th>0</th>\n",
       "      <td>1223500.0</td>\n",
       "      <td>3</td>\n",
       "      <td>160.666667</td>\n",
       "      <td>25.933333</td>\n",
       "      <td>39.0</td>\n",
       "      <td>0.015898</td>\n",
       "      <td>-0.693053</td>\n",
       "      <td>-0.056065</td>\n",
       "      <td>-0.410084</td>\n",
       "    </tr>\n",
       "    <tr>\n",
       "      <th>1</th>\n",
       "      <td>962000.0</td>\n",
       "      <td>3</td>\n",
       "      <td>530.000000</td>\n",
       "      <td>25.933333</td>\n",
       "      <td>59.0</td>\n",
       "      <td>0.015898</td>\n",
       "      <td>0.271520</td>\n",
       "      <td>-0.056065</td>\n",
       "      <td>0.151392</td>\n",
       "    </tr>\n",
       "    <tr>\n",
       "      <th>2</th>\n",
       "      <td>790000.0</td>\n",
       "      <td>2</td>\n",
       "      <td>220.666667</td>\n",
       "      <td>25.933333</td>\n",
       "      <td>64.0</td>\n",
       "      <td>-1.065157</td>\n",
       "      <td>-0.536353</td>\n",
       "      <td>-0.056065</td>\n",
       "      <td>0.291761</td>\n",
       "    </tr>\n",
       "    <tr>\n",
       "      <th>3</th>\n",
       "      <td>405000.0</td>\n",
       "      <td>1</td>\n",
       "      <td>128.333333</td>\n",
       "      <td>25.933333</td>\n",
       "      <td>59.0</td>\n",
       "      <td>-2.146212</td>\n",
       "      <td>-0.777496</td>\n",
       "      <td>-0.056065</td>\n",
       "      <td>0.151392</td>\n",
       "    </tr>\n",
       "    <tr>\n",
       "      <th>4</th>\n",
       "      <td>1850000.0</td>\n",
       "      <td>3</td>\n",
       "      <td>75.666667</td>\n",
       "      <td>25.933333</td>\n",
       "      <td>19.0</td>\n",
       "      <td>0.015898</td>\n",
       "      <td>-0.915044</td>\n",
       "      <td>-0.056065</td>\n",
       "      <td>-0.971559</td>\n",
       "    </tr>\n",
       "  </tbody>\n",
       "</table>\n",
       "</div>"
      ],
      "text/plain": [
       "       Price  Rooms  crime_C_average  travel_min_to_CBD   Age   Rscaled  \\\n",
       "0  1223500.0      3       160.666667          25.933333  39.0  0.015898   \n",
       "1   962000.0      3       530.000000          25.933333  59.0  0.015898   \n",
       "2   790000.0      2       220.666667          25.933333  64.0 -1.065157   \n",
       "3   405000.0      1       128.333333          25.933333  59.0 -2.146212   \n",
       "4  1850000.0      3        75.666667          25.933333  19.0  0.015898   \n",
       "\n",
       "    Cscaled   Tscaled   Ascaled  \n",
       "0 -0.693053 -0.056065 -0.410084  \n",
       "1  0.271520 -0.056065  0.151392  \n",
       "2 -0.536353 -0.056065  0.291761  \n",
       "3 -0.777496 -0.056065  0.151392  \n",
       "4 -0.915044 -0.056065 -0.971559  "
      ]
     },
     "execution_count": 140,
     "metadata": {},
     "output_type": "execute_result"
    }
   ],
   "source": [
    "temp_dataset['Rscaled'] = df_std[:,0] \n",
    "temp_dataset['Cscaled'] = df_std[:,1]\n",
    "temp_dataset['Tscaled'] = df_std[:,2]\n",
    "temp_dataset['Ascaled'] = df_std[:,3]\n",
    "temp_dataset.head()"
   ]
  },
  {
   "cell_type": "code",
   "execution_count": 141,
   "metadata": {},
   "outputs": [
    {
     "data": {
      "text/html": [
       "<div>\n",
       "<style scoped>\n",
       "    .dataframe tbody tr th:only-of-type {\n",
       "        vertical-align: middle;\n",
       "    }\n",
       "\n",
       "    .dataframe tbody tr th {\n",
       "        vertical-align: top;\n",
       "    }\n",
       "\n",
       "    .dataframe thead th {\n",
       "        text-align: right;\n",
       "    }\n",
       "</style>\n",
       "<table border=\"1\" class=\"dataframe\">\n",
       "  <thead>\n",
       "    <tr style=\"text-align: right;\">\n",
       "      <th></th>\n",
       "      <th>Price</th>\n",
       "      <th>Rooms</th>\n",
       "      <th>crime_C_average</th>\n",
       "      <th>travel_min_to_CBD</th>\n",
       "      <th>Age</th>\n",
       "      <th>Rscaled</th>\n",
       "      <th>Cscaled</th>\n",
       "      <th>Tscaled</th>\n",
       "      <th>Ascaled</th>\n",
       "    </tr>\n",
       "  </thead>\n",
       "  <tbody>\n",
       "    <tr>\n",
       "      <th>count</th>\n",
       "      <td>6.800000e+02</td>\n",
       "      <td>680.000000</td>\n",
       "      <td>680.000000</td>\n",
       "      <td>680.000000</td>\n",
       "      <td>680.000000</td>\n",
       "      <td>6.800000e+02</td>\n",
       "      <td>6.800000e+02</td>\n",
       "      <td>6.800000e+02</td>\n",
       "      <td>6.800000e+02</td>\n",
       "    </tr>\n",
       "    <tr>\n",
       "      <th>mean</th>\n",
       "      <td>1.094563e+06</td>\n",
       "      <td>2.985294</td>\n",
       "      <td>426.035294</td>\n",
       "      <td>26.567382</td>\n",
       "      <td>53.607353</td>\n",
       "      <td>-8.800150e-16</td>\n",
       "      <td>-3.689859e-17</td>\n",
       "      <td>-2.687393e-16</td>\n",
       "      <td>-4.391912e-17</td>\n",
       "    </tr>\n",
       "    <tr>\n",
       "      <th>std</th>\n",
       "      <td>6.464806e+05</td>\n",
       "      <td>0.925703</td>\n",
       "      <td>383.180103</td>\n",
       "      <td>11.317431</td>\n",
       "      <td>35.646649</td>\n",
       "      <td>1.000736e+00</td>\n",
       "      <td>1.000736e+00</td>\n",
       "      <td>1.000736e+00</td>\n",
       "      <td>1.000736e+00</td>\n",
       "    </tr>\n",
       "    <tr>\n",
       "      <th>min</th>\n",
       "      <td>1.850000e+05</td>\n",
       "      <td>1.000000</td>\n",
       "      <td>1.000000</td>\n",
       "      <td>3.358382</td>\n",
       "      <td>3.000000</td>\n",
       "      <td>-2.146212e+00</td>\n",
       "      <td>-1.110048e+00</td>\n",
       "      <td>-2.052240e+00</td>\n",
       "      <td>-1.420740e+00</td>\n",
       "    </tr>\n",
       "    <tr>\n",
       "      <th>25%</th>\n",
       "      <td>6.600000e+05</td>\n",
       "      <td>2.000000</td>\n",
       "      <td>159.333333</td>\n",
       "      <td>18.371795</td>\n",
       "      <td>20.000000</td>\n",
       "      <td>-1.065157e+00</td>\n",
       "      <td>-6.965348e-01</td>\n",
       "      <td>-7.246892e-01</td>\n",
       "      <td>-9.434854e-01</td>\n",
       "    </tr>\n",
       "    <tr>\n",
       "      <th>50%</th>\n",
       "      <td>9.080000e+05</td>\n",
       "      <td>3.000000</td>\n",
       "      <td>335.000000</td>\n",
       "      <td>26.138889</td>\n",
       "      <td>49.000000</td>\n",
       "      <td>1.589787e-02</td>\n",
       "      <td>-2.377532e-01</td>\n",
       "      <td>-3.788925e-02</td>\n",
       "      <td>-1.293458e-01</td>\n",
       "    </tr>\n",
       "    <tr>\n",
       "      <th>75%</th>\n",
       "      <td>1.360000e+06</td>\n",
       "      <td>4.000000</td>\n",
       "      <td>575.666667</td>\n",
       "      <td>33.000000</td>\n",
       "      <td>74.500000</td>\n",
       "      <td>1.096953e+00</td>\n",
       "      <td>3.907863e-01</td>\n",
       "      <td>5.687998e-01</td>\n",
       "      <td>5.865355e-01</td>\n",
       "    </tr>\n",
       "    <tr>\n",
       "      <th>max</th>\n",
       "      <td>4.750000e+06</td>\n",
       "      <td>6.000000</td>\n",
       "      <td>2042.333333</td>\n",
       "      <td>68.666667</td>\n",
       "      <td>159.000000</td>\n",
       "      <td>3.259063e+00</td>\n",
       "      <td>4.221221e+00</td>\n",
       "      <td>3.722601e+00</td>\n",
       "      <td>2.958770e+00</td>\n",
       "    </tr>\n",
       "  </tbody>\n",
       "</table>\n",
       "</div>"
      ],
      "text/plain": [
       "              Price       Rooms  crime_C_average  travel_min_to_CBD  \\\n",
       "count  6.800000e+02  680.000000       680.000000         680.000000   \n",
       "mean   1.094563e+06    2.985294       426.035294          26.567382   \n",
       "std    6.464806e+05    0.925703       383.180103          11.317431   \n",
       "min    1.850000e+05    1.000000         1.000000           3.358382   \n",
       "25%    6.600000e+05    2.000000       159.333333          18.371795   \n",
       "50%    9.080000e+05    3.000000       335.000000          26.138889   \n",
       "75%    1.360000e+06    4.000000       575.666667          33.000000   \n",
       "max    4.750000e+06    6.000000      2042.333333          68.666667   \n",
       "\n",
       "              Age       Rscaled       Cscaled       Tscaled       Ascaled  \n",
       "count  680.000000  6.800000e+02  6.800000e+02  6.800000e+02  6.800000e+02  \n",
       "mean    53.607353 -8.800150e-16 -3.689859e-17 -2.687393e-16 -4.391912e-17  \n",
       "std     35.646649  1.000736e+00  1.000736e+00  1.000736e+00  1.000736e+00  \n",
       "min      3.000000 -2.146212e+00 -1.110048e+00 -2.052240e+00 -1.420740e+00  \n",
       "25%     20.000000 -1.065157e+00 -6.965348e-01 -7.246892e-01 -9.434854e-01  \n",
       "50%     49.000000  1.589787e-02 -2.377532e-01 -3.788925e-02 -1.293458e-01  \n",
       "75%     74.500000  1.096953e+00  3.907863e-01  5.687998e-01  5.865355e-01  \n",
       "max    159.000000  3.259063e+00  4.221221e+00  3.722601e+00  2.958770e+00  "
      ]
     },
     "execution_count": 141,
     "metadata": {},
     "output_type": "execute_result"
    }
   ],
   "source": [
    "temp_dataset.describe()"
   ]
  },
  {
   "cell_type": "code",
   "execution_count": 142,
   "metadata": {},
   "outputs": [
    {
     "data": {
      "text/plain": [
       "(<matplotlib.legend.Legend at 0x1a251773c8>,\n",
       " <matplotlib.legend.Legend at 0x1a2524e860>,\n",
       " <matplotlib.legend.Legend at 0x1a252620b8>,\n",
       " <matplotlib.legend.Legend at 0x1a25271550>)"
      ]
     },
     "execution_count": 142,
     "metadata": {},
     "output_type": "execute_result"
    },
    {
     "data": {
      "image/png": "[encoded data removed]",
      "text/plain": [
       "<Figure size 432x288 with 1 Axes>"
      ]
     },
     "metadata": {
      "needs_background": "light"
     },
     "output_type": "display_data"
    }
   ],
   "source": [
    "%matplotlib inline\n",
    "temp_dataset[\"Rooms\"].plot().legend(), temp_dataset[\"crime_C_average\"].plot().legend(), temp_dataset[\"travel_min_to_CBD\"].plot().legend(), temp_dataset[\"Age\"].plot().legend()"
   ]
  },
  {
   "cell_type": "code",
   "execution_count": 143,
   "metadata": {},
   "outputs": [
    {
     "data": {
      "text/plain": [
       "(<matplotlib.legend.Legend at 0x1a25268dd8>,\n",
       " <matplotlib.legend.Legend at 0x1a25369b38>,\n",
       " <matplotlib.legend.Legend at 0x1a25377d30>,\n",
       " <matplotlib.legend.Legend at 0x1a25389a58>)"
      ]
     },
     "execution_count": 143,
     "metadata": {},
     "output_type": "execute_result"
    },
    {
     "data": {
      "image/png": "[encoded data removed]",
      "text/plain": [
       "<Figure size 432x288 with 1 Axes>"
      ]
     },
     "metadata": {
      "needs_background": "light"
     },
     "output_type": "display_data"
    }
   ],
   "source": [
    "temp_dataset[\"Rscaled\"].plot().legend(), temp_dataset[\"Cscaled\"].plot().legend(), temp_dataset[\"Tscaled\"].plot().legend(), temp_dataset[\"Ascaled\"].plot().legend()"
   ]
  },
  {
   "cell_type": "code",
   "execution_count": 144,
   "metadata": {},
   "outputs": [
    {
     "data": {
      "text/plain": [
       "(<matplotlib.legend.Legend at 0x1a253963c8>,\n",
       " <matplotlib.legend.Legend at 0x1a23770e48>)"
      ]
     },
     "execution_count": 144,
     "metadata": {},
     "output_type": "execute_result"
    },
    {
     "data": {
      "image/png": "[encoded data removed]",
      "text/plain": [
       "<Figure size 432x288 with 1 Axes>"
      ]
     },
     "metadata": {
      "needs_background": "light"
     },
     "output_type": "display_data"
    }
   ],
   "source": [
    "temp_dataset[\"Rooms\"].plot().legend(), temp_dataset[\"Rscaled\"].plot().legend()"
   ]
  },
  {
   "cell_type": "code",
   "execution_count": 145,
   "metadata": {},
   "outputs": [
    {
     "data": {
      "text/plain": [
       "(<matplotlib.legend.Legend at 0x1a238c2ba8>,\n",
       " <matplotlib.legend.Legend at 0x1a2385fb38>)"
      ]
     },
     "execution_count": 145,
     "metadata": {},
     "output_type": "execute_result"
    },
    {
     "data": {
      "image/png": "[encoded data removed]",
      "text/plain": [
       "<Figure size 432x288 with 1 Axes>"
      ]
     },
     "metadata": {
      "needs_background": "light"
     },
     "output_type": "display_data"
    }
   ],
   "source": [
    "temp_dataset[\"crime_C_average\"].plot().legend(), temp_dataset[\"Cscaled\"].plot().legend()"
   ]
  },
  {
   "cell_type": "code",
   "execution_count": 146,
   "metadata": {},
   "outputs": [
    {
     "data": {
      "text/plain": [
       "(<matplotlib.legend.Legend at 0x1a238557b8>,\n",
       " <matplotlib.legend.Legend at 0x1a23b8e7b8>)"
      ]
     },
     "execution_count": 146,
     "metadata": {},
     "output_type": "execute_result"
    },
    {
     "data": {
      "image/png": "[encoded data removed]",
      "text/plain": [
       "<Figure size 432x288 with 1 Axes>"
      ]
     },
     "metadata": {
      "needs_background": "light"
     },
     "output_type": "display_data"
    }
   ],
   "source": [
    "temp_dataset[\"travel_min_to_CBD\"].plot().legend(), temp_dataset[\"Tscaled\"].plot().legend()"
   ]
  },
  {
   "cell_type": "code",
   "execution_count": 147,
   "metadata": {},
   "outputs": [
    {
     "data": {
      "text/plain": [
       "(<matplotlib.legend.Legend at 0x1a23bb0748>,\n",
       " <matplotlib.legend.Legend at 0x1a2379fb70>)"
      ]
     },
     "execution_count": 147,
     "metadata": {},
     "output_type": "execute_result"
    },
    {
     "data": {
      "image/png": "[encoded data removed]",
      "text/plain": [
       "<Figure size 432x288 with 1 Axes>"
      ]
     },
     "metadata": {
      "needs_background": "light"
     },
     "output_type": "display_data"
    }
   ],
   "source": [
    "temp_dataset[\"Age\"].plot().legend(), temp_dataset[\"Ascaled\"].plot().legend()"
   ]
  },
  {
   "cell_type": "markdown",
   "metadata": {},
   "source": [
    "#### MiniMax Normalization"
   ]
  },
  {
   "cell_type": "code",
   "execution_count": 148,
   "metadata": {},
   "outputs": [
    {
     "name": "stderr",
     "output_type": "stream",
     "text": [
      "/Users/nikitajohn/anaconda3/lib/python3.7/site-packages/sklearn/preprocessing/data.py:323: DataConversionWarning: Data with input dtype int64, float64 were all converted to float64 by MinMaxScaler.\n",
      "  return self.partial_fit(X, y)\n"
     ]
    },
    {
     "data": {
      "text/plain": [
       "array([[0.4       , 0.07821685, 0.3456675 , 0.23076923],\n",
       "       [0.4       , 0.25914435, 0.3456675 , 0.35897436],\n",
       "       [0.2       , 0.10760941, 0.3456675 , 0.39102564],\n",
       "       [0.        , 0.06237753, 0.3456675 , 0.35897436],\n",
       "       [0.4       , 0.0365774 , 0.3456675 , 0.1025641 ]])"
      ]
     },
     "execution_count": 148,
     "metadata": {},
     "output_type": "execute_result"
    }
   ],
   "source": [
    "minmax_scale = preprocessing.MinMaxScaler().fit(temp_dataset[['Rooms', 'crime_C_average', 'travel_min_to_CBD', 'Age']])\n",
    "df_minmax = minmax_scale.transform(temp_dataset[['Rooms', 'crime_C_average', 'travel_min_to_CBD', 'Age']])\n",
    "df_minmax[0:5]"
   ]
  },
  {
   "cell_type": "code",
   "execution_count": 149,
   "metadata": {},
   "outputs": [
    {
     "data": {
      "text/html": [
       "<div>\n",
       "<style scoped>\n",
       "    .dataframe tbody tr th:only-of-type {\n",
       "        vertical-align: middle;\n",
       "    }\n",
       "\n",
       "    .dataframe tbody tr th {\n",
       "        vertical-align: top;\n",
       "    }\n",
       "\n",
       "    .dataframe thead th {\n",
       "        text-align: right;\n",
       "    }\n",
       "</style>\n",
       "<table border=\"1\" class=\"dataframe\">\n",
       "  <thead>\n",
       "    <tr style=\"text-align: right;\">\n",
       "      <th></th>\n",
       "      <th>Price</th>\n",
       "      <th>Rooms</th>\n",
       "      <th>crime_C_average</th>\n",
       "      <th>travel_min_to_CBD</th>\n",
       "      <th>Age</th>\n",
       "      <th>Rscaled</th>\n",
       "      <th>Cscaled</th>\n",
       "      <th>Tscaled</th>\n",
       "      <th>Ascaled</th>\n",
       "      <th>Rminmax</th>\n",
       "      <th>Cminmax</th>\n",
       "      <th>Tminmax</th>\n",
       "      <th>Aminmax</th>\n",
       "    </tr>\n",
       "  </thead>\n",
       "  <tbody>\n",
       "    <tr>\n",
       "      <th>0</th>\n",
       "      <td>1223500.0</td>\n",
       "      <td>3</td>\n",
       "      <td>160.666667</td>\n",
       "      <td>25.933333</td>\n",
       "      <td>39.0</td>\n",
       "      <td>0.015898</td>\n",
       "      <td>-0.693053</td>\n",
       "      <td>-0.056065</td>\n",
       "      <td>-0.410084</td>\n",
       "      <td>0.4</td>\n",
       "      <td>0.078217</td>\n",
       "      <td>0.345668</td>\n",
       "      <td>0.230769</td>\n",
       "    </tr>\n",
       "    <tr>\n",
       "      <th>1</th>\n",
       "      <td>962000.0</td>\n",
       "      <td>3</td>\n",
       "      <td>530.000000</td>\n",
       "      <td>25.933333</td>\n",
       "      <td>59.0</td>\n",
       "      <td>0.015898</td>\n",
       "      <td>0.271520</td>\n",
       "      <td>-0.056065</td>\n",
       "      <td>0.151392</td>\n",
       "      <td>0.4</td>\n",
       "      <td>0.259144</td>\n",
       "      <td>0.345668</td>\n",
       "      <td>0.358974</td>\n",
       "    </tr>\n",
       "    <tr>\n",
       "      <th>2</th>\n",
       "      <td>790000.0</td>\n",
       "      <td>2</td>\n",
       "      <td>220.666667</td>\n",
       "      <td>25.933333</td>\n",
       "      <td>64.0</td>\n",
       "      <td>-1.065157</td>\n",
       "      <td>-0.536353</td>\n",
       "      <td>-0.056065</td>\n",
       "      <td>0.291761</td>\n",
       "      <td>0.2</td>\n",
       "      <td>0.107609</td>\n",
       "      <td>0.345668</td>\n",
       "      <td>0.391026</td>\n",
       "    </tr>\n",
       "    <tr>\n",
       "      <th>3</th>\n",
       "      <td>405000.0</td>\n",
       "      <td>1</td>\n",
       "      <td>128.333333</td>\n",
       "      <td>25.933333</td>\n",
       "      <td>59.0</td>\n",
       "      <td>-2.146212</td>\n",
       "      <td>-0.777496</td>\n",
       "      <td>-0.056065</td>\n",
       "      <td>0.151392</td>\n",
       "      <td>0.0</td>\n",
       "      <td>0.062378</td>\n",
       "      <td>0.345668</td>\n",
       "      <td>0.358974</td>\n",
       "    </tr>\n",
       "    <tr>\n",
       "      <th>4</th>\n",
       "      <td>1850000.0</td>\n",
       "      <td>3</td>\n",
       "      <td>75.666667</td>\n",
       "      <td>25.933333</td>\n",
       "      <td>19.0</td>\n",
       "      <td>0.015898</td>\n",
       "      <td>-0.915044</td>\n",
       "      <td>-0.056065</td>\n",
       "      <td>-0.971559</td>\n",
       "      <td>0.4</td>\n",
       "      <td>0.036577</td>\n",
       "      <td>0.345668</td>\n",
       "      <td>0.102564</td>\n",
       "    </tr>\n",
       "  </tbody>\n",
       "</table>\n",
       "</div>"
      ],
      "text/plain": [
       "       Price  Rooms  crime_C_average  travel_min_to_CBD   Age   Rscaled  \\\n",
       "0  1223500.0      3       160.666667          25.933333  39.0  0.015898   \n",
       "1   962000.0      3       530.000000          25.933333  59.0  0.015898   \n",
       "2   790000.0      2       220.666667          25.933333  64.0 -1.065157   \n",
       "3   405000.0      1       128.333333          25.933333  59.0 -2.146212   \n",
       "4  1850000.0      3        75.666667          25.933333  19.0  0.015898   \n",
       "\n",
       "    Cscaled   Tscaled   Ascaled  Rminmax   Cminmax   Tminmax   Aminmax  \n",
       "0 -0.693053 -0.056065 -0.410084      0.4  0.078217  0.345668  0.230769  \n",
       "1  0.271520 -0.056065  0.151392      0.4  0.259144  0.345668  0.358974  \n",
       "2 -0.536353 -0.056065  0.291761      0.2  0.107609  0.345668  0.391026  \n",
       "3 -0.777496 -0.056065  0.151392      0.0  0.062378  0.345668  0.358974  \n",
       "4 -0.915044 -0.056065 -0.971559      0.4  0.036577  0.345668  0.102564  "
      ]
     },
     "execution_count": 149,
     "metadata": {},
     "output_type": "execute_result"
    }
   ],
   "source": [
    "temp_dataset['Rminmax'] = df_minmax[:,0] \n",
    "temp_dataset['Cminmax'] = df_minmax[:,1]\n",
    "temp_dataset['Tminmax'] = df_minmax[:,2]\n",
    "temp_dataset['Aminmax'] = df_minmax[:,3]\n",
    "temp_dataset.head()"
   ]
  },
  {
   "cell_type": "code",
   "execution_count": 150,
   "metadata": {},
   "outputs": [
    {
     "data": {
      "text/plain": [
       "(<matplotlib.legend.Legend at 0x1a23e23e10>,\n",
       " <matplotlib.legend.Legend at 0x1a23f40588>,\n",
       " <matplotlib.legend.Legend at 0x1a23f568d0>,\n",
       " <matplotlib.legend.Legend at 0x1a23e59f98>)"
      ]
     },
     "execution_count": 150,
     "metadata": {},
     "output_type": "execute_result"
    },
    {
     "data": {
      "image/png": "[encoded data removed]",
      "text/plain": [
       "<Figure size 432x288 with 1 Axes>"
      ]
     },
     "metadata": {
      "needs_background": "light"
     },
     "output_type": "display_data"
    }
   ],
   "source": [
    "temp_dataset[\"Rminmax\"].plot().legend(), temp_dataset[\"Cminmax\"].plot().legend(), temp_dataset[\"Tminmax\"].plot().legend(), temp_dataset[\"Aminmax\"].plot().legend()"
   ]
  },
  {
   "cell_type": "markdown",
   "metadata": {},
   "source": [
    "#### Conclusion from Normalization:\n",
    "\n",
    "##### Rooms:\n",
    "\n",
    "Rooms are categorical and only take discrete values between and including 0 and 6. Therefore, it doesn't need to be scaled. No normalization needs to be done to Rooms.\n",
    "\n",
    "##### crime_C_average, travel_min_to_CBD, Age:\n",
    "\n",
    "These attributes need to be scaled since the mean and variance seem to be very different for each. Each seems to have some outliers. The minimax method of normalization is very susceptible to outliers. Therefore, the Z score method of normalization is a better way to go. "
   ]
  },
  {
   "cell_type": "markdown",
   "metadata": {},
   "source": [
    "### Transformation"
   ]
  },
  {
   "cell_type": "markdown",
   "metadata": {},
   "source": [
    "We want to see the effect on the dependent variable with a cange in the independent variables. Therefore, we plot each variable against price and see how a couple of transformation methods affect the relationship."
   ]
  },
  {
   "cell_type": "markdown",
   "metadata": {},
   "source": [
    "#### Crime_C_average:"
   ]
  },
  {
   "cell_type": "code",
   "execution_count": 151,
   "metadata": {},
   "outputs": [
    {
     "data": {
      "text/plain": [
       "<matplotlib.collections.PathCollection at 0x1a256aaf98>"
      ]
     },
     "execution_count": 151,
     "metadata": {},
     "output_type": "execute_result"
    },
    {
     "data": {
      "image/png": "[encoded data removed]",
      "text/plain": [
       "<Figure size 432x288 with 1 Axes>"
      ]
     },
     "metadata": {
      "needs_background": "light"
     },
     "output_type": "display_data"
    }
   ],
   "source": [
    "plt.scatter(temp_dataset[\"crime_C_average\"], temp_dataset[\"Price\"])"
   ]
  },
  {
   "cell_type": "markdown",
   "metadata": {},
   "source": [
    "##### log"
   ]
  },
  {
   "cell_type": "code",
   "execution_count": 152,
   "metadata": {},
   "outputs": [
    {
     "data": {
      "text/html": [
       "<div>\n",
       "<style scoped>\n",
       "    .dataframe tbody tr th:only-of-type {\n",
       "        vertical-align: middle;\n",
       "    }\n",
       "\n",
       "    .dataframe tbody tr th {\n",
       "        vertical-align: top;\n",
       "    }\n",
       "\n",
       "    .dataframe thead th {\n",
       "        text-align: right;\n",
       "    }\n",
       "</style>\n",
       "<table border=\"1\" class=\"dataframe\">\n",
       "  <thead>\n",
       "    <tr style=\"text-align: right;\">\n",
       "      <th></th>\n",
       "      <th>Price</th>\n",
       "      <th>Rooms</th>\n",
       "      <th>crime_C_average</th>\n",
       "      <th>travel_min_to_CBD</th>\n",
       "      <th>Age</th>\n",
       "      <th>Rscaled</th>\n",
       "      <th>Cscaled</th>\n",
       "      <th>Tscaled</th>\n",
       "      <th>Ascaled</th>\n",
       "      <th>Rminmax</th>\n",
       "      <th>Cminmax</th>\n",
       "      <th>Tminmax</th>\n",
       "      <th>Aminmax</th>\n",
       "      <th>tran_C</th>\n",
       "    </tr>\n",
       "  </thead>\n",
       "  <tbody>\n",
       "    <tr>\n",
       "      <th>0</th>\n",
       "      <td>1223500.0</td>\n",
       "      <td>3</td>\n",
       "      <td>160.666667</td>\n",
       "      <td>25.933333</td>\n",
       "      <td>39.0</td>\n",
       "      <td>0.015898</td>\n",
       "      <td>-0.693053</td>\n",
       "      <td>-0.056065</td>\n",
       "      <td>-0.410084</td>\n",
       "      <td>0.4</td>\n",
       "      <td>0.078217</td>\n",
       "      <td>0.345668</td>\n",
       "      <td>0.230769</td>\n",
       "      <td>5.07933</td>\n",
       "    </tr>\n",
       "    <tr>\n",
       "      <th>1</th>\n",
       "      <td>962000.0</td>\n",
       "      <td>3</td>\n",
       "      <td>530.000000</td>\n",
       "      <td>25.933333</td>\n",
       "      <td>59.0</td>\n",
       "      <td>0.015898</td>\n",
       "      <td>0.271520</td>\n",
       "      <td>-0.056065</td>\n",
       "      <td>0.151392</td>\n",
       "      <td>0.4</td>\n",
       "      <td>0.259144</td>\n",
       "      <td>0.345668</td>\n",
       "      <td>0.358974</td>\n",
       "      <td>6.27288</td>\n",
       "    </tr>\n",
       "    <tr>\n",
       "      <th>2</th>\n",
       "      <td>790000.0</td>\n",
       "      <td>2</td>\n",
       "      <td>220.666667</td>\n",
       "      <td>25.933333</td>\n",
       "      <td>64.0</td>\n",
       "      <td>-1.065157</td>\n",
       "      <td>-0.536353</td>\n",
       "      <td>-0.056065</td>\n",
       "      <td>0.291761</td>\n",
       "      <td>0.2</td>\n",
       "      <td>0.107609</td>\n",
       "      <td>0.345668</td>\n",
       "      <td>0.391026</td>\n",
       "      <td>5.39665</td>\n",
       "    </tr>\n",
       "    <tr>\n",
       "      <th>3</th>\n",
       "      <td>405000.0</td>\n",
       "      <td>1</td>\n",
       "      <td>128.333333</td>\n",
       "      <td>25.933333</td>\n",
       "      <td>59.0</td>\n",
       "      <td>-2.146212</td>\n",
       "      <td>-0.777496</td>\n",
       "      <td>-0.056065</td>\n",
       "      <td>0.151392</td>\n",
       "      <td>0.0</td>\n",
       "      <td>0.062378</td>\n",
       "      <td>0.345668</td>\n",
       "      <td>0.358974</td>\n",
       "      <td>4.85463</td>\n",
       "    </tr>\n",
       "    <tr>\n",
       "      <th>4</th>\n",
       "      <td>1850000.0</td>\n",
       "      <td>3</td>\n",
       "      <td>75.666667</td>\n",
       "      <td>25.933333</td>\n",
       "      <td>19.0</td>\n",
       "      <td>0.015898</td>\n",
       "      <td>-0.915044</td>\n",
       "      <td>-0.056065</td>\n",
       "      <td>-0.971559</td>\n",
       "      <td>0.4</td>\n",
       "      <td>0.036577</td>\n",
       "      <td>0.345668</td>\n",
       "      <td>0.102564</td>\n",
       "      <td>4.32634</td>\n",
       "    </tr>\n",
       "  </tbody>\n",
       "</table>\n",
       "</div>"
      ],
      "text/plain": [
       "       Price  Rooms  crime_C_average  travel_min_to_CBD   Age   Rscaled  \\\n",
       "0  1223500.0      3       160.666667          25.933333  39.0  0.015898   \n",
       "1   962000.0      3       530.000000          25.933333  59.0  0.015898   \n",
       "2   790000.0      2       220.666667          25.933333  64.0 -1.065157   \n",
       "3   405000.0      1       128.333333          25.933333  59.0 -2.146212   \n",
       "4  1850000.0      3        75.666667          25.933333  19.0  0.015898   \n",
       "\n",
       "    Cscaled   Tscaled   Ascaled  Rminmax   Cminmax   Tminmax   Aminmax  \\\n",
       "0 -0.693053 -0.056065 -0.410084      0.4  0.078217  0.345668  0.230769   \n",
       "1  0.271520 -0.056065  0.151392      0.4  0.259144  0.345668  0.358974   \n",
       "2 -0.536353 -0.056065  0.291761      0.2  0.107609  0.345668  0.391026   \n",
       "3 -0.777496 -0.056065  0.151392      0.0  0.062378  0.345668  0.358974   \n",
       "4 -0.915044 -0.056065 -0.971559      0.4  0.036577  0.345668  0.102564   \n",
       "\n",
       "    tran_C  \n",
       "0  5.07933  \n",
       "1  6.27288  \n",
       "2  5.39665  \n",
       "3  4.85463  \n",
       "4  4.32634  "
      ]
     },
     "execution_count": 152,
     "metadata": {},
     "output_type": "execute_result"
    }
   ],
   "source": [
    "temp_dataset['tran_C'] = None\n",
    "i = 0\n",
    "for row in temp_dataset.iterrows():\n",
    "    temp_dataset['tran_C'].at[i] = math.log(temp_dataset[\"crime_C_average\"][i])\n",
    "    i += 1\n",
    "\n",
    "    \n",
    "temp_dataset.head()"
   ]
  },
  {
   "cell_type": "code",
   "execution_count": 153,
   "metadata": {},
   "outputs": [
    {
     "data": {
      "text/plain": [
       "<matplotlib.collections.PathCollection at 0x1a258c82e8>"
      ]
     },
     "execution_count": 153,
     "metadata": {},
     "output_type": "execute_result"
    },
    {
     "data": {
      "image/png": "[encoded data removed]",
      "text/plain": [
       "<Figure size 432x288 with 1 Axes>"
      ]
     },
     "metadata": {
      "needs_background": "light"
     },
     "output_type": "display_data"
    }
   ],
   "source": [
    "plt.scatter(temp_dataset[\"tran_C\"], temp_dataset[\"Price\"]) "
   ]
  },
  {
   "cell_type": "markdown",
   "metadata": {},
   "source": [
    "The log transformation seems to skew the data too much in the opposite direction."
   ]
  },
  {
   "cell_type": "markdown",
   "metadata": {},
   "source": [
    "##### sqrt"
   ]
  },
  {
   "cell_type": "code",
   "execution_count": 154,
   "metadata": {},
   "outputs": [
    {
     "data": {
      "text/html": [
       "<div>\n",
       "<style scoped>\n",
       "    .dataframe tbody tr th:only-of-type {\n",
       "        vertical-align: middle;\n",
       "    }\n",
       "\n",
       "    .dataframe tbody tr th {\n",
       "        vertical-align: top;\n",
       "    }\n",
       "\n",
       "    .dataframe thead th {\n",
       "        text-align: right;\n",
       "    }\n",
       "</style>\n",
       "<table border=\"1\" class=\"dataframe\">\n",
       "  <thead>\n",
       "    <tr style=\"text-align: right;\">\n",
       "      <th></th>\n",
       "      <th>Price</th>\n",
       "      <th>Rooms</th>\n",
       "      <th>crime_C_average</th>\n",
       "      <th>travel_min_to_CBD</th>\n",
       "      <th>Age</th>\n",
       "      <th>Rscaled</th>\n",
       "      <th>Cscaled</th>\n",
       "      <th>Tscaled</th>\n",
       "      <th>Ascaled</th>\n",
       "      <th>Rminmax</th>\n",
       "      <th>Cminmax</th>\n",
       "      <th>Tminmax</th>\n",
       "      <th>Aminmax</th>\n",
       "      <th>tran_C</th>\n",
       "    </tr>\n",
       "  </thead>\n",
       "  <tbody>\n",
       "    <tr>\n",
       "      <th>0</th>\n",
       "      <td>1223500.0</td>\n",
       "      <td>3</td>\n",
       "      <td>160.666667</td>\n",
       "      <td>25.933333</td>\n",
       "      <td>39.0</td>\n",
       "      <td>0.015898</td>\n",
       "      <td>-0.693053</td>\n",
       "      <td>-0.056065</td>\n",
       "      <td>-0.410084</td>\n",
       "      <td>0.4</td>\n",
       "      <td>0.078217</td>\n",
       "      <td>0.345668</td>\n",
       "      <td>0.230769</td>\n",
       "      <td>12.6754</td>\n",
       "    </tr>\n",
       "    <tr>\n",
       "      <th>1</th>\n",
       "      <td>962000.0</td>\n",
       "      <td>3</td>\n",
       "      <td>530.000000</td>\n",
       "      <td>25.933333</td>\n",
       "      <td>59.0</td>\n",
       "      <td>0.015898</td>\n",
       "      <td>0.271520</td>\n",
       "      <td>-0.056065</td>\n",
       "      <td>0.151392</td>\n",
       "      <td>0.4</td>\n",
       "      <td>0.259144</td>\n",
       "      <td>0.345668</td>\n",
       "      <td>0.358974</td>\n",
       "      <td>23.0217</td>\n",
       "    </tr>\n",
       "    <tr>\n",
       "      <th>2</th>\n",
       "      <td>790000.0</td>\n",
       "      <td>2</td>\n",
       "      <td>220.666667</td>\n",
       "      <td>25.933333</td>\n",
       "      <td>64.0</td>\n",
       "      <td>-1.065157</td>\n",
       "      <td>-0.536353</td>\n",
       "      <td>-0.056065</td>\n",
       "      <td>0.291761</td>\n",
       "      <td>0.2</td>\n",
       "      <td>0.107609</td>\n",
       "      <td>0.345668</td>\n",
       "      <td>0.391026</td>\n",
       "      <td>14.8549</td>\n",
       "    </tr>\n",
       "    <tr>\n",
       "      <th>3</th>\n",
       "      <td>405000.0</td>\n",
       "      <td>1</td>\n",
       "      <td>128.333333</td>\n",
       "      <td>25.933333</td>\n",
       "      <td>59.0</td>\n",
       "      <td>-2.146212</td>\n",
       "      <td>-0.777496</td>\n",
       "      <td>-0.056065</td>\n",
       "      <td>0.151392</td>\n",
       "      <td>0.0</td>\n",
       "      <td>0.062378</td>\n",
       "      <td>0.345668</td>\n",
       "      <td>0.358974</td>\n",
       "      <td>11.3284</td>\n",
       "    </tr>\n",
       "    <tr>\n",
       "      <th>4</th>\n",
       "      <td>1850000.0</td>\n",
       "      <td>3</td>\n",
       "      <td>75.666667</td>\n",
       "      <td>25.933333</td>\n",
       "      <td>19.0</td>\n",
       "      <td>0.015898</td>\n",
       "      <td>-0.915044</td>\n",
       "      <td>-0.056065</td>\n",
       "      <td>-0.971559</td>\n",
       "      <td>0.4</td>\n",
       "      <td>0.036577</td>\n",
       "      <td>0.345668</td>\n",
       "      <td>0.102564</td>\n",
       "      <td>8.69866</td>\n",
       "    </tr>\n",
       "  </tbody>\n",
       "</table>\n",
       "</div>"
      ],
      "text/plain": [
       "       Price  Rooms  crime_C_average  travel_min_to_CBD   Age   Rscaled  \\\n",
       "0  1223500.0      3       160.666667          25.933333  39.0  0.015898   \n",
       "1   962000.0      3       530.000000          25.933333  59.0  0.015898   \n",
       "2   790000.0      2       220.666667          25.933333  64.0 -1.065157   \n",
       "3   405000.0      1       128.333333          25.933333  59.0 -2.146212   \n",
       "4  1850000.0      3        75.666667          25.933333  19.0  0.015898   \n",
       "\n",
       "    Cscaled   Tscaled   Ascaled  Rminmax   Cminmax   Tminmax   Aminmax  \\\n",
       "0 -0.693053 -0.056065 -0.410084      0.4  0.078217  0.345668  0.230769   \n",
       "1  0.271520 -0.056065  0.151392      0.4  0.259144  0.345668  0.358974   \n",
       "2 -0.536353 -0.056065  0.291761      0.2  0.107609  0.345668  0.391026   \n",
       "3 -0.777496 -0.056065  0.151392      0.0  0.062378  0.345668  0.358974   \n",
       "4 -0.915044 -0.056065 -0.971559      0.4  0.036577  0.345668  0.102564   \n",
       "\n",
       "    tran_C  \n",
       "0  12.6754  \n",
       "1  23.0217  \n",
       "2  14.8549  \n",
       "3  11.3284  \n",
       "4  8.69866  "
      ]
     },
     "execution_count": 154,
     "metadata": {},
     "output_type": "execute_result"
    }
   ],
   "source": [
    "temp_dataset['tran_C'] = None\n",
    "i = 0\n",
    "for row in temp_dataset.iterrows():\n",
    "    temp_dataset['tran_C'].at[i] = math.sqrt(temp_dataset[\"crime_C_average\"][i])\n",
    "    i += 1\n",
    "\n",
    "    \n",
    "temp_dataset.head()"
   ]
  },
  {
   "cell_type": "code",
   "execution_count": 155,
   "metadata": {},
   "outputs": [
    {
     "data": {
      "text/plain": [
       "<matplotlib.collections.PathCollection at 0x1a25a8fac8>"
      ]
     },
     "execution_count": 155,
     "metadata": {},
     "output_type": "execute_result"
    },
    {
     "data": {
      "image/png": "[encoded data removed]",
      "text/plain": [
       "<Figure size 432x288 with 1 Axes>"
      ]
     },
     "metadata": {
      "needs_background": "light"
     },
     "output_type": "display_data"
    }
   ],
   "source": [
    "plt.scatter(temp_dataset[\"Price\"], temp_dataset[\"tran_C\"]) "
   ]
  },
  {
   "cell_type": "markdown",
   "metadata": {},
   "source": [
    "The square root transformation seems to make the data look relatively equally spread out. Therefore, it makes sense to use the square root transformation on crime_C_average when predicting for price."
   ]
  },
  {
   "cell_type": "markdown",
   "metadata": {},
   "source": [
    "#### travel_min_to_CBD"
   ]
  },
  {
   "cell_type": "code",
   "execution_count": 156,
   "metadata": {},
   "outputs": [
    {
     "data": {
      "text/plain": [
       "<matplotlib.collections.PathCollection at 0x1a25b2f048>"
      ]
     },
     "execution_count": 156,
     "metadata": {},
     "output_type": "execute_result"
    },
    {
     "data": {
      "image/png": "[encoded data removed]",
      "text/plain": [
       "<Figure size 432x288 with 1 Axes>"
      ]
     },
     "metadata": {
      "needs_background": "light"
     },
     "output_type": "display_data"
    }
   ],
   "source": [
    "plt.scatter(temp_dataset[\"travel_min_to_CBD\"], temp_dataset[\"Price\"])"
   ]
  },
  {
   "cell_type": "markdown",
   "metadata": {},
   "source": [
    "##### log"
   ]
  },
  {
   "cell_type": "code",
   "execution_count": 157,
   "metadata": {},
   "outputs": [
    {
     "data": {
      "text/html": [
       "<div>\n",
       "<style scoped>\n",
       "    .dataframe tbody tr th:only-of-type {\n",
       "        vertical-align: middle;\n",
       "    }\n",
       "\n",
       "    .dataframe tbody tr th {\n",
       "        vertical-align: top;\n",
       "    }\n",
       "\n",
       "    .dataframe thead th {\n",
       "        text-align: right;\n",
       "    }\n",
       "</style>\n",
       "<table border=\"1\" class=\"dataframe\">\n",
       "  <thead>\n",
       "    <tr style=\"text-align: right;\">\n",
       "      <th></th>\n",
       "      <th>Price</th>\n",
       "      <th>Rooms</th>\n",
       "      <th>crime_C_average</th>\n",
       "      <th>travel_min_to_CBD</th>\n",
       "      <th>Age</th>\n",
       "      <th>Rscaled</th>\n",
       "      <th>Cscaled</th>\n",
       "      <th>Tscaled</th>\n",
       "      <th>Ascaled</th>\n",
       "      <th>Rminmax</th>\n",
       "      <th>Cminmax</th>\n",
       "      <th>Tminmax</th>\n",
       "      <th>Aminmax</th>\n",
       "      <th>tran_C</th>\n",
       "      <th>tran_T</th>\n",
       "    </tr>\n",
       "  </thead>\n",
       "  <tbody>\n",
       "    <tr>\n",
       "      <th>0</th>\n",
       "      <td>1223500.0</td>\n",
       "      <td>3</td>\n",
       "      <td>160.666667</td>\n",
       "      <td>25.933333</td>\n",
       "      <td>39.0</td>\n",
       "      <td>0.015898</td>\n",
       "      <td>-0.693053</td>\n",
       "      <td>-0.056065</td>\n",
       "      <td>-0.410084</td>\n",
       "      <td>0.4</td>\n",
       "      <td>0.078217</td>\n",
       "      <td>0.345668</td>\n",
       "      <td>0.230769</td>\n",
       "      <td>12.6754</td>\n",
       "      <td>3.25553</td>\n",
       "    </tr>\n",
       "    <tr>\n",
       "      <th>1</th>\n",
       "      <td>962000.0</td>\n",
       "      <td>3</td>\n",
       "      <td>530.000000</td>\n",
       "      <td>25.933333</td>\n",
       "      <td>59.0</td>\n",
       "      <td>0.015898</td>\n",
       "      <td>0.271520</td>\n",
       "      <td>-0.056065</td>\n",
       "      <td>0.151392</td>\n",
       "      <td>0.4</td>\n",
       "      <td>0.259144</td>\n",
       "      <td>0.345668</td>\n",
       "      <td>0.358974</td>\n",
       "      <td>23.0217</td>\n",
       "      <td>3.25553</td>\n",
       "    </tr>\n",
       "    <tr>\n",
       "      <th>2</th>\n",
       "      <td>790000.0</td>\n",
       "      <td>2</td>\n",
       "      <td>220.666667</td>\n",
       "      <td>25.933333</td>\n",
       "      <td>64.0</td>\n",
       "      <td>-1.065157</td>\n",
       "      <td>-0.536353</td>\n",
       "      <td>-0.056065</td>\n",
       "      <td>0.291761</td>\n",
       "      <td>0.2</td>\n",
       "      <td>0.107609</td>\n",
       "      <td>0.345668</td>\n",
       "      <td>0.391026</td>\n",
       "      <td>14.8549</td>\n",
       "      <td>3.25553</td>\n",
       "    </tr>\n",
       "    <tr>\n",
       "      <th>3</th>\n",
       "      <td>405000.0</td>\n",
       "      <td>1</td>\n",
       "      <td>128.333333</td>\n",
       "      <td>25.933333</td>\n",
       "      <td>59.0</td>\n",
       "      <td>-2.146212</td>\n",
       "      <td>-0.777496</td>\n",
       "      <td>-0.056065</td>\n",
       "      <td>0.151392</td>\n",
       "      <td>0.0</td>\n",
       "      <td>0.062378</td>\n",
       "      <td>0.345668</td>\n",
       "      <td>0.358974</td>\n",
       "      <td>11.3284</td>\n",
       "      <td>3.25553</td>\n",
       "    </tr>\n",
       "    <tr>\n",
       "      <th>4</th>\n",
       "      <td>1850000.0</td>\n",
       "      <td>3</td>\n",
       "      <td>75.666667</td>\n",
       "      <td>25.933333</td>\n",
       "      <td>19.0</td>\n",
       "      <td>0.015898</td>\n",
       "      <td>-0.915044</td>\n",
       "      <td>-0.056065</td>\n",
       "      <td>-0.971559</td>\n",
       "      <td>0.4</td>\n",
       "      <td>0.036577</td>\n",
       "      <td>0.345668</td>\n",
       "      <td>0.102564</td>\n",
       "      <td>8.69866</td>\n",
       "      <td>3.25553</td>\n",
       "    </tr>\n",
       "  </tbody>\n",
       "</table>\n",
       "</div>"
      ],
      "text/plain": [
       "       Price  Rooms  crime_C_average  travel_min_to_CBD   Age   Rscaled  \\\n",
       "0  1223500.0      3       160.666667          25.933333  39.0  0.015898   \n",
       "1   962000.0      3       530.000000          25.933333  59.0  0.015898   \n",
       "2   790000.0      2       220.666667          25.933333  64.0 -1.065157   \n",
       "3   405000.0      1       128.333333          25.933333  59.0 -2.146212   \n",
       "4  1850000.0      3        75.666667          25.933333  19.0  0.015898   \n",
       "\n",
       "    Cscaled   Tscaled   Ascaled  Rminmax   Cminmax   Tminmax   Aminmax  \\\n",
       "0 -0.693053 -0.056065 -0.410084      0.4  0.078217  0.345668  0.230769   \n",
       "1  0.271520 -0.056065  0.151392      0.4  0.259144  0.345668  0.358974   \n",
       "2 -0.536353 -0.056065  0.291761      0.2  0.107609  0.345668  0.391026   \n",
       "3 -0.777496 -0.056065  0.151392      0.0  0.062378  0.345668  0.358974   \n",
       "4 -0.915044 -0.056065 -0.971559      0.4  0.036577  0.345668  0.102564   \n",
       "\n",
       "    tran_C   tran_T  \n",
       "0  12.6754  3.25553  \n",
       "1  23.0217  3.25553  \n",
       "2  14.8549  3.25553  \n",
       "3  11.3284  3.25553  \n",
       "4  8.69866  3.25553  "
      ]
     },
     "execution_count": 157,
     "metadata": {},
     "output_type": "execute_result"
    }
   ],
   "source": [
    "temp_dataset['tran_T'] = None\n",
    "i = 0\n",
    "for row in temp_dataset.iterrows():\n",
    "    temp_dataset['tran_T'].at[i] = math.log(temp_dataset[\"travel_min_to_CBD\"][i])\n",
    "    i += 1\n",
    "\n",
    "    \n",
    "temp_dataset.head()"
   ]
  },
  {
   "cell_type": "code",
   "execution_count": 158,
   "metadata": {},
   "outputs": [
    {
     "data": {
      "text/plain": [
       "<matplotlib.collections.PathCollection at 0x1a25c71518>"
      ]
     },
     "execution_count": 158,
     "metadata": {},
     "output_type": "execute_result"
    },
    {
     "data": {
      "image/png": "[encoded data removed]",
      "text/plain": [
       "<Figure size 432x288 with 1 Axes>"
      ]
     },
     "metadata": {
      "needs_background": "light"
     },
     "output_type": "display_data"
    }
   ],
   "source": [
    "plt.scatter(temp_dataset[\"tran_T\"], temp_dataset[\"Price\"])"
   ]
  },
  {
   "cell_type": "markdown",
   "metadata": {},
   "source": [
    "The log transformation skews in the opposite direction too much.\n",
    "\n",
    "##### sqrt"
   ]
  },
  {
   "cell_type": "code",
   "execution_count": 159,
   "metadata": {},
   "outputs": [
    {
     "data": {
      "text/html": [
       "<div>\n",
       "<style scoped>\n",
       "    .dataframe tbody tr th:only-of-type {\n",
       "        vertical-align: middle;\n",
       "    }\n",
       "\n",
       "    .dataframe tbody tr th {\n",
       "        vertical-align: top;\n",
       "    }\n",
       "\n",
       "    .dataframe thead th {\n",
       "        text-align: right;\n",
       "    }\n",
       "</style>\n",
       "<table border=\"1\" class=\"dataframe\">\n",
       "  <thead>\n",
       "    <tr style=\"text-align: right;\">\n",
       "      <th></th>\n",
       "      <th>Price</th>\n",
       "      <th>Rooms</th>\n",
       "      <th>crime_C_average</th>\n",
       "      <th>travel_min_to_CBD</th>\n",
       "      <th>Age</th>\n",
       "      <th>Rscaled</th>\n",
       "      <th>Cscaled</th>\n",
       "      <th>Tscaled</th>\n",
       "      <th>Ascaled</th>\n",
       "      <th>Rminmax</th>\n",
       "      <th>Cminmax</th>\n",
       "      <th>Tminmax</th>\n",
       "      <th>Aminmax</th>\n",
       "      <th>tran_C</th>\n",
       "      <th>tran_T</th>\n",
       "    </tr>\n",
       "  </thead>\n",
       "  <tbody>\n",
       "    <tr>\n",
       "      <th>0</th>\n",
       "      <td>1223500.0</td>\n",
       "      <td>3</td>\n",
       "      <td>160.666667</td>\n",
       "      <td>25.933333</td>\n",
       "      <td>39.0</td>\n",
       "      <td>0.015898</td>\n",
       "      <td>-0.693053</td>\n",
       "      <td>-0.056065</td>\n",
       "      <td>-0.410084</td>\n",
       "      <td>0.4</td>\n",
       "      <td>0.078217</td>\n",
       "      <td>0.345668</td>\n",
       "      <td>0.230769</td>\n",
       "      <td>12.6754</td>\n",
       "      <td>5.09248</td>\n",
       "    </tr>\n",
       "    <tr>\n",
       "      <th>1</th>\n",
       "      <td>962000.0</td>\n",
       "      <td>3</td>\n",
       "      <td>530.000000</td>\n",
       "      <td>25.933333</td>\n",
       "      <td>59.0</td>\n",
       "      <td>0.015898</td>\n",
       "      <td>0.271520</td>\n",
       "      <td>-0.056065</td>\n",
       "      <td>0.151392</td>\n",
       "      <td>0.4</td>\n",
       "      <td>0.259144</td>\n",
       "      <td>0.345668</td>\n",
       "      <td>0.358974</td>\n",
       "      <td>23.0217</td>\n",
       "      <td>5.09248</td>\n",
       "    </tr>\n",
       "    <tr>\n",
       "      <th>2</th>\n",
       "      <td>790000.0</td>\n",
       "      <td>2</td>\n",
       "      <td>220.666667</td>\n",
       "      <td>25.933333</td>\n",
       "      <td>64.0</td>\n",
       "      <td>-1.065157</td>\n",
       "      <td>-0.536353</td>\n",
       "      <td>-0.056065</td>\n",
       "      <td>0.291761</td>\n",
       "      <td>0.2</td>\n",
       "      <td>0.107609</td>\n",
       "      <td>0.345668</td>\n",
       "      <td>0.391026</td>\n",
       "      <td>14.8549</td>\n",
       "      <td>5.09248</td>\n",
       "    </tr>\n",
       "    <tr>\n",
       "      <th>3</th>\n",
       "      <td>405000.0</td>\n",
       "      <td>1</td>\n",
       "      <td>128.333333</td>\n",
       "      <td>25.933333</td>\n",
       "      <td>59.0</td>\n",
       "      <td>-2.146212</td>\n",
       "      <td>-0.777496</td>\n",
       "      <td>-0.056065</td>\n",
       "      <td>0.151392</td>\n",
       "      <td>0.0</td>\n",
       "      <td>0.062378</td>\n",
       "      <td>0.345668</td>\n",
       "      <td>0.358974</td>\n",
       "      <td>11.3284</td>\n",
       "      <td>5.09248</td>\n",
       "    </tr>\n",
       "    <tr>\n",
       "      <th>4</th>\n",
       "      <td>1850000.0</td>\n",
       "      <td>3</td>\n",
       "      <td>75.666667</td>\n",
       "      <td>25.933333</td>\n",
       "      <td>19.0</td>\n",
       "      <td>0.015898</td>\n",
       "      <td>-0.915044</td>\n",
       "      <td>-0.056065</td>\n",
       "      <td>-0.971559</td>\n",
       "      <td>0.4</td>\n",
       "      <td>0.036577</td>\n",
       "      <td>0.345668</td>\n",
       "      <td>0.102564</td>\n",
       "      <td>8.69866</td>\n",
       "      <td>5.09248</td>\n",
       "    </tr>\n",
       "  </tbody>\n",
       "</table>\n",
       "</div>"
      ],
      "text/plain": [
       "       Price  Rooms  crime_C_average  travel_min_to_CBD   Age   Rscaled  \\\n",
       "0  1223500.0      3       160.666667          25.933333  39.0  0.015898   \n",
       "1   962000.0      3       530.000000          25.933333  59.0  0.015898   \n",
       "2   790000.0      2       220.666667          25.933333  64.0 -1.065157   \n",
       "3   405000.0      1       128.333333          25.933333  59.0 -2.146212   \n",
       "4  1850000.0      3        75.666667          25.933333  19.0  0.015898   \n",
       "\n",
       "    Cscaled   Tscaled   Ascaled  Rminmax   Cminmax   Tminmax   Aminmax  \\\n",
       "0 -0.693053 -0.056065 -0.410084      0.4  0.078217  0.345668  0.230769   \n",
       "1  0.271520 -0.056065  0.151392      0.4  0.259144  0.345668  0.358974   \n",
       "2 -0.536353 -0.056065  0.291761      0.2  0.107609  0.345668  0.391026   \n",
       "3 -0.777496 -0.056065  0.151392      0.0  0.062378  0.345668  0.358974   \n",
       "4 -0.915044 -0.056065 -0.971559      0.4  0.036577  0.345668  0.102564   \n",
       "\n",
       "    tran_C   tran_T  \n",
       "0  12.6754  5.09248  \n",
       "1  23.0217  5.09248  \n",
       "2  14.8549  5.09248  \n",
       "3  11.3284  5.09248  \n",
       "4  8.69866  5.09248  "
      ]
     },
     "execution_count": 159,
     "metadata": {},
     "output_type": "execute_result"
    }
   ],
   "source": [
    "temp_dataset['tran_T'] = None\n",
    "i = 0\n",
    "for row in temp_dataset.iterrows():\n",
    "    temp_dataset['tran_T'].at[i] = math.sqrt(temp_dataset[\"travel_min_to_CBD\"][i])\n",
    "    i += 1\n",
    "\n",
    "    \n",
    "temp_dataset.head()"
   ]
  },
  {
   "cell_type": "code",
   "execution_count": 160,
   "metadata": {},
   "outputs": [
    {
     "data": {
      "text/plain": [
       "<matplotlib.collections.PathCollection at 0x1a25c593c8>"
      ]
     },
     "execution_count": 160,
     "metadata": {},
     "output_type": "execute_result"
    },
    {
     "data": {
      "image/png": "[encoded data removed]",
      "text/plain": [
       "<Figure size 432x288 with 1 Axes>"
      ]
     },
     "metadata": {
      "needs_background": "light"
     },
     "output_type": "display_data"
    }
   ],
   "source": [
    "plt.scatter(temp_dataset[\"tran_T\"], temp_dataset[\"Price\"])"
   ]
  },
  {
   "cell_type": "markdown",
   "metadata": {},
   "source": [
    "For travel_min_to_CBD, we could use the data without transformation, or we could use the square root transformation, which moves the data a little bit to the right. "
   ]
  },
  {
   "cell_type": "markdown",
   "metadata": {},
   "source": [
    "#### Age"
   ]
  },
  {
   "cell_type": "code",
   "execution_count": 161,
   "metadata": {},
   "outputs": [
    {
     "data": {
      "text/plain": [
       "<matplotlib.collections.PathCollection at 0x1a25dc7160>"
      ]
     },
     "execution_count": 161,
     "metadata": {},
     "output_type": "execute_result"
    },
    {
     "data": {
      "image/png": "[encoded data removed]",
      "text/plain": [
       "<Figure size 432x288 with 1 Axes>"
      ]
     },
     "metadata": {
      "needs_background": "light"
     },
     "output_type": "display_data"
    }
   ],
   "source": [
    "plt.scatter(temp_dataset[\"Age\"], temp_dataset[\"Price\"])"
   ]
  },
  {
   "cell_type": "markdown",
   "metadata": {},
   "source": [
    "##### log"
   ]
  },
  {
   "cell_type": "code",
   "execution_count": 162,
   "metadata": {},
   "outputs": [
    {
     "data": {
      "text/html": [
       "<div>\n",
       "<style scoped>\n",
       "    .dataframe tbody tr th:only-of-type {\n",
       "        vertical-align: middle;\n",
       "    }\n",
       "\n",
       "    .dataframe tbody tr th {\n",
       "        vertical-align: top;\n",
       "    }\n",
       "\n",
       "    .dataframe thead th {\n",
       "        text-align: right;\n",
       "    }\n",
       "</style>\n",
       "<table border=\"1\" class=\"dataframe\">\n",
       "  <thead>\n",
       "    <tr style=\"text-align: right;\">\n",
       "      <th></th>\n",
       "      <th>Price</th>\n",
       "      <th>Rooms</th>\n",
       "      <th>crime_C_average</th>\n",
       "      <th>travel_min_to_CBD</th>\n",
       "      <th>Age</th>\n",
       "      <th>Rscaled</th>\n",
       "      <th>Cscaled</th>\n",
       "      <th>Tscaled</th>\n",
       "      <th>Ascaled</th>\n",
       "      <th>Rminmax</th>\n",
       "      <th>Cminmax</th>\n",
       "      <th>Tminmax</th>\n",
       "      <th>Aminmax</th>\n",
       "      <th>tran_C</th>\n",
       "      <th>tran_T</th>\n",
       "      <th>tran_A</th>\n",
       "    </tr>\n",
       "  </thead>\n",
       "  <tbody>\n",
       "    <tr>\n",
       "      <th>0</th>\n",
       "      <td>1223500.0</td>\n",
       "      <td>3</td>\n",
       "      <td>160.666667</td>\n",
       "      <td>25.933333</td>\n",
       "      <td>39.0</td>\n",
       "      <td>0.015898</td>\n",
       "      <td>-0.693053</td>\n",
       "      <td>-0.056065</td>\n",
       "      <td>-0.410084</td>\n",
       "      <td>0.4</td>\n",
       "      <td>0.078217</td>\n",
       "      <td>0.345668</td>\n",
       "      <td>0.230769</td>\n",
       "      <td>12.6754</td>\n",
       "      <td>5.09248</td>\n",
       "      <td>3.66356</td>\n",
       "    </tr>\n",
       "    <tr>\n",
       "      <th>1</th>\n",
       "      <td>962000.0</td>\n",
       "      <td>3</td>\n",
       "      <td>530.000000</td>\n",
       "      <td>25.933333</td>\n",
       "      <td>59.0</td>\n",
       "      <td>0.015898</td>\n",
       "      <td>0.271520</td>\n",
       "      <td>-0.056065</td>\n",
       "      <td>0.151392</td>\n",
       "      <td>0.4</td>\n",
       "      <td>0.259144</td>\n",
       "      <td>0.345668</td>\n",
       "      <td>0.358974</td>\n",
       "      <td>23.0217</td>\n",
       "      <td>5.09248</td>\n",
       "      <td>4.07754</td>\n",
       "    </tr>\n",
       "    <tr>\n",
       "      <th>2</th>\n",
       "      <td>790000.0</td>\n",
       "      <td>2</td>\n",
       "      <td>220.666667</td>\n",
       "      <td>25.933333</td>\n",
       "      <td>64.0</td>\n",
       "      <td>-1.065157</td>\n",
       "      <td>-0.536353</td>\n",
       "      <td>-0.056065</td>\n",
       "      <td>0.291761</td>\n",
       "      <td>0.2</td>\n",
       "      <td>0.107609</td>\n",
       "      <td>0.345668</td>\n",
       "      <td>0.391026</td>\n",
       "      <td>14.8549</td>\n",
       "      <td>5.09248</td>\n",
       "      <td>4.15888</td>\n",
       "    </tr>\n",
       "    <tr>\n",
       "      <th>3</th>\n",
       "      <td>405000.0</td>\n",
       "      <td>1</td>\n",
       "      <td>128.333333</td>\n",
       "      <td>25.933333</td>\n",
       "      <td>59.0</td>\n",
       "      <td>-2.146212</td>\n",
       "      <td>-0.777496</td>\n",
       "      <td>-0.056065</td>\n",
       "      <td>0.151392</td>\n",
       "      <td>0.0</td>\n",
       "      <td>0.062378</td>\n",
       "      <td>0.345668</td>\n",
       "      <td>0.358974</td>\n",
       "      <td>11.3284</td>\n",
       "      <td>5.09248</td>\n",
       "      <td>4.07754</td>\n",
       "    </tr>\n",
       "    <tr>\n",
       "      <th>4</th>\n",
       "      <td>1850000.0</td>\n",
       "      <td>3</td>\n",
       "      <td>75.666667</td>\n",
       "      <td>25.933333</td>\n",
       "      <td>19.0</td>\n",
       "      <td>0.015898</td>\n",
       "      <td>-0.915044</td>\n",
       "      <td>-0.056065</td>\n",
       "      <td>-0.971559</td>\n",
       "      <td>0.4</td>\n",
       "      <td>0.036577</td>\n",
       "      <td>0.345668</td>\n",
       "      <td>0.102564</td>\n",
       "      <td>8.69866</td>\n",
       "      <td>5.09248</td>\n",
       "      <td>2.94444</td>\n",
       "    </tr>\n",
       "  </tbody>\n",
       "</table>\n",
       "</div>"
      ],
      "text/plain": [
       "       Price  Rooms  crime_C_average  travel_min_to_CBD   Age   Rscaled  \\\n",
       "0  1223500.0      3       160.666667          25.933333  39.0  0.015898   \n",
       "1   962000.0      3       530.000000          25.933333  59.0  0.015898   \n",
       "2   790000.0      2       220.666667          25.933333  64.0 -1.065157   \n",
       "3   405000.0      1       128.333333          25.933333  59.0 -2.146212   \n",
       "4  1850000.0      3        75.666667          25.933333  19.0  0.015898   \n",
       "\n",
       "    Cscaled   Tscaled   Ascaled  Rminmax   Cminmax   Tminmax   Aminmax  \\\n",
       "0 -0.693053 -0.056065 -0.410084      0.4  0.078217  0.345668  0.230769   \n",
       "1  0.271520 -0.056065  0.151392      0.4  0.259144  0.345668  0.358974   \n",
       "2 -0.536353 -0.056065  0.291761      0.2  0.107609  0.345668  0.391026   \n",
       "3 -0.777496 -0.056065  0.151392      0.0  0.062378  0.345668  0.358974   \n",
       "4 -0.915044 -0.056065 -0.971559      0.4  0.036577  0.345668  0.102564   \n",
       "\n",
       "    tran_C   tran_T   tran_A  \n",
       "0  12.6754  5.09248  3.66356  \n",
       "1  23.0217  5.09248  4.07754  \n",
       "2  14.8549  5.09248  4.15888  \n",
       "3  11.3284  5.09248  4.07754  \n",
       "4  8.69866  5.09248  2.94444  "
      ]
     },
     "execution_count": 162,
     "metadata": {},
     "output_type": "execute_result"
    }
   ],
   "source": [
    "temp_dataset['tran_A'] = None\n",
    "i = 0\n",
    "for row in temp_dataset.iterrows():\n",
    "    temp_dataset['tran_A'].at[i] = math.log(temp_dataset[\"Age\"][i])\n",
    "    i += 1\n",
    "\n",
    "    \n",
    "temp_dataset.head()"
   ]
  },
  {
   "cell_type": "code",
   "execution_count": 163,
   "metadata": {},
   "outputs": [
    {
     "data": {
      "text/plain": [
       "<matplotlib.collections.PathCollection at 0x1a25ca9e10>"
      ]
     },
     "execution_count": 163,
     "metadata": {},
     "output_type": "execute_result"
    },
    {
     "data": {
      "image/png": "[encoded data removed]",
      "text/plain": [
       "<Figure size 432x288 with 1 Axes>"
      ]
     },
     "metadata": {
      "needs_background": "light"
     },
     "output_type": "display_data"
    }
   ],
   "source": [
    "plt.scatter(temp_dataset[\"tran_A\"], temp_dataset[\"Price\"])"
   ]
  },
  {
   "cell_type": "markdown",
   "metadata": {},
   "source": [
    "##### sqrt"
   ]
  },
  {
   "cell_type": "code",
   "execution_count": 164,
   "metadata": {},
   "outputs": [
    {
     "data": {
      "text/html": [
       "<div>\n",
       "<style scoped>\n",
       "    .dataframe tbody tr th:only-of-type {\n",
       "        vertical-align: middle;\n",
       "    }\n",
       "\n",
       "    .dataframe tbody tr th {\n",
       "        vertical-align: top;\n",
       "    }\n",
       "\n",
       "    .dataframe thead th {\n",
       "        text-align: right;\n",
       "    }\n",
       "</style>\n",
       "<table border=\"1\" class=\"dataframe\">\n",
       "  <thead>\n",
       "    <tr style=\"text-align: right;\">\n",
       "      <th></th>\n",
       "      <th>Price</th>\n",
       "      <th>Rooms</th>\n",
       "      <th>crime_C_average</th>\n",
       "      <th>travel_min_to_CBD</th>\n",
       "      <th>Age</th>\n",
       "      <th>Rscaled</th>\n",
       "      <th>Cscaled</th>\n",
       "      <th>Tscaled</th>\n",
       "      <th>Ascaled</th>\n",
       "      <th>Rminmax</th>\n",
       "      <th>Cminmax</th>\n",
       "      <th>Tminmax</th>\n",
       "      <th>Aminmax</th>\n",
       "      <th>tran_C</th>\n",
       "      <th>tran_T</th>\n",
       "      <th>tran_A</th>\n",
       "    </tr>\n",
       "  </thead>\n",
       "  <tbody>\n",
       "    <tr>\n",
       "      <th>0</th>\n",
       "      <td>1223500.0</td>\n",
       "      <td>3</td>\n",
       "      <td>160.666667</td>\n",
       "      <td>25.933333</td>\n",
       "      <td>39.0</td>\n",
       "      <td>0.015898</td>\n",
       "      <td>-0.693053</td>\n",
       "      <td>-0.056065</td>\n",
       "      <td>-0.410084</td>\n",
       "      <td>0.4</td>\n",
       "      <td>0.078217</td>\n",
       "      <td>0.345668</td>\n",
       "      <td>0.230769</td>\n",
       "      <td>12.6754</td>\n",
       "      <td>5.09248</td>\n",
       "      <td>6.245</td>\n",
       "    </tr>\n",
       "    <tr>\n",
       "      <th>1</th>\n",
       "      <td>962000.0</td>\n",
       "      <td>3</td>\n",
       "      <td>530.000000</td>\n",
       "      <td>25.933333</td>\n",
       "      <td>59.0</td>\n",
       "      <td>0.015898</td>\n",
       "      <td>0.271520</td>\n",
       "      <td>-0.056065</td>\n",
       "      <td>0.151392</td>\n",
       "      <td>0.4</td>\n",
       "      <td>0.259144</td>\n",
       "      <td>0.345668</td>\n",
       "      <td>0.358974</td>\n",
       "      <td>23.0217</td>\n",
       "      <td>5.09248</td>\n",
       "      <td>7.68115</td>\n",
       "    </tr>\n",
       "    <tr>\n",
       "      <th>2</th>\n",
       "      <td>790000.0</td>\n",
       "      <td>2</td>\n",
       "      <td>220.666667</td>\n",
       "      <td>25.933333</td>\n",
       "      <td>64.0</td>\n",
       "      <td>-1.065157</td>\n",
       "      <td>-0.536353</td>\n",
       "      <td>-0.056065</td>\n",
       "      <td>0.291761</td>\n",
       "      <td>0.2</td>\n",
       "      <td>0.107609</td>\n",
       "      <td>0.345668</td>\n",
       "      <td>0.391026</td>\n",
       "      <td>14.8549</td>\n",
       "      <td>5.09248</td>\n",
       "      <td>8</td>\n",
       "    </tr>\n",
       "    <tr>\n",
       "      <th>3</th>\n",
       "      <td>405000.0</td>\n",
       "      <td>1</td>\n",
       "      <td>128.333333</td>\n",
       "      <td>25.933333</td>\n",
       "      <td>59.0</td>\n",
       "      <td>-2.146212</td>\n",
       "      <td>-0.777496</td>\n",
       "      <td>-0.056065</td>\n",
       "      <td>0.151392</td>\n",
       "      <td>0.0</td>\n",
       "      <td>0.062378</td>\n",
       "      <td>0.345668</td>\n",
       "      <td>0.358974</td>\n",
       "      <td>11.3284</td>\n",
       "      <td>5.09248</td>\n",
       "      <td>7.68115</td>\n",
       "    </tr>\n",
       "    <tr>\n",
       "      <th>4</th>\n",
       "      <td>1850000.0</td>\n",
       "      <td>3</td>\n",
       "      <td>75.666667</td>\n",
       "      <td>25.933333</td>\n",
       "      <td>19.0</td>\n",
       "      <td>0.015898</td>\n",
       "      <td>-0.915044</td>\n",
       "      <td>-0.056065</td>\n",
       "      <td>-0.971559</td>\n",
       "      <td>0.4</td>\n",
       "      <td>0.036577</td>\n",
       "      <td>0.345668</td>\n",
       "      <td>0.102564</td>\n",
       "      <td>8.69866</td>\n",
       "      <td>5.09248</td>\n",
       "      <td>4.3589</td>\n",
       "    </tr>\n",
       "  </tbody>\n",
       "</table>\n",
       "</div>"
      ],
      "text/plain": [
       "       Price  Rooms  crime_C_average  travel_min_to_CBD   Age   Rscaled  \\\n",
       "0  1223500.0      3       160.666667          25.933333  39.0  0.015898   \n",
       "1   962000.0      3       530.000000          25.933333  59.0  0.015898   \n",
       "2   790000.0      2       220.666667          25.933333  64.0 -1.065157   \n",
       "3   405000.0      1       128.333333          25.933333  59.0 -2.146212   \n",
       "4  1850000.0      3        75.666667          25.933333  19.0  0.015898   \n",
       "\n",
       "    Cscaled   Tscaled   Ascaled  Rminmax   Cminmax   Tminmax   Aminmax  \\\n",
       "0 -0.693053 -0.056065 -0.410084      0.4  0.078217  0.345668  0.230769   \n",
       "1  0.271520 -0.056065  0.151392      0.4  0.259144  0.345668  0.358974   \n",
       "2 -0.536353 -0.056065  0.291761      0.2  0.107609  0.345668  0.391026   \n",
       "3 -0.777496 -0.056065  0.151392      0.0  0.062378  0.345668  0.358974   \n",
       "4 -0.915044 -0.056065 -0.971559      0.4  0.036577  0.345668  0.102564   \n",
       "\n",
       "    tran_C   tran_T   tran_A  \n",
       "0  12.6754  5.09248    6.245  \n",
       "1  23.0217  5.09248  7.68115  \n",
       "2  14.8549  5.09248        8  \n",
       "3  11.3284  5.09248  7.68115  \n",
       "4  8.69866  5.09248   4.3589  "
      ]
     },
     "execution_count": 164,
     "metadata": {},
     "output_type": "execute_result"
    }
   ],
   "source": [
    "temp_dataset['tran_A'] = None\n",
    "i = 0\n",
    "for row in temp_dataset.iterrows():\n",
    "    temp_dataset['tran_A'].at[i] = math.sqrt(temp_dataset[\"Age\"][i])\n",
    "    i += 1\n",
    "\n",
    "    \n",
    "temp_dataset.head()"
   ]
  },
  {
   "cell_type": "code",
   "execution_count": 165,
   "metadata": {},
   "outputs": [
    {
     "data": {
      "text/plain": [
       "<matplotlib.collections.PathCollection at 0x1a25f755f8>"
      ]
     },
     "execution_count": 165,
     "metadata": {},
     "output_type": "execute_result"
    },
    {
     "data": {
      "image/png": "[encoded data removed]",
      "text/plain": [
       "<Figure size 432x288 with 1 Axes>"
      ]
     },
     "metadata": {
      "needs_background": "light"
     },
     "output_type": "display_data"
    }
   ],
   "source": [
    "plt.scatter(temp_dataset[\"tran_A\"], temp_dataset[\"Price\"])"
   ]
  },
  {
   "cell_type": "markdown",
   "metadata": {},
   "source": [
    "Similarly, for age, it makes sense to transform by square root."
   ]
  },
  {
   "cell_type": "markdown",
   "metadata": {},
   "source": [
    "#### Rooms"
   ]
  },
  {
   "cell_type": "code",
   "execution_count": 166,
   "metadata": {},
   "outputs": [
    {
     "data": {
      "text/plain": [
       "<matplotlib.collections.PathCollection at 0x1a25fff0b8>"
      ]
     },
     "execution_count": 166,
     "metadata": {},
     "output_type": "execute_result"
    },
    {
     "data": {
      "image/png": "[encoded data removed]",
      "text/plain": [
       "<Figure size 432x288 with 1 Axes>"
      ]
     },
     "metadata": {
      "needs_background": "light"
     },
     "output_type": "display_data"
    }
   ],
   "source": [
    "plt.scatter(temp_dataset[\"Rooms\"], temp_dataset[\"Price\"])"
   ]
  },
  {
   "cell_type": "markdown",
   "metadata": {},
   "source": [
    "It doesn't make sense to do any transformation on Rooms, since the values here are discrete and categorical."
   ]
  },
  {
   "cell_type": "markdown",
   "metadata": {},
   "source": [
    "#### Conclusion from Transformation:\n",
    "\n",
    "##### Rooms:\n",
    "\n",
    "Rooms are categorical and only take discrete values between and including 0 and 6. Therefore, it doesn't make sense to do any transformation on this column.\n",
    "\n",
    "#### crime_C_average, travel_min_to_CBD, Age:\n",
    "\n",
    "These attributes seem to be right skewed. Therefore, on observing the above output, we can see that in most cases either no transformation or square root transformation can be used. \n",
    "It makes more sense to categorise each of these variables based on the rooms and see the effect and then determine what transformation to use."
   ]
  },
  {
   "cell_type": "markdown",
   "metadata": {},
   "source": [
    "## Conclusion"
   ]
  },
  {
   "cell_type": "markdown",
   "metadata": {},
   "source": [
    "This assessment measured the understanding of parsing techniques, web scraping, and collating data using Python and helped us to understand the uses of the pandas, re and various other libraries. We were also able to improve our understanding of all the concepts discussed in the lectures and tutorials, since they were used extensively in this assignment. Apart from this, we were able to learn and understand the formats of xml, csv and html files.\n",
    "\n",
    "The process of writing the program was long but thoroughly interesting. The code runs with no errors and gives the desired output. While working on this assignment we were able to implement concepts that were covered in the lectures and tutorials."
   ]
  },
  {
   "cell_type": "markdown",
   "metadata": {},
   "source": [
    "## References"
   ]
  },
  {
   "cell_type": "markdown",
   "metadata": {},
   "source": [
    "- GeoPandas 0.6.0 — GeoPandas 0.6.0 documentation. (2019). Retrieved 27 October 2019, from http://geopandas.org/\n",
    "- Chris Veness, w. (2019). Calculate distance and bearing between two Latitude/Longitude points using haversine formula in JavaScript. Retrieved 27 October 2019, from https://www.movable-type.co.uk/scripts/latlong.html\n",
    "- Point in Polygon & Intersect — Intro to Python GIS documentation. (2019). Retrieved 27 October 2019, from https://automating-gis-processes.github.io/CSC18/lessons/L4/point-in-polygon.html\n",
    "- General Transit Feed Specification. (2019). Retrieved 27 October 2019, from https://en.wikipedia.org/wiki/General_Transit_Feed_Specification\n",
    "- column, E., Kabra, P., & Kabra, P. (2019). Extracting just Month and Year separately from Pandas Datetime column. Retrieved 27 October 2019, from https://stackoverflow.com/questions/25146121/extracting-just-month-and-year-separately-from-pandas-datetime-column"
   ]
  }
 ],
 "metadata": {
  "kernelspec": {
   "display_name": "Python 3",
   "language": "python",
   "name": "python3"
  },
  "language_info": {
   "codemirror_mode": {
    "name": "ipython",
    "version": 3
   },
   "file_extension": ".py",
   "mimetype": "text/x-python",
   "name": "python",
   "nbconvert_exporter": "python",
   "pygments_lexer": "ipython3",
   "version": "3.7.1"
  }
 },
 "nbformat": 4,
 "nbformat_minor": 2
}
